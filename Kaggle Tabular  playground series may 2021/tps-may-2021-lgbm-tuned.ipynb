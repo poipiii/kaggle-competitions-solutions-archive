{
 "cells": [
  {
   "cell_type": "code",
   "execution_count": 1,
   "id": "protective-label",
   "metadata": {
    "_cell_guid": "b1076dfc-b9ad-4769-8c92-a6c4dae69d19",
    "_uuid": "8f2839f25d086af736a60e9eeb907d3b93b6e0e5",
    "execution": {
     "iopub.execute_input": "2021-05-01T15:50:56.185506Z",
     "iopub.status.busy": "2021-05-01T15:50:56.184406Z",
     "iopub.status.idle": "2021-05-01T15:50:59.148057Z",
     "shell.execute_reply": "2021-05-01T15:50:59.147202Z"
    },
    "papermill": {
     "duration": 2.976907,
     "end_time": "2021-05-01T15:50:59.148241",
     "exception": false,
     "start_time": "2021-05-01T15:50:56.171334",
     "status": "completed"
    },
    "tags": []
   },
   "outputs": [
    {
     "data": {
      "text/html": [
       "<style type='text/css'>\n",
       ".datatable table.frame { margin-bottom: 0; }\n",
       ".datatable table.frame thead { border-bottom: none; }\n",
       ".datatable table.frame tr.coltypes td {  color: #FFFFFF;  line-height: 6px;  padding: 0 0.5em;}\n",
       ".datatable .bool    { background: #DDDD99; }\n",
       ".datatable .object  { background: #565656; }\n",
       ".datatable .int     { background: #5D9E5D; }\n",
       ".datatable .float   { background: #4040CC; }\n",
       ".datatable .str     { background: #CC4040; }\n",
       ".datatable .row_index {  background: var(--jp-border-color3);  border-right: 1px solid var(--jp-border-color0);  color: var(--jp-ui-font-color3);  font-size: 9px;}\n",
       ".datatable .frame tr.coltypes .row_index {  background: var(--jp-border-color0);}\n",
       ".datatable th:nth-child(2) { padding-left: 12px; }\n",
       ".datatable .hellipsis {  color: var(--jp-cell-editor-border-color);}\n",
       ".datatable .vellipsis {  background: var(--jp-layout-color0);  color: var(--jp-cell-editor-border-color);}\n",
       ".datatable .na {  color: var(--jp-cell-editor-border-color);  font-size: 80%;}\n",
       ".datatable .footer { font-size: 9px; }\n",
       ".datatable .frame_dimensions {  background: var(--jp-border-color3);  border-top: 1px solid var(--jp-border-color0);  color: var(--jp-ui-font-color3);  display: inline-block;  opacity: 0.6;  padding: 1px 10px 1px 5px;}\n",
       "</style>\n"
      ],
      "text/plain": [
       "<IPython.core.display.HTML object>"
      ]
     },
     "metadata": {},
     "output_type": "display_data"
    }
   ],
   "source": [
    "import pandas as pd\n",
    "import numpy as np\n",
    "from sklearn.preprocessing import LabelEncoder, StandardScaler\n",
    "from sklearn.model_selection import train_test_split, KFold, StratifiedKFold\n",
    "from sklearn.metrics import accuracy_score, roc_auc_score\n",
    "from sklearn.tree import DecisionTreeClassifier\n",
    "import optuna\n",
    "from sklearn.model_selection import cross_val_score\n",
    "from sklearn.model_selection import StratifiedKFold\n",
    "from sklearn.linear_model import LogisticRegression\n",
    "from lightgbm import LGBMClassifier\n",
    "from catboost import CatBoostClassifier"
   ]
  },
  {
   "cell_type": "code",
   "execution_count": 2,
   "id": "surrounded-aruba",
   "metadata": {
    "execution": {
     "iopub.execute_input": "2021-05-01T15:50:59.172220Z",
     "iopub.status.busy": "2021-05-01T15:50:59.171556Z",
     "iopub.status.idle": "2021-05-01T15:50:59.828892Z",
     "shell.execute_reply": "2021-05-01T15:50:59.828331Z"
    },
    "papermill": {
     "duration": 0.670811,
     "end_time": "2021-05-01T15:50:59.829052",
     "exception": false,
     "start_time": "2021-05-01T15:50:59.158241",
     "status": "completed"
    },
    "tags": []
   },
   "outputs": [],
   "source": [
    "train_df = pd.read_csv('../input/tabular-playground-series-may-2021/train.csv')\n",
    "test_df = pd.read_csv('../input/tabular-playground-series-may-2021/test.csv')"
   ]
  },
  {
   "cell_type": "code",
   "execution_count": 3,
   "id": "smooth-cannon",
   "metadata": {
    "execution": {
     "iopub.execute_input": "2021-05-01T15:50:59.878334Z",
     "iopub.status.busy": "2021-05-01T15:50:59.857351Z",
     "iopub.status.idle": "2021-05-01T15:50:59.927321Z",
     "shell.execute_reply": "2021-05-01T15:50:59.926790Z"
    },
    "papermill": {
     "duration": 0.089024,
     "end_time": "2021-05-01T15:50:59.927458",
     "exception": false,
     "start_time": "2021-05-01T15:50:59.838434",
     "status": "completed"
    },
    "tags": []
   },
   "outputs": [],
   "source": [
    "le = LabelEncoder()\n",
    "\n",
    "X = train_df.drop(['id', 'target'], axis=1)\n",
    "y = le.fit_transform(train_df['target'])\n",
    "\n",
    "\n",
    "test = test_df.drop(\"id\",axis=1)"
   ]
  },
  {
   "cell_type": "code",
   "execution_count": 4,
   "id": "structured-blackjack",
   "metadata": {
    "execution": {
     "iopub.execute_input": "2021-05-01T15:50:59.952161Z",
     "iopub.status.busy": "2021-05-01T15:50:59.951178Z",
     "iopub.status.idle": "2021-05-01T15:50:59.954294Z",
     "shell.execute_reply": "2021-05-01T15:50:59.953763Z"
    },
    "papermill": {
     "duration": 0.017576,
     "end_time": "2021-05-01T15:50:59.954432",
     "exception": false,
     "start_time": "2021-05-01T15:50:59.936856",
     "status": "completed"
    },
    "tags": []
   },
   "outputs": [],
   "source": [
    "params = {'learning_rate': 0.009768421692267036, 'min_data_in_leaf': 100, 'lambda_l1': 3.3217512453491217e-06, 'lambda_l2': 0.0003436713937640365, 'num_leaves': 257, 'max_depth': 18, 'feature_fraction': 0.9086551382763343, 'bagging_fraction': 0.9059950379500658, 'bagging_freq': 4, 'max_bin': 170}"
   ]
  },
  {
   "cell_type": "code",
   "execution_count": 5,
   "id": "rising-cambridge",
   "metadata": {
    "execution": {
     "iopub.execute_input": "2021-05-01T15:50:59.977952Z",
     "iopub.status.busy": "2021-05-01T15:50:59.977311Z",
     "iopub.status.idle": "2021-05-01T15:50:59.980128Z",
     "shell.execute_reply": "2021-05-01T15:50:59.979608Z"
    },
    "papermill": {
     "duration": 0.016217,
     "end_time": "2021-05-01T15:50:59.980257",
     "exception": false,
     "start_time": "2021-05-01T15:50:59.964040",
     "status": "completed"
    },
    "tags": []
   },
   "outputs": [],
   "source": [
    "model = LGBMClassifier(**params)"
   ]
  },
  {
   "cell_type": "code",
   "execution_count": 6,
   "id": "electoral-victorian",
   "metadata": {
    "execution": {
     "iopub.execute_input": "2021-05-01T15:51:00.002907Z",
     "iopub.status.busy": "2021-05-01T15:51:00.002199Z",
     "iopub.status.idle": "2021-05-01T15:51:14.366734Z",
     "shell.execute_reply": "2021-05-01T15:51:14.365910Z"
    },
    "papermill": {
     "duration": 14.376642,
     "end_time": "2021-05-01T15:51:14.366908",
     "exception": false,
     "start_time": "2021-05-01T15:50:59.990266",
     "status": "completed"
    },
    "tags": []
   },
   "outputs": [
    {
     "name": "stdout",
     "output_type": "stream",
     "text": [
      "[LightGBM] [Warning] lambda_l1 is set=3.3217512453491217e-06, reg_alpha=0.0 will be ignored. Current value: lambda_l1=3.3217512453491217e-06\n",
      "[LightGBM] [Warning] bagging_fraction is set=0.9059950379500658, subsample=1.0 will be ignored. Current value: bagging_fraction=0.9059950379500658\n",
      "[LightGBM] [Warning] lambda_l2 is set=0.0003436713937640365, reg_lambda=0.0 will be ignored. Current value: lambda_l2=0.0003436713937640365\n",
      "[LightGBM] [Warning] feature_fraction is set=0.9086551382763343, colsample_bytree=1.0 will be ignored. Current value: feature_fraction=0.9086551382763343\n",
      "[LightGBM] [Warning] min_data_in_leaf is set=100, min_child_samples=20 will be ignored. Current value: min_data_in_leaf=100\n",
      "[LightGBM] [Warning] bagging_freq is set=4, subsample_freq=0 will be ignored. Current value: bagging_freq=4\n"
     ]
    }
   ],
   "source": [
    "trained = model.fit(X,y)"
   ]
  },
  {
   "cell_type": "code",
   "execution_count": 7,
   "id": "proved-lottery",
   "metadata": {
    "execution": {
     "iopub.execute_input": "2021-05-01T15:51:14.391779Z",
     "iopub.status.busy": "2021-05-01T15:51:14.391121Z",
     "iopub.status.idle": "2021-05-01T15:51:16.052264Z",
     "shell.execute_reply": "2021-05-01T15:51:16.052729Z"
    },
    "papermill": {
     "duration": 1.67573,
     "end_time": "2021-05-01T15:51:16.052927",
     "exception": false,
     "start_time": "2021-05-01T15:51:14.377197",
     "status": "completed"
    },
    "tags": []
   },
   "outputs": [],
   "source": [
    "preds = trained.predict_proba(test)"
   ]
  },
  {
   "cell_type": "code",
   "execution_count": 8,
   "id": "vertical-diana",
   "metadata": {
    "execution": {
     "iopub.execute_input": "2021-05-01T15:51:16.081757Z",
     "iopub.status.busy": "2021-05-01T15:51:16.081130Z",
     "iopub.status.idle": "2021-05-01T15:51:16.084248Z",
     "shell.execute_reply": "2021-05-01T15:51:16.083701Z"
    },
    "papermill": {
     "duration": 0.021104,
     "end_time": "2021-05-01T15:51:16.084380",
     "exception": false,
     "start_time": "2021-05-01T15:51:16.063276",
     "status": "completed"
    },
    "tags": []
   },
   "outputs": [],
   "source": [
    "submission_df = pd.DataFrame(preds,columns=['Class_1', 'Class_2', 'Class_3','Class_4'])\n",
    "submission_df.insert(0, 'id', test_df['id'])"
   ]
  },
  {
   "cell_type": "code",
   "execution_count": 9,
   "id": "welsh-minute",
   "metadata": {
    "execution": {
     "iopub.execute_input": "2021-05-01T15:51:16.112356Z",
     "iopub.status.busy": "2021-05-01T15:51:16.111683Z",
     "iopub.status.idle": "2021-05-01T15:51:16.130038Z",
     "shell.execute_reply": "2021-05-01T15:51:16.129518Z"
    },
    "papermill": {
     "duration": 0.034963,
     "end_time": "2021-05-01T15:51:16.130179",
     "exception": false,
     "start_time": "2021-05-01T15:51:16.095216",
     "status": "completed"
    },
    "tags": []
   },
   "outputs": [
    {
     "data": {
      "text/html": [
       "<div>\n",
       "<style scoped>\n",
       "    .dataframe tbody tr th:only-of-type {\n",
       "        vertical-align: middle;\n",
       "    }\n",
       "\n",
       "    .dataframe tbody tr th {\n",
       "        vertical-align: top;\n",
       "    }\n",
       "\n",
       "    .dataframe thead th {\n",
       "        text-align: right;\n",
       "    }\n",
       "</style>\n",
       "<table border=\"1\" class=\"dataframe\">\n",
       "  <thead>\n",
       "    <tr style=\"text-align: right;\">\n",
       "      <th></th>\n",
       "      <th>id</th>\n",
       "      <th>Class_1</th>\n",
       "      <th>Class_2</th>\n",
       "      <th>Class_3</th>\n",
       "      <th>Class_4</th>\n",
       "    </tr>\n",
       "  </thead>\n",
       "  <tbody>\n",
       "    <tr>\n",
       "      <th>0</th>\n",
       "      <td>100000</td>\n",
       "      <td>0.085025</td>\n",
       "      <td>0.543271</td>\n",
       "      <td>0.251718</td>\n",
       "      <td>0.119987</td>\n",
       "    </tr>\n",
       "    <tr>\n",
       "      <th>1</th>\n",
       "      <td>100001</td>\n",
       "      <td>0.083056</td>\n",
       "      <td>0.575229</td>\n",
       "      <td>0.239973</td>\n",
       "      <td>0.101741</td>\n",
       "    </tr>\n",
       "    <tr>\n",
       "      <th>2</th>\n",
       "      <td>100002</td>\n",
       "      <td>0.084410</td>\n",
       "      <td>0.612427</td>\n",
       "      <td>0.197601</td>\n",
       "      <td>0.105561</td>\n",
       "    </tr>\n",
       "    <tr>\n",
       "      <th>3</th>\n",
       "      <td>100003</td>\n",
       "      <td>0.076785</td>\n",
       "      <td>0.561186</td>\n",
       "      <td>0.233840</td>\n",
       "      <td>0.128189</td>\n",
       "    </tr>\n",
       "    <tr>\n",
       "      <th>4</th>\n",
       "      <td>100004</td>\n",
       "      <td>0.075021</td>\n",
       "      <td>0.588206</td>\n",
       "      <td>0.223268</td>\n",
       "      <td>0.113505</td>\n",
       "    </tr>\n",
       "  </tbody>\n",
       "</table>\n",
       "</div>"
      ],
      "text/plain": [
       "       id   Class_1   Class_2   Class_3   Class_4\n",
       "0  100000  0.085025  0.543271  0.251718  0.119987\n",
       "1  100001  0.083056  0.575229  0.239973  0.101741\n",
       "2  100002  0.084410  0.612427  0.197601  0.105561\n",
       "3  100003  0.076785  0.561186  0.233840  0.128189\n",
       "4  100004  0.075021  0.588206  0.223268  0.113505"
      ]
     },
     "execution_count": 9,
     "metadata": {},
     "output_type": "execute_result"
    }
   ],
   "source": [
    "submission_df.head()"
   ]
  },
  {
   "cell_type": "code",
   "execution_count": 10,
   "id": "regulation-omega",
   "metadata": {
    "execution": {
     "iopub.execute_input": "2021-05-01T15:51:16.156740Z",
     "iopub.status.busy": "2021-05-01T15:51:16.155956Z",
     "iopub.status.idle": "2021-05-01T15:51:16.655489Z",
     "shell.execute_reply": "2021-05-01T15:51:16.656053Z"
    },
    "papermill": {
     "duration": 0.515115,
     "end_time": "2021-05-01T15:51:16.656237",
     "exception": false,
     "start_time": "2021-05-01T15:51:16.141122",
     "status": "completed"
    },
    "tags": []
   },
   "outputs": [],
   "source": [
    "submission_df.to_csv('submission.csv', index=False)"
   ]
  },
  {
   "cell_type": "code",
   "execution_count": null,
   "id": "cardiac-finder",
   "metadata": {
    "papermill": {
     "duration": 0.010762,
     "end_time": "2021-05-01T15:51:16.678123",
     "exception": false,
     "start_time": "2021-05-01T15:51:16.667361",
     "status": "completed"
    },
    "tags": []
   },
   "outputs": [],
   "source": []
  }
 ],
 "metadata": {
  "kernelspec": {
   "display_name": "Python 3",
   "language": "python",
   "name": "python3"
  },
  "language_info": {
   "codemirror_mode": {
    "name": "ipython",
    "version": 3
   },
   "file_extension": ".py",
   "mimetype": "text/x-python",
   "name": "python",
   "nbconvert_exporter": "python",
   "pygments_lexer": "ipython3",
   "version": "3.7.10"
  },
  "papermill": {
   "default_parameters": {},
   "duration": 29.837904,
   "end_time": "2021-05-01T15:51:17.995516",
   "environment_variables": {},
   "exception": null,
   "input_path": "__notebook__.ipynb",
   "output_path": "__notebook__.ipynb",
   "parameters": {},
   "start_time": "2021-05-01T15:50:48.157612",
   "version": "2.3.3"
  }
 },
 "nbformat": 4,
 "nbformat_minor": 5
}
