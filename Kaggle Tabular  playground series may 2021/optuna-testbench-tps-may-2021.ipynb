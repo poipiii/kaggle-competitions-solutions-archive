{
 "cells": [
  {
   "cell_type": "code",
   "execution_count": 1,
   "id": "dependent-birthday",
   "metadata": {
    "_cell_guid": "b1076dfc-b9ad-4769-8c92-a6c4dae69d19",
    "_uuid": "8f2839f25d086af736a60e9eeb907d3b93b6e0e5",
    "execution": {
     "iopub.execute_input": "2021-05-06T15:13:04.400467Z",
     "iopub.status.busy": "2021-05-06T15:13:04.399458Z",
     "iopub.status.idle": "2021-05-06T15:13:09.052920Z",
     "shell.execute_reply": "2021-05-06T15:13:09.053458Z"
    },
    "papermill": {
     "duration": 4.695672,
     "end_time": "2021-05-06T15:13:09.053781",
     "exception": false,
     "start_time": "2021-05-06T15:13:04.358109",
     "status": "completed"
    },
    "tags": []
   },
   "outputs": [
    {
     "data": {
      "text/html": [
       "<style type='text/css'>\n",
       ".datatable table.frame { margin-bottom: 0; }\n",
       ".datatable table.frame thead { border-bottom: none; }\n",
       ".datatable table.frame tr.coltypes td {  color: #FFFFFF;  line-height: 6px;  padding: 0 0.5em;}\n",
       ".datatable .bool    { background: #DDDD99; }\n",
       ".datatable .object  { background: #565656; }\n",
       ".datatable .int     { background: #5D9E5D; }\n",
       ".datatable .float   { background: #4040CC; }\n",
       ".datatable .str     { background: #CC4040; }\n",
       ".datatable .row_index {  background: var(--jp-border-color3);  border-right: 1px solid var(--jp-border-color0);  color: var(--jp-ui-font-color3);  font-size: 9px;}\n",
       ".datatable .frame tr.coltypes .row_index {  background: var(--jp-border-color0);}\n",
       ".datatable th:nth-child(2) { padding-left: 12px; }\n",
       ".datatable .hellipsis {  color: var(--jp-cell-editor-border-color);}\n",
       ".datatable .vellipsis {  background: var(--jp-layout-color0);  color: var(--jp-cell-editor-border-color);}\n",
       ".datatable .na {  color: var(--jp-cell-editor-border-color);  font-size: 80%;}\n",
       ".datatable .footer { font-size: 9px; }\n",
       ".datatable .frame_dimensions {  background: var(--jp-border-color3);  border-top: 1px solid var(--jp-border-color0);  color: var(--jp-ui-font-color3);  display: inline-block;  opacity: 0.6;  padding: 1px 10px 1px 5px;}\n",
       "</style>\n"
      ],
      "text/plain": [
       "<IPython.core.display.HTML object>"
      ]
     },
     "metadata": {},
     "output_type": "display_data"
    }
   ],
   "source": [
    "import pandas as pd\n",
    "import numpy as np\n",
    "from sklearn.preprocessing import LabelEncoder, StandardScaler\n",
    "from sklearn.model_selection import train_test_split, KFold, StratifiedKFold\n",
    "from sklearn.metrics import accuracy_score, roc_auc_score\n",
    "from sklearn.tree import DecisionTreeClassifier\n",
    "import optuna\n",
    "import category_encoders as ce\n",
    "from sklearn.model_selection import cross_val_score\n",
    "from sklearn.model_selection import StratifiedKFold\n",
    "from sklearn.linear_model import LogisticRegression\n",
    "from lightgbm import LGBMClassifier\n",
    "from catboost import CatBoostClassifier, Pool\n",
    "from sklearn.metrics import log_loss"
   ]
  },
  {
   "cell_type": "code",
   "execution_count": 2,
   "id": "square-diesel",
   "metadata": {
    "execution": {
     "iopub.execute_input": "2021-05-06T15:13:09.081042Z",
     "iopub.status.busy": "2021-05-06T15:13:09.080382Z",
     "iopub.status.idle": "2021-05-06T15:13:09.084597Z",
     "shell.execute_reply": "2021-05-06T15:13:09.084178Z"
    },
    "papermill": {
     "duration": 0.018886,
     "end_time": "2021-05-06T15:13:09.084711",
     "exception": false,
     "start_time": "2021-05-06T15:13:09.065825",
     "status": "completed"
    },
    "tags": []
   },
   "outputs": [],
   "source": [
    "# class CFG:\n",
    "#     train_data_path = \"../input/tabular-playground-series-may-2021/train.csv\"\n",
    "#     test_data_path =\" ../input/tabular-playground-series-may-2021/test.csv\"\n",
    "#     k_folds = 5\n",
    "#     #feel free to change this model to anything you want to tune \n",
    "#     model = LGBMClassifier()\n",
    "#     #same as the model feel free to change the params to anything as long as they are for the model \n",
    "#     params =  param = {\n",
    "#         'objective': 'multiclass',\n",
    "#         'boosting': 'gbdt',\n",
    "#         'metric': 'multi_logloss',\n",
    "#         'verbose': -1,\n",
    "#         'learning_rate': trial.suggest_uniform('learning_rate', 0.000001, 0.01),\n",
    "#         'min_data_in_leaf': trial.suggest_int('min_data_in_leaf', 100, 2000, 50),\n",
    "#         'lambda_l1': trial.suggest_loguniform('lambda_l1', 1e-8, 10.0),\n",
    "#         'lambda_l2': trial.suggest_loguniform('lambda_l2', 1e-8, 10.0),\n",
    "#         'num_leaves': trial.suggest_int('num_leaves', 2, 512),\n",
    "#         'max_depth': trial.suggest_int('max_depth', 2, 20),\n",
    "#         'feature_fraction': trial.suggest_uniform('feature_fraction', 0.4, 1.0),\n",
    "#         'bagging_fraction': trial.suggest_uniform('bagging_fraction', 0.4, 1.0),\n",
    "#         'bagging_freq': trial.suggest_int('bagging_freq', 1, 7),\n",
    "#         'max_bin': trial.suggest_int('max_bin', 10, 300, 10),\n",
    "#     }\n",
    "#     objective_func = log_loss()\n",
    "#     #number of trials for optuna to run\n",
    "#     opt_trials = 100\n",
    "#     #direction that optuna will take for study \n",
    "#     opt_direction = \"maximize\""
   ]
  },
  {
   "cell_type": "code",
   "execution_count": 3,
   "id": "regional-inspection",
   "metadata": {
    "execution": {
     "iopub.execute_input": "2021-05-06T15:13:09.111566Z",
     "iopub.status.busy": "2021-05-06T15:13:09.110999Z",
     "iopub.status.idle": "2021-05-06T15:13:09.716939Z",
     "shell.execute_reply": "2021-05-06T15:13:09.715865Z"
    },
    "papermill": {
     "duration": 0.621775,
     "end_time": "2021-05-06T15:13:09.717101",
     "exception": false,
     "start_time": "2021-05-06T15:13:09.095326",
     "status": "completed"
    },
    "tags": []
   },
   "outputs": [],
   "source": [
    "#import in the data \n",
    "train_df = pd.read_csv('../input/tabular-playground-series-may-2021/train.csv')\n",
    "test_df = pd.read_csv('../input/tabular-playground-series-may-2021/test.csv')"
   ]
  },
  {
   "cell_type": "code",
   "execution_count": null,
   "id": "smaller-provincial",
   "metadata": {
    "papermill": {
     "duration": 0.010482,
     "end_time": "2021-05-06T15:13:09.738539",
     "exception": false,
     "start_time": "2021-05-06T15:13:09.728057",
     "status": "completed"
    },
    "tags": []
   },
   "outputs": [],
   "source": []
  },
  {
   "cell_type": "code",
   "execution_count": 4,
   "id": "european-iraqi",
   "metadata": {
    "execution": {
     "iopub.execute_input": "2021-05-06T15:13:09.803848Z",
     "iopub.status.busy": "2021-05-06T15:13:09.803113Z",
     "iopub.status.idle": "2021-05-06T15:15:09.990244Z",
     "shell.execute_reply": "2021-05-06T15:15:09.989676Z"
    },
    "papermill": {
     "duration": 120.241607,
     "end_time": "2021-05-06T15:15:09.990390",
     "exception": false,
     "start_time": "2021-05-06T15:13:09.748783",
     "status": "completed"
    },
    "tags": []
   },
   "outputs": [
    {
     "name": "stdout",
     "output_type": "stream",
     "text": [
      "{'Class_1': 0, 'Class_2': 1, 'Class_3': 2, 'Class_4': 3}\n"
     ]
    },
    {
     "name": "stderr",
     "output_type": "stream",
     "text": [
      "/opt/conda/lib/python3.7/site-packages/category_encoders/utils.py:21: FutureWarning: is_categorical is deprecated and will be removed in a future version.  Use is_categorical_dtype instead\n",
      "  elif pd.api.types.is_categorical(cols):\n"
     ]
    },
    {
     "data": {
      "text/html": [
       "<div>\n",
       "<style scoped>\n",
       "    .dataframe tbody tr th:only-of-type {\n",
       "        vertical-align: middle;\n",
       "    }\n",
       "\n",
       "    .dataframe tbody tr th {\n",
       "        vertical-align: top;\n",
       "    }\n",
       "\n",
       "    .dataframe thead th {\n",
       "        text-align: right;\n",
       "    }\n",
       "</style>\n",
       "<table border=\"1\" class=\"dataframe\">\n",
       "  <thead>\n",
       "    <tr style=\"text-align: right;\">\n",
       "      <th></th>\n",
       "      <th>feature_0_0</th>\n",
       "      <th>feature_0_1</th>\n",
       "      <th>feature_0_9</th>\n",
       "      <th>feature_0_2</th>\n",
       "      <th>feature_0_3</th>\n",
       "      <th>feature_0_4</th>\n",
       "      <th>feature_0_7</th>\n",
       "      <th>feature_0_5</th>\n",
       "      <th>feature_0_6</th>\n",
       "      <th>feature_0_8</th>\n",
       "      <th>...</th>\n",
       "      <th>feature_49_12</th>\n",
       "      <th>feature_49_7</th>\n",
       "      <th>feature_49_13</th>\n",
       "      <th>feature_49_15</th>\n",
       "      <th>feature_49_14</th>\n",
       "      <th>feature_49_16</th>\n",
       "      <th>feature_49_18</th>\n",
       "      <th>feature_49_20</th>\n",
       "      <th>feature_49_19</th>\n",
       "      <th>feature_49_21</th>\n",
       "    </tr>\n",
       "  </thead>\n",
       "  <tbody>\n",
       "    <tr>\n",
       "      <th>0</th>\n",
       "      <td>1</td>\n",
       "      <td>0</td>\n",
       "      <td>0</td>\n",
       "      <td>0</td>\n",
       "      <td>0</td>\n",
       "      <td>0</td>\n",
       "      <td>0</td>\n",
       "      <td>0</td>\n",
       "      <td>0</td>\n",
       "      <td>0</td>\n",
       "      <td>...</td>\n",
       "      <td>0</td>\n",
       "      <td>0</td>\n",
       "      <td>0</td>\n",
       "      <td>0</td>\n",
       "      <td>0</td>\n",
       "      <td>0</td>\n",
       "      <td>0</td>\n",
       "      <td>0</td>\n",
       "      <td>0</td>\n",
       "      <td>0</td>\n",
       "    </tr>\n",
       "    <tr>\n",
       "      <th>1</th>\n",
       "      <td>1</td>\n",
       "      <td>0</td>\n",
       "      <td>0</td>\n",
       "      <td>0</td>\n",
       "      <td>0</td>\n",
       "      <td>0</td>\n",
       "      <td>0</td>\n",
       "      <td>0</td>\n",
       "      <td>0</td>\n",
       "      <td>0</td>\n",
       "      <td>...</td>\n",
       "      <td>0</td>\n",
       "      <td>0</td>\n",
       "      <td>0</td>\n",
       "      <td>0</td>\n",
       "      <td>0</td>\n",
       "      <td>0</td>\n",
       "      <td>0</td>\n",
       "      <td>0</td>\n",
       "      <td>0</td>\n",
       "      <td>0</td>\n",
       "    </tr>\n",
       "    <tr>\n",
       "      <th>2</th>\n",
       "      <td>1</td>\n",
       "      <td>0</td>\n",
       "      <td>0</td>\n",
       "      <td>0</td>\n",
       "      <td>0</td>\n",
       "      <td>0</td>\n",
       "      <td>0</td>\n",
       "      <td>0</td>\n",
       "      <td>0</td>\n",
       "      <td>0</td>\n",
       "      <td>...</td>\n",
       "      <td>0</td>\n",
       "      <td>0</td>\n",
       "      <td>0</td>\n",
       "      <td>0</td>\n",
       "      <td>0</td>\n",
       "      <td>0</td>\n",
       "      <td>0</td>\n",
       "      <td>0</td>\n",
       "      <td>0</td>\n",
       "      <td>0</td>\n",
       "    </tr>\n",
       "    <tr>\n",
       "      <th>3</th>\n",
       "      <td>1</td>\n",
       "      <td>0</td>\n",
       "      <td>0</td>\n",
       "      <td>0</td>\n",
       "      <td>0</td>\n",
       "      <td>0</td>\n",
       "      <td>0</td>\n",
       "      <td>0</td>\n",
       "      <td>0</td>\n",
       "      <td>0</td>\n",
       "      <td>...</td>\n",
       "      <td>0</td>\n",
       "      <td>0</td>\n",
       "      <td>0</td>\n",
       "      <td>0</td>\n",
       "      <td>0</td>\n",
       "      <td>0</td>\n",
       "      <td>0</td>\n",
       "      <td>0</td>\n",
       "      <td>0</td>\n",
       "      <td>0</td>\n",
       "    </tr>\n",
       "    <tr>\n",
       "      <th>4</th>\n",
       "      <td>1</td>\n",
       "      <td>0</td>\n",
       "      <td>0</td>\n",
       "      <td>0</td>\n",
       "      <td>0</td>\n",
       "      <td>0</td>\n",
       "      <td>0</td>\n",
       "      <td>0</td>\n",
       "      <td>0</td>\n",
       "      <td>0</td>\n",
       "      <td>...</td>\n",
       "      <td>0</td>\n",
       "      <td>0</td>\n",
       "      <td>0</td>\n",
       "      <td>0</td>\n",
       "      <td>0</td>\n",
       "      <td>0</td>\n",
       "      <td>0</td>\n",
       "      <td>0</td>\n",
       "      <td>0</td>\n",
       "      <td>0</td>\n",
       "    </tr>\n",
       "  </tbody>\n",
       "</table>\n",
       "<p>5 rows × 1378 columns</p>\n",
       "</div>"
      ],
      "text/plain": [
       "   feature_0_0  feature_0_1  feature_0_9  feature_0_2  feature_0_3  \\\n",
       "0            1            0            0            0            0   \n",
       "1            1            0            0            0            0   \n",
       "2            1            0            0            0            0   \n",
       "3            1            0            0            0            0   \n",
       "4            1            0            0            0            0   \n",
       "\n",
       "   feature_0_4  feature_0_7  feature_0_5  feature_0_6  feature_0_8  ...  \\\n",
       "0            0            0            0            0            0  ...   \n",
       "1            0            0            0            0            0  ...   \n",
       "2            0            0            0            0            0  ...   \n",
       "3            0            0            0            0            0  ...   \n",
       "4            0            0            0            0            0  ...   \n",
       "\n",
       "   feature_49_12  feature_49_7  feature_49_13  feature_49_15  feature_49_14  \\\n",
       "0              0             0              0              0              0   \n",
       "1              0             0              0              0              0   \n",
       "2              0             0              0              0              0   \n",
       "3              0             0              0              0              0   \n",
       "4              0             0              0              0              0   \n",
       "\n",
       "   feature_49_16  feature_49_18  feature_49_20  feature_49_19  feature_49_21  \n",
       "0              0              0              0              0              0  \n",
       "1              0              0              0              0              0  \n",
       "2              0              0              0              0              0  \n",
       "3              0              0              0              0              0  \n",
       "4              0              0              0              0              0  \n",
       "\n",
       "[5 rows x 1378 columns]"
      ]
     },
     "metadata": {},
     "output_type": "display_data"
    }
   ],
   "source": [
    "feature_cols = train_df.columns[train_df.columns.str.startswith('feature_')]\n",
    "le = LabelEncoder()\n",
    "le.fit(train_df['target'])\n",
    "le_name_mapping = dict(zip(le.classes_, le.transform(le.classes_)))\n",
    "print(le_name_mapping)\n",
    "train_df.target = le.transform(train_df.target)\n",
    "# Since train and test data have different unique values, \n",
    "# we concatenate them to one giant dataset for the encoding process\n",
    "all_data = pd.concat([train_df, test_df], axis=0).reset_index(drop=True)\n",
    "\n",
    "# One Hot Encode target variable\n",
    "ohex = ce.OneHotEncoder(handle_unknown='value', use_cat_names=True)\n",
    "OH_features = pd.DataFrame(ohex.fit_transform(all_data[feature_cols].astype(str)))\n",
    "OH_features\n",
    "\n",
    "display(OH_features.head())\n",
    "\n",
    "# Merge new OH encoded target to train_df \n",
    "all_data = pd.concat([all_data, OH_features], axis=1)\n",
    "\n",
    "# Split train and test set again \n",
    "train_df = all_data[:len(train_df)]\n",
    "test_df = all_data[len(train_df):].reset_index(drop=True)"
   ]
  },
  {
   "cell_type": "code",
   "execution_count": null,
   "id": "alpha-planning",
   "metadata": {
    "papermill": {
     "duration": 0.011701,
     "end_time": "2021-05-06T15:15:10.014021",
     "exception": false,
     "start_time": "2021-05-06T15:15:10.002320",
     "status": "completed"
    },
    "tags": []
   },
   "outputs": [],
   "source": []
  },
  {
   "cell_type": "markdown",
   "id": "visible-checklist",
   "metadata": {
    "papermill": {
     "duration": 0.011886,
     "end_time": "2021-05-06T15:15:10.038483",
     "exception": false,
     "start_time": "2021-05-06T15:15:10.026597",
     "status": "completed"
    },
    "tags": []
   },
   "source": []
  },
  {
   "cell_type": "code",
   "execution_count": 5,
   "id": "hearing-framing",
   "metadata": {
    "execution": {
     "iopub.execute_input": "2021-05-06T15:15:10.067021Z",
     "iopub.status.busy": "2021-05-06T15:15:10.066134Z",
     "iopub.status.idle": "2021-05-06T15:15:10.069136Z",
     "shell.execute_reply": "2021-05-06T15:15:10.068671Z"
    },
    "papermill": {
     "duration": 0.018855,
     "end_time": "2021-05-06T15:15:10.069254",
     "exception": false,
     "start_time": "2021-05-06T15:15:10.050399",
     "status": "completed"
    },
    "tags": []
   },
   "outputs": [],
   "source": [
    "# sk_fold = StratifiedKFold(5)\n",
    "# splits = sk_fold.split(X,y)"
   ]
  },
  {
   "cell_type": "code",
   "execution_count": 6,
   "id": "lucky-acrylic",
   "metadata": {
    "execution": {
     "iopub.execute_input": "2021-05-06T15:15:10.106548Z",
     "iopub.status.busy": "2021-05-06T15:15:10.105258Z",
     "iopub.status.idle": "2021-05-06T15:15:12.267174Z",
     "shell.execute_reply": "2021-05-06T15:15:12.266182Z"
    },
    "papermill": {
     "duration": 2.185401,
     "end_time": "2021-05-06T15:15:12.267322",
     "exception": false,
     "start_time": "2021-05-06T15:15:10.081921",
     "status": "completed"
    },
    "tags": []
   },
   "outputs": [],
   "source": [
    "feature_cols = train_df.columns[train_df.columns.str.startswith('feature_')]\n",
    "X = train_df[feature_cols]\n",
    "y = train_df['target']\n",
    "x_train,x_valid,y_train,y_valid = train_test_split(X,y,random_state = 101)\n",
    "def objective(trial):    \n",
    "        params = {'iterations':10000,\n",
    "              \"od_wait\":1000, \n",
    "              \"od_type\":'Iter',\n",
    "              \"max_ctr_complexity\":15,\n",
    "              'depth': trial.suggest_int(\"depth\", 3, 10),\n",
    "              'l2_leaf_reg': trial.suggest_float(\"l2_leaf_reg\", 0.0001, 25, log=True),\n",
    "              'grow_policy': 'Lossguide',\n",
    "              'loss_function':trial.suggest_categorical(\"loss_function\", ['MultiClass']),\n",
    "              'bootstrap_type':trial.suggest_categorical(\"bootstrap_type\", ['Poisson']),\n",
    "              'use_best_model':True,\n",
    "              'task_type':'GPU', \n",
    "#               'cat_features':\"high\",\n",
    "              'learning_rate': trial.suggest_uniform('learning_rate' , 1e-5 , 1.0),\n",
    "              'verbose':False,\n",
    "             }\n",
    "        clf = CatBoostClassifier(**params)\n",
    "        clf.fit(x_train,y_train,eval_set=[(x_valid, y_valid)],early_stopping_rounds=100)\n",
    "        preds = clf.predict_proba(x_valid)\n",
    "        loss = log_loss(y_valid,preds)\n",
    "        return loss"
   ]
  },
  {
   "cell_type": "code",
   "execution_count": 7,
   "id": "utility-pixel",
   "metadata": {
    "execution": {
     "iopub.execute_input": "2021-05-06T15:15:12.297351Z",
     "iopub.status.busy": "2021-05-06T15:15:12.296502Z",
     "iopub.status.idle": "2021-05-06T16:21:08.375606Z",
     "shell.execute_reply": "2021-05-06T16:21:08.374986Z"
    },
    "papermill": {
     "duration": 3956.096129,
     "end_time": "2021-05-06T16:21:08.375768",
     "exception": false,
     "start_time": "2021-05-06T15:15:12.279639",
     "status": "completed"
    },
    "tags": []
   },
   "outputs": [
    {
     "name": "stderr",
     "output_type": "stream",
     "text": [
      "\u001b[32m[I 2021-05-06 15:15:12,294]\u001b[0m A new study created in memory with name: no-name-dfaf7e75-253d-4a8f-88e4-fbfb919b3f1a\u001b[0m\n",
      "\u001b[32m[I 2021-05-06 15:16:33,970]\u001b[0m Trial 0 finished with value: 1.0839115125738292 and parameters: {'depth': 10, 'l2_leaf_reg': 0.7784430887879386, 'loss_function': 'MultiClass', 'bootstrap_type': 'Poisson', 'learning_rate': 0.060662399774079355}. Best is trial 0 with value: 1.0839115125738292.\u001b[0m\n",
      "\u001b[32m[I 2021-05-06 15:16:37,230]\u001b[0m Trial 1 finished with value: 1.0889559508049789 and parameters: {'depth': 3, 'l2_leaf_reg': 1.0993785162004626, 'loss_function': 'MultiClass', 'bootstrap_type': 'Poisson', 'learning_rate': 0.7444438801207901}. Best is trial 0 with value: 1.0839115125738292.\u001b[0m\n",
      "\u001b[32m[I 2021-05-06 15:16:41,670]\u001b[0m Trial 2 finished with value: 1.0959667887264462 and parameters: {'depth': 5, 'l2_leaf_reg': 17.089888642867862, 'loss_function': 'MultiClass', 'bootstrap_type': 'Poisson', 'learning_rate': 0.9150963744292319}. Best is trial 0 with value: 1.0839115125738292.\u001b[0m\n",
      "\u001b[32m[I 2021-05-06 15:16:47,159]\u001b[0m Trial 3 finished with value: 1.093223363984216 and parameters: {'depth': 10, 'l2_leaf_reg': 14.06364685166057, 'loss_function': 'MultiClass', 'bootstrap_type': 'Poisson', 'learning_rate': 0.7193326577524065}. Best is trial 0 with value: 1.0839115125738292.\u001b[0m\n",
      "\u001b[32m[I 2021-05-06 15:16:51,484]\u001b[0m Trial 4 finished with value: 1.0952138374008829 and parameters: {'depth': 5, 'l2_leaf_reg': 5.937274610451427, 'loss_function': 'MultiClass', 'bootstrap_type': 'Poisson', 'learning_rate': 0.812373280930369}. Best is trial 0 with value: 1.0839115125738292.\u001b[0m\n",
      "\u001b[32m[I 2021-05-06 15:16:55,549]\u001b[0m Trial 5 finished with value: 1.096011099614422 and parameters: {'depth': 4, 'l2_leaf_reg': 0.9627825007038346, 'loss_function': 'MultiClass', 'bootstrap_type': 'Poisson', 'learning_rate': 0.8627784319212755}. Best is trial 0 with value: 1.0839115125738292.\u001b[0m\n",
      "\u001b[32m[I 2021-05-06 15:17:59,968]\u001b[0m Trial 6 finished with value: 1.0833267076529087 and parameters: {'depth': 6, 'l2_leaf_reg': 0.28639165460792676, 'loss_function': 'MultiClass', 'bootstrap_type': 'Poisson', 'learning_rate': 0.008120842748379448}. Best is trial 6 with value: 1.0833267076529087.\u001b[0m\n",
      "\u001b[32m[I 2021-05-06 15:18:04,610]\u001b[0m Trial 7 finished with value: 1.1026601866588568 and parameters: {'depth': 9, 'l2_leaf_reg': 0.020932927955335946, 'loss_function': 'MultiClass', 'bootstrap_type': 'Poisson', 'learning_rate': 0.9095247854358216}. Best is trial 6 with value: 1.0833267076529087.\u001b[0m\n",
      "\u001b[32m[I 2021-05-06 15:18:09,219]\u001b[0m Trial 8 finished with value: 1.0954888752194678 and parameters: {'depth': 7, 'l2_leaf_reg': 0.0002678109926871774, 'loss_function': 'MultiClass', 'bootstrap_type': 'Poisson', 'learning_rate': 0.549017450962564}. Best is trial 6 with value: 1.0833267076529087.\u001b[0m\n",
      "\u001b[32m[I 2021-05-06 15:18:19,068]\u001b[0m Trial 9 finished with value: 1.0851410944156619 and parameters: {'depth': 9, 'l2_leaf_reg': 0.00016235318264741722, 'loss_function': 'MultiClass', 'bootstrap_type': 'Poisson', 'learning_rate': 0.07182666251105925}. Best is trial 6 with value: 1.0833267076529087.\u001b[0m\n",
      "\u001b[32m[I 2021-05-06 15:18:24,908]\u001b[0m Trial 10 finished with value: 1.0895953159040261 and parameters: {'depth': 7, 'l2_leaf_reg': 0.01454170554337319, 'loss_function': 'MultiClass', 'bootstrap_type': 'Poisson', 'learning_rate': 0.2553939748473907}. Best is trial 6 with value: 1.0833267076529087.\u001b[0m\n",
      "\u001b[32m[I 2021-05-06 15:19:22,954]\u001b[0m Trial 11 finished with value: 1.0833306384322476 and parameters: {'depth': 6, 'l2_leaf_reg': 0.1021881954516872, 'loss_function': 'MultiClass', 'bootstrap_type': 'Poisson', 'learning_rate': 0.010573520809212922}. Best is trial 6 with value: 1.0833267076529087.\u001b[0m\n",
      "\u001b[32m[I 2021-05-06 15:19:27,928]\u001b[0m Trial 12 finished with value: 1.090559661459976 and parameters: {'depth': 6, 'l2_leaf_reg': 0.05580989263809399, 'loss_function': 'MultiClass', 'bootstrap_type': 'Poisson', 'learning_rate': 0.2635885245093722}. Best is trial 6 with value: 1.0833267076529087.\u001b[0m\n",
      "\u001b[32m[I 2021-05-06 15:19:33,869]\u001b[0m Trial 13 finished with value: 1.0882800432574538 and parameters: {'depth': 6, 'l2_leaf_reg': 0.11400266312009003, 'loss_function': 'MultiClass', 'bootstrap_type': 'Poisson', 'learning_rate': 0.22061607685352955}. Best is trial 6 with value: 1.0833267076529087.\u001b[0m\n",
      "\u001b[32m[I 2021-05-06 15:19:47,342]\u001b[0m Trial 14 finished with value: 1.084269700166774 and parameters: {'depth': 8, 'l2_leaf_reg': 0.0014123946120154982, 'loss_function': 'MultiClass', 'bootstrap_type': 'Poisson', 'learning_rate': 0.04263575736437332}. Best is trial 6 with value: 1.0833267076529087.\u001b[0m\n",
      "\u001b[32m[I 2021-05-06 15:19:53,373]\u001b[0m Trial 15 finished with value: 1.0930177944830781 and parameters: {'depth': 5, 'l2_leaf_reg': 0.22346017568279983, 'loss_function': 'MultiClass', 'bootstrap_type': 'Poisson', 'learning_rate': 0.41966829523212384}. Best is trial 6 with value: 1.0833267076529087.\u001b[0m\n",
      "\u001b[32m[I 2021-05-06 15:21:03,680]\u001b[0m Trial 16 finished with value: 1.0836984728162418 and parameters: {'depth': 3, 'l2_leaf_reg': 0.003354058925901324, 'loss_function': 'MultiClass', 'bootstrap_type': 'Poisson', 'learning_rate': 0.003957940739021719}. Best is trial 6 with value: 1.0833267076529087.\u001b[0m\n",
      "\u001b[32m[I 2021-05-06 15:21:09,854]\u001b[0m Trial 17 finished with value: 1.087635800295177 and parameters: {'depth': 8, 'l2_leaf_reg': 0.30888186246275307, 'loss_function': 'MultiClass', 'bootstrap_type': 'Poisson', 'learning_rate': 0.17120446655596913}. Best is trial 6 with value: 1.0833267076529087.\u001b[0m\n",
      "\u001b[32m[I 2021-05-06 15:21:14,117]\u001b[0m Trial 18 finished with value: 1.088039402544013 and parameters: {'depth': 4, 'l2_leaf_reg': 2.330926595202188, 'loss_function': 'MultiClass', 'bootstrap_type': 'Poisson', 'learning_rate': 0.3928900972508598}. Best is trial 6 with value: 1.0833267076529087.\u001b[0m\n",
      "\u001b[32m[I 2021-05-06 15:21:20,597]\u001b[0m Trial 19 finished with value: 1.0875678049814452 and parameters: {'depth': 6, 'l2_leaf_reg': 0.009655129962724237, 'loss_function': 'MultiClass', 'bootstrap_type': 'Poisson', 'learning_rate': 0.1412823169997138}. Best is trial 6 with value: 1.0833267076529087.\u001b[0m\n",
      "\u001b[32m[I 2021-05-06 15:21:25,239]\u001b[0m Trial 20 finished with value: 1.0962811444154423 and parameters: {'depth': 7, 'l2_leaf_reg': 0.05639539388855452, 'loss_function': 'MultiClass', 'bootstrap_type': 'Poisson', 'learning_rate': 0.5595422041911366}. Best is trial 6 with value: 1.0833267076529087.\u001b[0m\n",
      "\u001b[32m[I 2021-05-06 15:21:46,758]\u001b[0m Trial 21 finished with value: 1.0832480302245813 and parameters: {'depth': 3, 'l2_leaf_reg': 0.0025287647336343128, 'loss_function': 'MultiClass', 'bootstrap_type': 'Poisson', 'learning_rate': 0.022358087997872835}. Best is trial 21 with value: 1.0832480302245813.\u001b[0m\n",
      "\u001b[32m[I 2021-05-06 15:24:37,675]\u001b[0m Trial 22 finished with value: 1.0868332151962012 and parameters: {'depth': 5, 'l2_leaf_reg': 0.0006994591233917101, 'loss_function': 'MultiClass', 'bootstrap_type': 'Poisson', 'learning_rate': 0.0010575200701634872}. Best is trial 21 with value: 1.0832480302245813.\u001b[0m\n",
      "\u001b[32m[I 2021-05-06 15:24:43,071]\u001b[0m Trial 23 finished with value: 1.086309302587314 and parameters: {'depth': 4, 'l2_leaf_reg': 0.006135818115090948, 'loss_function': 'MultiClass', 'bootstrap_type': 'Poisson', 'learning_rate': 0.14550237665173624}. Best is trial 21 with value: 1.0832480302245813.\u001b[0m\n",
      "\u001b[32m[I 2021-05-06 15:24:48,769]\u001b[0m Trial 24 finished with value: 1.0903777888373545 and parameters: {'depth': 8, 'l2_leaf_reg': 0.1922399318736947, 'loss_function': 'MultiClass', 'bootstrap_type': 'Poisson', 'learning_rate': 0.3429077496710703}. Best is trial 21 with value: 1.0832480302245813.\u001b[0m\n",
      "\u001b[32m[I 2021-05-06 15:24:55,247]\u001b[0m Trial 25 finished with value: 1.0850954480680086 and parameters: {'depth': 3, 'l2_leaf_reg': 0.0443904664753741, 'loss_function': 'MultiClass', 'bootstrap_type': 'Poisson', 'learning_rate': 0.13486998384411852}. Best is trial 21 with value: 1.0832480302245813.\u001b[0m\n",
      "\u001b[32m[I 2021-05-06 15:25:06,132]\u001b[0m Trial 26 finished with value: 1.0853260408291887 and parameters: {'depth': 6, 'l2_leaf_reg': 0.0027758920730200356, 'loss_function': 'MultiClass', 'bootstrap_type': 'Poisson', 'learning_rate': 0.06871921848214713}. Best is trial 21 with value: 1.0832480302245813.\u001b[0m\n",
      "\u001b[32m[I 2021-05-06 15:26:54,555]\u001b[0m Trial 27 finished with value: 1.1636764532346142 and parameters: {'depth': 4, 'l2_leaf_reg': 0.5066524033141117, 'loss_function': 'MultiClass', 'bootstrap_type': 'Poisson', 'learning_rate': 7.91890860091446e-05}. Best is trial 21 with value: 1.0832480302245813.\u001b[0m\n",
      "\u001b[32m[I 2021-05-06 15:26:59,446]\u001b[0m Trial 28 finished with value: 1.0924515279998632 and parameters: {'depth': 7, 'l2_leaf_reg': 0.026374004619467085, 'loss_function': 'MultiClass', 'bootstrap_type': 'Poisson', 'learning_rate': 0.34049476820041435}. Best is trial 21 with value: 1.0832480302245813.\u001b[0m\n",
      "\u001b[32m[I 2021-05-06 15:27:13,246]\u001b[0m Trial 29 finished with value: 1.0835331353581321 and parameters: {'depth': 5, 'l2_leaf_reg': 2.8719230034560392, 'loss_function': 'MultiClass', 'bootstrap_type': 'Poisson', 'learning_rate': 0.08396003005749714}. Best is trial 21 with value: 1.0832480302245813.\u001b[0m\n",
      "\u001b[32m[I 2021-05-06 15:30:24,815]\u001b[0m Trial 30 finished with value: 1.0855911566609868 and parameters: {'depth': 6, 'l2_leaf_reg': 0.13558348751894075, 'loss_function': 'MultiClass', 'bootstrap_type': 'Poisson', 'learning_rate': 0.0011321459217253742}. Best is trial 21 with value: 1.0832480302245813.\u001b[0m\n",
      "\u001b[32m[I 2021-05-06 15:30:36,785]\u001b[0m Trial 31 finished with value: 1.0836679433655083 and parameters: {'depth': 5, 'l2_leaf_reg': 5.0912893724586334, 'loss_function': 'MultiClass', 'bootstrap_type': 'Poisson', 'learning_rate': 0.08700985642457647}. Best is trial 21 with value: 1.0832480302245813.\u001b[0m\n",
      "\u001b[32m[I 2021-05-06 15:30:43,614]\u001b[0m Trial 32 finished with value: 1.0863928854650635 and parameters: {'depth': 5, 'l2_leaf_reg': 2.006459340297831, 'loss_function': 'MultiClass', 'bootstrap_type': 'Poisson', 'learning_rate': 0.19173043045204283}. Best is trial 21 with value: 1.0832480302245813.\u001b[0m\n",
      "\u001b[32m[I 2021-05-06 15:30:52,702]\u001b[0m Trial 33 finished with value: 1.0839040762973349 and parameters: {'depth': 3, 'l2_leaf_reg': 0.523621166821503, 'loss_function': 'MultiClass', 'bootstrap_type': 'Poisson', 'learning_rate': 0.07451655819542478}. Best is trial 21 with value: 1.0832480302245813.\u001b[0m\n",
      "\u001b[32m[I 2021-05-06 15:32:41,487]\u001b[0m Trial 34 finished with value: 1.0935571352435214 and parameters: {'depth': 4, 'l2_leaf_reg': 2.3172787210556267, 'loss_function': 'MultiClass', 'bootstrap_type': 'Poisson', 'learning_rate': 0.0005203857757102824}. Best is trial 21 with value: 1.0832480302245813.\u001b[0m\n",
      "\u001b[32m[I 2021-05-06 15:32:45,971]\u001b[0m Trial 35 finished with value: 1.0927789943024753 and parameters: {'depth': 6, 'l2_leaf_reg': 21.67112517409841, 'loss_function': 'MultiClass', 'bootstrap_type': 'Poisson', 'learning_rate': 0.6614121682410161}. Best is trial 21 with value: 1.0832480302245813.\u001b[0m\n",
      "\u001b[32m[I 2021-05-06 15:32:52,399]\u001b[0m Trial 36 finished with value: 1.0859775944835874 and parameters: {'depth': 5, 'l2_leaf_reg': 9.623724085851817, 'loss_function': 'MultiClass', 'bootstrap_type': 'Poisson', 'learning_rate': 0.27791517673209387}. Best is trial 21 with value: 1.0832480302245813.\u001b[0m\n",
      "\u001b[32m[I 2021-05-06 15:32:59,488]\u001b[0m Trial 37 finished with value: 1.0864990740031986 and parameters: {'depth': 7, 'l2_leaf_reg': 0.08769128660505322, 'loss_function': 'MultiClass', 'bootstrap_type': 'Poisson', 'learning_rate': 0.11260193277457924}. Best is trial 21 with value: 1.0832480302245813.\u001b[0m\n",
      "\u001b[32m[I 2021-05-06 15:33:12,938]\u001b[0m Trial 38 finished with value: 1.0836339254883924 and parameters: {'depth': 4, 'l2_leaf_reg': 1.1463047432019964, 'loss_function': 'MultiClass', 'bootstrap_type': 'Poisson', 'learning_rate': 0.051930147620177905}. Best is trial 21 with value: 1.0832480302245813.\u001b[0m\n",
      "\u001b[32m[I 2021-05-06 15:33:18,550]\u001b[0m Trial 39 finished with value: 1.0878780273318338 and parameters: {'depth': 5, 'l2_leaf_reg': 0.5381437738185068, 'loss_function': 'MultiClass', 'bootstrap_type': 'Poisson', 'learning_rate': 0.21146155670198907}. Best is trial 21 with value: 1.0832480302245813.\u001b[0m\n",
      "\u001b[32m[I 2021-05-06 15:33:37,809]\u001b[0m Trial 40 finished with value: 1.083505527389619 and parameters: {'depth': 6, 'l2_leaf_reg': 4.831752041414286, 'loss_function': 'MultiClass', 'bootstrap_type': 'Poisson', 'learning_rate': 0.043008499761218066}. Best is trial 21 with value: 1.0832480302245813.\u001b[0m\n",
      "\u001b[32m[I 2021-05-06 15:34:07,308]\u001b[0m Trial 41 finished with value: 1.0832494484170772 and parameters: {'depth': 6, 'l2_leaf_reg': 5.119997622211094, 'loss_function': 'MultiClass', 'bootstrap_type': 'Poisson', 'learning_rate': 0.029072304299464436}. Best is trial 21 with value: 1.0832480302245813.\u001b[0m\n",
      "\u001b[32m[I 2021-05-06 15:34:47,089]\u001b[0m Trial 42 finished with value: 1.082791971331508 and parameters: {'depth': 6, 'l2_leaf_reg': 7.795386005922856, 'loss_function': 'MultiClass', 'bootstrap_type': 'Poisson', 'learning_rate': 0.016045726352822014}. Best is trial 42 with value: 1.082791971331508.\u001b[0m\n",
      "\u001b[32m[I 2021-05-06 15:35:11,610]\u001b[0m Trial 43 finished with value: 1.0831310971511805 and parameters: {'depth': 7, 'l2_leaf_reg': 11.069160321898647, 'loss_function': 'MultiClass', 'bootstrap_type': 'Poisson', 'learning_rate': 0.030900878227168752}. Best is trial 42 with value: 1.082791971331508.\u001b[0m\n",
      "\u001b[32m[I 2021-05-06 15:35:20,472]\u001b[0m Trial 44 finished with value: 1.0849698944245105 and parameters: {'depth': 7, 'l2_leaf_reg': 9.715042256746983, 'loss_function': 'MultiClass', 'bootstrap_type': 'Poisson', 'learning_rate': 0.12982683481947735}. Best is trial 42 with value: 1.082791971331508.\u001b[0m\n",
      "\u001b[32m[I 2021-05-06 15:35:25,294]\u001b[0m Trial 45 finished with value: 1.0990416564837848 and parameters: {'depth': 10, 'l2_leaf_reg': 23.160960457467276, 'loss_function': 'MultiClass', 'bootstrap_type': 'Poisson', 'learning_rate': 0.9845602023704508}. Best is trial 42 with value: 1.082791971331508.\u001b[0m\n",
      "\u001b[32m[I 2021-05-06 15:35:35,078]\u001b[0m Trial 46 finished with value: 1.0841816377449311 and parameters: {'depth': 9, 'l2_leaf_reg': 11.804909972583385, 'loss_function': 'MultiClass', 'bootstrap_type': 'Poisson', 'learning_rate': 0.10470749755150548}. Best is trial 42 with value: 1.082791971331508.\u001b[0m\n",
      "\u001b[32m[I 2021-05-06 15:35:59,877]\u001b[0m Trial 47 finished with value: 1.0830685711142853 and parameters: {'depth': 8, 'l2_leaf_reg': 3.8791224342702284, 'loss_function': 'MultiClass', 'bootstrap_type': 'Poisson', 'learning_rate': 0.029933804637335124}. Best is trial 42 with value: 1.082791971331508.\u001b[0m\n",
      "\u001b[32m[I 2021-05-06 15:36:05,754]\u001b[0m Trial 48 finished with value: 1.087099269904563 and parameters: {'depth': 8, 'l2_leaf_reg': 1.1442099631486566, 'loss_function': 'MultiClass', 'bootstrap_type': 'Poisson', 'learning_rate': 0.17854140333478194}. Best is trial 42 with value: 1.082791971331508.\u001b[0m\n",
      "\u001b[32m[I 2021-05-06 15:36:24,822]\u001b[0m Trial 49 finished with value: 1.082774317606831 and parameters: {'depth': 9, 'l2_leaf_reg': 6.400416650873615, 'loss_function': 'MultiClass', 'bootstrap_type': 'Poisson', 'learning_rate': 0.039143742410831774}. Best is trial 49 with value: 1.082774317606831.\u001b[0m\n",
      "\u001b[32m[I 2021-05-06 15:36:42,128]\u001b[0m Trial 50 finished with value: 1.0825772277915908 and parameters: {'depth': 9, 'l2_leaf_reg': 14.852256080320727, 'loss_function': 'MultiClass', 'bootstrap_type': 'Poisson', 'learning_rate': 0.044546453368849534}. Best is trial 50 with value: 1.0825772277915908.\u001b[0m\n",
      "\u001b[32m[I 2021-05-06 15:37:05,861]\u001b[0m Trial 51 finished with value: 1.0825495508118574 and parameters: {'depth': 9, 'l2_leaf_reg': 15.716883366142241, 'loss_function': 'MultiClass', 'bootstrap_type': 'Poisson', 'learning_rate': 0.03303880525234681}. Best is trial 51 with value: 1.0825495508118574.\u001b[0m\n",
      "\u001b[32m[I 2021-05-06 15:37:19,421]\u001b[0m Trial 52 finished with value: 1.0827452739066392 and parameters: {'depth': 9, 'l2_leaf_reg': 17.341317666891115, 'loss_function': 'MultiClass', 'bootstrap_type': 'Poisson', 'learning_rate': 0.057452571832873015}. Best is trial 51 with value: 1.0825495508118574.\u001b[0m\n",
      "\u001b[32m[I 2021-05-06 15:37:28,766]\u001b[0m Trial 53 finished with value: 1.0836533373202895 and parameters: {'depth': 9, 'l2_leaf_reg': 18.339567554760382, 'loss_function': 'MultiClass', 'bootstrap_type': 'Poisson', 'learning_rate': 0.10767951394375214}. Best is trial 51 with value: 1.0825495508118574.\u001b[0m\n",
      "\u001b[32m[I 2021-05-06 15:37:35,972]\u001b[0m Trial 54 finished with value: 1.087150081215776 and parameters: {'depth': 10, 'l2_leaf_reg': 6.473321048616825, 'loss_function': 'MultiClass', 'bootstrap_type': 'Poisson', 'learning_rate': 0.23970261794534692}. Best is trial 51 with value: 1.0825495508118574.\u001b[0m\n",
      "\u001b[32m[I 2021-05-06 15:37:50,063]\u001b[0m Trial 55 finished with value: 1.0827490534040305 and parameters: {'depth': 9, 'l2_leaf_reg': 23.970449359946194, 'loss_function': 'MultiClass', 'bootstrap_type': 'Poisson', 'learning_rate': 0.05401196910440215}. Best is trial 51 with value: 1.0825495508118574.\u001b[0m\n",
      "\u001b[32m[I 2021-05-06 15:37:56,918]\u001b[0m Trial 56 finished with value: 1.0847971887951628 and parameters: {'depth': 9, 'l2_leaf_reg': 23.49132884791695, 'loss_function': 'MultiClass', 'bootstrap_type': 'Poisson', 'learning_rate': 0.16100006360152172}. Best is trial 51 with value: 1.0825495508118574.\u001b[0m\n",
      "\u001b[32m[I 2021-05-06 15:38:10,511]\u001b[0m Trial 57 finished with value: 1.08280521901904 and parameters: {'depth': 10, 'l2_leaf_reg': 16.496256557379393, 'loss_function': 'MultiClass', 'bootstrap_type': 'Poisson', 'learning_rate': 0.06563596968502403}. Best is trial 51 with value: 1.0825495508118574.\u001b[0m\n",
      "\u001b[32m[I 2021-05-06 15:38:19,633]\u001b[0m Trial 58 finished with value: 1.0845545768357465 and parameters: {'depth': 9, 'l2_leaf_reg': 7.464207740115582, 'loss_function': 'MultiClass', 'bootstrap_type': 'Poisson', 'learning_rate': 0.09447880779563776}. Best is trial 51 with value: 1.0825495508118574.\u001b[0m\n",
      "\u001b[32m[I 2021-05-06 15:38:26,477]\u001b[0m Trial 59 finished with value: 1.0857161612250008 and parameters: {'depth': 10, 'l2_leaf_reg': 24.979795087527723, 'loss_function': 'MultiClass', 'bootstrap_type': 'Poisson', 'learning_rate': 0.19614986727456432}. Best is trial 51 with value: 1.0825495508118574.\u001b[0m\n",
      "\u001b[32m[I 2021-05-06 15:38:31,625]\u001b[0m Trial 60 finished with value: 1.088430166042728 and parameters: {'depth': 9, 'l2_leaf_reg': 14.61692663758566, 'loss_function': 'MultiClass', 'bootstrap_type': 'Poisson', 'learning_rate': 0.49670140381300837}. Best is trial 51 with value: 1.0825495508118574.\u001b[0m\n",
      "\u001b[32m[I 2021-05-06 15:38:46,849]\u001b[0m Trial 61 finished with value: 1.0825661163538147 and parameters: {'depth': 10, 'l2_leaf_reg': 15.367867110840821, 'loss_function': 'MultiClass', 'bootstrap_type': 'Poisson', 'learning_rate': 0.05763980262753632}. Best is trial 51 with value: 1.0825495508118574.\u001b[0m\n",
      "\u001b[32m[I 2021-05-06 15:39:00,028]\u001b[0m Trial 62 finished with value: 1.0833521538742135 and parameters: {'depth': 9, 'l2_leaf_reg': 8.0136481243106, 'loss_function': 'MultiClass', 'bootstrap_type': 'Poisson', 'learning_rate': 0.06067934070380489}. Best is trial 51 with value: 1.0825495508118574.\u001b[0m\n",
      "\u001b[32m[I 2021-05-06 15:39:08,186]\u001b[0m Trial 63 finished with value: 1.0847357869513843 and parameters: {'depth': 10, 'l2_leaf_reg': 3.6033010659810856, 'loss_function': 'MultiClass', 'bootstrap_type': 'Poisson', 'learning_rate': 0.12822392382050596}. Best is trial 51 with value: 1.0825495508118574.\u001b[0m\n",
      "\u001b[32m[I 2021-05-06 15:39:15,261]\u001b[0m Trial 64 finished with value: 1.0847844735748062 and parameters: {'depth': 8, 'l2_leaf_reg': 14.25115031644889, 'loss_function': 'MultiClass', 'bootstrap_type': 'Poisson', 'learning_rate': 0.16115807094694218}. Best is trial 51 with value: 1.0825495508118574.\u001b[0m\n",
      "\u001b[32m[I 2021-05-06 15:42:45,496]\u001b[0m Trial 65 finished with value: 1.0822880281684244 and parameters: {'depth': 9, 'l2_leaf_reg': 23.644649095217915, 'loss_function': 'MultiClass', 'bootstrap_type': 'Poisson', 'learning_rate': 0.0022691235371927326}. Best is trial 65 with value: 1.0822880281684244.\u001b[0m\n",
      "\u001b[32m[I 2021-05-06 15:46:20,259]\u001b[0m Trial 66 finished with value: 1.082217880685712 and parameters: {'depth': 9, 'l2_leaf_reg': 22.84237452868154, 'loss_function': 'MultiClass', 'bootstrap_type': 'Poisson', 'learning_rate': 0.002413648794596643}. Best is trial 66 with value: 1.082217880685712.\u001b[0m\n",
      "\u001b[32m[I 2021-05-06 15:46:31,264]\u001b[0m Trial 67 finished with value: 1.082837675098629 and parameters: {'depth': 10, 'l2_leaf_reg': 23.514112532750307, 'loss_function': 'MultiClass', 'bootstrap_type': 'Poisson', 'learning_rate': 0.0912568303521667}. Best is trial 66 with value: 1.082217880685712.\u001b[0m\n",
      "\u001b[32m[I 2021-05-06 15:46:35,877]\u001b[0m Trial 68 finished with value: 1.0982557785792217 and parameters: {'depth': 9, 'l2_leaf_reg': 1.6488223799356978, 'loss_function': 'MultiClass', 'bootstrap_type': 'Poisson', 'learning_rate': 0.7947349709582989}. Best is trial 66 with value: 1.082217880685712.\u001b[0m\n",
      "\u001b[32m[I 2021-05-06 15:46:42,316]\u001b[0m Trial 69 finished with value: 1.0871372561781005 and parameters: {'depth': 8, 'l2_leaf_reg': 15.084756207716943, 'loss_function': 'MultiClass', 'bootstrap_type': 'Poisson', 'learning_rate': 0.3057638978078797}. Best is trial 66 with value: 1.082217880685712.\u001b[0m\n",
      "\u001b[32m[I 2021-05-06 15:47:50,290]\u001b[0m Trial 70 finished with value: 1.082690227961659 and parameters: {'depth': 9, 'l2_leaf_reg': 3.354970757206782, 'loss_function': 'MultiClass', 'bootstrap_type': 'Poisson', 'learning_rate': 0.007399035792478942}. Best is trial 66 with value: 1.082217880685712.\u001b[0m\n",
      "\u001b[32m[I 2021-05-06 15:48:06,750]\u001b[0m Trial 71 finished with value: 1.0825928194472334 and parameters: {'depth': 9, 'l2_leaf_reg': 23.880214423637778, 'loss_function': 'MultiClass', 'bootstrap_type': 'Poisson', 'learning_rate': 0.056960750777491596}. Best is trial 66 with value: 1.082217880685712.\u001b[0m\n",
      "\u001b[32m[I 2021-05-06 15:50:26,615]\u001b[0m Trial 72 finished with value: 1.0823833042004005 and parameters: {'depth': 9, 'l2_leaf_reg': 11.089702894088035, 'loss_function': 'MultiClass', 'bootstrap_type': 'Poisson', 'learning_rate': 0.00408629660862142}. Best is trial 66 with value: 1.082217880685712.\u001b[0m\n",
      "\u001b[32m[I 2021-05-06 15:54:06,582]\u001b[0m Trial 73 finished with value: 1.0919685450508123 and parameters: {'depth': 10, 'l2_leaf_reg': 11.938020294082637, 'loss_function': 'MultiClass', 'bootstrap_type': 'Poisson', 'learning_rate': 0.0003619317532306283}. Best is trial 66 with value: 1.082217880685712.\u001b[0m\n",
      "\u001b[32m[I 2021-05-06 15:55:52,608]\u001b[0m Trial 74 finished with value: 1.08276844023415 and parameters: {'depth': 8, 'l2_leaf_reg': 3.025030222544764, 'loss_function': 'MultiClass', 'bootstrap_type': 'Poisson', 'learning_rate': 0.0053980645454885165}. Best is trial 66 with value: 1.082217880685712.\u001b[0m\n",
      "\u001b[32m[I 2021-05-06 15:58:45,869]\u001b[0m Trial 75 finished with value: 1.082366199896193 and parameters: {'depth': 9, 'l2_leaf_reg': 9.799296726148235, 'loss_function': 'MultiClass', 'bootstrap_type': 'Poisson', 'learning_rate': 0.003320333839789671}. Best is trial 66 with value: 1.082217880685712.\u001b[0m\n",
      "\u001b[32m[I 2021-05-06 15:58:56,775]\u001b[0m Trial 76 finished with value: 1.083436862588766 and parameters: {'depth': 9, 'l2_leaf_reg': 10.039366652985425, 'loss_function': 'MultiClass', 'bootstrap_type': 'Poisson', 'learning_rate': 0.08134874627970007}. Best is trial 66 with value: 1.082217880685712.\u001b[0m\n",
      "\u001b[32m[I 2021-05-06 15:59:05,193]\u001b[0m Trial 77 finished with value: 1.0848614793087767 and parameters: {'depth': 8, 'l2_leaf_reg': 4.762235641751825, 'loss_function': 'MultiClass', 'bootstrap_type': 'Poisson', 'learning_rate': 0.12072115458951076}. Best is trial 66 with value: 1.082217880685712.\u001b[0m\n",
      "\u001b[32m[I 2021-05-06 16:02:45,354]\u001b[0m Trial 78 finished with value: 1.0845535800415087 and parameters: {'depth': 10, 'l2_leaf_reg': 17.95131849514677, 'loss_function': 'MultiClass', 'bootstrap_type': 'Poisson', 'learning_rate': 0.0009509298916167627}. Best is trial 66 with value: 1.082217880685712.\u001b[0m\n",
      "\u001b[32m[I 2021-05-06 16:03:07,665]\u001b[0m Trial 79 finished with value: 1.082946108404297 and parameters: {'depth': 9, 'l2_leaf_reg': 7.902090615588991, 'loss_function': 'MultiClass', 'bootstrap_type': 'Poisson', 'learning_rate': 0.028157864316130463}. Best is trial 66 with value: 1.082217880685712.\u001b[0m\n",
      "\u001b[32m[I 2021-05-06 16:03:14,935]\u001b[0m Trial 80 finished with value: 1.085096329090703 and parameters: {'depth': 9, 'l2_leaf_reg': 12.95227400105311, 'loss_function': 'MultiClass', 'bootstrap_type': 'Poisson', 'learning_rate': 0.14256378549297}. Best is trial 66 with value: 1.082217880685712.\u001b[0m\n",
      "\u001b[32m[I 2021-05-06 16:06:41,365]\u001b[0m Trial 81 finished with value: 1.0821429258192652 and parameters: {'depth': 9, 'l2_leaf_reg': 23.621286360583184, 'loss_function': 'MultiClass', 'bootstrap_type': 'Poisson', 'learning_rate': 0.0027175782767777414}. Best is trial 81 with value: 1.0821429258192652.\u001b[0m\n",
      "\u001b[32m[I 2021-05-06 16:06:59,354]\u001b[0m Trial 82 finished with value: 1.0826204632990228 and parameters: {'depth': 9, 'l2_leaf_reg': 21.586066555026395, 'loss_function': 'MultiClass', 'bootstrap_type': 'Poisson', 'learning_rate': 0.044088861340560934}. Best is trial 81 with value: 1.0821429258192652.\u001b[0m\n",
      "\u001b[32m[I 2021-05-06 16:07:12,293]\u001b[0m Trial 83 finished with value: 1.0831365044483556 and parameters: {'depth': 8, 'l2_leaf_reg': 24.11553626573334, 'loss_function': 'MultiClass', 'bootstrap_type': 'Poisson', 'learning_rate': 0.07688687225240329}. Best is trial 81 with value: 1.0821429258192652.\u001b[0m\n",
      "\u001b[32m[I 2021-05-06 16:07:46,886]\u001b[0m Trial 84 finished with value: 1.0822365961636722 and parameters: {'depth': 10, 'l2_leaf_reg': 11.170337390874192, 'loss_function': 'MultiClass', 'bootstrap_type': 'Poisson', 'learning_rate': 0.020314558307848545}. Best is trial 81 with value: 1.0821429258192652.\u001b[0m\n",
      "\u001b[32m[I 2021-05-06 16:08:11,855]\u001b[0m Trial 85 finished with value: 1.0827045947179752 and parameters: {'depth': 10, 'l2_leaf_reg': 8.83854171935794, 'loss_function': 'MultiClass', 'bootstrap_type': 'Poisson', 'learning_rate': 0.025847352445103704}. Best is trial 81 with value: 1.0821429258192652.\u001b[0m\n",
      "\u001b[32m[I 2021-05-06 16:08:46,460]\u001b[0m Trial 86 finished with value: 1.082472736652607 and parameters: {'depth': 10, 'l2_leaf_reg': 5.763229908124374, 'loss_function': 'MultiClass', 'bootstrap_type': 'Poisson', 'learning_rate': 0.020011849275833955}. Best is trial 81 with value: 1.0821429258192652.\u001b[0m\n",
      "\u001b[32m[I 2021-05-06 16:10:09,806]\u001b[0m Trial 87 finished with value: 1.082458896651452 and parameters: {'depth': 10, 'l2_leaf_reg': 4.879349688536584, 'loss_function': 'MultiClass', 'bootstrap_type': 'Poisson', 'learning_rate': 0.006460750912345933}. Best is trial 81 with value: 1.0821429258192652.\u001b[0m\n",
      "\u001b[32m[I 2021-05-06 16:10:45,453]\u001b[0m Trial 88 finished with value: 1.08257157344183 and parameters: {'depth': 10, 'l2_leaf_reg': 4.479888634012118, 'loss_function': 'MultiClass', 'bootstrap_type': 'Poisson', 'learning_rate': 0.015866893348030313}. Best is trial 81 with value: 1.0821429258192652.\u001b[0m\n",
      "\u001b[32m[I 2021-05-06 16:10:53,195]\u001b[0m Trial 89 finished with value: 1.0851999903756988 and parameters: {'depth': 10, 'l2_leaf_reg': 1.5286011185422461, 'loss_function': 'MultiClass', 'bootstrap_type': 'Poisson', 'learning_rate': 0.10894846726910308}. Best is trial 81 with value: 1.0821429258192652.\u001b[0m\n",
      "\u001b[32m[I 2021-05-06 16:14:31,722]\u001b[0m Trial 90 finished with value: 1.0825579774088638 and parameters: {'depth': 10, 'l2_leaf_reg': 5.7778278819506435, 'loss_function': 'MultiClass', 'bootstrap_type': 'Poisson', 'learning_rate': 0.0019605029229015454}. Best is trial 81 with value: 1.0821429258192652.\u001b[0m\n",
      "\u001b[32m[I 2021-05-06 16:15:22,611]\u001b[0m Trial 91 finished with value: 1.0825123106335641 and parameters: {'depth': 10, 'l2_leaf_reg': 6.4908277380024595, 'loss_function': 'MultiClass', 'bootstrap_type': 'Poisson', 'learning_rate': 0.010513608155530122}. Best is trial 81 with value: 1.0821429258192652.\u001b[0m\n",
      "\u001b[32m[I 2021-05-06 16:19:02,415]\u001b[0m Trial 92 finished with value: 1.0889650426257476 and parameters: {'depth': 10, 'l2_leaf_reg': 2.512882217578397, 'loss_function': 'MultiClass', 'bootstrap_type': 'Poisson', 'learning_rate': 0.0004923913018207611}. Best is trial 81 with value: 1.0821429258192652.\u001b[0m\n",
      "\u001b[32m[I 2021-05-06 16:19:32,349]\u001b[0m Trial 93 finished with value: 1.0824554184470616 and parameters: {'depth': 10, 'l2_leaf_reg': 10.264517533323444, 'loss_function': 'MultiClass', 'bootstrap_type': 'Poisson', 'learning_rate': 0.025070838907137953}. Best is trial 81 with value: 1.0821429258192652.\u001b[0m\n",
      "\u001b[32m[I 2021-05-06 16:19:41,929]\u001b[0m Trial 94 finished with value: 1.0841736746575061 and parameters: {'depth': 10, 'l2_leaf_reg': 6.288026543300938, 'loss_function': 'MultiClass', 'bootstrap_type': 'Poisson', 'learning_rate': 0.0809827378747223}. Best is trial 81 with value: 1.0821429258192652.\u001b[0m\n",
      "\u001b[32m[I 2021-05-06 16:19:46,769]\u001b[0m Trial 95 finished with value: 1.093986166553065 and parameters: {'depth': 10, 'l2_leaf_reg': 3.8235070981885118, 'loss_function': 'MultiClass', 'bootstrap_type': 'Poisson', 'learning_rate': 0.6667889450225495}. Best is trial 81 with value: 1.0821429258192652.\u001b[0m\n",
      "\u001b[32m[I 2021-05-06 16:20:11,805]\u001b[0m Trial 96 finished with value: 1.0827586684296178 and parameters: {'depth': 10, 'l2_leaf_reg': 10.25217537800002, 'loss_function': 'MultiClass', 'bootstrap_type': 'Poisson', 'learning_rate': 0.024951361210638366}. Best is trial 81 with value: 1.0821429258192652.\u001b[0m\n",
      "\u001b[32m[I 2021-05-06 16:20:45,770]\u001b[0m Trial 97 finished with value: 1.0825003388417573 and parameters: {'depth': 10, 'l2_leaf_reg': 1.9374507737786792, 'loss_function': 'MultiClass', 'bootstrap_type': 'Poisson', 'learning_rate': 0.020940412689169477}. Best is trial 81 with value: 1.0821429258192652.\u001b[0m\n",
      "\u001b[32m[I 2021-05-06 16:20:55,240]\u001b[0m Trial 98 finished with value: 1.0845433569391791 and parameters: {'depth': 10, 'l2_leaf_reg': 1.7218142087276802, 'loss_function': 'MultiClass', 'bootstrap_type': 'Poisson', 'learning_rate': 0.10143565299519759}. Best is trial 81 with value: 1.0821429258192652.\u001b[0m\n",
      "\u001b[32m[I 2021-05-06 16:21:08,368]\u001b[0m Trial 99 finished with value: 1.082992915769468 and parameters: {'depth': 9, 'l2_leaf_reg': 11.307699822254078, 'loss_function': 'MultiClass', 'bootstrap_type': 'Poisson', 'learning_rate': 0.0696863569702023}. Best is trial 81 with value: 1.0821429258192652.\u001b[0m\n"
     ]
    }
   ],
   "source": [
    "study = optuna.create_study(direction='minimize')\n",
    "study.optimize(objective, n_trials=100)"
   ]
  },
  {
   "cell_type": "code",
   "execution_count": 8,
   "id": "decent-butterfly",
   "metadata": {
    "execution": {
     "iopub.execute_input": "2021-05-06T16:21:08.503413Z",
     "iopub.status.busy": "2021-05-06T16:21:08.502696Z",
     "iopub.status.idle": "2021-05-06T16:21:08.508696Z",
     "shell.execute_reply": "2021-05-06T16:21:08.509267Z"
    },
    "papermill": {
     "duration": 0.073297,
     "end_time": "2021-05-06T16:21:08.509440",
     "exception": false,
     "start_time": "2021-05-06T16:21:08.436143",
     "status": "completed"
    },
    "tags": []
   },
   "outputs": [
    {
     "data": {
      "text/plain": [
       "(1.0821429258192652,\n",
       " {'depth': 9,\n",
       "  'l2_leaf_reg': 23.621286360583184,\n",
       "  'loss_function': 'MultiClass',\n",
       "  'bootstrap_type': 'Poisson',\n",
       "  'learning_rate': 0.0027175782767777414})"
      ]
     },
     "execution_count": 8,
     "metadata": {},
     "output_type": "execute_result"
    }
   ],
   "source": [
    "study.best_value, study.best_params "
   ]
  },
  {
   "cell_type": "code",
   "execution_count": 9,
   "id": "scientific-court",
   "metadata": {
    "execution": {
     "iopub.execute_input": "2021-05-06T16:21:08.637740Z",
     "iopub.status.busy": "2021-05-06T16:21:08.636949Z",
     "iopub.status.idle": "2021-05-06T16:21:12.317050Z",
     "shell.execute_reply": "2021-05-06T16:21:12.317536Z"
    },
    "papermill": {
     "duration": 3.746862,
     "end_time": "2021-05-06T16:21:12.317695",
     "exception": false,
     "start_time": "2021-05-06T16:21:08.570833",
     "status": "completed"
    },
    "tags": []
   },
   "outputs": [
    {
     "data": {
      "text/html": [
       "        <script type=\"text/javascript\">\n",
       "        window.PlotlyConfig = {MathJaxConfig: 'local'};\n",
       "        if (window.MathJax) {MathJax.Hub.Config({SVG: {font: \"STIX-Web\"}});}\n",
       "        if (typeof require !== 'undefined') {\n",
       "        require.undef(\"plotly\");\n",
       "        requirejs.config({\n",
       "            paths: {\n",
       "                'plotly': ['https://cdn.plot.ly/plotly-latest.min']\n",
       "            }\n",
       "        });\n",
       "        require(['plotly'], function(Plotly) {\n",
       "            window._Plotly = Plotly;\n",
       "        });\n",
       "        }\n",
       "        </script>\n",
       "        "
      ]
     },
     "metadata": {},
     "output_type": "display_data"
    },
    {
     "data": {
      "text/html": [
       "<div>                            <div id=\"dadb0056-6ca1-411c-8513-b20ef43d62b4\" class=\"plotly-graph-div\" style=\"height:525px; width:100%;\"></div>            <script type=\"text/javascript\">                require([\"plotly\"], function(Plotly) {                    window.PLOTLYENV=window.PLOTLYENV || {};                                    if (document.getElementById(\"dadb0056-6ca1-411c-8513-b20ef43d62b4\")) {                    Plotly.newPlot(                        \"dadb0056-6ca1-411c-8513-b20ef43d62b4\",                        [{\"cliponaxis\": false, \"hovertemplate\": [\"bootstrap_type (CategoricalDistribution): 0.0<extra></extra>\", \"loss_function (CategoricalDistribution): 0.0<extra></extra>\", \"l2_leaf_reg (LogUniformDistribution): 0.013918493956759459<extra></extra>\", \"depth (IntUniformDistribution): 0.021988304935057636<extra></extra>\", \"learning_rate (UniformDistribution): 0.964093201108183<extra></extra>\"], \"marker\": {\"color\": [\"rgb(66,146,198)\", \"rgb(66,146,198)\", \"rgb(8,48,107)\", \"rgb(8,81,156)\", \"rgb(8,48,107)\"]}, \"orientation\": \"h\", \"text\": [\"0.0\", \"0.0\", \"0.013918493956759459\", \"0.021988304935057636\", \"0.964093201108183\"], \"textposition\": \"outside\", \"texttemplate\": \"%{text:.2f}\", \"type\": \"bar\", \"x\": [0.0, 0.0, 0.013918493956759459, 0.021988304935057636, 0.964093201108183], \"y\": [\"bootstrap_type\", \"loss_function\", \"l2_leaf_reg\", \"depth\", \"learning_rate\"]}],                        {\"showlegend\": false, \"template\": {\"data\": {\"bar\": [{\"error_x\": {\"color\": \"#2a3f5f\"}, \"error_y\": {\"color\": \"#2a3f5f\"}, \"marker\": {\"line\": {\"color\": \"#E5ECF6\", \"width\": 0.5}}, \"type\": \"bar\"}], \"barpolar\": [{\"marker\": {\"line\": {\"color\": \"#E5ECF6\", \"width\": 0.5}}, \"type\": \"barpolar\"}], \"carpet\": [{\"aaxis\": {\"endlinecolor\": \"#2a3f5f\", \"gridcolor\": \"white\", \"linecolor\": \"white\", \"minorgridcolor\": \"white\", \"startlinecolor\": \"#2a3f5f\"}, \"baxis\": {\"endlinecolor\": \"#2a3f5f\", \"gridcolor\": \"white\", \"linecolor\": \"white\", \"minorgridcolor\": \"white\", \"startlinecolor\": \"#2a3f5f\"}, \"type\": \"carpet\"}], \"choropleth\": [{\"colorbar\": {\"outlinewidth\": 0, \"ticks\": \"\"}, \"type\": \"choropleth\"}], \"contour\": [{\"colorbar\": {\"outlinewidth\": 0, \"ticks\": \"\"}, \"colorscale\": [[0.0, \"#0d0887\"], [0.1111111111111111, \"#46039f\"], [0.2222222222222222, \"#7201a8\"], [0.3333333333333333, \"#9c179e\"], [0.4444444444444444, \"#bd3786\"], [0.5555555555555556, \"#d8576b\"], [0.6666666666666666, \"#ed7953\"], [0.7777777777777778, \"#fb9f3a\"], [0.8888888888888888, \"#fdca26\"], [1.0, \"#f0f921\"]], \"type\": \"contour\"}], \"contourcarpet\": [{\"colorbar\": {\"outlinewidth\": 0, \"ticks\": \"\"}, \"type\": \"contourcarpet\"}], \"heatmap\": [{\"colorbar\": {\"outlinewidth\": 0, \"ticks\": \"\"}, \"colorscale\": [[0.0, \"#0d0887\"], [0.1111111111111111, \"#46039f\"], [0.2222222222222222, \"#7201a8\"], [0.3333333333333333, \"#9c179e\"], [0.4444444444444444, \"#bd3786\"], [0.5555555555555556, \"#d8576b\"], [0.6666666666666666, \"#ed7953\"], [0.7777777777777778, \"#fb9f3a\"], [0.8888888888888888, \"#fdca26\"], [1.0, \"#f0f921\"]], \"type\": \"heatmap\"}], \"heatmapgl\": [{\"colorbar\": {\"outlinewidth\": 0, \"ticks\": \"\"}, \"colorscale\": [[0.0, \"#0d0887\"], [0.1111111111111111, \"#46039f\"], [0.2222222222222222, \"#7201a8\"], [0.3333333333333333, \"#9c179e\"], [0.4444444444444444, \"#bd3786\"], [0.5555555555555556, \"#d8576b\"], [0.6666666666666666, \"#ed7953\"], [0.7777777777777778, \"#fb9f3a\"], [0.8888888888888888, \"#fdca26\"], [1.0, \"#f0f921\"]], \"type\": \"heatmapgl\"}], \"histogram\": [{\"marker\": {\"colorbar\": {\"outlinewidth\": 0, \"ticks\": \"\"}}, \"type\": \"histogram\"}], \"histogram2d\": [{\"colorbar\": {\"outlinewidth\": 0, \"ticks\": \"\"}, \"colorscale\": [[0.0, \"#0d0887\"], [0.1111111111111111, \"#46039f\"], [0.2222222222222222, \"#7201a8\"], [0.3333333333333333, \"#9c179e\"], [0.4444444444444444, \"#bd3786\"], [0.5555555555555556, \"#d8576b\"], [0.6666666666666666, \"#ed7953\"], [0.7777777777777778, \"#fb9f3a\"], [0.8888888888888888, \"#fdca26\"], [1.0, \"#f0f921\"]], \"type\": \"histogram2d\"}], \"histogram2dcontour\": [{\"colorbar\": {\"outlinewidth\": 0, \"ticks\": \"\"}, \"colorscale\": [[0.0, \"#0d0887\"], [0.1111111111111111, \"#46039f\"], [0.2222222222222222, \"#7201a8\"], [0.3333333333333333, \"#9c179e\"], [0.4444444444444444, \"#bd3786\"], [0.5555555555555556, \"#d8576b\"], [0.6666666666666666, \"#ed7953\"], [0.7777777777777778, \"#fb9f3a\"], [0.8888888888888888, \"#fdca26\"], [1.0, \"#f0f921\"]], \"type\": \"histogram2dcontour\"}], \"mesh3d\": [{\"colorbar\": {\"outlinewidth\": 0, \"ticks\": \"\"}, \"type\": \"mesh3d\"}], \"parcoords\": [{\"line\": {\"colorbar\": {\"outlinewidth\": 0, \"ticks\": \"\"}}, \"type\": \"parcoords\"}], \"pie\": [{\"automargin\": true, \"type\": \"pie\"}], \"scatter\": [{\"marker\": {\"colorbar\": {\"outlinewidth\": 0, \"ticks\": \"\"}}, \"type\": \"scatter\"}], \"scatter3d\": [{\"line\": {\"colorbar\": {\"outlinewidth\": 0, \"ticks\": \"\"}}, \"marker\": {\"colorbar\": {\"outlinewidth\": 0, \"ticks\": \"\"}}, \"type\": \"scatter3d\"}], \"scattercarpet\": [{\"marker\": {\"colorbar\": {\"outlinewidth\": 0, \"ticks\": \"\"}}, \"type\": \"scattercarpet\"}], \"scattergeo\": [{\"marker\": {\"colorbar\": {\"outlinewidth\": 0, \"ticks\": \"\"}}, \"type\": \"scattergeo\"}], \"scattergl\": [{\"marker\": {\"colorbar\": {\"outlinewidth\": 0, \"ticks\": \"\"}}, \"type\": \"scattergl\"}], \"scattermapbox\": [{\"marker\": {\"colorbar\": {\"outlinewidth\": 0, \"ticks\": \"\"}}, \"type\": \"scattermapbox\"}], \"scatterpolar\": [{\"marker\": {\"colorbar\": {\"outlinewidth\": 0, \"ticks\": \"\"}}, \"type\": \"scatterpolar\"}], \"scatterpolargl\": [{\"marker\": {\"colorbar\": {\"outlinewidth\": 0, \"ticks\": \"\"}}, \"type\": \"scatterpolargl\"}], \"scatterternary\": [{\"marker\": {\"colorbar\": {\"outlinewidth\": 0, \"ticks\": \"\"}}, \"type\": \"scatterternary\"}], \"surface\": [{\"colorbar\": {\"outlinewidth\": 0, \"ticks\": \"\"}, \"colorscale\": [[0.0, \"#0d0887\"], [0.1111111111111111, \"#46039f\"], [0.2222222222222222, \"#7201a8\"], [0.3333333333333333, \"#9c179e\"], [0.4444444444444444, \"#bd3786\"], [0.5555555555555556, \"#d8576b\"], [0.6666666666666666, \"#ed7953\"], [0.7777777777777778, \"#fb9f3a\"], [0.8888888888888888, \"#fdca26\"], [1.0, \"#f0f921\"]], \"type\": \"surface\"}], \"table\": [{\"cells\": {\"fill\": {\"color\": \"#EBF0F8\"}, \"line\": {\"color\": \"white\"}}, \"header\": {\"fill\": {\"color\": \"#C8D4E3\"}, \"line\": {\"color\": \"white\"}}, \"type\": \"table\"}]}, \"layout\": {\"annotationdefaults\": {\"arrowcolor\": \"#2a3f5f\", \"arrowhead\": 0, \"arrowwidth\": 1}, \"autotypenumbers\": \"strict\", \"coloraxis\": {\"colorbar\": {\"outlinewidth\": 0, \"ticks\": \"\"}}, \"colorscale\": {\"diverging\": [[0, \"#8e0152\"], [0.1, \"#c51b7d\"], [0.2, \"#de77ae\"], [0.3, \"#f1b6da\"], [0.4, \"#fde0ef\"], [0.5, \"#f7f7f7\"], [0.6, \"#e6f5d0\"], [0.7, \"#b8e186\"], [0.8, \"#7fbc41\"], [0.9, \"#4d9221\"], [1, \"#276419\"]], \"sequential\": [[0.0, \"#0d0887\"], [0.1111111111111111, \"#46039f\"], [0.2222222222222222, \"#7201a8\"], [0.3333333333333333, \"#9c179e\"], [0.4444444444444444, \"#bd3786\"], [0.5555555555555556, \"#d8576b\"], [0.6666666666666666, \"#ed7953\"], [0.7777777777777778, \"#fb9f3a\"], [0.8888888888888888, \"#fdca26\"], [1.0, \"#f0f921\"]], \"sequentialminus\": [[0.0, \"#0d0887\"], [0.1111111111111111, \"#46039f\"], [0.2222222222222222, \"#7201a8\"], [0.3333333333333333, \"#9c179e\"], [0.4444444444444444, \"#bd3786\"], [0.5555555555555556, \"#d8576b\"], [0.6666666666666666, \"#ed7953\"], [0.7777777777777778, \"#fb9f3a\"], [0.8888888888888888, \"#fdca26\"], [1.0, \"#f0f921\"]]}, \"colorway\": [\"#636efa\", \"#EF553B\", \"#00cc96\", \"#ab63fa\", \"#FFA15A\", \"#19d3f3\", \"#FF6692\", \"#B6E880\", \"#FF97FF\", \"#FECB52\"], \"font\": {\"color\": \"#2a3f5f\"}, \"geo\": {\"bgcolor\": \"white\", \"lakecolor\": \"white\", \"landcolor\": \"#E5ECF6\", \"showlakes\": true, \"showland\": true, \"subunitcolor\": \"white\"}, \"hoverlabel\": {\"align\": \"left\"}, \"hovermode\": \"closest\", \"mapbox\": {\"style\": \"light\"}, \"paper_bgcolor\": \"white\", \"plot_bgcolor\": \"#E5ECF6\", \"polar\": {\"angularaxis\": {\"gridcolor\": \"white\", \"linecolor\": \"white\", \"ticks\": \"\"}, \"bgcolor\": \"#E5ECF6\", \"radialaxis\": {\"gridcolor\": \"white\", \"linecolor\": \"white\", \"ticks\": \"\"}}, \"scene\": {\"xaxis\": {\"backgroundcolor\": \"#E5ECF6\", \"gridcolor\": \"white\", \"gridwidth\": 2, \"linecolor\": \"white\", \"showbackground\": true, \"ticks\": \"\", \"zerolinecolor\": \"white\"}, \"yaxis\": {\"backgroundcolor\": \"#E5ECF6\", \"gridcolor\": \"white\", \"gridwidth\": 2, \"linecolor\": \"white\", \"showbackground\": true, \"ticks\": \"\", \"zerolinecolor\": \"white\"}, \"zaxis\": {\"backgroundcolor\": \"#E5ECF6\", \"gridcolor\": \"white\", \"gridwidth\": 2, \"linecolor\": \"white\", \"showbackground\": true, \"ticks\": \"\", \"zerolinecolor\": \"white\"}}, \"shapedefaults\": {\"line\": {\"color\": \"#2a3f5f\"}}, \"ternary\": {\"aaxis\": {\"gridcolor\": \"white\", \"linecolor\": \"white\", \"ticks\": \"\"}, \"baxis\": {\"gridcolor\": \"white\", \"linecolor\": \"white\", \"ticks\": \"\"}, \"bgcolor\": \"#E5ECF6\", \"caxis\": {\"gridcolor\": \"white\", \"linecolor\": \"white\", \"ticks\": \"\"}}, \"title\": {\"x\": 0.05}, \"xaxis\": {\"automargin\": true, \"gridcolor\": \"white\", \"linecolor\": \"white\", \"ticks\": \"\", \"title\": {\"standoff\": 15}, \"zerolinecolor\": \"white\", \"zerolinewidth\": 2}, \"yaxis\": {\"automargin\": true, \"gridcolor\": \"white\", \"linecolor\": \"white\", \"ticks\": \"\", \"title\": {\"standoff\": 15}, \"zerolinecolor\": \"white\", \"zerolinewidth\": 2}}}, \"title\": {\"text\": \"Hyperparameter Importances\"}, \"xaxis\": {\"title\": {\"text\": \"Importance for Objective Value\"}}, \"yaxis\": {\"title\": {\"text\": \"Hyperparameter\"}}},                        {\"responsive\": true}                    ).then(function(){\n",
       "                            \n",
       "var gd = document.getElementById('dadb0056-6ca1-411c-8513-b20ef43d62b4');\n",
       "var x = new MutationObserver(function (mutations, observer) {{\n",
       "        var display = window.getComputedStyle(gd).display;\n",
       "        if (!display || display === 'none') {{\n",
       "            console.log([gd, 'removed!']);\n",
       "            Plotly.purge(gd);\n",
       "            observer.disconnect();\n",
       "        }}\n",
       "}});\n",
       "\n",
       "// Listen for the removal of the full notebook cells\n",
       "var notebookContainer = gd.closest('#notebook-container');\n",
       "if (notebookContainer) {{\n",
       "    x.observe(notebookContainer, {childList: true});\n",
       "}}\n",
       "\n",
       "// Listen for the clearing of the current output cell\n",
       "var outputEl = gd.closest('.output');\n",
       "if (outputEl) {{\n",
       "    x.observe(outputEl, {childList: true});\n",
       "}}\n",
       "\n",
       "                        })                };                });            </script>        </div>"
      ]
     },
     "metadata": {},
     "output_type": "display_data"
    }
   ],
   "source": [
    "optuna.visualization.plot_param_importances(study)"
   ]
  },
  {
   "cell_type": "code",
   "execution_count": 10,
   "id": "pleased-rates",
   "metadata": {
    "execution": {
     "iopub.execute_input": "2021-05-06T16:21:12.423978Z",
     "iopub.status.busy": "2021-05-06T16:21:12.423400Z",
     "iopub.status.idle": "2021-05-06T16:21:12.450490Z",
     "shell.execute_reply": "2021-05-06T16:21:12.451275Z"
    },
    "papermill": {
     "duration": 0.091024,
     "end_time": "2021-05-06T16:21:12.451429",
     "exception": false,
     "start_time": "2021-05-06T16:21:12.360405",
     "status": "completed"
    },
    "tags": []
   },
   "outputs": [
    {
     "data": {
      "text/html": [
       "<div>                            <div id=\"00ef8c61-9aad-4306-9b5f-370d5e23c339\" class=\"plotly-graph-div\" style=\"height:525px; width:100%;\"></div>            <script type=\"text/javascript\">                require([\"plotly\"], function(Plotly) {                    window.PLOTLYENV=window.PLOTLYENV || {};                                    if (document.getElementById(\"00ef8c61-9aad-4306-9b5f-370d5e23c339\")) {                    Plotly.newPlot(                        \"00ef8c61-9aad-4306-9b5f-370d5e23c339\",                        [{\"mode\": \"markers\", \"name\": \"Objective Value\", \"type\": \"scatter\", \"x\": [0, 1, 2, 3, 4, 5, 6, 7, 8, 9, 10, 11, 12, 13, 14, 15, 16, 17, 18, 19, 20, 21, 22, 23, 24, 25, 26, 27, 28, 29, 30, 31, 32, 33, 34, 35, 36, 37, 38, 39, 40, 41, 42, 43, 44, 45, 46, 47, 48, 49, 50, 51, 52, 53, 54, 55, 56, 57, 58, 59, 60, 61, 62, 63, 64, 65, 66, 67, 68, 69, 70, 71, 72, 73, 74, 75, 76, 77, 78, 79, 80, 81, 82, 83, 84, 85, 86, 87, 88, 89, 90, 91, 92, 93, 94, 95, 96, 97, 98, 99], \"y\": [1.0839115125738292, 1.0889559508049789, 1.0959667887264462, 1.093223363984216, 1.0952138374008829, 1.096011099614422, 1.0833267076529087, 1.1026601866588568, 1.0954888752194678, 1.0851410944156619, 1.0895953159040261, 1.0833306384322476, 1.090559661459976, 1.0882800432574538, 1.084269700166774, 1.0930177944830781, 1.0836984728162418, 1.087635800295177, 1.088039402544013, 1.0875678049814452, 1.0962811444154423, 1.0832480302245813, 1.0868332151962012, 1.086309302587314, 1.0903777888373545, 1.0850954480680086, 1.0853260408291887, 1.1636764532346142, 1.0924515279998632, 1.0835331353581321, 1.0855911566609868, 1.0836679433655083, 1.0863928854650635, 1.0839040762973349, 1.0935571352435214, 1.0927789943024753, 1.0859775944835874, 1.0864990740031986, 1.0836339254883924, 1.0878780273318338, 1.083505527389619, 1.0832494484170772, 1.082791971331508, 1.0831310971511805, 1.0849698944245105, 1.0990416564837848, 1.0841816377449311, 1.0830685711142853, 1.087099269904563, 1.082774317606831, 1.0825772277915908, 1.0825495508118574, 1.0827452739066392, 1.0836533373202895, 1.087150081215776, 1.0827490534040305, 1.0847971887951628, 1.08280521901904, 1.0845545768357465, 1.0857161612250008, 1.088430166042728, 1.0825661163538147, 1.0833521538742135, 1.0847357869513843, 1.0847844735748062, 1.0822880281684244, 1.082217880685712, 1.082837675098629, 1.0982557785792217, 1.0871372561781005, 1.082690227961659, 1.0825928194472334, 1.0823833042004005, 1.0919685450508123, 1.08276844023415, 1.082366199896193, 1.083436862588766, 1.0848614793087767, 1.0845535800415087, 1.082946108404297, 1.085096329090703, 1.0821429258192652, 1.0826204632990228, 1.0831365044483556, 1.0822365961636722, 1.0827045947179752, 1.082472736652607, 1.082458896651452, 1.08257157344183, 1.0851999903756988, 1.0825579774088638, 1.0825123106335641, 1.0889650426257476, 1.0824554184470616, 1.0841736746575061, 1.093986166553065, 1.0827586684296178, 1.0825003388417573, 1.0845433569391791, 1.082992915769468]}, {\"name\": \"Best Value\", \"type\": \"scatter\", \"x\": [0, 1, 2, 3, 4, 5, 6, 7, 8, 9, 10, 11, 12, 13, 14, 15, 16, 17, 18, 19, 20, 21, 22, 23, 24, 25, 26, 27, 28, 29, 30, 31, 32, 33, 34, 35, 36, 37, 38, 39, 40, 41, 42, 43, 44, 45, 46, 47, 48, 49, 50, 51, 52, 53, 54, 55, 56, 57, 58, 59, 60, 61, 62, 63, 64, 65, 66, 67, 68, 69, 70, 71, 72, 73, 74, 75, 76, 77, 78, 79, 80, 81, 82, 83, 84, 85, 86, 87, 88, 89, 90, 91, 92, 93, 94, 95, 96, 97, 98, 99], \"y\": [1.0839115125738292, 1.0839115125738292, 1.0839115125738292, 1.0839115125738292, 1.0839115125738292, 1.0839115125738292, 1.0833267076529087, 1.0833267076529087, 1.0833267076529087, 1.0833267076529087, 1.0833267076529087, 1.0833267076529087, 1.0833267076529087, 1.0833267076529087, 1.0833267076529087, 1.0833267076529087, 1.0833267076529087, 1.0833267076529087, 1.0833267076529087, 1.0833267076529087, 1.0833267076529087, 1.0832480302245813, 1.0832480302245813, 1.0832480302245813, 1.0832480302245813, 1.0832480302245813, 1.0832480302245813, 1.0832480302245813, 1.0832480302245813, 1.0832480302245813, 1.0832480302245813, 1.0832480302245813, 1.0832480302245813, 1.0832480302245813, 1.0832480302245813, 1.0832480302245813, 1.0832480302245813, 1.0832480302245813, 1.0832480302245813, 1.0832480302245813, 1.0832480302245813, 1.0832480302245813, 1.082791971331508, 1.082791971331508, 1.082791971331508, 1.082791971331508, 1.082791971331508, 1.082791971331508, 1.082791971331508, 1.082774317606831, 1.0825772277915908, 1.0825495508118574, 1.0825495508118574, 1.0825495508118574, 1.0825495508118574, 1.0825495508118574, 1.0825495508118574, 1.0825495508118574, 1.0825495508118574, 1.0825495508118574, 1.0825495508118574, 1.0825495508118574, 1.0825495508118574, 1.0825495508118574, 1.0825495508118574, 1.0822880281684244, 1.082217880685712, 1.082217880685712, 1.082217880685712, 1.082217880685712, 1.082217880685712, 1.082217880685712, 1.082217880685712, 1.082217880685712, 1.082217880685712, 1.082217880685712, 1.082217880685712, 1.082217880685712, 1.082217880685712, 1.082217880685712, 1.082217880685712, 1.0821429258192652, 1.0821429258192652, 1.0821429258192652, 1.0821429258192652, 1.0821429258192652, 1.0821429258192652, 1.0821429258192652, 1.0821429258192652, 1.0821429258192652, 1.0821429258192652, 1.0821429258192652, 1.0821429258192652, 1.0821429258192652, 1.0821429258192652, 1.0821429258192652, 1.0821429258192652, 1.0821429258192652, 1.0821429258192652, 1.0821429258192652]}],                        {\"template\": {\"data\": {\"bar\": [{\"error_x\": {\"color\": \"#2a3f5f\"}, \"error_y\": {\"color\": \"#2a3f5f\"}, \"marker\": {\"line\": {\"color\": \"#E5ECF6\", \"width\": 0.5}}, \"type\": \"bar\"}], \"barpolar\": [{\"marker\": {\"line\": {\"color\": \"#E5ECF6\", \"width\": 0.5}}, \"type\": \"barpolar\"}], \"carpet\": [{\"aaxis\": {\"endlinecolor\": \"#2a3f5f\", \"gridcolor\": \"white\", \"linecolor\": \"white\", \"minorgridcolor\": \"white\", \"startlinecolor\": \"#2a3f5f\"}, \"baxis\": {\"endlinecolor\": \"#2a3f5f\", \"gridcolor\": \"white\", \"linecolor\": \"white\", \"minorgridcolor\": \"white\", \"startlinecolor\": \"#2a3f5f\"}, \"type\": \"carpet\"}], \"choropleth\": [{\"colorbar\": {\"outlinewidth\": 0, \"ticks\": \"\"}, \"type\": \"choropleth\"}], \"contour\": [{\"colorbar\": {\"outlinewidth\": 0, \"ticks\": \"\"}, \"colorscale\": [[0.0, \"#0d0887\"], [0.1111111111111111, \"#46039f\"], [0.2222222222222222, \"#7201a8\"], [0.3333333333333333, \"#9c179e\"], [0.4444444444444444, \"#bd3786\"], [0.5555555555555556, \"#d8576b\"], [0.6666666666666666, \"#ed7953\"], [0.7777777777777778, \"#fb9f3a\"], [0.8888888888888888, \"#fdca26\"], [1.0, \"#f0f921\"]], \"type\": \"contour\"}], \"contourcarpet\": [{\"colorbar\": {\"outlinewidth\": 0, \"ticks\": \"\"}, \"type\": \"contourcarpet\"}], \"heatmap\": [{\"colorbar\": {\"outlinewidth\": 0, \"ticks\": \"\"}, \"colorscale\": [[0.0, \"#0d0887\"], [0.1111111111111111, \"#46039f\"], [0.2222222222222222, \"#7201a8\"], [0.3333333333333333, \"#9c179e\"], [0.4444444444444444, \"#bd3786\"], [0.5555555555555556, \"#d8576b\"], [0.6666666666666666, \"#ed7953\"], [0.7777777777777778, \"#fb9f3a\"], [0.8888888888888888, \"#fdca26\"], [1.0, \"#f0f921\"]], \"type\": \"heatmap\"}], \"heatmapgl\": [{\"colorbar\": {\"outlinewidth\": 0, \"ticks\": \"\"}, \"colorscale\": [[0.0, \"#0d0887\"], [0.1111111111111111, \"#46039f\"], [0.2222222222222222, \"#7201a8\"], [0.3333333333333333, \"#9c179e\"], [0.4444444444444444, \"#bd3786\"], [0.5555555555555556, \"#d8576b\"], [0.6666666666666666, \"#ed7953\"], [0.7777777777777778, \"#fb9f3a\"], [0.8888888888888888, \"#fdca26\"], [1.0, \"#f0f921\"]], \"type\": \"heatmapgl\"}], \"histogram\": [{\"marker\": {\"colorbar\": {\"outlinewidth\": 0, \"ticks\": \"\"}}, \"type\": \"histogram\"}], \"histogram2d\": [{\"colorbar\": {\"outlinewidth\": 0, \"ticks\": \"\"}, \"colorscale\": [[0.0, \"#0d0887\"], [0.1111111111111111, \"#46039f\"], [0.2222222222222222, \"#7201a8\"], [0.3333333333333333, \"#9c179e\"], [0.4444444444444444, \"#bd3786\"], [0.5555555555555556, \"#d8576b\"], [0.6666666666666666, \"#ed7953\"], [0.7777777777777778, \"#fb9f3a\"], [0.8888888888888888, \"#fdca26\"], [1.0, \"#f0f921\"]], \"type\": \"histogram2d\"}], \"histogram2dcontour\": [{\"colorbar\": {\"outlinewidth\": 0, \"ticks\": \"\"}, \"colorscale\": [[0.0, \"#0d0887\"], [0.1111111111111111, \"#46039f\"], [0.2222222222222222, \"#7201a8\"], [0.3333333333333333, \"#9c179e\"], [0.4444444444444444, \"#bd3786\"], [0.5555555555555556, \"#d8576b\"], [0.6666666666666666, \"#ed7953\"], [0.7777777777777778, \"#fb9f3a\"], [0.8888888888888888, \"#fdca26\"], [1.0, \"#f0f921\"]], \"type\": \"histogram2dcontour\"}], \"mesh3d\": [{\"colorbar\": {\"outlinewidth\": 0, \"ticks\": \"\"}, \"type\": \"mesh3d\"}], \"parcoords\": [{\"line\": {\"colorbar\": {\"outlinewidth\": 0, \"ticks\": \"\"}}, \"type\": \"parcoords\"}], \"pie\": [{\"automargin\": true, \"type\": \"pie\"}], \"scatter\": [{\"marker\": {\"colorbar\": {\"outlinewidth\": 0, \"ticks\": \"\"}}, \"type\": \"scatter\"}], \"scatter3d\": [{\"line\": {\"colorbar\": {\"outlinewidth\": 0, \"ticks\": \"\"}}, \"marker\": {\"colorbar\": {\"outlinewidth\": 0, \"ticks\": \"\"}}, \"type\": \"scatter3d\"}], \"scattercarpet\": [{\"marker\": {\"colorbar\": {\"outlinewidth\": 0, \"ticks\": \"\"}}, \"type\": \"scattercarpet\"}], \"scattergeo\": [{\"marker\": {\"colorbar\": {\"outlinewidth\": 0, \"ticks\": \"\"}}, \"type\": \"scattergeo\"}], \"scattergl\": [{\"marker\": {\"colorbar\": {\"outlinewidth\": 0, \"ticks\": \"\"}}, \"type\": \"scattergl\"}], \"scattermapbox\": [{\"marker\": {\"colorbar\": {\"outlinewidth\": 0, \"ticks\": \"\"}}, \"type\": \"scattermapbox\"}], \"scatterpolar\": [{\"marker\": {\"colorbar\": {\"outlinewidth\": 0, \"ticks\": \"\"}}, \"type\": \"scatterpolar\"}], \"scatterpolargl\": [{\"marker\": {\"colorbar\": {\"outlinewidth\": 0, \"ticks\": \"\"}}, \"type\": \"scatterpolargl\"}], \"scatterternary\": [{\"marker\": {\"colorbar\": {\"outlinewidth\": 0, \"ticks\": \"\"}}, \"type\": \"scatterternary\"}], \"surface\": [{\"colorbar\": {\"outlinewidth\": 0, \"ticks\": \"\"}, \"colorscale\": [[0.0, \"#0d0887\"], [0.1111111111111111, \"#46039f\"], [0.2222222222222222, \"#7201a8\"], [0.3333333333333333, \"#9c179e\"], [0.4444444444444444, \"#bd3786\"], [0.5555555555555556, \"#d8576b\"], [0.6666666666666666, \"#ed7953\"], [0.7777777777777778, \"#fb9f3a\"], [0.8888888888888888, \"#fdca26\"], [1.0, \"#f0f921\"]], \"type\": \"surface\"}], \"table\": [{\"cells\": {\"fill\": {\"color\": \"#EBF0F8\"}, \"line\": {\"color\": \"white\"}}, \"header\": {\"fill\": {\"color\": \"#C8D4E3\"}, \"line\": {\"color\": \"white\"}}, \"type\": \"table\"}]}, \"layout\": {\"annotationdefaults\": {\"arrowcolor\": \"#2a3f5f\", \"arrowhead\": 0, \"arrowwidth\": 1}, \"autotypenumbers\": \"strict\", \"coloraxis\": {\"colorbar\": {\"outlinewidth\": 0, \"ticks\": \"\"}}, \"colorscale\": {\"diverging\": [[0, \"#8e0152\"], [0.1, \"#c51b7d\"], [0.2, \"#de77ae\"], [0.3, \"#f1b6da\"], [0.4, \"#fde0ef\"], [0.5, \"#f7f7f7\"], [0.6, \"#e6f5d0\"], [0.7, \"#b8e186\"], [0.8, \"#7fbc41\"], [0.9, \"#4d9221\"], [1, \"#276419\"]], \"sequential\": [[0.0, \"#0d0887\"], [0.1111111111111111, \"#46039f\"], [0.2222222222222222, \"#7201a8\"], [0.3333333333333333, \"#9c179e\"], [0.4444444444444444, \"#bd3786\"], [0.5555555555555556, \"#d8576b\"], [0.6666666666666666, \"#ed7953\"], [0.7777777777777778, \"#fb9f3a\"], [0.8888888888888888, \"#fdca26\"], [1.0, \"#f0f921\"]], \"sequentialminus\": [[0.0, \"#0d0887\"], [0.1111111111111111, \"#46039f\"], [0.2222222222222222, \"#7201a8\"], [0.3333333333333333, \"#9c179e\"], [0.4444444444444444, \"#bd3786\"], [0.5555555555555556, \"#d8576b\"], [0.6666666666666666, \"#ed7953\"], [0.7777777777777778, \"#fb9f3a\"], [0.8888888888888888, \"#fdca26\"], [1.0, \"#f0f921\"]]}, \"colorway\": [\"#636efa\", \"#EF553B\", \"#00cc96\", \"#ab63fa\", \"#FFA15A\", \"#19d3f3\", \"#FF6692\", \"#B6E880\", \"#FF97FF\", \"#FECB52\"], \"font\": {\"color\": \"#2a3f5f\"}, \"geo\": {\"bgcolor\": \"white\", \"lakecolor\": \"white\", \"landcolor\": \"#E5ECF6\", \"showlakes\": true, \"showland\": true, \"subunitcolor\": \"white\"}, \"hoverlabel\": {\"align\": \"left\"}, \"hovermode\": \"closest\", \"mapbox\": {\"style\": \"light\"}, \"paper_bgcolor\": \"white\", \"plot_bgcolor\": \"#E5ECF6\", \"polar\": {\"angularaxis\": {\"gridcolor\": \"white\", \"linecolor\": \"white\", \"ticks\": \"\"}, \"bgcolor\": \"#E5ECF6\", \"radialaxis\": {\"gridcolor\": \"white\", \"linecolor\": \"white\", \"ticks\": \"\"}}, \"scene\": {\"xaxis\": {\"backgroundcolor\": \"#E5ECF6\", \"gridcolor\": \"white\", \"gridwidth\": 2, \"linecolor\": \"white\", \"showbackground\": true, \"ticks\": \"\", \"zerolinecolor\": \"white\"}, \"yaxis\": {\"backgroundcolor\": \"#E5ECF6\", \"gridcolor\": \"white\", \"gridwidth\": 2, \"linecolor\": \"white\", \"showbackground\": true, \"ticks\": \"\", \"zerolinecolor\": \"white\"}, \"zaxis\": {\"backgroundcolor\": \"#E5ECF6\", \"gridcolor\": \"white\", \"gridwidth\": 2, \"linecolor\": \"white\", \"showbackground\": true, \"ticks\": \"\", \"zerolinecolor\": \"white\"}}, \"shapedefaults\": {\"line\": {\"color\": \"#2a3f5f\"}}, \"ternary\": {\"aaxis\": {\"gridcolor\": \"white\", \"linecolor\": \"white\", \"ticks\": \"\"}, \"baxis\": {\"gridcolor\": \"white\", \"linecolor\": \"white\", \"ticks\": \"\"}, \"bgcolor\": \"#E5ECF6\", \"caxis\": {\"gridcolor\": \"white\", \"linecolor\": \"white\", \"ticks\": \"\"}}, \"title\": {\"x\": 0.05}, \"xaxis\": {\"automargin\": true, \"gridcolor\": \"white\", \"linecolor\": \"white\", \"ticks\": \"\", \"title\": {\"standoff\": 15}, \"zerolinecolor\": \"white\", \"zerolinewidth\": 2}, \"yaxis\": {\"automargin\": true, \"gridcolor\": \"white\", \"linecolor\": \"white\", \"ticks\": \"\", \"title\": {\"standoff\": 15}, \"zerolinecolor\": \"white\", \"zerolinewidth\": 2}}}, \"title\": {\"text\": \"Optimization History Plot\"}, \"xaxis\": {\"title\": {\"text\": \"#Trials\"}}, \"yaxis\": {\"title\": {\"text\": \"Objective Value\"}}},                        {\"responsive\": true}                    ).then(function(){\n",
       "                            \n",
       "var gd = document.getElementById('00ef8c61-9aad-4306-9b5f-370d5e23c339');\n",
       "var x = new MutationObserver(function (mutations, observer) {{\n",
       "        var display = window.getComputedStyle(gd).display;\n",
       "        if (!display || display === 'none') {{\n",
       "            console.log([gd, 'removed!']);\n",
       "            Plotly.purge(gd);\n",
       "            observer.disconnect();\n",
       "        }}\n",
       "}});\n",
       "\n",
       "// Listen for the removal of the full notebook cells\n",
       "var notebookContainer = gd.closest('#notebook-container');\n",
       "if (notebookContainer) {{\n",
       "    x.observe(notebookContainer, {childList: true});\n",
       "}}\n",
       "\n",
       "// Listen for the clearing of the current output cell\n",
       "var outputEl = gd.closest('.output');\n",
       "if (outputEl) {{\n",
       "    x.observe(outputEl, {childList: true});\n",
       "}}\n",
       "\n",
       "                        })                };                });            </script>        </div>"
      ]
     },
     "metadata": {},
     "output_type": "display_data"
    }
   ],
   "source": [
    "optuna.visualization.plot_optimization_history(study)"
   ]
  },
  {
   "cell_type": "code",
   "execution_count": 11,
   "id": "electric-medication",
   "metadata": {
    "execution": {
     "iopub.execute_input": "2021-05-06T16:21:12.557726Z",
     "iopub.status.busy": "2021-05-06T16:21:12.557176Z",
     "iopub.status.idle": "2021-05-06T16:21:12.626832Z",
     "shell.execute_reply": "2021-05-06T16:21:12.627283Z"
    },
    "papermill": {
     "duration": 0.132929,
     "end_time": "2021-05-06T16:21:12.627431",
     "exception": false,
     "start_time": "2021-05-06T16:21:12.494502",
     "status": "completed"
    },
    "tags": []
   },
   "outputs": [
    {
     "data": {
      "text/html": [
       "<div>                            <div id=\"91bfc225-34dc-4e32-bd10-e67947ce2f73\" class=\"plotly-graph-div\" style=\"height:525px; width:100%;\"></div>            <script type=\"text/javascript\">                require([\"plotly\"], function(Plotly) {                    window.PLOTLYENV=window.PLOTLYENV || {};                                    if (document.getElementById(\"91bfc225-34dc-4e32-bd10-e67947ce2f73\")) {                    Plotly.newPlot(                        \"91bfc225-34dc-4e32-bd10-e67947ce2f73\",                        [{\"dimensions\": [{\"label\": \"Objective Value\", \"range\": [1.0821429258192652, 1.1636764532346142], \"values\": [1.0839115125738292, 1.0889559508049789, 1.0959667887264462, 1.093223363984216, 1.0952138374008829, 1.096011099614422, 1.0833267076529087, 1.1026601866588568, 1.0954888752194678, 1.0851410944156619, 1.0895953159040261, 1.0833306384322476, 1.090559661459976, 1.0882800432574538, 1.084269700166774, 1.0930177944830781, 1.0836984728162418, 1.087635800295177, 1.088039402544013, 1.0875678049814452, 1.0962811444154423, 1.0832480302245813, 1.0868332151962012, 1.086309302587314, 1.0903777888373545, 1.0850954480680086, 1.0853260408291887, 1.1636764532346142, 1.0924515279998632, 1.0835331353581321, 1.0855911566609868, 1.0836679433655083, 1.0863928854650635, 1.0839040762973349, 1.0935571352435214, 1.0927789943024753, 1.0859775944835874, 1.0864990740031986, 1.0836339254883924, 1.0878780273318338, 1.083505527389619, 1.0832494484170772, 1.082791971331508, 1.0831310971511805, 1.0849698944245105, 1.0990416564837848, 1.0841816377449311, 1.0830685711142853, 1.087099269904563, 1.082774317606831, 1.0825772277915908, 1.0825495508118574, 1.0827452739066392, 1.0836533373202895, 1.087150081215776, 1.0827490534040305, 1.0847971887951628, 1.08280521901904, 1.0845545768357465, 1.0857161612250008, 1.088430166042728, 1.0825661163538147, 1.0833521538742135, 1.0847357869513843, 1.0847844735748062, 1.0822880281684244, 1.082217880685712, 1.082837675098629, 1.0982557785792217, 1.0871372561781005, 1.082690227961659, 1.0825928194472334, 1.0823833042004005, 1.0919685450508123, 1.08276844023415, 1.082366199896193, 1.083436862588766, 1.0848614793087767, 1.0845535800415087, 1.082946108404297, 1.085096329090703, 1.0821429258192652, 1.0826204632990228, 1.0831365044483556, 1.0822365961636722, 1.0827045947179752, 1.082472736652607, 1.082458896651452, 1.08257157344183, 1.0851999903756988, 1.0825579774088638, 1.0825123106335641, 1.0889650426257476, 1.0824554184470616, 1.0841736746575061, 1.093986166553065, 1.0827586684296178, 1.0825003388417573, 1.0845433569391791, 1.082992915769468]}, {\"label\": \"bootstrap_type\", \"range\": [0, 0], \"ticktext\": [\"Poisson\"], \"tickvals\": [0], \"values\": [0, 0, 0, 0, 0, 0, 0, 0, 0, 0, 0, 0, 0, 0, 0, 0, 0, 0, 0, 0, 0, 0, 0, 0, 0, 0, 0, 0, 0, 0, 0, 0, 0, 0, 0, 0, 0, 0, 0, 0, 0, 0, 0, 0, 0, 0, 0, 0, 0, 0, 0, 0, 0, 0, 0, 0, 0, 0, 0, 0, 0, 0, 0, 0, 0, 0, 0, 0, 0, 0, 0, 0, 0, 0, 0, 0, 0, 0, 0, 0, 0, 0, 0, 0, 0, 0, 0, 0, 0, 0, 0, 0, 0, 0, 0, 0, 0, 0, 0, 0]}, {\"label\": \"depth\", \"range\": [3, 10], \"values\": [10, 3, 5, 10, 5, 4, 6, 9, 7, 9, 7, 6, 6, 6, 8, 5, 3, 8, 4, 6, 7, 3, 5, 4, 8, 3, 6, 4, 7, 5, 6, 5, 5, 3, 4, 6, 5, 7, 4, 5, 6, 6, 6, 7, 7, 10, 9, 8, 8, 9, 9, 9, 9, 9, 10, 9, 9, 10, 9, 10, 9, 10, 9, 10, 8, 9, 9, 10, 9, 8, 9, 9, 9, 10, 8, 9, 9, 8, 10, 9, 9, 9, 9, 8, 10, 10, 10, 10, 10, 10, 10, 10, 10, 10, 10, 10, 10, 10, 10, 9]}, {\"label\": \"l2_leaf_reg\", \"range\": [-3.7895391933782125, 1.39758887147923], \"ticktext\": [\"0.000162\", \"0.001\", \"0.01\", \"0.1\", \"1\", \"10\", \"25\"], \"tickvals\": [-3.7895391933782125, -3, -2, -1, 0, 1, 1.39758887147923], \"values\": [-0.1087731327796428, 0.041147245830772276, 1.232739232881909, 1.1480979524182127, 0.773587136351634, -0.016471811954161607, -0.5430396414288913, -1.679170021259474, -3.572171600716833, -3.7895391933782125, -1.837384653680801, -0.9905992700162933, -1.2532888129380644, -0.9430850033578194, -2.8500439478466926, -0.6507998641306361, -2.4744293117451432, -0.5102075927137864, 0.3675285970724445, -2.015241876031234, -1.2487563657059058, -2.5970915738336195, -3.1552376607348975, -2.2121275227199475, -0.7161563961101265, -1.3527102911851208, -2.55659742330473, -0.2952898929245638, -1.5788239220802311, 0.4581727922476939, -0.8677931992305908, 0.7068277816357494, 0.3024303634403016, -0.28098280587992486, 0.36497827364168967, 1.33588146066067, 0.9833431631981885, -1.0570435579149655, 0.05930008944391855, -0.2691016800318916, 0.6841046388149294, 0.7092697592842603, 0.8918376251171208, 1.0441146776630936, 0.9874446939560922, 1.3647565651041575, 1.0720626793809176, 0.5887334871764478, 0.05850572504269383, 0.8062082463722462, 1.171792428657504, 1.1963664303115435, 1.239082093931313, 1.2633890908326104, 0.8111271466726655, 1.3796761755737368, 1.3709075844657461, 1.2173854023397637, 0.8729837179745598, 1.39758887147923, 1.1648560672422512, 1.1866135964347106, 0.9038302688397244, 0.5567005501691413, 1.153849920900557, 1.3737328731350626, 1.3587412480458452, 1.3713285922931295, 0.2171738736138396, 1.1785382957175814, 0.5256887390984302, 1.3780382220630516, 1.0449199110556937, 1.076932312836826, 0.4807297179699266, 0.9911949084564978, 1.0017063156187997, 0.6778108810689816, 1.2540963523091746, 0.897742005556087, 1.1123460231979672, 1.3733035445937998, 1.3341735117608398, 1.382296923925714, 1.0480662908221463, 0.9463806162031878, 0.7606659449046524, 0.6883619438264977, 0.6512672179635085, 0.18429417304075651, 0.7617646003270708, 0.8123000834143314, 0.4001721330595323, 1.0113385408922297, 0.798514366298654, 0.5824619007760905, 1.0108160267988033, 0.287230676882671, 0.2359862873746056, 1.0533742710529796]}, {\"label\": \"learning_rate\", \"range\": [7.91890860091446e-05, 0.9845602023704508], \"values\": [0.060662399774079355, 0.7444438801207901, 0.9150963744292319, 0.7193326577524065, 0.812373280930369, 0.8627784319212755, 0.008120842748379448, 0.9095247854358216, 0.549017450962564, 0.07182666251105925, 0.2553939748473907, 0.010573520809212922, 0.2635885245093722, 0.22061607685352955, 0.04263575736437332, 0.41966829523212384, 0.003957940739021719, 0.17120446655596913, 0.3928900972508598, 0.1412823169997138, 0.5595422041911366, 0.022358087997872835, 0.0010575200701634872, 0.14550237665173624, 0.3429077496710703, 0.13486998384411852, 0.06871921848214713, 7.91890860091446e-05, 0.34049476820041435, 0.08396003005749714, 0.0011321459217253742, 0.08700985642457647, 0.19173043045204283, 0.07451655819542478, 0.0005203857757102824, 0.6614121682410161, 0.27791517673209387, 0.11260193277457924, 0.051930147620177905, 0.21146155670198907, 0.043008499761218066, 0.029072304299464436, 0.016045726352822014, 0.030900878227168752, 0.12982683481947735, 0.9845602023704508, 0.10470749755150548, 0.029933804637335124, 0.17854140333478194, 0.039143742410831774, 0.044546453368849534, 0.03303880525234681, 0.057452571832873015, 0.10767951394375214, 0.23970261794534692, 0.05401196910440215, 0.16100006360152172, 0.06563596968502403, 0.09447880779563776, 0.19614986727456432, 0.49670140381300837, 0.05763980262753632, 0.06067934070380489, 0.12822392382050596, 0.16115807094694218, 0.0022691235371927326, 0.002413648794596643, 0.0912568303521667, 0.7947349709582989, 0.3057638978078797, 0.007399035792478942, 0.056960750777491596, 0.00408629660862142, 0.0003619317532306283, 0.0053980645454885165, 0.003320333839789671, 0.08134874627970007, 0.12072115458951076, 0.0009509298916167627, 0.028157864316130463, 0.14256378549297, 0.0027175782767777414, 0.044088861340560934, 0.07688687225240329, 0.020314558307848545, 0.025847352445103704, 0.020011849275833955, 0.006460750912345933, 0.015866893348030313, 0.10894846726910308, 0.0019605029229015454, 0.010513608155530122, 0.0004923913018207611, 0.025070838907137953, 0.0809827378747223, 0.6667889450225495, 0.024951361210638366, 0.020940412689169477, 0.10143565299519759, 0.0696863569702023]}, {\"label\": \"loss_function\", \"range\": [0, 0], \"ticktext\": [\"MultiClass\"], \"tickvals\": [0], \"values\": [0, 0, 0, 0, 0, 0, 0, 0, 0, 0, 0, 0, 0, 0, 0, 0, 0, 0, 0, 0, 0, 0, 0, 0, 0, 0, 0, 0, 0, 0, 0, 0, 0, 0, 0, 0, 0, 0, 0, 0, 0, 0, 0, 0, 0, 0, 0, 0, 0, 0, 0, 0, 0, 0, 0, 0, 0, 0, 0, 0, 0, 0, 0, 0, 0, 0, 0, 0, 0, 0, 0, 0, 0, 0, 0, 0, 0, 0, 0, 0, 0, 0, 0, 0, 0, 0, 0, 0, 0, 0, 0, 0, 0, 0, 0, 0, 0, 0, 0, 0]}], \"labelangle\": 30, \"labelside\": \"bottom\", \"line\": {\"color\": [1.0839115125738292, 1.0889559508049789, 1.0959667887264462, 1.093223363984216, 1.0952138374008829, 1.096011099614422, 1.0833267076529087, 1.1026601866588568, 1.0954888752194678, 1.0851410944156619, 1.0895953159040261, 1.0833306384322476, 1.090559661459976, 1.0882800432574538, 1.084269700166774, 1.0930177944830781, 1.0836984728162418, 1.087635800295177, 1.088039402544013, 1.0875678049814452, 1.0962811444154423, 1.0832480302245813, 1.0868332151962012, 1.086309302587314, 1.0903777888373545, 1.0850954480680086, 1.0853260408291887, 1.1636764532346142, 1.0924515279998632, 1.0835331353581321, 1.0855911566609868, 1.0836679433655083, 1.0863928854650635, 1.0839040762973349, 1.0935571352435214, 1.0927789943024753, 1.0859775944835874, 1.0864990740031986, 1.0836339254883924, 1.0878780273318338, 1.083505527389619, 1.0832494484170772, 1.082791971331508, 1.0831310971511805, 1.0849698944245105, 1.0990416564837848, 1.0841816377449311, 1.0830685711142853, 1.087099269904563, 1.082774317606831, 1.0825772277915908, 1.0825495508118574, 1.0827452739066392, 1.0836533373202895, 1.087150081215776, 1.0827490534040305, 1.0847971887951628, 1.08280521901904, 1.0845545768357465, 1.0857161612250008, 1.088430166042728, 1.0825661163538147, 1.0833521538742135, 1.0847357869513843, 1.0847844735748062, 1.0822880281684244, 1.082217880685712, 1.082837675098629, 1.0982557785792217, 1.0871372561781005, 1.082690227961659, 1.0825928194472334, 1.0823833042004005, 1.0919685450508123, 1.08276844023415, 1.082366199896193, 1.083436862588766, 1.0848614793087767, 1.0845535800415087, 1.082946108404297, 1.085096329090703, 1.0821429258192652, 1.0826204632990228, 1.0831365044483556, 1.0822365961636722, 1.0827045947179752, 1.082472736652607, 1.082458896651452, 1.08257157344183, 1.0851999903756988, 1.0825579774088638, 1.0825123106335641, 1.0889650426257476, 1.0824554184470616, 1.0841736746575061, 1.093986166553065, 1.0827586684296178, 1.0825003388417573, 1.0845433569391791, 1.082992915769468], \"colorbar\": {\"title\": {\"text\": \"Objective Value\"}}, \"colorscale\": [[0.0, \"rgb(247,251,255)\"], [0.125, \"rgb(222,235,247)\"], [0.25, \"rgb(198,219,239)\"], [0.375, \"rgb(158,202,225)\"], [0.5, \"rgb(107,174,214)\"], [0.625, \"rgb(66,146,198)\"], [0.75, \"rgb(33,113,181)\"], [0.875, \"rgb(8,81,156)\"], [1.0, \"rgb(8,48,107)\"]], \"reversescale\": true, \"showscale\": true}, \"type\": \"parcoords\"}],                        {\"template\": {\"data\": {\"bar\": [{\"error_x\": {\"color\": \"#2a3f5f\"}, \"error_y\": {\"color\": \"#2a3f5f\"}, \"marker\": {\"line\": {\"color\": \"#E5ECF6\", \"width\": 0.5}}, \"type\": \"bar\"}], \"barpolar\": [{\"marker\": {\"line\": {\"color\": \"#E5ECF6\", \"width\": 0.5}}, \"type\": \"barpolar\"}], \"carpet\": [{\"aaxis\": {\"endlinecolor\": \"#2a3f5f\", \"gridcolor\": \"white\", \"linecolor\": \"white\", \"minorgridcolor\": \"white\", \"startlinecolor\": \"#2a3f5f\"}, \"baxis\": {\"endlinecolor\": \"#2a3f5f\", \"gridcolor\": \"white\", \"linecolor\": \"white\", \"minorgridcolor\": \"white\", \"startlinecolor\": \"#2a3f5f\"}, \"type\": \"carpet\"}], \"choropleth\": [{\"colorbar\": {\"outlinewidth\": 0, \"ticks\": \"\"}, \"type\": \"choropleth\"}], \"contour\": [{\"colorbar\": {\"outlinewidth\": 0, \"ticks\": \"\"}, \"colorscale\": [[0.0, \"#0d0887\"], [0.1111111111111111, \"#46039f\"], [0.2222222222222222, \"#7201a8\"], [0.3333333333333333, \"#9c179e\"], [0.4444444444444444, \"#bd3786\"], [0.5555555555555556, \"#d8576b\"], [0.6666666666666666, \"#ed7953\"], [0.7777777777777778, \"#fb9f3a\"], [0.8888888888888888, \"#fdca26\"], [1.0, \"#f0f921\"]], \"type\": \"contour\"}], \"contourcarpet\": [{\"colorbar\": {\"outlinewidth\": 0, \"ticks\": \"\"}, \"type\": \"contourcarpet\"}], \"heatmap\": [{\"colorbar\": {\"outlinewidth\": 0, \"ticks\": \"\"}, \"colorscale\": [[0.0, \"#0d0887\"], [0.1111111111111111, \"#46039f\"], [0.2222222222222222, \"#7201a8\"], [0.3333333333333333, \"#9c179e\"], [0.4444444444444444, \"#bd3786\"], [0.5555555555555556, \"#d8576b\"], [0.6666666666666666, \"#ed7953\"], [0.7777777777777778, \"#fb9f3a\"], [0.8888888888888888, \"#fdca26\"], [1.0, \"#f0f921\"]], \"type\": \"heatmap\"}], \"heatmapgl\": [{\"colorbar\": {\"outlinewidth\": 0, \"ticks\": \"\"}, \"colorscale\": [[0.0, \"#0d0887\"], [0.1111111111111111, \"#46039f\"], [0.2222222222222222, \"#7201a8\"], [0.3333333333333333, \"#9c179e\"], [0.4444444444444444, \"#bd3786\"], [0.5555555555555556, \"#d8576b\"], [0.6666666666666666, \"#ed7953\"], [0.7777777777777778, \"#fb9f3a\"], [0.8888888888888888, \"#fdca26\"], [1.0, \"#f0f921\"]], \"type\": \"heatmapgl\"}], \"histogram\": [{\"marker\": {\"colorbar\": {\"outlinewidth\": 0, \"ticks\": \"\"}}, \"type\": \"histogram\"}], \"histogram2d\": [{\"colorbar\": {\"outlinewidth\": 0, \"ticks\": \"\"}, \"colorscale\": [[0.0, \"#0d0887\"], [0.1111111111111111, \"#46039f\"], [0.2222222222222222, \"#7201a8\"], [0.3333333333333333, \"#9c179e\"], [0.4444444444444444, \"#bd3786\"], [0.5555555555555556, \"#d8576b\"], [0.6666666666666666, \"#ed7953\"], [0.7777777777777778, \"#fb9f3a\"], [0.8888888888888888, \"#fdca26\"], [1.0, \"#f0f921\"]], \"type\": \"histogram2d\"}], \"histogram2dcontour\": [{\"colorbar\": {\"outlinewidth\": 0, \"ticks\": \"\"}, \"colorscale\": [[0.0, \"#0d0887\"], [0.1111111111111111, \"#46039f\"], [0.2222222222222222, \"#7201a8\"], [0.3333333333333333, \"#9c179e\"], [0.4444444444444444, \"#bd3786\"], [0.5555555555555556, \"#d8576b\"], [0.6666666666666666, \"#ed7953\"], [0.7777777777777778, \"#fb9f3a\"], [0.8888888888888888, \"#fdca26\"], [1.0, \"#f0f921\"]], \"type\": \"histogram2dcontour\"}], \"mesh3d\": [{\"colorbar\": {\"outlinewidth\": 0, \"ticks\": \"\"}, \"type\": \"mesh3d\"}], \"parcoords\": [{\"line\": {\"colorbar\": {\"outlinewidth\": 0, \"ticks\": \"\"}}, \"type\": \"parcoords\"}], \"pie\": [{\"automargin\": true, \"type\": \"pie\"}], \"scatter\": [{\"marker\": {\"colorbar\": {\"outlinewidth\": 0, \"ticks\": \"\"}}, \"type\": \"scatter\"}], \"scatter3d\": [{\"line\": {\"colorbar\": {\"outlinewidth\": 0, \"ticks\": \"\"}}, \"marker\": {\"colorbar\": {\"outlinewidth\": 0, \"ticks\": \"\"}}, \"type\": \"scatter3d\"}], \"scattercarpet\": [{\"marker\": {\"colorbar\": {\"outlinewidth\": 0, \"ticks\": \"\"}}, \"type\": \"scattercarpet\"}], \"scattergeo\": [{\"marker\": {\"colorbar\": {\"outlinewidth\": 0, \"ticks\": \"\"}}, \"type\": \"scattergeo\"}], \"scattergl\": [{\"marker\": {\"colorbar\": {\"outlinewidth\": 0, \"ticks\": \"\"}}, \"type\": \"scattergl\"}], \"scattermapbox\": [{\"marker\": {\"colorbar\": {\"outlinewidth\": 0, \"ticks\": \"\"}}, \"type\": \"scattermapbox\"}], \"scatterpolar\": [{\"marker\": {\"colorbar\": {\"outlinewidth\": 0, \"ticks\": \"\"}}, \"type\": \"scatterpolar\"}], \"scatterpolargl\": [{\"marker\": {\"colorbar\": {\"outlinewidth\": 0, \"ticks\": \"\"}}, \"type\": \"scatterpolargl\"}], \"scatterternary\": [{\"marker\": {\"colorbar\": {\"outlinewidth\": 0, \"ticks\": \"\"}}, \"type\": \"scatterternary\"}], \"surface\": [{\"colorbar\": {\"outlinewidth\": 0, \"ticks\": \"\"}, \"colorscale\": [[0.0, \"#0d0887\"], [0.1111111111111111, \"#46039f\"], [0.2222222222222222, \"#7201a8\"], [0.3333333333333333, \"#9c179e\"], [0.4444444444444444, \"#bd3786\"], [0.5555555555555556, \"#d8576b\"], [0.6666666666666666, \"#ed7953\"], [0.7777777777777778, \"#fb9f3a\"], [0.8888888888888888, \"#fdca26\"], [1.0, \"#f0f921\"]], \"type\": \"surface\"}], \"table\": [{\"cells\": {\"fill\": {\"color\": \"#EBF0F8\"}, \"line\": {\"color\": \"white\"}}, \"header\": {\"fill\": {\"color\": \"#C8D4E3\"}, \"line\": {\"color\": \"white\"}}, \"type\": \"table\"}]}, \"layout\": {\"annotationdefaults\": {\"arrowcolor\": \"#2a3f5f\", \"arrowhead\": 0, \"arrowwidth\": 1}, \"autotypenumbers\": \"strict\", \"coloraxis\": {\"colorbar\": {\"outlinewidth\": 0, \"ticks\": \"\"}}, \"colorscale\": {\"diverging\": [[0, \"#8e0152\"], [0.1, \"#c51b7d\"], [0.2, \"#de77ae\"], [0.3, \"#f1b6da\"], [0.4, \"#fde0ef\"], [0.5, \"#f7f7f7\"], [0.6, \"#e6f5d0\"], [0.7, \"#b8e186\"], [0.8, \"#7fbc41\"], [0.9, \"#4d9221\"], [1, \"#276419\"]], \"sequential\": [[0.0, \"#0d0887\"], [0.1111111111111111, \"#46039f\"], [0.2222222222222222, \"#7201a8\"], [0.3333333333333333, \"#9c179e\"], [0.4444444444444444, \"#bd3786\"], [0.5555555555555556, \"#d8576b\"], [0.6666666666666666, \"#ed7953\"], [0.7777777777777778, \"#fb9f3a\"], [0.8888888888888888, \"#fdca26\"], [1.0, \"#f0f921\"]], \"sequentialminus\": [[0.0, \"#0d0887\"], [0.1111111111111111, \"#46039f\"], [0.2222222222222222, \"#7201a8\"], [0.3333333333333333, \"#9c179e\"], [0.4444444444444444, \"#bd3786\"], [0.5555555555555556, \"#d8576b\"], [0.6666666666666666, \"#ed7953\"], [0.7777777777777778, \"#fb9f3a\"], [0.8888888888888888, \"#fdca26\"], [1.0, \"#f0f921\"]]}, \"colorway\": [\"#636efa\", \"#EF553B\", \"#00cc96\", \"#ab63fa\", \"#FFA15A\", \"#19d3f3\", \"#FF6692\", \"#B6E880\", \"#FF97FF\", \"#FECB52\"], \"font\": {\"color\": \"#2a3f5f\"}, \"geo\": {\"bgcolor\": \"white\", \"lakecolor\": \"white\", \"landcolor\": \"#E5ECF6\", \"showlakes\": true, \"showland\": true, \"subunitcolor\": \"white\"}, \"hoverlabel\": {\"align\": \"left\"}, \"hovermode\": \"closest\", \"mapbox\": {\"style\": \"light\"}, \"paper_bgcolor\": \"white\", \"plot_bgcolor\": \"#E5ECF6\", \"polar\": {\"angularaxis\": {\"gridcolor\": \"white\", \"linecolor\": \"white\", \"ticks\": \"\"}, \"bgcolor\": \"#E5ECF6\", \"radialaxis\": {\"gridcolor\": \"white\", \"linecolor\": \"white\", \"ticks\": \"\"}}, \"scene\": {\"xaxis\": {\"backgroundcolor\": \"#E5ECF6\", \"gridcolor\": \"white\", \"gridwidth\": 2, \"linecolor\": \"white\", \"showbackground\": true, \"ticks\": \"\", \"zerolinecolor\": \"white\"}, \"yaxis\": {\"backgroundcolor\": \"#E5ECF6\", \"gridcolor\": \"white\", \"gridwidth\": 2, \"linecolor\": \"white\", \"showbackground\": true, \"ticks\": \"\", \"zerolinecolor\": \"white\"}, \"zaxis\": {\"backgroundcolor\": \"#E5ECF6\", \"gridcolor\": \"white\", \"gridwidth\": 2, \"linecolor\": \"white\", \"showbackground\": true, \"ticks\": \"\", \"zerolinecolor\": \"white\"}}, \"shapedefaults\": {\"line\": {\"color\": \"#2a3f5f\"}}, \"ternary\": {\"aaxis\": {\"gridcolor\": \"white\", \"linecolor\": \"white\", \"ticks\": \"\"}, \"baxis\": {\"gridcolor\": \"white\", \"linecolor\": \"white\", \"ticks\": \"\"}, \"bgcolor\": \"#E5ECF6\", \"caxis\": {\"gridcolor\": \"white\", \"linecolor\": \"white\", \"ticks\": \"\"}}, \"title\": {\"x\": 0.05}, \"xaxis\": {\"automargin\": true, \"gridcolor\": \"white\", \"linecolor\": \"white\", \"ticks\": \"\", \"title\": {\"standoff\": 15}, \"zerolinecolor\": \"white\", \"zerolinewidth\": 2}, \"yaxis\": {\"automargin\": true, \"gridcolor\": \"white\", \"linecolor\": \"white\", \"ticks\": \"\", \"title\": {\"standoff\": 15}, \"zerolinecolor\": \"white\", \"zerolinewidth\": 2}}}, \"title\": {\"text\": \"Parallel Coordinate Plot\"}},                        {\"responsive\": true}                    ).then(function(){\n",
       "                            \n",
       "var gd = document.getElementById('91bfc225-34dc-4e32-bd10-e67947ce2f73');\n",
       "var x = new MutationObserver(function (mutations, observer) {{\n",
       "        var display = window.getComputedStyle(gd).display;\n",
       "        if (!display || display === 'none') {{\n",
       "            console.log([gd, 'removed!']);\n",
       "            Plotly.purge(gd);\n",
       "            observer.disconnect();\n",
       "        }}\n",
       "}});\n",
       "\n",
       "// Listen for the removal of the full notebook cells\n",
       "var notebookContainer = gd.closest('#notebook-container');\n",
       "if (notebookContainer) {{\n",
       "    x.observe(notebookContainer, {childList: true});\n",
       "}}\n",
       "\n",
       "// Listen for the clearing of the current output cell\n",
       "var outputEl = gd.closest('.output');\n",
       "if (outputEl) {{\n",
       "    x.observe(outputEl, {childList: true});\n",
       "}}\n",
       "\n",
       "                        })                };                });            </script>        </div>"
      ]
     },
     "metadata": {},
     "output_type": "display_data"
    }
   ],
   "source": [
    "optuna.visualization.plot_parallel_coordinate(study)"
   ]
  },
  {
   "cell_type": "code",
   "execution_count": null,
   "id": "golden-bouquet",
   "metadata": {
    "papermill": {
     "duration": 0.041989,
     "end_time": "2021-05-06T16:21:12.712840",
     "exception": false,
     "start_time": "2021-05-06T16:21:12.670851",
     "status": "completed"
    },
    "tags": []
   },
   "outputs": [],
   "source": []
  }
 ],
 "metadata": {
  "kernelspec": {
   "display_name": "Python 3",
   "language": "python",
   "name": "python3"
  },
  "language_info": {
   "codemirror_mode": {
    "name": "ipython",
    "version": 3
   },
   "file_extension": ".py",
   "mimetype": "text/x-python",
   "name": "python",
   "nbconvert_exporter": "python",
   "pygments_lexer": "ipython3",
   "version": "3.7.10"
  },
  "papermill": {
   "default_parameters": {},
   "duration": 4099.442012,
   "end_time": "2021-05-06T16:21:15.286587",
   "environment_variables": {},
   "exception": null,
   "input_path": "__notebook__.ipynb",
   "output_path": "__notebook__.ipynb",
   "parameters": {},
   "start_time": "2021-05-06T15:12:55.844575",
   "version": "2.3.3"
  }
 },
 "nbformat": 4,
 "nbformat_minor": 5
}
