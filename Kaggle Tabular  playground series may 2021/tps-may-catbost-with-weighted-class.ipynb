{
 "cells": [
  {
   "cell_type": "code",
   "execution_count": 1,
   "id": "separated-catholic",
   "metadata": {
    "execution": {
     "iopub.execute_input": "2021-05-02T05:45:47.175609Z",
     "iopub.status.busy": "2021-05-02T05:45:47.173832Z",
     "iopub.status.idle": "2021-05-02T05:45:50.601883Z",
     "shell.execute_reply": "2021-05-02T05:45:50.602756Z"
    },
    "papermill": {
     "duration": 3.444524,
     "end_time": "2021-05-02T05:45:50.603139",
     "exception": false,
     "start_time": "2021-05-02T05:45:47.158615",
     "status": "completed"
    },
    "tags": []
   },
   "outputs": [
    {
     "data": {
      "text/html": [
       "<style type='text/css'>\n",
       ".datatable table.frame { margin-bottom: 0; }\n",
       ".datatable table.frame thead { border-bottom: none; }\n",
       ".datatable table.frame tr.coltypes td {  color: #FFFFFF;  line-height: 6px;  padding: 0 0.5em;}\n",
       ".datatable .bool    { background: #DDDD99; }\n",
       ".datatable .object  { background: #565656; }\n",
       ".datatable .int     { background: #5D9E5D; }\n",
       ".datatable .float   { background: #4040CC; }\n",
       ".datatable .str     { background: #CC4040; }\n",
       ".datatable .row_index {  background: var(--jp-border-color3);  border-right: 1px solid var(--jp-border-color0);  color: var(--jp-ui-font-color3);  font-size: 9px;}\n",
       ".datatable .frame tr.coltypes .row_index {  background: var(--jp-border-color0);}\n",
       ".datatable th:nth-child(2) { padding-left: 12px; }\n",
       ".datatable .hellipsis {  color: var(--jp-cell-editor-border-color);}\n",
       ".datatable .vellipsis {  background: var(--jp-layout-color0);  color: var(--jp-cell-editor-border-color);}\n",
       ".datatable .na {  color: var(--jp-cell-editor-border-color);  font-size: 80%;}\n",
       ".datatable .footer { font-size: 9px; }\n",
       ".datatable .frame_dimensions {  background: var(--jp-border-color3);  border-top: 1px solid var(--jp-border-color0);  color: var(--jp-ui-font-color3);  display: inline-block;  opacity: 0.6;  padding: 1px 10px 1px 5px;}\n",
       "</style>\n"
      ],
      "text/plain": [
       "<IPython.core.display.HTML object>"
      ]
     },
     "metadata": {},
     "output_type": "display_data"
    }
   ],
   "source": [
    "import pandas as pd\n",
    "import numpy as np\n",
    "from sklearn.preprocessing import LabelEncoder, StandardScaler\n",
    "from sklearn.model_selection import train_test_split, KFold, StratifiedKFold\n",
    "from sklearn.metrics import accuracy_score, roc_auc_score\n",
    "from sklearn.tree import DecisionTreeClassifier\n",
    "import optuna\n",
    "from sklearn.model_selection import cross_val_score\n",
    "from sklearn.model_selection import StratifiedKFold\n",
    "from sklearn.linear_model import LogisticRegression\n",
    "from lightgbm import LGBMClassifier\n",
    "from catboost import CatBoostClassifier, Pool\n",
    "from sklearn.metrics import log_loss"
   ]
  },
  {
   "cell_type": "code",
   "execution_count": 2,
   "id": "enormous-privilege",
   "metadata": {
    "execution": {
     "iopub.execute_input": "2021-05-02T05:45:50.637299Z",
     "iopub.status.busy": "2021-05-02T05:45:50.636035Z",
     "iopub.status.idle": "2021-05-02T05:45:51.611256Z",
     "shell.execute_reply": "2021-05-02T05:45:51.610597Z"
    },
    "papermill": {
     "duration": 0.994878,
     "end_time": "2021-05-02T05:45:51.611481",
     "exception": false,
     "start_time": "2021-05-02T05:45:50.616603",
     "status": "completed"
    },
    "tags": []
   },
   "outputs": [],
   "source": [
    "#import in the data \n",
    "train_df = pd.read_csv('../input/tabular-playground-series-may-2021/train.csv')\n",
    "test_df = pd.read_csv('../input/tabular-playground-series-may-2021/test.csv')\n",
    "test= test_df.drop(\"id\",axis=1)"
   ]
  },
  {
   "cell_type": "code",
   "execution_count": 3,
   "id": "reported-swing",
   "metadata": {
    "execution": {
     "iopub.execute_input": "2021-05-02T05:45:51.654816Z",
     "iopub.status.busy": "2021-05-02T05:45:51.633512Z",
     "iopub.status.idle": "2021-05-02T05:45:51.720825Z",
     "shell.execute_reply": "2021-05-02T05:45:51.720044Z"
    },
    "papermill": {
     "duration": 0.099451,
     "end_time": "2021-05-02T05:45:51.720997",
     "exception": false,
     "start_time": "2021-05-02T05:45:51.621546",
     "status": "completed"
    },
    "tags": []
   },
   "outputs": [],
   "source": [
    "#prepare the data for modeling \n",
    "label_dict = {\"Class_1\":0,\"Class_2\":1,\"Class_3\":2,\"Class_4\":3}\n",
    "\n",
    "X = train_df.drop(['id', 'target'], axis=1)\n",
    "y = train_df['target'].apply(lambda x : label_dict[x])"
   ]
  },
  {
   "cell_type": "code",
   "execution_count": 4,
   "id": "hollow-lighting",
   "metadata": {
    "execution": {
     "iopub.execute_input": "2021-05-02T05:45:51.750718Z",
     "iopub.status.busy": "2021-05-02T05:45:51.750023Z",
     "iopub.status.idle": "2021-05-02T05:47:36.048354Z",
     "shell.execute_reply": "2021-05-02T05:47:36.047772Z"
    },
    "papermill": {
     "duration": 104.31852,
     "end_time": "2021-05-02T05:47:36.048526",
     "exception": false,
     "start_time": "2021-05-02T05:45:51.730006",
     "status": "completed"
    },
    "tags": []
   },
   "outputs": [
    {
     "name": "stdout",
     "output_type": "stream",
     "text": [
      "1.0951175348921185\n",
      "1.0948789826908198\n",
      "1.0896197731417563\n",
      "1.0940115213330792\n",
      "1.092319008077403\n"
     ]
    }
   ],
   "source": [
    "losses = []\n",
    "sk_fold = StratifiedKFold(5)\n",
    "clf = CatBoostClassifier(verbose=False)\n",
    "for train_idx,val_idx in sk_fold.split(X,y):\n",
    "        x_train,x_valid = X.iloc[train_idx],X.iloc[val_idx]\n",
    "        y_train,y_valid = y.iloc[train_idx],y.iloc[val_idx]\n",
    "        clf.fit(x_train,y_train,eval_set=[(x_valid, y_valid)],early_stopping_rounds=100)\n",
    "        preds = clf.predict_proba(x_valid)\n",
    "        loss = log_loss(y_valid,preds)\n",
    "        losses.append(loss)\n",
    "        print(loss)\n",
    " "
   ]
  },
  {
   "cell_type": "code",
   "execution_count": 5,
   "id": "dirty-temple",
   "metadata": {
    "execution": {
     "iopub.execute_input": "2021-05-02T05:47:36.075967Z",
     "iopub.status.busy": "2021-05-02T05:47:36.075192Z",
     "iopub.status.idle": "2021-05-02T05:47:36.078986Z",
     "shell.execute_reply": "2021-05-02T05:47:36.079467Z"
    },
    "papermill": {
     "duration": 0.020409,
     "end_time": "2021-05-02T05:47:36.079670",
     "exception": false,
     "start_time": "2021-05-02T05:47:36.059261",
     "status": "completed"
    },
    "tags": []
   },
   "outputs": [
    {
     "name": "stdout",
     "output_type": "stream",
     "text": [
      "1.0931893640270354\n"
     ]
    }
   ],
   "source": [
    "print(np.average(losses))"
   ]
  },
  {
   "cell_type": "code",
   "execution_count": 6,
   "id": "weighted-marble",
   "metadata": {
    "execution": {
     "iopub.execute_input": "2021-05-02T05:47:36.106347Z",
     "iopub.status.busy": "2021-05-02T05:47:36.105393Z",
     "iopub.status.idle": "2021-05-02T05:48:32.961988Z",
     "shell.execute_reply": "2021-05-02T05:48:32.962508Z"
    },
    "papermill": {
     "duration": 56.87179,
     "end_time": "2021-05-02T05:48:32.962749",
     "exception": false,
     "start_time": "2021-05-02T05:47:36.090959",
     "status": "completed"
    },
    "tags": []
   },
   "outputs": [],
   "source": [
    "clf.fit(X,y,early_stopping_rounds=100)\n",
    "preds = clf.predict_proba(test)"
   ]
  },
  {
   "cell_type": "code",
   "execution_count": 7,
   "id": "grateful-edinburgh",
   "metadata": {
    "execution": {
     "iopub.execute_input": "2021-05-02T05:48:32.992988Z",
     "iopub.status.busy": "2021-05-02T05:48:32.992227Z",
     "iopub.status.idle": "2021-05-02T05:48:32.995665Z",
     "shell.execute_reply": "2021-05-02T05:48:32.995133Z"
    },
    "papermill": {
     "duration": 0.021212,
     "end_time": "2021-05-02T05:48:32.995814",
     "exception": false,
     "start_time": "2021-05-02T05:48:32.974602",
     "status": "completed"
    },
    "tags": []
   },
   "outputs": [],
   "source": [
    "submission_df = pd.DataFrame(preds,columns=['Class_1', 'Class_2', 'Class_3','Class_4'])\n",
    "submission_df.insert(0, 'id', test_df['id'])"
   ]
  },
  {
   "cell_type": "code",
   "execution_count": 8,
   "id": "wrapped-chorus",
   "metadata": {
    "execution": {
     "iopub.execute_input": "2021-05-02T05:48:33.024714Z",
     "iopub.status.busy": "2021-05-02T05:48:33.024078Z",
     "iopub.status.idle": "2021-05-02T05:48:33.040912Z",
     "shell.execute_reply": "2021-05-02T05:48:33.041408Z"
    },
    "papermill": {
     "duration": 0.034331,
     "end_time": "2021-05-02T05:48:33.041583",
     "exception": false,
     "start_time": "2021-05-02T05:48:33.007252",
     "status": "completed"
    },
    "tags": []
   },
   "outputs": [
    {
     "data": {
      "text/html": [
       "<div>\n",
       "<style scoped>\n",
       "    .dataframe tbody tr th:only-of-type {\n",
       "        vertical-align: middle;\n",
       "    }\n",
       "\n",
       "    .dataframe tbody tr th {\n",
       "        vertical-align: top;\n",
       "    }\n",
       "\n",
       "    .dataframe thead th {\n",
       "        text-align: right;\n",
       "    }\n",
       "</style>\n",
       "<table border=\"1\" class=\"dataframe\">\n",
       "  <thead>\n",
       "    <tr style=\"text-align: right;\">\n",
       "      <th></th>\n",
       "      <th>id</th>\n",
       "      <th>Class_1</th>\n",
       "      <th>Class_2</th>\n",
       "      <th>Class_3</th>\n",
       "      <th>Class_4</th>\n",
       "    </tr>\n",
       "  </thead>\n",
       "  <tbody>\n",
       "    <tr>\n",
       "      <th>0</th>\n",
       "      <td>100000</td>\n",
       "      <td>0.077165</td>\n",
       "      <td>0.596047</td>\n",
       "      <td>0.205985</td>\n",
       "      <td>0.120802</td>\n",
       "    </tr>\n",
       "    <tr>\n",
       "      <th>1</th>\n",
       "      <td>100001</td>\n",
       "      <td>0.072078</td>\n",
       "      <td>0.687866</td>\n",
       "      <td>0.145110</td>\n",
       "      <td>0.094946</td>\n",
       "    </tr>\n",
       "    <tr>\n",
       "      <th>2</th>\n",
       "      <td>100002</td>\n",
       "      <td>0.078835</td>\n",
       "      <td>0.637798</td>\n",
       "      <td>0.170178</td>\n",
       "      <td>0.113190</td>\n",
       "    </tr>\n",
       "    <tr>\n",
       "      <th>3</th>\n",
       "      <td>100003</td>\n",
       "      <td>0.084198</td>\n",
       "      <td>0.483451</td>\n",
       "      <td>0.292797</td>\n",
       "      <td>0.139554</td>\n",
       "    </tr>\n",
       "    <tr>\n",
       "      <th>4</th>\n",
       "      <td>100004</td>\n",
       "      <td>0.070225</td>\n",
       "      <td>0.616591</td>\n",
       "      <td>0.199242</td>\n",
       "      <td>0.113941</td>\n",
       "    </tr>\n",
       "  </tbody>\n",
       "</table>\n",
       "</div>"
      ],
      "text/plain": [
       "       id   Class_1   Class_2   Class_3   Class_4\n",
       "0  100000  0.077165  0.596047  0.205985  0.120802\n",
       "1  100001  0.072078  0.687866  0.145110  0.094946\n",
       "2  100002  0.078835  0.637798  0.170178  0.113190\n",
       "3  100003  0.084198  0.483451  0.292797  0.139554\n",
       "4  100004  0.070225  0.616591  0.199242  0.113941"
      ]
     },
     "execution_count": 8,
     "metadata": {},
     "output_type": "execute_result"
    }
   ],
   "source": [
    "submission_df.head()"
   ]
  },
  {
   "cell_type": "code",
   "execution_count": 9,
   "id": "prerequisite-stations",
   "metadata": {
    "execution": {
     "iopub.execute_input": "2021-05-02T05:48:33.070745Z",
     "iopub.status.busy": "2021-05-02T05:48:33.069954Z",
     "iopub.status.idle": "2021-05-02T05:48:33.575943Z",
     "shell.execute_reply": "2021-05-02T05:48:33.575262Z"
    },
    "papermill": {
     "duration": 0.522432,
     "end_time": "2021-05-02T05:48:33.576100",
     "exception": false,
     "start_time": "2021-05-02T05:48:33.053668",
     "status": "completed"
    },
    "tags": []
   },
   "outputs": [],
   "source": [
    "submission_df.to_csv('submission.csv', index=False)"
   ]
  },
  {
   "cell_type": "code",
   "execution_count": null,
   "id": "medium-publication",
   "metadata": {
    "papermill": {
     "duration": 0.012007,
     "end_time": "2021-05-02T05:48:33.600380",
     "exception": false,
     "start_time": "2021-05-02T05:48:33.588373",
     "status": "completed"
    },
    "tags": []
   },
   "outputs": [],
   "source": []
  }
 ],
 "metadata": {
  "kernelspec": {
   "display_name": "Python 3",
   "language": "python",
   "name": "python3"
  },
  "language_info": {
   "codemirror_mode": {
    "name": "ipython",
    "version": 3
   },
   "file_extension": ".py",
   "mimetype": "text/x-python",
   "name": "python",
   "nbconvert_exporter": "python",
   "pygments_lexer": "ipython3",
   "version": "3.7.10"
  },
  "papermill": {
   "default_parameters": {},
   "duration": 177.044154,
   "end_time": "2021-05-02T05:48:35.398684",
   "environment_variables": {},
   "exception": null,
   "input_path": "__notebook__.ipynb",
   "output_path": "__notebook__.ipynb",
   "parameters": {},
   "start_time": "2021-05-02T05:45:38.354530",
   "version": "2.3.3"
  }
 },
 "nbformat": 4,
 "nbformat_minor": 5
}
