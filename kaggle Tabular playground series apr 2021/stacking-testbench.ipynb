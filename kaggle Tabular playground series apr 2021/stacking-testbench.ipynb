{
 "cells": [
  {
   "cell_type": "code",
   "execution_count": 1,
   "id": "bibliographic-agency",
   "metadata": {
    "_cell_guid": "a7b03e67-5e3e-4e24-beaa-5391540419e5",
    "_uuid": "f477a155-0c99-4202-93ca-994af9cf943d",
    "execution": {
     "iopub.execute_input": "2021-04-10T07:29:30.310993Z",
     "iopub.status.busy": "2021-04-10T07:29:30.309432Z",
     "iopub.status.idle": "2021-04-10T07:29:33.064478Z",
     "shell.execute_reply": "2021-04-10T07:29:33.065280Z"
    },
    "papermill": {
     "duration": 2.779252,
     "end_time": "2021-04-10T07:29:33.065626",
     "exception": false,
     "start_time": "2021-04-10T07:29:30.286374",
     "status": "completed"
    },
    "tags": []
   },
   "outputs": [
    {
     "data": {
      "text/html": [
       "<style type='text/css'>\n",
       ".datatable table.frame { margin-bottom: 0; }\n",
       ".datatable table.frame thead { border-bottom: none; }\n",
       ".datatable table.frame tr.coltypes td {  color: #FFFFFF;  line-height: 6px;  padding: 0 0.5em;}\n",
       ".datatable .bool    { background: #DDDD99; }\n",
       ".datatable .object  { background: #565656; }\n",
       ".datatable .int     { background: #5D9E5D; }\n",
       ".datatable .float   { background: #4040CC; }\n",
       ".datatable .str     { background: #CC4040; }\n",
       ".datatable .row_index {  background: var(--jp-border-color3);  border-right: 1px solid var(--jp-border-color0);  color: var(--jp-ui-font-color3);  font-size: 9px;}\n",
       ".datatable .frame tr.coltypes .row_index {  background: var(--jp-border-color0);}\n",
       ".datatable th:nth-child(2) { padding-left: 12px; }\n",
       ".datatable .hellipsis {  color: var(--jp-cell-editor-border-color);}\n",
       ".datatable .vellipsis {  background: var(--jp-layout-color0);  color: var(--jp-cell-editor-border-color);}\n",
       ".datatable .na {  color: var(--jp-cell-editor-border-color);  font-size: 80%;}\n",
       ".datatable .footer { font-size: 9px; }\n",
       ".datatable .frame_dimensions {  background: var(--jp-border-color3);  border-top: 1px solid var(--jp-border-color0);  color: var(--jp-ui-font-color3);  display: inline-block;  opacity: 0.6;  padding: 1px 10px 1px 5px;}\n",
       "</style>\n"
      ],
      "text/plain": [
       "<IPython.core.display.HTML object>"
      ]
     },
     "metadata": {},
     "output_type": "display_data"
    }
   ],
   "source": [
    "import pandas as pd\n",
    "import numpy as np\n",
    "from sklearn.preprocessing import LabelEncoder, StandardScaler\n",
    "from sklearn.model_selection import train_test_split, KFold, StratifiedKFold\n",
    "from sklearn.metrics import accuracy_score, roc_auc_score\n",
    "from sklearn.tree import DecisionTreeClassifier\n",
    "import optuna\n",
    "from sklearn.model_selection import cross_val_score\n",
    "from sklearn.model_selection import StratifiedKFold\n",
    "from sklearn.ensemble import StackingClassifier\n",
    "from sklearn.linear_model import LogisticRegression\n",
    "from sklearn.model_selection import train_test_split\n",
    "from sklearn.metrics import classification_report \n",
    "from lightgbm import LGBMClassifier\n",
    "from catboost import CatBoostClassifier"
   ]
  },
  {
   "cell_type": "code",
   "execution_count": 2,
   "id": "bottom-ethnic",
   "metadata": {
    "execution": {
     "iopub.execute_input": "2021-04-10T07:29:33.107933Z",
     "iopub.status.busy": "2021-04-10T07:29:33.107080Z",
     "iopub.status.idle": "2021-04-10T07:29:33.666103Z",
     "shell.execute_reply": "2021-04-10T07:29:33.665050Z"
    },
    "papermill": {
     "duration": 0.581943,
     "end_time": "2021-04-10T07:29:33.666297",
     "exception": false,
     "start_time": "2021-04-10T07:29:33.084354",
     "status": "completed"
    },
    "tags": []
   },
   "outputs": [],
   "source": [
    "train_df = pd.read_csv('../input/tabular-playground-series-apr-2021/train.csv')\n",
    "test_df = pd.read_csv('../input/tabular-playground-series-apr-2021/test.csv')"
   ]
  },
  {
   "cell_type": "code",
   "execution_count": 3,
   "id": "international-event",
   "metadata": {
    "execution": {
     "iopub.execute_input": "2021-04-10T07:29:33.718084Z",
     "iopub.status.busy": "2021-04-10T07:29:33.712116Z",
     "iopub.status.idle": "2021-04-10T07:29:33.728479Z",
     "shell.execute_reply": "2021-04-10T07:29:33.728986Z"
    },
    "papermill": {
     "duration": 0.044621,
     "end_time": "2021-04-10T07:29:33.729177",
     "exception": false,
     "start_time": "2021-04-10T07:29:33.684556",
     "status": "completed"
    },
    "tags": []
   },
   "outputs": [],
   "source": [
    "def label_encoder(c):\n",
    "    lc = LabelEncoder()\n",
    "def age_range(age):\n",
    "    if age >= 0 and age <= 5:\n",
    "        return \"baby\"\n",
    "    elif age >= 6 and age <= 16:\n",
    "        return \"children\"\n",
    "    elif age >= 17 and age <= 29:\n",
    "        return \"young_adult\"\n",
    "    elif age >= 30 and age <=49:\n",
    "        return \"middle_aged\"\n",
    "    else:\n",
    "        return \"senior\"\n",
    "    return lc.fit_transform(c)\n",
    "def preprocess(df):\n",
    "    age_map = df[['Age', 'Pclass']].dropna().groupby('Pclass').mean().to_dict()\n",
    "    df.Age = df.Age.fillna(df.Pclass.map(age_map['Age']))\n",
    "    df.Cabin = df.Cabin.fillna('X').map(lambda x: x[0].strip())\n",
    "    df.Ticket = df.Ticket.fillna('X').map(lambda x:str(x).split()[0] if len(str(x).split()) > 1 else 'X')\n",
    "    df.Fare = df.Fare.fillna(df.Fare.mean())\n",
    "    df.Fare = df.Fare.map(lambda i: np.log(i) if i > 0 else 0)\n",
    "    df.Embarked = df.Embarked.fillna('X')\n",
    "    df.Name = df.Name.map(lambda x: x.split(',')[0])\n",
    "    df[\"age_range\"] = df[\"Age\"].apply(age_range)\n",
    "    df[\"Family\"] = df[\"SibSp\"] + df[\"Parch\"] +1   \n",
    "    df[\"Alone\"] =  df[\"Family\"].map(lambda x : \"Yes\" if x == 1 else \"No\")\n",
    "    label_cols = ['Name', 'Ticket',\"age_range\",\"Alone\"]\n",
    "    onehot_cols = ['Pclass', 'Sex', 'Cabin', 'Embarked']\n",
    "    numerical_cols = ['SibSp', 'Parch', 'Fare','Survived',\"Family\"]  \n",
    "    onehot_encoded_df = pd.get_dummies(df[onehot_cols])\n",
    "    label_encoded_df = df[label_cols].apply(label_encoder)\n",
    "    numerical_df = df[numerical_cols]\n",
    "    return pd.concat([numerical_df,onehot_encoded_df], axis=1)\n",
    "\n",
    "def test_preprocess(df):\n",
    "    age_map = df[['Age', 'Pclass']].dropna().groupby('Pclass').mean().to_dict()\n",
    "    df.Age = df.Age.fillna(df.Pclass.map(age_map['Age']))\n",
    "    df.Cabin = df.Cabin.fillna('X').map(lambda x: x[0].strip())\n",
    "    df.Ticket = df.Ticket.fillna('X').map(lambda x:str(x).split()[0] if len(str(x).split()) > 1 else 'X')\n",
    "    df.Fare = df.Fare.fillna(df.Fare.mean())\n",
    "    df.Fare = df.Fare.map(lambda i: np.log(i) if i > 0 else 0)\n",
    "    df.Embarked = df.Embarked.fillna('X')\n",
    "    df.Name = df.Name.map(lambda x: x.split(',')[0])\n",
    "    df[\"age_range\"] = df[\"Age\"].apply(age_range)\n",
    "    df[\"Family\"] = df[\"SibSp\"] + df[\"Parch\"] +1   \n",
    "    df[\"Alone\"] =  df[\"Family\"].map(lambda x : \"Yes\" if x == 1 else \"No\")\n",
    "    label_cols = ['Name', 'Ticket',\"age_range\",\"Alone\"]\n",
    "    onehot_cols = ['Pclass', 'Sex', 'Cabin', 'Embarked']\n",
    "    numerical_cols = ['SibSp', 'Parch', 'Fare',\"Family\"]  \n",
    "    onehot_encoded_df = pd.get_dummies(df[onehot_cols])\n",
    "    label_encoded_df = df[label_cols].apply(label_encoder)\n",
    "    numerical_df = df[numerical_cols]\n",
    "    return pd.concat([numerical_df,onehot_encoded_df], axis=1)\n",
    "\n",
    "\n",
    "\n",
    "# def label_encoder(c):\n",
    "#     lc = LabelEncoder()\n",
    "#     return lc.fit_transform(c)\n",
    "# def preprocess(df):\n",
    "#     label_cols = ['Name', 'Ticket']\n",
    "#     onehot_cols = ['Pclass', 'Sex', 'Cabin', 'Embarked']\n",
    "#     numerical_cols = ['Age', 'SibSp', 'Parch', 'Fare', 'Survived']\n",
    "#     age_map = df[['Age', 'Pclass']].dropna().groupby('Pclass').mean().to_dict()\n",
    "#     df.Age = df.Age.fillna(df.Pclass.map(age_map['Age']))\n",
    "#     df.Cabin = df.Cabin.fillna('X').map(lambda x: x[0].strip())\n",
    "#     df.Ticket = df.Ticket.fillna('X').map(lambda x:str(x).split()[0] if len(str(x).split()) > 1 else 'X')\n",
    "#     df.Fare = df.Fare.fillna(df.Fare.mean())\n",
    "#     df.Embarked = df.Embarked.fillna('X')\n",
    "#     df.Name = df.Name.map(lambda x: x.split(',')[0])\n",
    "#     onehot_encoded_df = pd.get_dummies(df[onehot_cols])\n",
    "#     label_encoded_df = df[label_cols].apply(label_encoder)\n",
    "#     numerical_df = df[numerical_cols]\n",
    "#     return pd.concat([numerical_df, label_encoded_df, onehot_encoded_df], axis=1)\n",
    "\n",
    "# def test_preprocess(df):\n",
    "#     label_cols = ['Name', 'Ticket']\n",
    "#     onehot_cols = ['Pclass', 'Sex', 'Cabin', 'Embarked']\n",
    "#     numerical_cols = ['Age', 'SibSp', 'Parch', 'Fare']\n",
    "#     age_map = df[['Age', 'Pclass']].dropna().groupby('Pclass').mean().to_dict()\n",
    "#     df.Age = df.Age.fillna(df.Pclass.map(age_map['Age']))\n",
    "#     df.Cabin = df.Cabin.fillna('X').map(lambda x: x[0].strip())\n",
    "#     df.Ticket = df.Ticket.fillna('X').map(lambda x:str(x).split()[0] if len(str(x).split()) > 1 else 'X')\n",
    "#     df.Fare = df.Fare.fillna(df.Fare.mean())\n",
    "#     df.Embarked = df.Embarked.fillna('X')\n",
    "#     df.Name = df.Name.map(lambda x: x.split(',')[0])\n",
    "#     onehot_encoded_df = pd.get_dummies(df[onehot_cols])\n",
    "#     label_encoded_df = df[label_cols].apply(label_encoder)\n",
    "#     numerical_df = df[numerical_cols]\n",
    "#     return pd.concat([numerical_df, label_encoded_df, onehot_encoded_df], axis=1)\n"
   ]
  },
  {
   "cell_type": "code",
   "execution_count": 4,
   "id": "third-drive",
   "metadata": {
    "execution": {
     "iopub.execute_input": "2021-04-10T07:29:33.759483Z",
     "iopub.status.busy": "2021-04-10T07:29:33.758837Z",
     "iopub.status.idle": "2021-04-10T07:29:33.797133Z",
     "shell.execute_reply": "2021-04-10T07:29:33.796290Z"
    },
    "papermill": {
     "duration": 0.055695,
     "end_time": "2021-04-10T07:29:33.797314",
     "exception": false,
     "start_time": "2021-04-10T07:29:33.741619",
     "status": "completed"
    },
    "tags": []
   },
   "outputs": [],
   "source": [
    "persudo = pd.read_csv(\"../input/apr-play-ground-persudo/persudosubmit.csv\")"
   ]
  },
  {
   "cell_type": "code",
   "execution_count": 5,
   "id": "constant-ownership",
   "metadata": {
    "execution": {
     "iopub.execute_input": "2021-04-10T07:29:33.855525Z",
     "iopub.status.busy": "2021-04-10T07:29:33.846937Z",
     "iopub.status.idle": "2021-04-10T07:29:34.943104Z",
     "shell.execute_reply": "2021-04-10T07:29:34.942499Z"
    },
    "papermill": {
     "duration": 1.127435,
     "end_time": "2021-04-10T07:29:34.943249",
     "exception": false,
     "start_time": "2021-04-10T07:29:33.815814",
     "status": "completed"
    },
    "tags": []
   },
   "outputs": [],
   "source": [
    "train = preprocess(df = train_df)\n",
    "test = test_preprocess(df=test_df)\n",
    "persudo_test = test.copy()\n",
    "persudo_test['Survived'] = persudo[\"Survived\"]\n",
    "full_df = train.append(persudo_test)\n",
    "y = full_df.pop(\"Survived\")\n",
    "x = full_df.values\n"
   ]
  },
  {
   "cell_type": "code",
   "execution_count": 6,
   "id": "italian-driving",
   "metadata": {
    "execution": {
     "iopub.execute_input": "2021-04-10T07:29:34.974118Z",
     "iopub.status.busy": "2021-04-10T07:29:34.973454Z",
     "iopub.status.idle": "2021-04-10T07:29:34.978142Z",
     "shell.execute_reply": "2021-04-10T07:29:34.978767Z"
    },
    "papermill": {
     "duration": 0.023227,
     "end_time": "2021-04-10T07:29:34.978947",
     "exception": false,
     "start_time": "2021-04-10T07:29:34.955720",
     "status": "completed"
    },
    "tags": []
   },
   "outputs": [
    {
     "data": {
      "text/plain": [
       "(200000, 20)"
      ]
     },
     "execution_count": 6,
     "metadata": {},
     "output_type": "execute_result"
    }
   ],
   "source": [
    "x.shape"
   ]
  },
  {
   "cell_type": "code",
   "execution_count": 7,
   "id": "focal-consultation",
   "metadata": {
    "execution": {
     "iopub.execute_input": "2021-04-10T07:29:35.015093Z",
     "iopub.status.busy": "2021-04-10T07:29:35.010138Z",
     "iopub.status.idle": "2021-04-10T07:29:35.079579Z",
     "shell.execute_reply": "2021-04-10T07:29:35.078929Z"
    },
    "papermill": {
     "duration": 0.08778,
     "end_time": "2021-04-10T07:29:35.079751",
     "exception": false,
     "start_time": "2021-04-10T07:29:34.991971",
     "status": "completed"
    },
    "tags": []
   },
   "outputs": [],
   "source": [
    "x_train,x_val,y_train,y_val = train_test_split(x,y,test_size = 0.20)"
   ]
  },
  {
   "cell_type": "code",
   "execution_count": 8,
   "id": "defensive-module",
   "metadata": {
    "execution": {
     "iopub.execute_input": "2021-04-10T07:29:35.113720Z",
     "iopub.status.busy": "2021-04-10T07:29:35.113018Z",
     "iopub.status.idle": "2021-04-10T07:29:35.117730Z",
     "shell.execute_reply": "2021-04-10T07:29:35.117154Z"
    },
    "papermill": {
     "duration": 0.025364,
     "end_time": "2021-04-10T07:29:35.117889",
     "exception": false,
     "start_time": "2021-04-10T07:29:35.092525",
     "status": "completed"
    },
    "tags": []
   },
   "outputs": [],
   "source": [
    "deci_tree_params ={'criterion': 'entropy',\n",
    "  'splitter': 'best',\n",
    "  'max_depth': 1559,\n",
    "  'min_samples_split': 742,\n",
    "  'min_samples_leaf': 111,\n",
    "  'max_leaf_nodes': 1512}\n",
    "\n",
    "# catb_param = {\"task_type\":\"GPU\",\n",
    "#           'loss_function':'Logloss',\n",
    "#           'eval_metric':'AUC', \n",
    "#           'early_stopping_rounds': 500,\n",
    "#           'n_estimators': 10000}\n",
    "# log_reg_param = {'solver': 'newton-cg',\n",
    "#   'class_weight': None,\n",
    "#   'max_iter': 52,\n",
    "#   'C': 658.2746957027554}\n",
    "\n",
    "LGBM_param ={'learning_rate': 0.08200889474481012,\n",
    "  'min_data_in_leaf': 100,\n",
    "  'lambda_l1': 0.1333381789860702,\n",
    "  'lambda_l2': 2.3426839157687394e-07,\n",
    "  'num_leaves': 62,\n",
    "  'max_depth': 9,\n",
    "  'feature_fraction': 0.9571499822515682,\n",
    "  'bagging_fraction': 0.9512400407806436,\n",
    "  'bagging_freq': 5,\n",
    "  'max_bin': 200}\n",
    "\n",
    "estimators = [\n",
    "     ('deci', DecisionTreeClassifier(**deci_tree_params)),\n",
    "     ('lgbm', LGBMClassifier(**LGBM_param))]\n",
    "model = StackingClassifier(estimators)"
   ]
  },
  {
   "cell_type": "code",
   "execution_count": 9,
   "id": "entitled-cowboy",
   "metadata": {
    "execution": {
     "iopub.execute_input": "2021-04-10T07:29:35.150264Z",
     "iopub.status.busy": "2021-04-10T07:29:35.149597Z",
     "iopub.status.idle": "2021-04-10T07:29:55.474149Z",
     "shell.execute_reply": "2021-04-10T07:29:55.473089Z"
    },
    "papermill": {
     "duration": 20.343021,
     "end_time": "2021-04-10T07:29:55.474411",
     "exception": false,
     "start_time": "2021-04-10T07:29:35.131390",
     "status": "completed"
    },
    "tags": []
   },
   "outputs": [
    {
     "name": "stdout",
     "output_type": "stream",
     "text": [
      "[LightGBM] [Warning] lambda_l1 is set=0.1333381789860702, reg_alpha=0.0 will be ignored. Current value: lambda_l1=0.1333381789860702\n",
      "[LightGBM] [Warning] bagging_fraction is set=0.9512400407806436, subsample=1.0 will be ignored. Current value: bagging_fraction=0.9512400407806436\n",
      "[LightGBM] [Warning] lambda_l2 is set=2.3426839157687394e-07, reg_lambda=0.0 will be ignored. Current value: lambda_l2=2.3426839157687394e-07\n",
      "[LightGBM] [Warning] feature_fraction is set=0.9571499822515682, colsample_bytree=1.0 will be ignored. Current value: feature_fraction=0.9571499822515682\n",
      "[LightGBM] [Warning] min_data_in_leaf is set=100, min_child_samples=20 will be ignored. Current value: min_data_in_leaf=100\n",
      "[LightGBM] [Warning] bagging_freq is set=5, subsample_freq=0 will be ignored. Current value: bagging_freq=5\n",
      "[LightGBM] [Warning] lambda_l1 is set=0.1333381789860702, reg_alpha=0.0 will be ignored. Current value: lambda_l1=0.1333381789860702\n",
      "[LightGBM] [Warning] bagging_fraction is set=0.9512400407806436, subsample=1.0 will be ignored. Current value: bagging_fraction=0.9512400407806436\n",
      "[LightGBM] [Warning] lambda_l2 is set=2.3426839157687394e-07, reg_lambda=0.0 will be ignored. Current value: lambda_l2=2.3426839157687394e-07\n",
      "[LightGBM] [Warning] feature_fraction is set=0.9571499822515682, colsample_bytree=1.0 will be ignored. Current value: feature_fraction=0.9571499822515682\n",
      "[LightGBM] [Warning] min_data_in_leaf is set=100, min_child_samples=20 will be ignored. Current value: min_data_in_leaf=100\n",
      "[LightGBM] [Warning] bagging_freq is set=5, subsample_freq=0 will be ignored. Current value: bagging_freq=5\n",
      "[LightGBM] [Warning] lambda_l1 is set=0.1333381789860702, reg_alpha=0.0 will be ignored. Current value: lambda_l1=0.1333381789860702\n",
      "[LightGBM] [Warning] bagging_fraction is set=0.9512400407806436, subsample=1.0 will be ignored. Current value: bagging_fraction=0.9512400407806436\n",
      "[LightGBM] [Warning] lambda_l2 is set=2.3426839157687394e-07, reg_lambda=0.0 will be ignored. Current value: lambda_l2=2.3426839157687394e-07\n",
      "[LightGBM] [Warning] feature_fraction is set=0.9571499822515682, colsample_bytree=1.0 will be ignored. Current value: feature_fraction=0.9571499822515682\n",
      "[LightGBM] [Warning] min_data_in_leaf is set=100, min_child_samples=20 will be ignored. Current value: min_data_in_leaf=100\n",
      "[LightGBM] [Warning] bagging_freq is set=5, subsample_freq=0 will be ignored. Current value: bagging_freq=5\n",
      "[LightGBM] [Warning] lambda_l1 is set=0.1333381789860702, reg_alpha=0.0 will be ignored. Current value: lambda_l1=0.1333381789860702\n",
      "[LightGBM] [Warning] bagging_fraction is set=0.9512400407806436, subsample=1.0 will be ignored. Current value: bagging_fraction=0.9512400407806436\n",
      "[LightGBM] [Warning] lambda_l2 is set=2.3426839157687394e-07, reg_lambda=0.0 will be ignored. Current value: lambda_l2=2.3426839157687394e-07\n",
      "[LightGBM] [Warning] feature_fraction is set=0.9571499822515682, colsample_bytree=1.0 will be ignored. Current value: feature_fraction=0.9571499822515682\n",
      "[LightGBM] [Warning] min_data_in_leaf is set=100, min_child_samples=20 will be ignored. Current value: min_data_in_leaf=100\n",
      "[LightGBM] [Warning] bagging_freq is set=5, subsample_freq=0 will be ignored. Current value: bagging_freq=5\n",
      "[LightGBM] [Warning] lambda_l1 is set=0.1333381789860702, reg_alpha=0.0 will be ignored. Current value: lambda_l1=0.1333381789860702\n",
      "[LightGBM] [Warning] bagging_fraction is set=0.9512400407806436, subsample=1.0 will be ignored. Current value: bagging_fraction=0.9512400407806436\n",
      "[LightGBM] [Warning] lambda_l2 is set=2.3426839157687394e-07, reg_lambda=0.0 will be ignored. Current value: lambda_l2=2.3426839157687394e-07\n",
      "[LightGBM] [Warning] feature_fraction is set=0.9571499822515682, colsample_bytree=1.0 will be ignored. Current value: feature_fraction=0.9571499822515682\n",
      "[LightGBM] [Warning] min_data_in_leaf is set=100, min_child_samples=20 will be ignored. Current value: min_data_in_leaf=100\n",
      "[LightGBM] [Warning] bagging_freq is set=5, subsample_freq=0 will be ignored. Current value: bagging_freq=5\n",
      "              precision    recall  f1-score   support\n",
      "\n",
      "           0       0.91      0.89      0.90     25153\n",
      "           1       0.83      0.85      0.84     14847\n",
      "\n",
      "    accuracy                           0.88     40000\n",
      "   macro avg       0.87      0.87      0.87     40000\n",
      "weighted avg       0.88      0.88      0.88     40000\n",
      "\n"
     ]
    }
   ],
   "source": [
    "model_trained = model.fit(x_train,y_train)\n",
    "print(classification_report(y_val,model_trained.predict(x_val)))"
   ]
  },
  {
   "cell_type": "code",
   "execution_count": 10,
   "id": "electric-refrigerator",
   "metadata": {
    "execution": {
     "iopub.execute_input": "2021-04-10T07:29:55.532061Z",
     "iopub.status.busy": "2021-04-10T07:29:55.531053Z",
     "iopub.status.idle": "2021-04-10T07:30:18.989382Z",
     "shell.execute_reply": "2021-04-10T07:30:18.990625Z"
    },
    "papermill": {
     "duration": 23.487563,
     "end_time": "2021-04-10T07:30:18.990963",
     "exception": false,
     "start_time": "2021-04-10T07:29:55.503400",
     "status": "completed"
    },
    "tags": []
   },
   "outputs": [
    {
     "name": "stdout",
     "output_type": "stream",
     "text": [
      "[LightGBM] [Warning] lambda_l1 is set=0.1333381789860702, reg_alpha=0.0 will be ignored. Current value: lambda_l1=0.1333381789860702\n",
      "[LightGBM] [Warning] bagging_fraction is set=0.9512400407806436, subsample=1.0 will be ignored. Current value: bagging_fraction=0.9512400407806436\n",
      "[LightGBM] [Warning] lambda_l2 is set=2.3426839157687394e-07, reg_lambda=0.0 will be ignored. Current value: lambda_l2=2.3426839157687394e-07\n",
      "[LightGBM] [Warning] feature_fraction is set=0.9571499822515682, colsample_bytree=1.0 will be ignored. Current value: feature_fraction=0.9571499822515682\n",
      "[LightGBM] [Warning] min_data_in_leaf is set=100, min_child_samples=20 will be ignored. Current value: min_data_in_leaf=100\n",
      "[LightGBM] [Warning] bagging_freq is set=5, subsample_freq=0 will be ignored. Current value: bagging_freq=5\n",
      "[LightGBM] [Warning] lambda_l1 is set=0.1333381789860702, reg_alpha=0.0 will be ignored. Current value: lambda_l1=0.1333381789860702\n",
      "[LightGBM] [Warning] bagging_fraction is set=0.9512400407806436, subsample=1.0 will be ignored. Current value: bagging_fraction=0.9512400407806436\n",
      "[LightGBM] [Warning] lambda_l2 is set=2.3426839157687394e-07, reg_lambda=0.0 will be ignored. Current value: lambda_l2=2.3426839157687394e-07\n",
      "[LightGBM] [Warning] feature_fraction is set=0.9571499822515682, colsample_bytree=1.0 will be ignored. Current value: feature_fraction=0.9571499822515682\n",
      "[LightGBM] [Warning] min_data_in_leaf is set=100, min_child_samples=20 will be ignored. Current value: min_data_in_leaf=100\n",
      "[LightGBM] [Warning] bagging_freq is set=5, subsample_freq=0 will be ignored. Current value: bagging_freq=5\n",
      "[LightGBM] [Warning] lambda_l1 is set=0.1333381789860702, reg_alpha=0.0 will be ignored. Current value: lambda_l1=0.1333381789860702\n",
      "[LightGBM] [Warning] bagging_fraction is set=0.9512400407806436, subsample=1.0 will be ignored. Current value: bagging_fraction=0.9512400407806436\n",
      "[LightGBM] [Warning] lambda_l2 is set=2.3426839157687394e-07, reg_lambda=0.0 will be ignored. Current value: lambda_l2=2.3426839157687394e-07\n",
      "[LightGBM] [Warning] feature_fraction is set=0.9571499822515682, colsample_bytree=1.0 will be ignored. Current value: feature_fraction=0.9571499822515682\n",
      "[LightGBM] [Warning] min_data_in_leaf is set=100, min_child_samples=20 will be ignored. Current value: min_data_in_leaf=100\n",
      "[LightGBM] [Warning] bagging_freq is set=5, subsample_freq=0 will be ignored. Current value: bagging_freq=5\n",
      "[LightGBM] [Warning] lambda_l1 is set=0.1333381789860702, reg_alpha=0.0 will be ignored. Current value: lambda_l1=0.1333381789860702\n",
      "[LightGBM] [Warning] bagging_fraction is set=0.9512400407806436, subsample=1.0 will be ignored. Current value: bagging_fraction=0.9512400407806436\n",
      "[LightGBM] [Warning] lambda_l2 is set=2.3426839157687394e-07, reg_lambda=0.0 will be ignored. Current value: lambda_l2=2.3426839157687394e-07\n",
      "[LightGBM] [Warning] feature_fraction is set=0.9571499822515682, colsample_bytree=1.0 will be ignored. Current value: feature_fraction=0.9571499822515682\n",
      "[LightGBM] [Warning] min_data_in_leaf is set=100, min_child_samples=20 will be ignored. Current value: min_data_in_leaf=100\n",
      "[LightGBM] [Warning] bagging_freq is set=5, subsample_freq=0 will be ignored. Current value: bagging_freq=5\n",
      "[LightGBM] [Warning] lambda_l1 is set=0.1333381789860702, reg_alpha=0.0 will be ignored. Current value: lambda_l1=0.1333381789860702\n",
      "[LightGBM] [Warning] bagging_fraction is set=0.9512400407806436, subsample=1.0 will be ignored. Current value: bagging_fraction=0.9512400407806436\n",
      "[LightGBM] [Warning] lambda_l2 is set=2.3426839157687394e-07, reg_lambda=0.0 will be ignored. Current value: lambda_l2=2.3426839157687394e-07\n",
      "[LightGBM] [Warning] feature_fraction is set=0.9571499822515682, colsample_bytree=1.0 will be ignored. Current value: feature_fraction=0.9571499822515682\n",
      "[LightGBM] [Warning] min_data_in_leaf is set=100, min_child_samples=20 will be ignored. Current value: min_data_in_leaf=100\n",
      "[LightGBM] [Warning] bagging_freq is set=5, subsample_freq=0 will be ignored. Current value: bagging_freq=5\n"
     ]
    }
   ],
   "source": [
    "final_model = model.fit(x,y)"
   ]
  },
  {
   "cell_type": "code",
   "execution_count": null,
   "id": "interstate-delhi",
   "metadata": {
    "papermill": {
     "duration": 0.031392,
     "end_time": "2021-04-10T07:30:19.055062",
     "exception": false,
     "start_time": "2021-04-10T07:30:19.023670",
     "status": "completed"
    },
    "tags": []
   },
   "outputs": [],
   "source": []
  },
  {
   "cell_type": "code",
   "execution_count": 11,
   "id": "civilian-broadcast",
   "metadata": {
    "execution": {
     "iopub.execute_input": "2021-04-10T07:30:19.127002Z",
     "iopub.status.busy": "2021-04-10T07:30:19.126037Z",
     "iopub.status.idle": "2021-04-10T07:30:19.455886Z",
     "shell.execute_reply": "2021-04-10T07:30:19.456497Z"
    },
    "papermill": {
     "duration": 0.369769,
     "end_time": "2021-04-10T07:30:19.456748",
     "exception": false,
     "start_time": "2021-04-10T07:30:19.086979",
     "status": "completed"
    },
    "tags": []
   },
   "outputs": [],
   "source": [
    "preds = final_model.predict(test)"
   ]
  },
  {
   "cell_type": "code",
   "execution_count": 12,
   "id": "contrary-shakespeare",
   "metadata": {
    "execution": {
     "iopub.execute_input": "2021-04-10T07:30:19.526795Z",
     "iopub.status.busy": "2021-04-10T07:30:19.525797Z",
     "iopub.status.idle": "2021-04-10T07:30:19.542205Z",
     "shell.execute_reply": "2021-04-10T07:30:19.543561Z"
    },
    "papermill": {
     "duration": 0.057014,
     "end_time": "2021-04-10T07:30:19.543803",
     "exception": false,
     "start_time": "2021-04-10T07:30:19.486789",
     "status": "completed"
    },
    "tags": []
   },
   "outputs": [
    {
     "data": {
      "text/html": [
       "<div>\n",
       "<style scoped>\n",
       "    .dataframe tbody tr th:only-of-type {\n",
       "        vertical-align: middle;\n",
       "    }\n",
       "\n",
       "    .dataframe tbody tr th {\n",
       "        vertical-align: top;\n",
       "    }\n",
       "\n",
       "    .dataframe thead th {\n",
       "        text-align: right;\n",
       "    }\n",
       "</style>\n",
       "<table border=\"1\" class=\"dataframe\">\n",
       "  <thead>\n",
       "    <tr style=\"text-align: right;\">\n",
       "      <th></th>\n",
       "      <th>PassengerId</th>\n",
       "      <th>Survived</th>\n",
       "    </tr>\n",
       "  </thead>\n",
       "  <tbody>\n",
       "    <tr>\n",
       "      <th>0</th>\n",
       "      <td>100000</td>\n",
       "      <td>0</td>\n",
       "    </tr>\n",
       "    <tr>\n",
       "      <th>1</th>\n",
       "      <td>100001</td>\n",
       "      <td>1</td>\n",
       "    </tr>\n",
       "    <tr>\n",
       "      <th>2</th>\n",
       "      <td>100002</td>\n",
       "      <td>1</td>\n",
       "    </tr>\n",
       "    <tr>\n",
       "      <th>3</th>\n",
       "      <td>100003</td>\n",
       "      <td>0</td>\n",
       "    </tr>\n",
       "    <tr>\n",
       "      <th>4</th>\n",
       "      <td>100004</td>\n",
       "      <td>1</td>\n",
       "    </tr>\n",
       "    <tr>\n",
       "      <th>5</th>\n",
       "      <td>100005</td>\n",
       "      <td>0</td>\n",
       "    </tr>\n",
       "    <tr>\n",
       "      <th>6</th>\n",
       "      <td>100006</td>\n",
       "      <td>1</td>\n",
       "    </tr>\n",
       "    <tr>\n",
       "      <th>7</th>\n",
       "      <td>100007</td>\n",
       "      <td>0</td>\n",
       "    </tr>\n",
       "    <tr>\n",
       "      <th>8</th>\n",
       "      <td>100008</td>\n",
       "      <td>0</td>\n",
       "    </tr>\n",
       "    <tr>\n",
       "      <th>9</th>\n",
       "      <td>100009</td>\n",
       "      <td>0</td>\n",
       "    </tr>\n",
       "  </tbody>\n",
       "</table>\n",
       "</div>"
      ],
      "text/plain": [
       "   PassengerId  Survived\n",
       "0       100000         0\n",
       "1       100001         1\n",
       "2       100002         1\n",
       "3       100003         0\n",
       "4       100004         1\n",
       "5       100005         0\n",
       "6       100006         1\n",
       "7       100007         0\n",
       "8       100008         0\n",
       "9       100009         0"
      ]
     },
     "execution_count": 12,
     "metadata": {},
     "output_type": "execute_result"
    }
   ],
   "source": [
    "submit = pd.DataFrame({\"PassengerId\":test_df[\"PassengerId\"],\"Survived\":preds})\n",
    "submit.head(10)"
   ]
  },
  {
   "cell_type": "code",
   "execution_count": 13,
   "id": "stopped-promotion",
   "metadata": {
    "execution": {
     "iopub.execute_input": "2021-04-10T07:30:19.589840Z",
     "iopub.status.busy": "2021-04-10T07:30:19.588976Z",
     "iopub.status.idle": "2021-04-10T07:30:19.727438Z",
     "shell.execute_reply": "2021-04-10T07:30:19.728167Z"
    },
    "papermill": {
     "duration": 0.161793,
     "end_time": "2021-04-10T07:30:19.728381",
     "exception": false,
     "start_time": "2021-04-10T07:30:19.566588",
     "status": "completed"
    },
    "tags": []
   },
   "outputs": [],
   "source": [
    "submit.to_csv(\"submission.csv\",index = False)"
   ]
  }
 ],
 "metadata": {
  "kernelspec": {
   "display_name": "Python 3",
   "language": "python",
   "name": "python3"
  },
  "language_info": {
   "codemirror_mode": {
    "name": "ipython",
    "version": 3
   },
   "file_extension": ".py",
   "mimetype": "text/x-python",
   "name": "python",
   "nbconvert_exporter": "python",
   "pygments_lexer": "ipython3",
   "version": "3.7.9"
  },
  "papermill": {
   "default_parameters": {},
   "duration": 57.969625,
   "end_time": "2021-04-10T07:30:21.567019",
   "environment_variables": {},
   "exception": null,
   "input_path": "__notebook__.ipynb",
   "output_path": "__notebook__.ipynb",
   "parameters": {},
   "start_time": "2021-04-10T07:29:23.597394",
   "version": "2.3.2"
  }
 },
 "nbformat": 4,
 "nbformat_minor": 5
}
