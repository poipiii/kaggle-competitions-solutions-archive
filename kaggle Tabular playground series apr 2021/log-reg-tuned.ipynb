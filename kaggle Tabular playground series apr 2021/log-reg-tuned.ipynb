{
 "cells": [
  {
   "cell_type": "code",
   "execution_count": 1,
   "id": "expected-costume",
   "metadata": {
    "_cell_guid": "b1076dfc-b9ad-4769-8c92-a6c4dae69d19",
    "_uuid": "8f2839f25d086af736a60e9eeb907d3b93b6e0e5",
    "execution": {
     "iopub.execute_input": "2021-04-07T13:48:18.582784Z",
     "iopub.status.busy": "2021-04-07T13:48:18.581994Z",
     "iopub.status.idle": "2021-04-07T13:48:20.413229Z",
     "shell.execute_reply": "2021-04-07T13:48:20.413749Z"
    },
    "papermill": {
     "duration": 1.846575,
     "end_time": "2021-04-07T13:48:20.414061",
     "exception": false,
     "start_time": "2021-04-07T13:48:18.567486",
     "status": "completed"
    },
    "tags": []
   },
   "outputs": [],
   "source": [
    "import pandas as pd\n",
    "import numpy as np\n",
    "from sklearn.preprocessing import LabelEncoder, StandardScaler\n",
    "from sklearn.model_selection import train_test_split, KFold, StratifiedKFold\n",
    "from sklearn.metrics import accuracy_score, roc_auc_score\n",
    "from sklearn.tree import DecisionTreeClassifier\n",
    "import optuna\n",
    "from sklearn.model_selection import cross_val_score\n",
    "from sklearn.model_selection import StratifiedKFold\n",
    "from sklearn.linear_model import LogisticRegression"
   ]
  },
  {
   "cell_type": "code",
   "execution_count": 2,
   "id": "naval-theorem",
   "metadata": {
    "execution": {
     "iopub.execute_input": "2021-04-07T13:48:20.434255Z",
     "iopub.status.busy": "2021-04-07T13:48:20.433311Z",
     "iopub.status.idle": "2021-04-07T13:48:21.067715Z",
     "shell.execute_reply": "2021-04-07T13:48:21.068234Z"
    },
    "papermill": {
     "duration": 0.645818,
     "end_time": "2021-04-07T13:48:21.068429",
     "exception": false,
     "start_time": "2021-04-07T13:48:20.422611",
     "status": "completed"
    },
    "tags": []
   },
   "outputs": [],
   "source": [
    "train_df = pd.read_csv('../input/tabular-playground-series-apr-2021/train.csv')\n",
    "test_df = pd.read_csv('../input/tabular-playground-series-apr-2021/test.csv')"
   ]
  },
  {
   "cell_type": "code",
   "execution_count": 3,
   "id": "wrapped-planner",
   "metadata": {
    "execution": {
     "iopub.execute_input": "2021-04-07T13:48:21.104944Z",
     "iopub.status.busy": "2021-04-07T13:48:21.104056Z",
     "iopub.status.idle": "2021-04-07T13:48:21.106829Z",
     "shell.execute_reply": "2021-04-07T13:48:21.106351Z"
    },
    "papermill": {
     "duration": 0.030537,
     "end_time": "2021-04-07T13:48:21.106959",
     "exception": false,
     "start_time": "2021-04-07T13:48:21.076422",
     "status": "completed"
    },
    "tags": []
   },
   "outputs": [],
   "source": [
    "def label_encoder(c):\n",
    "    lc = LabelEncoder()\n",
    "    return lc.fit_transform(c)\n",
    "def preprocess(df):\n",
    "    age_map = df[['Age', 'Pclass']].dropna().groupby('Pclass').mean().to_dict()\n",
    "    df.Age = df.Age.fillna(df.Pclass.map(age_map['Age']))\n",
    "    df.Cabin = df.Cabin.fillna('X').map(lambda x: x[0].strip())\n",
    "    df.Ticket = df.Ticket.fillna('X').map(lambda x:str(x).split()[0] if len(str(x).split()) > 1 else 'X')\n",
    "    df.Fare = df.Fare.fillna(df.Fare.mean())\n",
    "    df.Fare = df.Fare.map(lambda i: np.log(i) if i > 0 else 0)\n",
    "    df.Embarked = df.Embarked.fillna('X')\n",
    "    df.Name = df.Name.map(lambda x: x.split(',')[0])\n",
    "    df[\"Family\"] = df[\"SibSp\"] + df[\"Parch\"] +1\n",
    "    df[\"Alone\"] =  df[\"Family\"].map(lambda x : \"Yes\" if x == 1 else \"No\")\n",
    "    label_cols = ['Name', 'Ticket']\n",
    "    onehot_cols = ['Pclass', 'Sex', 'Cabin', 'Embarked',\"Alone\"]\n",
    "    numerical_cols = ['Age', 'SibSp', 'Parch', 'Fare', 'Survived',\"Family\"]  \n",
    "    onehot_encoded_df = pd.get_dummies(df[onehot_cols])\n",
    "    label_encoded_df = df[label_cols].apply(label_encoder)\n",
    "    numerical_df = df[numerical_cols]\n",
    "    return pd.concat([numerical_df, label_encoded_df, onehot_encoded_df], axis=1)\n",
    "\n",
    "def test_preprocess(df):\n",
    "    age_map = df[['Age', 'Pclass']].dropna().groupby('Pclass').mean().to_dict()\n",
    "    df.Age = df.Age.fillna(df.Pclass.map(age_map['Age']))\n",
    "    df.Cabin = df.Cabin.fillna('X').map(lambda x: x[0].strip())\n",
    "    df.Ticket = df.Ticket.fillna('X').map(lambda x:str(x).split()[0] if len(str(x).split()) > 1 else 'X')\n",
    "    df.Fare = df.Fare.fillna(df.Fare.mean())\n",
    "    df.Fare = df.Fare.map(lambda i: np.log(i) if i > 0 else 0)\n",
    "    df.Embarked = df.Embarked.fillna('X')\n",
    "    df.Name = df.Name.map(lambda x: x.split(',')[0])\n",
    "    df[\"Family\"] = df[\"SibSp\"] + df[\"Parch\"] +1\n",
    "    df[\"Alone\"] =  df[\"Family\"].map(lambda x : \"Yes\" if x == 1 else \"No\")\n",
    "    label_cols = ['Name', 'Ticket']\n",
    "    onehot_cols = ['Pclass', 'Sex', 'Cabin', 'Embarked',\"Alone\"]\n",
    "    numerical_cols = ['Age', 'SibSp', 'Parch', 'Fare',\"Family\"]  \n",
    "    onehot_encoded_df = pd.get_dummies(df[onehot_cols])\n",
    "    label_encoded_df = df[label_cols].apply(label_encoder)\n",
    "    numerical_df = df[numerical_cols]\n",
    "    return pd.concat([numerical_df, label_encoded_df, onehot_encoded_df], axis=1)"
   ]
  },
  {
   "cell_type": "code",
   "execution_count": 4,
   "id": "brilliant-composite",
   "metadata": {
    "execution": {
     "iopub.execute_input": "2021-04-07T13:48:21.135145Z",
     "iopub.status.busy": "2021-04-07T13:48:21.134209Z",
     "iopub.status.idle": "2021-04-07T13:48:22.584823Z",
     "shell.execute_reply": "2021-04-07T13:48:22.585339Z"
    },
    "papermill": {
     "duration": 1.470503,
     "end_time": "2021-04-07T13:48:22.585538",
     "exception": false,
     "start_time": "2021-04-07T13:48:21.115035",
     "status": "completed"
    },
    "tags": []
   },
   "outputs": [],
   "source": [
    "scaler = StandardScaler()\n",
    "train = preprocess(df = train_df)\n",
    "# test = test_preprocess(df=test_df)\n",
    "test = scaler.fit_transform(test_preprocess(df=test_df))\n",
    "y = train.pop(\"Survived\")\n",
    "# x = train.values\n",
    "x = scaler.fit_transform(train.values)\n"
   ]
  },
  {
   "cell_type": "code",
   "execution_count": 5,
   "id": "moving-situation",
   "metadata": {
    "execution": {
     "iopub.execute_input": "2021-04-07T13:48:22.605751Z",
     "iopub.status.busy": "2021-04-07T13:48:22.604836Z",
     "iopub.status.idle": "2021-04-07T13:48:22.608831Z",
     "shell.execute_reply": "2021-04-07T13:48:22.609319Z"
    },
    "papermill": {
     "duration": 0.015688,
     "end_time": "2021-04-07T13:48:22.609473",
     "exception": false,
     "start_time": "2021-04-07T13:48:22.593785",
     "status": "completed"
    },
    "tags": []
   },
   "outputs": [],
   "source": [
    " params = {'solver': 'sag',\n",
    "  'class_weight': None,\n",
    "  'max_iter': 703,\n",
    "  'C': 1481.8092814948996}"
   ]
  },
  {
   "cell_type": "code",
   "execution_count": 6,
   "id": "million-india",
   "metadata": {
    "execution": {
     "iopub.execute_input": "2021-04-07T13:48:22.629795Z",
     "iopub.status.busy": "2021-04-07T13:48:22.628877Z",
     "iopub.status.idle": "2021-04-07T13:48:23.797483Z",
     "shell.execute_reply": "2021-04-07T13:48:23.798068Z"
    },
    "papermill": {
     "duration": 1.180299,
     "end_time": "2021-04-07T13:48:23.798235",
     "exception": false,
     "start_time": "2021-04-07T13:48:22.617936",
     "status": "completed"
    },
    "tags": []
   },
   "outputs": [
    {
     "data": {
      "text/plain": [
       "LogisticRegression(C=1481.8092814948996, max_iter=703, solver='sag')"
      ]
     },
     "execution_count": 6,
     "metadata": {},
     "output_type": "execute_result"
    }
   ],
   "source": [
    "clf = LogisticRegression(**params)\n",
    "clf.fit(x,y)"
   ]
  },
  {
   "cell_type": "code",
   "execution_count": 7,
   "id": "native-dictionary",
   "metadata": {
    "execution": {
     "iopub.execute_input": "2021-04-07T13:48:23.820127Z",
     "iopub.status.busy": "2021-04-07T13:48:23.819178Z",
     "iopub.status.idle": "2021-04-07T13:48:23.829500Z",
     "shell.execute_reply": "2021-04-07T13:48:23.830231Z"
    },
    "papermill": {
     "duration": 0.023179,
     "end_time": "2021-04-07T13:48:23.830472",
     "exception": false,
     "start_time": "2021-04-07T13:48:23.807293",
     "status": "completed"
    },
    "tags": []
   },
   "outputs": [],
   "source": [
    "preds = clf.predict(test)"
   ]
  },
  {
   "cell_type": "code",
   "execution_count": 8,
   "id": "valued-rebate",
   "metadata": {
    "execution": {
     "iopub.execute_input": "2021-04-07T13:48:23.872108Z",
     "iopub.status.busy": "2021-04-07T13:48:23.871120Z",
     "iopub.status.idle": "2021-04-07T13:48:23.888870Z",
     "shell.execute_reply": "2021-04-07T13:48:23.890072Z"
    },
    "papermill": {
     "duration": 0.044245,
     "end_time": "2021-04-07T13:48:23.890316",
     "exception": false,
     "start_time": "2021-04-07T13:48:23.846071",
     "status": "completed"
    },
    "tags": []
   },
   "outputs": [
    {
     "data": {
      "text/html": [
       "<div>\n",
       "<style scoped>\n",
       "    .dataframe tbody tr th:only-of-type {\n",
       "        vertical-align: middle;\n",
       "    }\n",
       "\n",
       "    .dataframe tbody tr th {\n",
       "        vertical-align: top;\n",
       "    }\n",
       "\n",
       "    .dataframe thead th {\n",
       "        text-align: right;\n",
       "    }\n",
       "</style>\n",
       "<table border=\"1\" class=\"dataframe\">\n",
       "  <thead>\n",
       "    <tr style=\"text-align: right;\">\n",
       "      <th></th>\n",
       "      <th>PassengerId</th>\n",
       "      <th>Survived</th>\n",
       "    </tr>\n",
       "  </thead>\n",
       "  <tbody>\n",
       "    <tr>\n",
       "      <th>0</th>\n",
       "      <td>100000</td>\n",
       "      <td>0</td>\n",
       "    </tr>\n",
       "    <tr>\n",
       "      <th>1</th>\n",
       "      <td>100001</td>\n",
       "      <td>1</td>\n",
       "    </tr>\n",
       "    <tr>\n",
       "      <th>2</th>\n",
       "      <td>100002</td>\n",
       "      <td>1</td>\n",
       "    </tr>\n",
       "    <tr>\n",
       "      <th>3</th>\n",
       "      <td>100003</td>\n",
       "      <td>0</td>\n",
       "    </tr>\n",
       "    <tr>\n",
       "      <th>4</th>\n",
       "      <td>100004</td>\n",
       "      <td>1</td>\n",
       "    </tr>\n",
       "    <tr>\n",
       "      <th>5</th>\n",
       "      <td>100005</td>\n",
       "      <td>0</td>\n",
       "    </tr>\n",
       "    <tr>\n",
       "      <th>6</th>\n",
       "      <td>100006</td>\n",
       "      <td>1</td>\n",
       "    </tr>\n",
       "    <tr>\n",
       "      <th>7</th>\n",
       "      <td>100007</td>\n",
       "      <td>0</td>\n",
       "    </tr>\n",
       "    <tr>\n",
       "      <th>8</th>\n",
       "      <td>100008</td>\n",
       "      <td>1</td>\n",
       "    </tr>\n",
       "    <tr>\n",
       "      <th>9</th>\n",
       "      <td>100009</td>\n",
       "      <td>0</td>\n",
       "    </tr>\n",
       "  </tbody>\n",
       "</table>\n",
       "</div>"
      ],
      "text/plain": [
       "   PassengerId  Survived\n",
       "0       100000         0\n",
       "1       100001         1\n",
       "2       100002         1\n",
       "3       100003         0\n",
       "4       100004         1\n",
       "5       100005         0\n",
       "6       100006         1\n",
       "7       100007         0\n",
       "8       100008         1\n",
       "9       100009         0"
      ]
     },
     "execution_count": 8,
     "metadata": {},
     "output_type": "execute_result"
    }
   ],
   "source": [
    "submit = pd.DataFrame({\"PassengerId\":test_df[\"PassengerId\"],\"Survived\":preds})\n",
    "submit.head(10)"
   ]
  },
  {
   "cell_type": "code",
   "execution_count": 9,
   "id": "caroline-textbook",
   "metadata": {
    "execution": {
     "iopub.execute_input": "2021-04-07T13:48:23.940121Z",
     "iopub.status.busy": "2021-04-07T13:48:23.939032Z",
     "iopub.status.idle": "2021-04-07T13:48:24.126719Z",
     "shell.execute_reply": "2021-04-07T13:48:24.127257Z"
    },
    "papermill": {
     "duration": 0.220471,
     "end_time": "2021-04-07T13:48:24.127430",
     "exception": false,
     "start_time": "2021-04-07T13:48:23.906959",
     "status": "completed"
    },
    "tags": []
   },
   "outputs": [],
   "source": [
    "submit.to_csv(\"submission.csv\",index = False)"
   ]
  },
  {
   "cell_type": "code",
   "execution_count": null,
   "id": "outside-activation",
   "metadata": {
    "papermill": {
     "duration": 0.009792,
     "end_time": "2021-04-07T13:48:24.147379",
     "exception": false,
     "start_time": "2021-04-07T13:48:24.137587",
     "status": "completed"
    },
    "tags": []
   },
   "outputs": [],
   "source": []
  }
 ],
 "metadata": {
  "kernelspec": {
   "display_name": "Python 3",
   "language": "python",
   "name": "python3"
  },
  "language_info": {
   "codemirror_mode": {
    "name": "ipython",
    "version": 3
   },
   "file_extension": ".py",
   "mimetype": "text/x-python",
   "name": "python",
   "nbconvert_exporter": "python",
   "pygments_lexer": "ipython3",
   "version": "3.7.9"
  },
  "papermill": {
   "default_parameters": {},
   "duration": 12.228051,
   "end_time": "2021-04-07T13:48:24.867765",
   "environment_variables": {},
   "exception": null,
   "input_path": "__notebook__.ipynb",
   "output_path": "__notebook__.ipynb",
   "parameters": {},
   "start_time": "2021-04-07T13:48:12.639714",
   "version": "2.3.2"
  }
 },
 "nbformat": 4,
 "nbformat_minor": 5
}
