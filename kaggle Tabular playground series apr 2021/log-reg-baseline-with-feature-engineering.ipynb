{
 "cells": [
  {
   "cell_type": "code",
   "execution_count": 1,
   "id": "powerful-bridge",
   "metadata": {
    "_cell_guid": "b1076dfc-b9ad-4769-8c92-a6c4dae69d19",
    "_uuid": "8f2839f25d086af736a60e9eeb907d3b93b6e0e5",
    "execution": {
     "iopub.execute_input": "2021-04-02T07:41:34.863947Z",
     "iopub.status.busy": "2021-04-02T07:41:34.863166Z",
     "iopub.status.idle": "2021-04-02T07:41:39.703784Z",
     "shell.execute_reply": "2021-04-02T07:41:39.704805Z"
    },
    "papermill": {
     "duration": 4.86008,
     "end_time": "2021-04-02T07:41:39.705139",
     "exception": false,
     "start_time": "2021-04-02T07:41:34.845059",
     "status": "completed"
    },
    "tags": []
   },
   "outputs": [],
   "source": [
    "import pandas as pd\n",
    "import numpy as np \n",
    "from xgboost import XGBClassifier\n",
    "from sklearn.model_selection import train_test_split\n",
    "from sklearn.metrics import classification_report \n",
    "from sklearn import preprocessing\n",
    "from sklearn.impute import SimpleImputer\n",
    "from sklearn.linear_model import LogisticRegression\n",
    "from sklearn.metrics import roc_auc_score"
   ]
  },
  {
   "cell_type": "code",
   "execution_count": 2,
   "id": "complex-coast",
   "metadata": {
    "execution": {
     "iopub.execute_input": "2021-04-02T07:41:39.760550Z",
     "iopub.status.busy": "2021-04-02T07:41:39.759871Z",
     "iopub.status.idle": "2021-04-02T07:41:40.025919Z",
     "shell.execute_reply": "2021-04-02T07:41:40.026349Z"
    },
    "papermill": {
     "duration": 0.298741,
     "end_time": "2021-04-02T07:41:40.026500",
     "exception": false,
     "start_time": "2021-04-02T07:41:39.727759",
     "status": "completed"
    },
    "tags": []
   },
   "outputs": [
    {
     "data": {
      "text/html": [
       "<div>\n",
       "<style scoped>\n",
       "    .dataframe tbody tr th:only-of-type {\n",
       "        vertical-align: middle;\n",
       "    }\n",
       "\n",
       "    .dataframe tbody tr th {\n",
       "        vertical-align: top;\n",
       "    }\n",
       "\n",
       "    .dataframe thead th {\n",
       "        text-align: right;\n",
       "    }\n",
       "</style>\n",
       "<table border=\"1\" class=\"dataframe\">\n",
       "  <thead>\n",
       "    <tr style=\"text-align: right;\">\n",
       "      <th></th>\n",
       "      <th>PassengerId</th>\n",
       "      <th>Survived</th>\n",
       "      <th>Pclass</th>\n",
       "      <th>Name</th>\n",
       "      <th>Sex</th>\n",
       "      <th>Age</th>\n",
       "      <th>SibSp</th>\n",
       "      <th>Parch</th>\n",
       "      <th>Ticket</th>\n",
       "      <th>Fare</th>\n",
       "      <th>Cabin</th>\n",
       "      <th>Embarked</th>\n",
       "    </tr>\n",
       "  </thead>\n",
       "  <tbody>\n",
       "    <tr>\n",
       "      <th>0</th>\n",
       "      <td>0</td>\n",
       "      <td>1</td>\n",
       "      <td>1</td>\n",
       "      <td>Oconnor, Frankie</td>\n",
       "      <td>male</td>\n",
       "      <td>NaN</td>\n",
       "      <td>2</td>\n",
       "      <td>0</td>\n",
       "      <td>209245</td>\n",
       "      <td>27.14</td>\n",
       "      <td>C12239</td>\n",
       "      <td>S</td>\n",
       "    </tr>\n",
       "    <tr>\n",
       "      <th>1</th>\n",
       "      <td>1</td>\n",
       "      <td>0</td>\n",
       "      <td>3</td>\n",
       "      <td>Bryan, Drew</td>\n",
       "      <td>male</td>\n",
       "      <td>NaN</td>\n",
       "      <td>0</td>\n",
       "      <td>0</td>\n",
       "      <td>27323</td>\n",
       "      <td>13.35</td>\n",
       "      <td>NaN</td>\n",
       "      <td>S</td>\n",
       "    </tr>\n",
       "    <tr>\n",
       "      <th>2</th>\n",
       "      <td>2</td>\n",
       "      <td>0</td>\n",
       "      <td>3</td>\n",
       "      <td>Owens, Kenneth</td>\n",
       "      <td>male</td>\n",
       "      <td>0.33</td>\n",
       "      <td>1</td>\n",
       "      <td>2</td>\n",
       "      <td>CA 457703</td>\n",
       "      <td>71.29</td>\n",
       "      <td>NaN</td>\n",
       "      <td>S</td>\n",
       "    </tr>\n",
       "    <tr>\n",
       "      <th>3</th>\n",
       "      <td>3</td>\n",
       "      <td>0</td>\n",
       "      <td>3</td>\n",
       "      <td>Kramer, James</td>\n",
       "      <td>male</td>\n",
       "      <td>19.00</td>\n",
       "      <td>0</td>\n",
       "      <td>0</td>\n",
       "      <td>A. 10866</td>\n",
       "      <td>13.04</td>\n",
       "      <td>NaN</td>\n",
       "      <td>S</td>\n",
       "    </tr>\n",
       "    <tr>\n",
       "      <th>4</th>\n",
       "      <td>4</td>\n",
       "      <td>1</td>\n",
       "      <td>3</td>\n",
       "      <td>Bond, Michael</td>\n",
       "      <td>male</td>\n",
       "      <td>25.00</td>\n",
       "      <td>0</td>\n",
       "      <td>0</td>\n",
       "      <td>427635</td>\n",
       "      <td>7.76</td>\n",
       "      <td>NaN</td>\n",
       "      <td>S</td>\n",
       "    </tr>\n",
       "  </tbody>\n",
       "</table>\n",
       "</div>"
      ],
      "text/plain": [
       "   PassengerId  Survived  Pclass              Name   Sex    Age  SibSp  Parch  \\\n",
       "0            0         1       1  Oconnor, Frankie  male    NaN      2      0   \n",
       "1            1         0       3       Bryan, Drew  male    NaN      0      0   \n",
       "2            2         0       3    Owens, Kenneth  male   0.33      1      2   \n",
       "3            3         0       3     Kramer, James  male  19.00      0      0   \n",
       "4            4         1       3     Bond, Michael  male  25.00      0      0   \n",
       "\n",
       "      Ticket   Fare   Cabin Embarked  \n",
       "0     209245  27.14  C12239        S  \n",
       "1      27323  13.35     NaN        S  \n",
       "2  CA 457703  71.29     NaN        S  \n",
       "3   A. 10866  13.04     NaN        S  \n",
       "4     427635   7.76     NaN        S  "
      ]
     },
     "execution_count": 2,
     "metadata": {},
     "output_type": "execute_result"
    }
   ],
   "source": [
    "train_df = pd.read_csv(\"../input/tabular-playground-series-apr-2021/train.csv\")\n",
    "train_df.head()"
   ]
  },
  {
   "cell_type": "code",
   "execution_count": 3,
   "id": "blessed-tampa",
   "metadata": {
    "execution": {
     "iopub.execute_input": "2021-04-02T07:41:40.060757Z",
     "iopub.status.busy": "2021-04-02T07:41:40.058688Z",
     "iopub.status.idle": "2021-04-02T07:41:40.064046Z",
     "shell.execute_reply": "2021-04-02T07:41:40.063526Z"
    },
    "papermill": {
     "duration": 0.023881,
     "end_time": "2021-04-02T07:41:40.064153",
     "exception": false,
     "start_time": "2021-04-02T07:41:40.040272",
     "status": "completed"
    },
    "tags": []
   },
   "outputs": [],
   "source": [
    "x = train_df[[\"Pclass\",\"Sex\",\"Age\",\"SibSp\",\"Parch\",\"Fare\",\"Embarked\"]]\n",
    "y  = train_df[\"Survived\"]"
   ]
  },
  {
   "cell_type": "code",
   "execution_count": 4,
   "id": "spread-newspaper",
   "metadata": {
    "execution": {
     "iopub.execute_input": "2021-04-02T07:41:40.111035Z",
     "iopub.status.busy": "2021-04-02T07:41:40.110340Z",
     "iopub.status.idle": "2021-04-02T07:41:40.116990Z",
     "shell.execute_reply": "2021-04-02T07:41:40.116605Z"
    },
    "papermill": {
     "duration": 0.040055,
     "end_time": "2021-04-02T07:41:40.117095",
     "exception": false,
     "start_time": "2021-04-02T07:41:40.077040",
     "status": "completed"
    },
    "tags": []
   },
   "outputs": [
    {
     "data": {
      "text/plain": [
       "Pclass         0\n",
       "Sex            0\n",
       "Age         3292\n",
       "SibSp          0\n",
       "Parch          0\n",
       "Fare         134\n",
       "Embarked     250\n",
       "dtype: int64"
      ]
     },
     "execution_count": 4,
     "metadata": {},
     "output_type": "execute_result"
    }
   ],
   "source": [
    "x.isna().sum()"
   ]
  },
  {
   "cell_type": "code",
   "execution_count": 5,
   "id": "explicit-backup",
   "metadata": {
    "execution": {
     "iopub.execute_input": "2021-04-02T07:41:40.152054Z",
     "iopub.status.busy": "2021-04-02T07:41:40.150335Z",
     "iopub.status.idle": "2021-04-02T07:41:40.152641Z",
     "shell.execute_reply": "2021-04-02T07:41:40.153020Z"
    },
    "papermill": {
     "duration": 0.022573,
     "end_time": "2021-04-02T07:41:40.153137",
     "exception": false,
     "start_time": "2021-04-02T07:41:40.130564",
     "status": "completed"
    },
    "tags": []
   },
   "outputs": [],
   "source": [
    "def data_prep(x,mode):\n",
    "    x[\"Age\"] =x[\"Age\"].fillna(x[\"Age\"].mean()) \n",
    "    x[\"Fare\"] =x[\"Fare\"].fillna(x[\"Fare\"].mean()) \n",
    "    x[\"Embarked\"] =x[\"Embarked\"].fillna(x[\"Embarked\"].mode()) \n",
    "    le = preprocessing.LabelEncoder()\n",
    "    x[\"Sex\"] = le.fit_transform(x[\"Sex\"])\n",
    "    x[\"Embarked\"] = le.fit_transform(x[\"Embarked\"])\n",
    "    x[\"Family\"] = x[\"SibSp\"] + x[\"Parch\"]\n",
    "    x[\"Fare\"] =  x['Fare'].map(lambda i: np.log(i) if i > 0 else 0)\n",
    "    return x\n",
    "    "
   ]
  },
  {
   "cell_type": "code",
   "execution_count": 6,
   "id": "equal-laptop",
   "metadata": {
    "execution": {
     "iopub.execute_input": "2021-04-02T07:41:40.183657Z",
     "iopub.status.busy": "2021-04-02T07:41:40.183140Z",
     "iopub.status.idle": "2021-04-02T07:41:40.466834Z",
     "shell.execute_reply": "2021-04-02T07:41:40.466404Z"
    },
    "papermill": {
     "duration": 0.300284,
     "end_time": "2021-04-02T07:41:40.466955",
     "exception": false,
     "start_time": "2021-04-02T07:41:40.166671",
     "status": "completed"
    },
    "tags": []
   },
   "outputs": [
    {
     "name": "stderr",
     "output_type": "stream",
     "text": [
      "/opt/conda/lib/python3.7/site-packages/ipykernel_launcher.py:2: SettingWithCopyWarning: \n",
      "A value is trying to be set on a copy of a slice from a DataFrame.\n",
      "Try using .loc[row_indexer,col_indexer] = value instead\n",
      "\n",
      "See the caveats in the documentation: https://pandas.pydata.org/pandas-docs/stable/user_guide/indexing.html#returning-a-view-versus-a-copy\n",
      "  \n",
      "/opt/conda/lib/python3.7/site-packages/ipykernel_launcher.py:3: SettingWithCopyWarning: \n",
      "A value is trying to be set on a copy of a slice from a DataFrame.\n",
      "Try using .loc[row_indexer,col_indexer] = value instead\n",
      "\n",
      "See the caveats in the documentation: https://pandas.pydata.org/pandas-docs/stable/user_guide/indexing.html#returning-a-view-versus-a-copy\n",
      "  This is separate from the ipykernel package so we can avoid doing imports until\n",
      "/opt/conda/lib/python3.7/site-packages/ipykernel_launcher.py:4: SettingWithCopyWarning: \n",
      "A value is trying to be set on a copy of a slice from a DataFrame.\n",
      "Try using .loc[row_indexer,col_indexer] = value instead\n",
      "\n",
      "See the caveats in the documentation: https://pandas.pydata.org/pandas-docs/stable/user_guide/indexing.html#returning-a-view-versus-a-copy\n",
      "  after removing the cwd from sys.path.\n",
      "/opt/conda/lib/python3.7/site-packages/ipykernel_launcher.py:6: SettingWithCopyWarning: \n",
      "A value is trying to be set on a copy of a slice from a DataFrame.\n",
      "Try using .loc[row_indexer,col_indexer] = value instead\n",
      "\n",
      "See the caveats in the documentation: https://pandas.pydata.org/pandas-docs/stable/user_guide/indexing.html#returning-a-view-versus-a-copy\n",
      "  \n",
      "/opt/conda/lib/python3.7/site-packages/ipykernel_launcher.py:7: SettingWithCopyWarning: \n",
      "A value is trying to be set on a copy of a slice from a DataFrame.\n",
      "Try using .loc[row_indexer,col_indexer] = value instead\n",
      "\n",
      "See the caveats in the documentation: https://pandas.pydata.org/pandas-docs/stable/user_guide/indexing.html#returning-a-view-versus-a-copy\n",
      "  import sys\n",
      "/opt/conda/lib/python3.7/site-packages/ipykernel_launcher.py:8: SettingWithCopyWarning: \n",
      "A value is trying to be set on a copy of a slice from a DataFrame.\n",
      "Try using .loc[row_indexer,col_indexer] = value instead\n",
      "\n",
      "See the caveats in the documentation: https://pandas.pydata.org/pandas-docs/stable/user_guide/indexing.html#returning-a-view-versus-a-copy\n",
      "  \n",
      "/opt/conda/lib/python3.7/site-packages/ipykernel_launcher.py:9: SettingWithCopyWarning: \n",
      "A value is trying to be set on a copy of a slice from a DataFrame.\n",
      "Try using .loc[row_indexer,col_indexer] = value instead\n",
      "\n",
      "See the caveats in the documentation: https://pandas.pydata.org/pandas-docs/stable/user_guide/indexing.html#returning-a-view-versus-a-copy\n",
      "  if __name__ == '__main__':\n"
     ]
    }
   ],
   "source": [
    "x = data_prep(x,\"train\")"
   ]
  },
  {
   "cell_type": "code",
   "execution_count": 7,
   "id": "executed-bosnia",
   "metadata": {
    "execution": {
     "iopub.execute_input": "2021-04-02T07:41:40.504627Z",
     "iopub.status.busy": "2021-04-02T07:41:40.503573Z",
     "iopub.status.idle": "2021-04-02T07:41:40.556435Z",
     "shell.execute_reply": "2021-04-02T07:41:40.556844Z"
    },
    "papermill": {
     "duration": 0.074142,
     "end_time": "2021-04-02T07:41:40.556991",
     "exception": false,
     "start_time": "2021-04-02T07:41:40.482849",
     "status": "completed"
    },
    "tags": []
   },
   "outputs": [
    {
     "data": {
      "text/html": [
       "<div>\n",
       "<style scoped>\n",
       "    .dataframe tbody tr th:only-of-type {\n",
       "        vertical-align: middle;\n",
       "    }\n",
       "\n",
       "    .dataframe tbody tr th {\n",
       "        vertical-align: top;\n",
       "    }\n",
       "\n",
       "    .dataframe thead th {\n",
       "        text-align: right;\n",
       "    }\n",
       "</style>\n",
       "<table border=\"1\" class=\"dataframe\">\n",
       "  <thead>\n",
       "    <tr style=\"text-align: right;\">\n",
       "      <th></th>\n",
       "      <th>Pclass</th>\n",
       "      <th>Sex</th>\n",
       "      <th>Age</th>\n",
       "      <th>SibSp</th>\n",
       "      <th>Parch</th>\n",
       "      <th>Fare</th>\n",
       "      <th>Embarked</th>\n",
       "      <th>Family</th>\n",
       "    </tr>\n",
       "  </thead>\n",
       "  <tbody>\n",
       "    <tr>\n",
       "      <th>count</th>\n",
       "      <td>100000.000000</td>\n",
       "      <td>100000.00000</td>\n",
       "      <td>100000.000000</td>\n",
       "      <td>100000.000000</td>\n",
       "      <td>100000.000000</td>\n",
       "      <td>100000.000000</td>\n",
       "      <td>100000.000000</td>\n",
       "      <td>100000.000000</td>\n",
       "    </tr>\n",
       "    <tr>\n",
       "      <th>mean</th>\n",
       "      <td>2.106910</td>\n",
       "      <td>0.56114</td>\n",
       "      <td>38.355472</td>\n",
       "      <td>0.397690</td>\n",
       "      <td>0.454560</td>\n",
       "      <td>3.156568</td>\n",
       "      <td>1.504520</td>\n",
       "      <td>0.852250</td>\n",
       "    </tr>\n",
       "    <tr>\n",
       "      <th>std</th>\n",
       "      <td>0.837727</td>\n",
       "      <td>0.49625</td>\n",
       "      <td>18.009589</td>\n",
       "      <td>0.862566</td>\n",
       "      <td>0.950076</td>\n",
       "      <td>1.016036</td>\n",
       "      <td>0.835899</td>\n",
       "      <td>1.412792</td>\n",
       "    </tr>\n",
       "    <tr>\n",
       "      <th>min</th>\n",
       "      <td>1.000000</td>\n",
       "      <td>0.00000</td>\n",
       "      <td>0.080000</td>\n",
       "      <td>0.000000</td>\n",
       "      <td>0.000000</td>\n",
       "      <td>-0.385662</td>\n",
       "      <td>0.000000</td>\n",
       "      <td>0.000000</td>\n",
       "    </tr>\n",
       "    <tr>\n",
       "      <th>25%</th>\n",
       "      <td>1.000000</td>\n",
       "      <td>0.00000</td>\n",
       "      <td>25.000000</td>\n",
       "      <td>0.000000</td>\n",
       "      <td>0.000000</td>\n",
       "      <td>2.306577</td>\n",
       "      <td>1.000000</td>\n",
       "      <td>0.000000</td>\n",
       "    </tr>\n",
       "    <tr>\n",
       "      <th>50%</th>\n",
       "      <td>2.000000</td>\n",
       "      <td>1.00000</td>\n",
       "      <td>38.355472</td>\n",
       "      <td>0.000000</td>\n",
       "      <td>0.000000</td>\n",
       "      <td>3.198265</td>\n",
       "      <td>2.000000</td>\n",
       "      <td>0.000000</td>\n",
       "    </tr>\n",
       "    <tr>\n",
       "      <th>75%</th>\n",
       "      <td>3.000000</td>\n",
       "      <td>1.00000</td>\n",
       "      <td>53.000000</td>\n",
       "      <td>1.000000</td>\n",
       "      <td>1.000000</td>\n",
       "      <td>3.513335</td>\n",
       "      <td>2.000000</td>\n",
       "      <td>1.000000</td>\n",
       "    </tr>\n",
       "    <tr>\n",
       "      <th>max</th>\n",
       "      <td>3.000000</td>\n",
       "      <td>1.00000</td>\n",
       "      <td>87.000000</td>\n",
       "      <td>8.000000</td>\n",
       "      <td>9.000000</td>\n",
       "      <td>6.612928</td>\n",
       "      <td>3.000000</td>\n",
       "      <td>17.000000</td>\n",
       "    </tr>\n",
       "  </tbody>\n",
       "</table>\n",
       "</div>"
      ],
      "text/plain": [
       "              Pclass           Sex            Age          SibSp  \\\n",
       "count  100000.000000  100000.00000  100000.000000  100000.000000   \n",
       "mean        2.106910       0.56114      38.355472       0.397690   \n",
       "std         0.837727       0.49625      18.009589       0.862566   \n",
       "min         1.000000       0.00000       0.080000       0.000000   \n",
       "25%         1.000000       0.00000      25.000000       0.000000   \n",
       "50%         2.000000       1.00000      38.355472       0.000000   \n",
       "75%         3.000000       1.00000      53.000000       1.000000   \n",
       "max         3.000000       1.00000      87.000000       8.000000   \n",
       "\n",
       "               Parch           Fare       Embarked         Family  \n",
       "count  100000.000000  100000.000000  100000.000000  100000.000000  \n",
       "mean        0.454560       3.156568       1.504520       0.852250  \n",
       "std         0.950076       1.016036       0.835899       1.412792  \n",
       "min         0.000000      -0.385662       0.000000       0.000000  \n",
       "25%         0.000000       2.306577       1.000000       0.000000  \n",
       "50%         0.000000       3.198265       2.000000       0.000000  \n",
       "75%         1.000000       3.513335       2.000000       1.000000  \n",
       "max         9.000000       6.612928       3.000000      17.000000  "
      ]
     },
     "execution_count": 7,
     "metadata": {},
     "output_type": "execute_result"
    }
   ],
   "source": [
    "x.describe()"
   ]
  },
  {
   "cell_type": "code",
   "execution_count": 8,
   "id": "sealed-peninsula",
   "metadata": {
    "execution": {
     "iopub.execute_input": "2021-04-02T07:41:40.592354Z",
     "iopub.status.busy": "2021-04-02T07:41:40.591602Z",
     "iopub.status.idle": "2021-04-02T07:41:40.607083Z",
     "shell.execute_reply": "2021-04-02T07:41:40.606655Z"
    },
    "papermill": {
     "duration": 0.034885,
     "end_time": "2021-04-02T07:41:40.607220",
     "exception": false,
     "start_time": "2021-04-02T07:41:40.572335",
     "status": "completed"
    },
    "tags": []
   },
   "outputs": [],
   "source": [
    "x_train,x_val,y_train,y_val = train_test_split(x,y)"
   ]
  },
  {
   "cell_type": "code",
   "execution_count": 9,
   "id": "helpful-vision",
   "metadata": {
    "execution": {
     "iopub.execute_input": "2021-04-02T07:41:40.641586Z",
     "iopub.status.busy": "2021-04-02T07:41:40.641015Z",
     "iopub.status.idle": "2021-04-02T07:41:40.644606Z",
     "shell.execute_reply": "2021-04-02T07:41:40.645023Z"
    },
    "papermill": {
     "duration": 0.02251,
     "end_time": "2021-04-02T07:41:40.645151",
     "exception": false,
     "start_time": "2021-04-02T07:41:40.622641",
     "status": "completed"
    },
    "tags": []
   },
   "outputs": [],
   "source": [
    "model = LogisticRegression()"
   ]
  },
  {
   "cell_type": "code",
   "execution_count": 10,
   "id": "sustainable-albania",
   "metadata": {
    "execution": {
     "iopub.execute_input": "2021-04-02T07:41:40.683164Z",
     "iopub.status.busy": "2021-04-02T07:41:40.682274Z",
     "iopub.status.idle": "2021-04-02T07:41:42.403848Z",
     "shell.execute_reply": "2021-04-02T07:41:42.402532Z"
    },
    "papermill": {
     "duration": 1.742471,
     "end_time": "2021-04-02T07:41:42.404049",
     "exception": false,
     "start_time": "2021-04-02T07:41:40.661578",
     "status": "completed"
    },
    "tags": []
   },
   "outputs": [],
   "source": [
    " model_trained = model.fit(x_train,y_train)"
   ]
  },
  {
   "cell_type": "code",
   "execution_count": 11,
   "id": "tested-rental",
   "metadata": {
    "execution": {
     "iopub.execute_input": "2021-04-02T07:41:42.468060Z",
     "iopub.status.busy": "2021-04-02T07:41:42.467253Z",
     "iopub.status.idle": "2021-04-02T07:41:42.553862Z",
     "shell.execute_reply": "2021-04-02T07:41:42.554887Z"
    },
    "papermill": {
     "duration": 0.12353,
     "end_time": "2021-04-02T07:41:42.555116",
     "exception": false,
     "start_time": "2021-04-02T07:41:42.431586",
     "status": "completed"
    },
    "tags": []
   },
   "outputs": [
    {
     "name": "stdout",
     "output_type": "stream",
     "text": [
      "              precision    recall  f1-score   support\n",
      "\n",
      "           0       0.80      0.78      0.79     14386\n",
      "           1       0.71      0.74      0.73     10614\n",
      "\n",
      "    accuracy                           0.76     25000\n",
      "   macro avg       0.76      0.76      0.76     25000\n",
      "weighted avg       0.77      0.76      0.76     25000\n",
      "\n"
     ]
    }
   ],
   "source": [
    "print(classification_report(y_val,model_trained.predict(x_val)))"
   ]
  },
  {
   "cell_type": "code",
   "execution_count": 12,
   "id": "prescribed-equipment",
   "metadata": {
    "execution": {
     "iopub.execute_input": "2021-04-02T07:41:42.612546Z",
     "iopub.status.busy": "2021-04-02T07:41:42.611695Z",
     "iopub.status.idle": "2021-04-02T07:41:42.627607Z",
     "shell.execute_reply": "2021-04-02T07:41:42.628055Z"
    },
    "papermill": {
     "duration": 0.044766,
     "end_time": "2021-04-02T07:41:42.628208",
     "exception": false,
     "start_time": "2021-04-02T07:41:42.583442",
     "status": "completed"
    },
    "tags": []
   },
   "outputs": [
    {
     "name": "stdout",
     "output_type": "stream",
     "text": [
      "0.7616112195945794\n"
     ]
    }
   ],
   "source": [
    "print(roc_auc_score(y_val,model_trained.predict(x_val)))"
   ]
  },
  {
   "cell_type": "code",
   "execution_count": 13,
   "id": "oriented-johns",
   "metadata": {
    "execution": {
     "iopub.execute_input": "2021-04-02T07:41:42.693242Z",
     "iopub.status.busy": "2021-04-02T07:41:42.692360Z",
     "iopub.status.idle": "2021-04-02T07:41:44.183630Z",
     "shell.execute_reply": "2021-04-02T07:41:44.184522Z"
    },
    "papermill": {
     "duration": 1.528372,
     "end_time": "2021-04-02T07:41:44.184773",
     "exception": false,
     "start_time": "2021-04-02T07:41:42.656401",
     "status": "completed"
    },
    "tags": []
   },
   "outputs": [
    {
     "name": "stderr",
     "output_type": "stream",
     "text": [
      "/opt/conda/lib/python3.7/site-packages/sklearn/linear_model/_logistic.py:765: ConvergenceWarning: lbfgs failed to converge (status=1):\n",
      "STOP: TOTAL NO. of ITERATIONS REACHED LIMIT.\n",
      "\n",
      "Increase the number of iterations (max_iter) or scale the data as shown in:\n",
      "    https://scikit-learn.org/stable/modules/preprocessing.html\n",
      "Please also refer to the documentation for alternative solver options:\n",
      "    https://scikit-learn.org/stable/modules/linear_model.html#logistic-regression\n",
      "  extra_warning_msg=_LOGISTIC_SOLVER_CONVERGENCE_MSG)\n"
     ]
    }
   ],
   "source": [
    "final_model = model.fit(x,y)"
   ]
  },
  {
   "cell_type": "code",
   "execution_count": 14,
   "id": "initial-start",
   "metadata": {
    "execution": {
     "iopub.execute_input": "2021-04-02T07:41:44.252359Z",
     "iopub.status.busy": "2021-04-02T07:41:44.251827Z",
     "iopub.status.idle": "2021-04-02T07:41:44.497961Z",
     "shell.execute_reply": "2021-04-02T07:41:44.496916Z"
    },
    "papermill": {
     "duration": 0.284021,
     "end_time": "2021-04-02T07:41:44.498105",
     "exception": false,
     "start_time": "2021-04-02T07:41:44.214084",
     "status": "completed"
    },
    "tags": []
   },
   "outputs": [],
   "source": [
    "test_df = pd.read_csv(\"../input/tabular-playground-series-apr-2021/test.csv\")"
   ]
  },
  {
   "cell_type": "code",
   "execution_count": 15,
   "id": "important-territory",
   "metadata": {
    "execution": {
     "iopub.execute_input": "2021-04-02T07:41:44.540213Z",
     "iopub.status.busy": "2021-04-02T07:41:44.537633Z",
     "iopub.status.idle": "2021-04-02T07:41:44.804042Z",
     "shell.execute_reply": "2021-04-02T07:41:44.804480Z"
    },
    "papermill": {
     "duration": 0.288913,
     "end_time": "2021-04-02T07:41:44.804632",
     "exception": false,
     "start_time": "2021-04-02T07:41:44.515719",
     "status": "completed"
    },
    "tags": []
   },
   "outputs": [
    {
     "name": "stderr",
     "output_type": "stream",
     "text": [
      "/opt/conda/lib/python3.7/site-packages/ipykernel_launcher.py:2: SettingWithCopyWarning: \n",
      "A value is trying to be set on a copy of a slice from a DataFrame.\n",
      "Try using .loc[row_indexer,col_indexer] = value instead\n",
      "\n",
      "See the caveats in the documentation: https://pandas.pydata.org/pandas-docs/stable/user_guide/indexing.html#returning-a-view-versus-a-copy\n",
      "  \n",
      "/opt/conda/lib/python3.7/site-packages/ipykernel_launcher.py:3: SettingWithCopyWarning: \n",
      "A value is trying to be set on a copy of a slice from a DataFrame.\n",
      "Try using .loc[row_indexer,col_indexer] = value instead\n",
      "\n",
      "See the caveats in the documentation: https://pandas.pydata.org/pandas-docs/stable/user_guide/indexing.html#returning-a-view-versus-a-copy\n",
      "  This is separate from the ipykernel package so we can avoid doing imports until\n",
      "/opt/conda/lib/python3.7/site-packages/ipykernel_launcher.py:4: SettingWithCopyWarning: \n",
      "A value is trying to be set on a copy of a slice from a DataFrame.\n",
      "Try using .loc[row_indexer,col_indexer] = value instead\n",
      "\n",
      "See the caveats in the documentation: https://pandas.pydata.org/pandas-docs/stable/user_guide/indexing.html#returning-a-view-versus-a-copy\n",
      "  after removing the cwd from sys.path.\n",
      "/opt/conda/lib/python3.7/site-packages/ipykernel_launcher.py:6: SettingWithCopyWarning: \n",
      "A value is trying to be set on a copy of a slice from a DataFrame.\n",
      "Try using .loc[row_indexer,col_indexer] = value instead\n",
      "\n",
      "See the caveats in the documentation: https://pandas.pydata.org/pandas-docs/stable/user_guide/indexing.html#returning-a-view-versus-a-copy\n",
      "  \n",
      "/opt/conda/lib/python3.7/site-packages/ipykernel_launcher.py:7: SettingWithCopyWarning: \n",
      "A value is trying to be set on a copy of a slice from a DataFrame.\n",
      "Try using .loc[row_indexer,col_indexer] = value instead\n",
      "\n",
      "See the caveats in the documentation: https://pandas.pydata.org/pandas-docs/stable/user_guide/indexing.html#returning-a-view-versus-a-copy\n",
      "  import sys\n",
      "/opt/conda/lib/python3.7/site-packages/ipykernel_launcher.py:8: SettingWithCopyWarning: \n",
      "A value is trying to be set on a copy of a slice from a DataFrame.\n",
      "Try using .loc[row_indexer,col_indexer] = value instead\n",
      "\n",
      "See the caveats in the documentation: https://pandas.pydata.org/pandas-docs/stable/user_guide/indexing.html#returning-a-view-versus-a-copy\n",
      "  \n",
      "/opt/conda/lib/python3.7/site-packages/ipykernel_launcher.py:9: SettingWithCopyWarning: \n",
      "A value is trying to be set on a copy of a slice from a DataFrame.\n",
      "Try using .loc[row_indexer,col_indexer] = value instead\n",
      "\n",
      "See the caveats in the documentation: https://pandas.pydata.org/pandas-docs/stable/user_guide/indexing.html#returning-a-view-versus-a-copy\n",
      "  if __name__ == '__main__':\n"
     ]
    }
   ],
   "source": [
    "test_df_clean = test_df[[\"Pclass\",\"Sex\",\"Age\",\"SibSp\",\"Parch\",\"Fare\",\"Embarked\"]]\n",
    "test_df_clean = data_prep(test_df_clean,\"test\")"
   ]
  },
  {
   "cell_type": "code",
   "execution_count": 16,
   "id": "structural-handy",
   "metadata": {
    "execution": {
     "iopub.execute_input": "2021-04-02T07:41:44.844269Z",
     "iopub.status.busy": "2021-04-02T07:41:44.843392Z",
     "iopub.status.idle": "2021-04-02T07:41:44.850879Z",
     "shell.execute_reply": "2021-04-02T07:41:44.850468Z"
    },
    "papermill": {
     "duration": 0.028891,
     "end_time": "2021-04-02T07:41:44.850993",
     "exception": false,
     "start_time": "2021-04-02T07:41:44.822102",
     "status": "completed"
    },
    "tags": []
   },
   "outputs": [
    {
     "data": {
      "text/plain": [
       "Pclass      0\n",
       "Sex         0\n",
       "Age         0\n",
       "SibSp       0\n",
       "Parch       0\n",
       "Fare        0\n",
       "Embarked    0\n",
       "Family      0\n",
       "dtype: int64"
      ]
     },
     "execution_count": 16,
     "metadata": {},
     "output_type": "execute_result"
    }
   ],
   "source": [
    "test_df_clean.isna().sum()"
   ]
  },
  {
   "cell_type": "code",
   "execution_count": 17,
   "id": "peaceful-transparency",
   "metadata": {
    "execution": {
     "iopub.execute_input": "2021-04-02T07:41:44.892647Z",
     "iopub.status.busy": "2021-04-02T07:41:44.891588Z",
     "iopub.status.idle": "2021-04-02T07:41:44.901170Z",
     "shell.execute_reply": "2021-04-02T07:41:44.901809Z"
    },
    "papermill": {
     "duration": 0.033537,
     "end_time": "2021-04-02T07:41:44.902018",
     "exception": false,
     "start_time": "2021-04-02T07:41:44.868481",
     "status": "completed"
    },
    "tags": []
   },
   "outputs": [],
   "source": [
    "preds = final_model.predict(test_df_clean)"
   ]
  },
  {
   "cell_type": "code",
   "execution_count": 18,
   "id": "hungry-myrtle",
   "metadata": {
    "execution": {
     "iopub.execute_input": "2021-04-02T07:41:44.973958Z",
     "iopub.status.busy": "2021-04-02T07:41:44.972635Z",
     "iopub.status.idle": "2021-04-02T07:41:44.976079Z",
     "shell.execute_reply": "2021-04-02T07:41:44.977452Z"
    },
    "papermill": {
     "duration": 0.044155,
     "end_time": "2021-04-02T07:41:44.977648",
     "exception": false,
     "start_time": "2021-04-02T07:41:44.933493",
     "status": "completed"
    },
    "tags": []
   },
   "outputs": [
    {
     "data": {
      "text/plain": [
       "array([0, 0, 1, ..., 0, 1, 1])"
      ]
     },
     "execution_count": 18,
     "metadata": {},
     "output_type": "execute_result"
    }
   ],
   "source": [
    "preds"
   ]
  },
  {
   "cell_type": "code",
   "execution_count": 19,
   "id": "defensive-andorra",
   "metadata": {
    "execution": {
     "iopub.execute_input": "2021-04-02T07:41:45.041317Z",
     "iopub.status.busy": "2021-04-02T07:41:45.040529Z",
     "iopub.status.idle": "2021-04-02T07:41:45.043108Z",
     "shell.execute_reply": "2021-04-02T07:41:45.042714Z"
    },
    "papermill": {
     "duration": 0.033997,
     "end_time": "2021-04-02T07:41:45.043231",
     "exception": false,
     "start_time": "2021-04-02T07:41:45.009234",
     "status": "completed"
    },
    "tags": []
   },
   "outputs": [],
   "source": [
    "submit = pd.DataFrame({\"PassengerId\":test_df[\"PassengerId\"],\"Survived\":preds})"
   ]
  },
  {
   "cell_type": "code",
   "execution_count": 20,
   "id": "forbidden-example",
   "metadata": {
    "execution": {
     "iopub.execute_input": "2021-04-02T07:41:45.088237Z",
     "iopub.status.busy": "2021-04-02T07:41:45.087720Z",
     "iopub.status.idle": "2021-04-02T07:41:45.092759Z",
     "shell.execute_reply": "2021-04-02T07:41:45.092368Z"
    },
    "papermill": {
     "duration": 0.031717,
     "end_time": "2021-04-02T07:41:45.092865",
     "exception": false,
     "start_time": "2021-04-02T07:41:45.061148",
     "status": "completed"
    },
    "tags": []
   },
   "outputs": [
    {
     "data": {
      "text/html": [
       "<div>\n",
       "<style scoped>\n",
       "    .dataframe tbody tr th:only-of-type {\n",
       "        vertical-align: middle;\n",
       "    }\n",
       "\n",
       "    .dataframe tbody tr th {\n",
       "        vertical-align: top;\n",
       "    }\n",
       "\n",
       "    .dataframe thead th {\n",
       "        text-align: right;\n",
       "    }\n",
       "</style>\n",
       "<table border=\"1\" class=\"dataframe\">\n",
       "  <thead>\n",
       "    <tr style=\"text-align: right;\">\n",
       "      <th></th>\n",
       "      <th>PassengerId</th>\n",
       "      <th>Survived</th>\n",
       "    </tr>\n",
       "  </thead>\n",
       "  <tbody>\n",
       "    <tr>\n",
       "      <th>0</th>\n",
       "      <td>100000</td>\n",
       "      <td>0</td>\n",
       "    </tr>\n",
       "    <tr>\n",
       "      <th>1</th>\n",
       "      <td>100001</td>\n",
       "      <td>0</td>\n",
       "    </tr>\n",
       "    <tr>\n",
       "      <th>2</th>\n",
       "      <td>100002</td>\n",
       "      <td>1</td>\n",
       "    </tr>\n",
       "    <tr>\n",
       "      <th>3</th>\n",
       "      <td>100003</td>\n",
       "      <td>0</td>\n",
       "    </tr>\n",
       "    <tr>\n",
       "      <th>4</th>\n",
       "      <td>100004</td>\n",
       "      <td>1</td>\n",
       "    </tr>\n",
       "    <tr>\n",
       "      <th>...</th>\n",
       "      <td>...</td>\n",
       "      <td>...</td>\n",
       "    </tr>\n",
       "    <tr>\n",
       "      <th>99995</th>\n",
       "      <td>199995</td>\n",
       "      <td>1</td>\n",
       "    </tr>\n",
       "    <tr>\n",
       "      <th>99996</th>\n",
       "      <td>199996</td>\n",
       "      <td>0</td>\n",
       "    </tr>\n",
       "    <tr>\n",
       "      <th>99997</th>\n",
       "      <td>199997</td>\n",
       "      <td>0</td>\n",
       "    </tr>\n",
       "    <tr>\n",
       "      <th>99998</th>\n",
       "      <td>199998</td>\n",
       "      <td>1</td>\n",
       "    </tr>\n",
       "    <tr>\n",
       "      <th>99999</th>\n",
       "      <td>199999</td>\n",
       "      <td>1</td>\n",
       "    </tr>\n",
       "  </tbody>\n",
       "</table>\n",
       "<p>100000 rows × 2 columns</p>\n",
       "</div>"
      ],
      "text/plain": [
       "       PassengerId  Survived\n",
       "0           100000         0\n",
       "1           100001         0\n",
       "2           100002         1\n",
       "3           100003         0\n",
       "4           100004         1\n",
       "...            ...       ...\n",
       "99995       199995         1\n",
       "99996       199996         0\n",
       "99997       199997         0\n",
       "99998       199998         1\n",
       "99999       199999         1\n",
       "\n",
       "[100000 rows x 2 columns]"
      ]
     },
     "execution_count": 20,
     "metadata": {},
     "output_type": "execute_result"
    }
   ],
   "source": [
    "submit"
   ]
  },
  {
   "cell_type": "code",
   "execution_count": 21,
   "id": "lyric-snapshot",
   "metadata": {
    "execution": {
     "iopub.execute_input": "2021-04-02T07:41:45.133009Z",
     "iopub.status.busy": "2021-04-02T07:41:45.132513Z",
     "iopub.status.idle": "2021-04-02T07:41:45.531794Z",
     "shell.execute_reply": "2021-04-02T07:41:45.531007Z"
    },
    "papermill": {
     "duration": 0.42069,
     "end_time": "2021-04-02T07:41:45.531923",
     "exception": false,
     "start_time": "2021-04-02T07:41:45.111233",
     "status": "completed"
    },
    "tags": []
   },
   "outputs": [],
   "source": [
    "submit.to_csv(\"submission.csv\",index = False)"
   ]
  },
  {
   "cell_type": "code",
   "execution_count": null,
   "id": "greek-indonesian",
   "metadata": {
    "papermill": {
     "duration": 0.020159,
     "end_time": "2021-04-02T07:41:45.572970",
     "exception": false,
     "start_time": "2021-04-02T07:41:45.552811",
     "status": "completed"
    },
    "tags": []
   },
   "outputs": [],
   "source": []
  }
 ],
 "metadata": {
  "kernelspec": {
   "display_name": "Python 3",
   "language": "python",
   "name": "python3"
  },
  "language_info": {
   "codemirror_mode": {
    "name": "ipython",
    "version": 3
   },
   "file_extension": ".py",
   "mimetype": "text/x-python",
   "name": "python",
   "nbconvert_exporter": "python",
   "pygments_lexer": "ipython3",
   "version": "3.7.9"
  },
  "papermill": {
   "default_parameters": {},
   "duration": 17.828357,
   "end_time": "2021-04-02T07:41:47.516853",
   "environment_variables": {},
   "exception": null,
   "input_path": "__notebook__.ipynb",
   "output_path": "__notebook__.ipynb",
   "parameters": {},
   "start_time": "2021-04-02T07:41:29.688496",
   "version": "2.3.2"
  }
 },
 "nbformat": 4,
 "nbformat_minor": 5
}
