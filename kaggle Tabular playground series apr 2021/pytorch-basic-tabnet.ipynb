{
 "cells": [
  {
   "cell_type": "code",
   "execution_count": 1,
   "id": "referenced-complement",
   "metadata": {
    "_cell_guid": "b1076dfc-b9ad-4769-8c92-a6c4dae69d19",
    "_uuid": "8f2839f25d086af736a60e9eeb907d3b93b6e0e5",
    "execution": {
     "iopub.execute_input": "2021-04-06T03:22:08.864787Z",
     "iopub.status.busy": "2021-04-06T03:22:08.863418Z",
     "iopub.status.idle": "2021-04-06T03:22:16.515484Z",
     "shell.execute_reply": "2021-04-06T03:22:16.514405Z"
    },
    "papermill": {
     "duration": 7.665799,
     "end_time": "2021-04-06T03:22:16.515659",
     "exception": false,
     "start_time": "2021-04-06T03:22:08.849860",
     "status": "completed"
    },
    "tags": []
   },
   "outputs": [
    {
     "name": "stdout",
     "output_type": "stream",
     "text": [
      "Collecting pytorch-tabnet\r\n",
      "  Downloading pytorch_tabnet-3.1.1-py3-none-any.whl (39 kB)\r\n",
      "Requirement already satisfied: tqdm<5.0,>=4.36 in /opt/conda/lib/python3.7/site-packages (from pytorch-tabnet) (4.56.2)\r\n",
      "Requirement already satisfied: torch<2.0,>=1.2 in /opt/conda/lib/python3.7/site-packages (from pytorch-tabnet) (1.7.0)\r\n",
      "Requirement already satisfied: scikit_learn>0.21 in /opt/conda/lib/python3.7/site-packages (from pytorch-tabnet) (0.24.1)\r\n",
      "Requirement already satisfied: numpy<2.0,>=1.17 in /opt/conda/lib/python3.7/site-packages (from pytorch-tabnet) (1.19.5)\r\n",
      "Requirement already satisfied: scipy>1.4 in /opt/conda/lib/python3.7/site-packages (from pytorch-tabnet) (1.5.4)\r\n",
      "Requirement already satisfied: threadpoolctl>=2.0.0 in /opt/conda/lib/python3.7/site-packages (from scikit_learn>0.21->pytorch-tabnet) (2.1.0)\r\n",
      "Requirement already satisfied: joblib>=0.11 in /opt/conda/lib/python3.7/site-packages (from scikit_learn>0.21->pytorch-tabnet) (1.0.1)\r\n",
      "Requirement already satisfied: future in /opt/conda/lib/python3.7/site-packages (from torch<2.0,>=1.2->pytorch-tabnet) (0.18.2)\r\n",
      "Requirement already satisfied: typing_extensions in /opt/conda/lib/python3.7/site-packages (from torch<2.0,>=1.2->pytorch-tabnet) (3.7.4.3)\r\n",
      "Requirement already satisfied: dataclasses in /opt/conda/lib/python3.7/site-packages (from torch<2.0,>=1.2->pytorch-tabnet) (0.6)\r\n",
      "Installing collected packages: pytorch-tabnet\r\n",
      "Successfully installed pytorch-tabnet-3.1.1\r\n"
     ]
    }
   ],
   "source": [
    "!pip install pytorch-tabnet"
   ]
  },
  {
   "cell_type": "code",
   "execution_count": 2,
   "id": "light-alpha",
   "metadata": {
    "execution": {
     "iopub.execute_input": "2021-04-06T03:22:16.542695Z",
     "iopub.status.busy": "2021-04-06T03:22:16.541589Z",
     "iopub.status.idle": "2021-04-06T03:22:22.439294Z",
     "shell.execute_reply": "2021-04-06T03:22:22.438118Z"
    },
    "papermill": {
     "duration": 5.912713,
     "end_time": "2021-04-06T03:22:22.439443",
     "exception": false,
     "start_time": "2021-04-06T03:22:16.526730",
     "status": "completed"
    },
    "tags": []
   },
   "outputs": [],
   "source": [
    "import pandas as pd\n",
    "import numpy as np \n",
    "from xgboost import XGBClassifier\n",
    "from sklearn.model_selection import train_test_split\n",
    "from sklearn.metrics import classification_report \n",
    "from sklearn import preprocessing\n",
    "from sklearn.impute import SimpleImputer\n",
    "from sklearn.metrics import roc_auc_score\n",
    "from pytorch_tabnet.tab_model import TabNetClassifier, TabNetRegressor"
   ]
  },
  {
   "cell_type": "code",
   "execution_count": 3,
   "id": "chinese-stable",
   "metadata": {
    "execution": {
     "iopub.execute_input": "2021-04-06T03:22:22.467066Z",
     "iopub.status.busy": "2021-04-06T03:22:22.466528Z",
     "iopub.status.idle": "2021-04-06T03:22:22.730004Z",
     "shell.execute_reply": "2021-04-06T03:22:22.730463Z"
    },
    "papermill": {
     "duration": 0.280508,
     "end_time": "2021-04-06T03:22:22.730643",
     "exception": false,
     "start_time": "2021-04-06T03:22:22.450135",
     "status": "completed"
    },
    "tags": []
   },
   "outputs": [
    {
     "data": {
      "text/html": [
       "<div>\n",
       "<style scoped>\n",
       "    .dataframe tbody tr th:only-of-type {\n",
       "        vertical-align: middle;\n",
       "    }\n",
       "\n",
       "    .dataframe tbody tr th {\n",
       "        vertical-align: top;\n",
       "    }\n",
       "\n",
       "    .dataframe thead th {\n",
       "        text-align: right;\n",
       "    }\n",
       "</style>\n",
       "<table border=\"1\" class=\"dataframe\">\n",
       "  <thead>\n",
       "    <tr style=\"text-align: right;\">\n",
       "      <th></th>\n",
       "      <th>PassengerId</th>\n",
       "      <th>Survived</th>\n",
       "      <th>Pclass</th>\n",
       "      <th>Name</th>\n",
       "      <th>Sex</th>\n",
       "      <th>Age</th>\n",
       "      <th>SibSp</th>\n",
       "      <th>Parch</th>\n",
       "      <th>Ticket</th>\n",
       "      <th>Fare</th>\n",
       "      <th>Cabin</th>\n",
       "      <th>Embarked</th>\n",
       "    </tr>\n",
       "  </thead>\n",
       "  <tbody>\n",
       "    <tr>\n",
       "      <th>0</th>\n",
       "      <td>0</td>\n",
       "      <td>1</td>\n",
       "      <td>1</td>\n",
       "      <td>Oconnor, Frankie</td>\n",
       "      <td>male</td>\n",
       "      <td>NaN</td>\n",
       "      <td>2</td>\n",
       "      <td>0</td>\n",
       "      <td>209245</td>\n",
       "      <td>27.14</td>\n",
       "      <td>C12239</td>\n",
       "      <td>S</td>\n",
       "    </tr>\n",
       "    <tr>\n",
       "      <th>1</th>\n",
       "      <td>1</td>\n",
       "      <td>0</td>\n",
       "      <td>3</td>\n",
       "      <td>Bryan, Drew</td>\n",
       "      <td>male</td>\n",
       "      <td>NaN</td>\n",
       "      <td>0</td>\n",
       "      <td>0</td>\n",
       "      <td>27323</td>\n",
       "      <td>13.35</td>\n",
       "      <td>NaN</td>\n",
       "      <td>S</td>\n",
       "    </tr>\n",
       "    <tr>\n",
       "      <th>2</th>\n",
       "      <td>2</td>\n",
       "      <td>0</td>\n",
       "      <td>3</td>\n",
       "      <td>Owens, Kenneth</td>\n",
       "      <td>male</td>\n",
       "      <td>0.33</td>\n",
       "      <td>1</td>\n",
       "      <td>2</td>\n",
       "      <td>CA 457703</td>\n",
       "      <td>71.29</td>\n",
       "      <td>NaN</td>\n",
       "      <td>S</td>\n",
       "    </tr>\n",
       "    <tr>\n",
       "      <th>3</th>\n",
       "      <td>3</td>\n",
       "      <td>0</td>\n",
       "      <td>3</td>\n",
       "      <td>Kramer, James</td>\n",
       "      <td>male</td>\n",
       "      <td>19.00</td>\n",
       "      <td>0</td>\n",
       "      <td>0</td>\n",
       "      <td>A. 10866</td>\n",
       "      <td>13.04</td>\n",
       "      <td>NaN</td>\n",
       "      <td>S</td>\n",
       "    </tr>\n",
       "    <tr>\n",
       "      <th>4</th>\n",
       "      <td>4</td>\n",
       "      <td>1</td>\n",
       "      <td>3</td>\n",
       "      <td>Bond, Michael</td>\n",
       "      <td>male</td>\n",
       "      <td>25.00</td>\n",
       "      <td>0</td>\n",
       "      <td>0</td>\n",
       "      <td>427635</td>\n",
       "      <td>7.76</td>\n",
       "      <td>NaN</td>\n",
       "      <td>S</td>\n",
       "    </tr>\n",
       "  </tbody>\n",
       "</table>\n",
       "</div>"
      ],
      "text/plain": [
       "   PassengerId  Survived  Pclass              Name   Sex    Age  SibSp  Parch  \\\n",
       "0            0         1       1  Oconnor, Frankie  male    NaN      2      0   \n",
       "1            1         0       3       Bryan, Drew  male    NaN      0      0   \n",
       "2            2         0       3    Owens, Kenneth  male   0.33      1      2   \n",
       "3            3         0       3     Kramer, James  male  19.00      0      0   \n",
       "4            4         1       3     Bond, Michael  male  25.00      0      0   \n",
       "\n",
       "      Ticket   Fare   Cabin Embarked  \n",
       "0     209245  27.14  C12239        S  \n",
       "1      27323  13.35     NaN        S  \n",
       "2  CA 457703  71.29     NaN        S  \n",
       "3   A. 10866  13.04     NaN        S  \n",
       "4     427635   7.76     NaN        S  "
      ]
     },
     "execution_count": 3,
     "metadata": {},
     "output_type": "execute_result"
    }
   ],
   "source": [
    "train_df = pd.read_csv(\"../input/tabular-playground-series-apr-2021/train.csv\")\n",
    "train_df.head()"
   ]
  },
  {
   "cell_type": "code",
   "execution_count": 4,
   "id": "missing-butterfly",
   "metadata": {
    "execution": {
     "iopub.execute_input": "2021-04-06T03:22:22.760304Z",
     "iopub.status.busy": "2021-04-06T03:22:22.759794Z",
     "iopub.status.idle": "2021-04-06T03:22:22.762971Z",
     "shell.execute_reply": "2021-04-06T03:22:22.762546Z"
    },
    "papermill": {
     "duration": 0.020895,
     "end_time": "2021-04-06T03:22:22.763071",
     "exception": false,
     "start_time": "2021-04-06T03:22:22.742176",
     "status": "completed"
    },
    "tags": []
   },
   "outputs": [],
   "source": [
    "x = train_df[[\"Pclass\",\"Sex\",\"Age\",\"SibSp\",\"Parch\",\"Fare\",\"Embarked\"]]\n",
    "y  = train_df[\"Survived\"]"
   ]
  },
  {
   "cell_type": "code",
   "execution_count": 5,
   "id": "initial-estimate",
   "metadata": {
    "execution": {
     "iopub.execute_input": "2021-04-06T03:22:22.791281Z",
     "iopub.status.busy": "2021-04-06T03:22:22.790759Z",
     "iopub.status.idle": "2021-04-06T03:22:22.794455Z",
     "shell.execute_reply": "2021-04-06T03:22:22.794058Z"
    },
    "papermill": {
     "duration": 0.020845,
     "end_time": "2021-04-06T03:22:22.794620",
     "exception": false,
     "start_time": "2021-04-06T03:22:22.773775",
     "status": "completed"
    },
    "tags": []
   },
   "outputs": [],
   "source": [
    "def data_prep(x,mode):\n",
    "    x[\"Age\"] =x[\"Age\"].fillna(x[\"Age\"].mean()) \n",
    "    x[\"Fare\"] =x[\"Fare\"].fillna(x[\"Fare\"].mean()) \n",
    "    x[\"Embarked\"] =x[\"Embarked\"].fillna(x[\"Embarked\"].mode()) \n",
    "    le = preprocessing.LabelEncoder()\n",
    "    x[\"Sex\"] = le.fit_transform(x[\"Sex\"])\n",
    "    x[\"Embarked\"] = le.fit_transform(x[\"Embarked\"])\n",
    "    x[\"Family\"] = x[\"SibSp\"] + x[\"Parch\"]\n",
    "    x[\"Fare\"] =  x['Fare'].map(lambda i: np.log(i) if i > 0 else 0)\n",
    "    return x"
   ]
  },
  {
   "cell_type": "code",
   "execution_count": 6,
   "id": "nonprofit-custom",
   "metadata": {
    "execution": {
     "iopub.execute_input": "2021-04-06T03:22:22.820869Z",
     "iopub.status.busy": "2021-04-06T03:22:22.820331Z",
     "iopub.status.idle": "2021-04-06T03:22:23.118698Z",
     "shell.execute_reply": "2021-04-06T03:22:23.119068Z"
    },
    "papermill": {
     "duration": 0.313305,
     "end_time": "2021-04-06T03:22:23.119215",
     "exception": false,
     "start_time": "2021-04-06T03:22:22.805910",
     "status": "completed"
    },
    "tags": []
   },
   "outputs": [
    {
     "name": "stderr",
     "output_type": "stream",
     "text": [
      "/opt/conda/lib/python3.7/site-packages/ipykernel_launcher.py:2: SettingWithCopyWarning: \n",
      "A value is trying to be set on a copy of a slice from a DataFrame.\n",
      "Try using .loc[row_indexer,col_indexer] = value instead\n",
      "\n",
      "See the caveats in the documentation: https://pandas.pydata.org/pandas-docs/stable/user_guide/indexing.html#returning-a-view-versus-a-copy\n",
      "  \n",
      "/opt/conda/lib/python3.7/site-packages/ipykernel_launcher.py:3: SettingWithCopyWarning: \n",
      "A value is trying to be set on a copy of a slice from a DataFrame.\n",
      "Try using .loc[row_indexer,col_indexer] = value instead\n",
      "\n",
      "See the caveats in the documentation: https://pandas.pydata.org/pandas-docs/stable/user_guide/indexing.html#returning-a-view-versus-a-copy\n",
      "  This is separate from the ipykernel package so we can avoid doing imports until\n",
      "/opt/conda/lib/python3.7/site-packages/ipykernel_launcher.py:4: SettingWithCopyWarning: \n",
      "A value is trying to be set on a copy of a slice from a DataFrame.\n",
      "Try using .loc[row_indexer,col_indexer] = value instead\n",
      "\n",
      "See the caveats in the documentation: https://pandas.pydata.org/pandas-docs/stable/user_guide/indexing.html#returning-a-view-versus-a-copy\n",
      "  after removing the cwd from sys.path.\n",
      "/opt/conda/lib/python3.7/site-packages/ipykernel_launcher.py:6: SettingWithCopyWarning: \n",
      "A value is trying to be set on a copy of a slice from a DataFrame.\n",
      "Try using .loc[row_indexer,col_indexer] = value instead\n",
      "\n",
      "See the caveats in the documentation: https://pandas.pydata.org/pandas-docs/stable/user_guide/indexing.html#returning-a-view-versus-a-copy\n",
      "  \n",
      "/opt/conda/lib/python3.7/site-packages/ipykernel_launcher.py:7: SettingWithCopyWarning: \n",
      "A value is trying to be set on a copy of a slice from a DataFrame.\n",
      "Try using .loc[row_indexer,col_indexer] = value instead\n",
      "\n",
      "See the caveats in the documentation: https://pandas.pydata.org/pandas-docs/stable/user_guide/indexing.html#returning-a-view-versus-a-copy\n",
      "  import sys\n",
      "/opt/conda/lib/python3.7/site-packages/ipykernel_launcher.py:8: SettingWithCopyWarning: \n",
      "A value is trying to be set on a copy of a slice from a DataFrame.\n",
      "Try using .loc[row_indexer,col_indexer] = value instead\n",
      "\n",
      "See the caveats in the documentation: https://pandas.pydata.org/pandas-docs/stable/user_guide/indexing.html#returning-a-view-versus-a-copy\n",
      "  \n",
      "/opt/conda/lib/python3.7/site-packages/ipykernel_launcher.py:9: SettingWithCopyWarning: \n",
      "A value is trying to be set on a copy of a slice from a DataFrame.\n",
      "Try using .loc[row_indexer,col_indexer] = value instead\n",
      "\n",
      "See the caveats in the documentation: https://pandas.pydata.org/pandas-docs/stable/user_guide/indexing.html#returning-a-view-versus-a-copy\n",
      "  if __name__ == '__main__':\n"
     ]
    }
   ],
   "source": [
    "x = data_prep(x,\"train\")\n",
    "x_train,x_val,y_train,y_val = train_test_split(x,y)\n"
   ]
  },
  {
   "cell_type": "code",
   "execution_count": null,
   "id": "vertical-alexander",
   "metadata": {
    "papermill": {
     "duration": 0.011675,
     "end_time": "2021-04-06T03:22:23.142572",
     "exception": false,
     "start_time": "2021-04-06T03:22:23.130897",
     "status": "completed"
    },
    "tags": []
   },
   "outputs": [],
   "source": []
  },
  {
   "cell_type": "code",
   "execution_count": 7,
   "id": "german-ballet",
   "metadata": {
    "execution": {
     "iopub.execute_input": "2021-04-06T03:22:23.171438Z",
     "iopub.status.busy": "2021-04-06T03:22:23.170838Z",
     "iopub.status.idle": "2021-04-06T03:25:10.533162Z",
     "shell.execute_reply": "2021-04-06T03:25:10.532690Z"
    },
    "papermill": {
     "duration": 167.379246,
     "end_time": "2021-04-06T03:25:10.533296",
     "exception": false,
     "start_time": "2021-04-06T03:22:23.154050",
     "status": "completed"
    },
    "tags": []
   },
   "outputs": [
    {
     "name": "stdout",
     "output_type": "stream",
     "text": [
      "Device used : cuda\n",
      "epoch 0  | loss: 0.53413 | val_0_auc: 0.76941 |  0:00:04s\n",
      "epoch 1  | loss: 0.50397 | val_0_auc: 0.82987 |  0:00:09s\n",
      "epoch 2  | loss: 0.49852 | val_0_auc: 0.83534 |  0:00:13s\n",
      "epoch 3  | loss: 0.49845 | val_0_auc: 0.83761 |  0:00:17s\n",
      "epoch 4  | loss: 0.49863 | val_0_auc: 0.83907 |  0:00:21s\n",
      "epoch 5  | loss: 0.49608 | val_0_auc: 0.83954 |  0:00:25s\n",
      "epoch 6  | loss: 0.49703 | val_0_auc: 0.83848 |  0:00:30s\n",
      "epoch 7  | loss: 0.49659 | val_0_auc: 0.83942 |  0:00:34s\n",
      "epoch 8  | loss: 0.49562 | val_0_auc: 0.83822 |  0:00:39s\n",
      "epoch 9  | loss: 0.49579 | val_0_auc: 0.83957 |  0:00:43s\n",
      "epoch 10 | loss: 0.49413 | val_0_auc: 0.83945 |  0:00:47s\n",
      "epoch 11 | loss: 0.49441 | val_0_auc: 0.83919 |  0:00:51s\n",
      "epoch 12 | loss: 0.49381 | val_0_auc: 0.83957 |  0:00:56s\n",
      "epoch 13 | loss: 0.49441 | val_0_auc: 0.83948 |  0:01:00s\n",
      "epoch 14 | loss: 0.49369 | val_0_auc: 0.83961 |  0:01:05s\n",
      "epoch 15 | loss: 0.49337 | val_0_auc: 0.84036 |  0:01:09s\n",
      "epoch 16 | loss: 0.49434 | val_0_auc: 0.84055 |  0:01:14s\n",
      "epoch 17 | loss: 0.49318 | val_0_auc: 0.84017 |  0:01:18s\n",
      "epoch 18 | loss: 0.49275 | val_0_auc: 0.84133 |  0:01:22s\n",
      "epoch 19 | loss: 0.49277 | val_0_auc: 0.84064 |  0:01:26s\n",
      "epoch 20 | loss: 0.49292 | val_0_auc: 0.84074 |  0:01:30s\n",
      "epoch 21 | loss: 0.4929  | val_0_auc: 0.84043 |  0:01:35s\n",
      "epoch 22 | loss: 0.49208 | val_0_auc: 0.84036 |  0:01:39s\n",
      "epoch 23 | loss: 0.49228 | val_0_auc: 0.83992 |  0:01:43s\n",
      "epoch 24 | loss: 0.4925  | val_0_auc: 0.83996 |  0:01:48s\n",
      "epoch 25 | loss: 0.49224 | val_0_auc: 0.83993 |  0:01:52s\n",
      "epoch 26 | loss: 0.49149 | val_0_auc: 0.84162 |  0:01:56s\n",
      "epoch 27 | loss: 0.49174 | val_0_auc: 0.84038 |  0:02:00s\n",
      "epoch 28 | loss: 0.49154 | val_0_auc: 0.83986 |  0:02:05s\n",
      "epoch 29 | loss: 0.49248 | val_0_auc: 0.84015 |  0:02:09s\n",
      "epoch 30 | loss: 0.49141 | val_0_auc: 0.84064 |  0:02:13s\n",
      "epoch 31 | loss: 0.49115 | val_0_auc: 0.8405  |  0:02:17s\n",
      "epoch 32 | loss: 0.49265 | val_0_auc: 0.84032 |  0:02:22s\n",
      "epoch 33 | loss: 0.49247 | val_0_auc: 0.84085 |  0:02:26s\n",
      "epoch 34 | loss: 0.49188 | val_0_auc: 0.84098 |  0:02:30s\n",
      "epoch 35 | loss: 0.49164 | val_0_auc: 0.84147 |  0:02:34s\n",
      "epoch 36 | loss: 0.49278 | val_0_auc: 0.8401  |  0:02:39s\n",
      "\n",
      "Early stopping occurred at epoch 36 with best_epoch = 26 and best_val_0_auc = 0.84162\n",
      "Best weights from best epoch are automatically used!\n"
     ]
    }
   ],
   "source": [
    "clf = TabNetClassifier() \n",
    "clf.fit(x_train.to_numpy(), y_train.to_numpy(),eval_set=[(x_val.to_numpy(), y_val.to_numpy())])"
   ]
  },
  {
   "cell_type": "code",
   "execution_count": 8,
   "id": "forty-plaintiff",
   "metadata": {
    "execution": {
     "iopub.execute_input": "2021-04-06T03:25:10.579859Z",
     "iopub.status.busy": "2021-04-06T03:25:10.579323Z",
     "iopub.status.idle": "2021-04-06T03:33:33.991949Z",
     "shell.execute_reply": "2021-04-06T03:33:33.991049Z"
    },
    "papermill": {
     "duration": 503.437366,
     "end_time": "2021-04-06T03:33:33.992095",
     "exception": false,
     "start_time": "2021-04-06T03:25:10.554729",
     "status": "completed"
    },
    "tags": []
   },
   "outputs": [
    {
     "name": "stdout",
     "output_type": "stream",
     "text": [
      "No early stopping will be performed, last training weights will be used.\n",
      "epoch 0  | loss: 0.49306 |  0:00:04s\n",
      "epoch 1  | loss: 0.49422 |  0:00:09s\n",
      "epoch 2  | loss: 0.49484 |  0:00:14s\n",
      "epoch 3  | loss: 0.49273 |  0:00:19s\n",
      "epoch 4  | loss: 0.49183 |  0:00:24s\n",
      "epoch 5  | loss: 0.49189 |  0:00:30s\n",
      "epoch 6  | loss: 0.4909  |  0:00:35s\n",
      "epoch 7  | loss: 0.49087 |  0:00:39s\n",
      "epoch 8  | loss: 0.49134 |  0:00:45s\n",
      "epoch 9  | loss: 0.49086 |  0:00:49s\n",
      "epoch 10 | loss: 0.49083 |  0:00:55s\n",
      "epoch 11 | loss: 0.49028 |  0:01:00s\n",
      "epoch 12 | loss: 0.49015 |  0:01:05s\n",
      "epoch 13 | loss: 0.48994 |  0:01:10s\n",
      "epoch 14 | loss: 0.48987 |  0:01:14s\n",
      "epoch 15 | loss: 0.48974 |  0:01:20s\n",
      "epoch 16 | loss: 0.48923 |  0:01:25s\n",
      "epoch 17 | loss: 0.48935 |  0:01:30s\n",
      "epoch 18 | loss: 0.4892  |  0:01:35s\n",
      "epoch 19 | loss: 0.48911 |  0:01:40s\n",
      "epoch 20 | loss: 0.48932 |  0:01:45s\n",
      "epoch 21 | loss: 0.48945 |  0:01:50s\n",
      "epoch 22 | loss: 0.48904 |  0:01:55s\n",
      "epoch 23 | loss: 0.49476 |  0:02:00s\n",
      "epoch 24 | loss: 0.4921  |  0:02:05s\n",
      "epoch 25 | loss: 0.49075 |  0:02:10s\n",
      "epoch 26 | loss: 0.49076 |  0:02:15s\n",
      "epoch 27 | loss: 0.48976 |  0:02:20s\n",
      "epoch 28 | loss: 0.49082 |  0:02:25s\n",
      "epoch 29 | loss: 0.4911  |  0:02:30s\n",
      "epoch 30 | loss: 0.48942 |  0:02:35s\n",
      "epoch 31 | loss: 0.48849 |  0:02:40s\n",
      "epoch 32 | loss: 0.49002 |  0:02:45s\n",
      "epoch 33 | loss: 0.48945 |  0:02:50s\n",
      "epoch 34 | loss: 0.48957 |  0:02:55s\n",
      "epoch 35 | loss: 0.4891  |  0:03:00s\n",
      "epoch 36 | loss: 0.48904 |  0:03:05s\n",
      "epoch 37 | loss: 0.48911 |  0:03:10s\n",
      "epoch 38 | loss: 0.48987 |  0:03:15s\n",
      "epoch 39 | loss: 0.48837 |  0:03:20s\n",
      "epoch 40 | loss: 0.48954 |  0:03:25s\n",
      "epoch 41 | loss: 0.48885 |  0:03:30s\n",
      "epoch 42 | loss: 0.4881  |  0:03:35s\n",
      "epoch 43 | loss: 0.48821 |  0:03:40s\n",
      "epoch 44 | loss: 0.49105 |  0:03:46s\n",
      "epoch 45 | loss: 0.48988 |  0:03:51s\n",
      "epoch 46 | loss: 0.48927 |  0:03:56s\n",
      "epoch 47 | loss: 0.4895  |  0:04:01s\n",
      "epoch 48 | loss: 0.4909  |  0:04:05s\n",
      "epoch 49 | loss: 0.48994 |  0:04:10s\n",
      "epoch 50 | loss: 0.48937 |  0:04:16s\n",
      "epoch 51 | loss: 0.4895  |  0:04:21s\n",
      "epoch 52 | loss: 0.4886  |  0:04:26s\n",
      "epoch 53 | loss: 0.48864 |  0:04:30s\n",
      "epoch 54 | loss: 0.49177 |  0:04:36s\n",
      "epoch 55 | loss: 0.49306 |  0:04:40s\n",
      "epoch 56 | loss: 0.49221 |  0:04:46s\n",
      "epoch 57 | loss: 0.49079 |  0:04:50s\n",
      "epoch 58 | loss: 0.49081 |  0:04:55s\n",
      "epoch 59 | loss: 0.49119 |  0:05:00s\n",
      "epoch 60 | loss: 0.49158 |  0:05:05s\n",
      "epoch 61 | loss: 0.49178 |  0:05:10s\n",
      "epoch 62 | loss: 0.49094 |  0:05:15s\n",
      "epoch 63 | loss: 0.491   |  0:05:21s\n",
      "epoch 64 | loss: 0.49026 |  0:05:26s\n",
      "epoch 65 | loss: 0.48972 |  0:05:31s\n",
      "epoch 66 | loss: 0.49    |  0:05:36s\n",
      "epoch 67 | loss: 0.48987 |  0:05:41s\n",
      "epoch 68 | loss: 0.48958 |  0:05:46s\n",
      "epoch 69 | loss: 0.49016 |  0:05:51s\n",
      "epoch 70 | loss: 0.49008 |  0:05:56s\n",
      "epoch 71 | loss: 0.4905  |  0:06:01s\n",
      "epoch 72 | loss: 0.49437 |  0:06:06s\n",
      "epoch 73 | loss: 0.49206 |  0:06:10s\n",
      "epoch 74 | loss: 0.49066 |  0:06:16s\n",
      "epoch 75 | loss: 0.4901  |  0:06:21s\n",
      "epoch 76 | loss: 0.48994 |  0:06:26s\n",
      "epoch 77 | loss: 0.49084 |  0:06:31s\n",
      "epoch 78 | loss: 0.48971 |  0:06:36s\n",
      "epoch 79 | loss: 0.48971 |  0:06:41s\n",
      "epoch 80 | loss: 0.48954 |  0:06:46s\n",
      "epoch 81 | loss: 0.48917 |  0:06:51s\n",
      "epoch 82 | loss: 0.48943 |  0:06:56s\n",
      "epoch 83 | loss: 0.48923 |  0:07:01s\n",
      "epoch 84 | loss: 0.48893 |  0:07:06s\n",
      "epoch 85 | loss: 0.4888  |  0:07:11s\n",
      "epoch 86 | loss: 0.48844 |  0:07:16s\n",
      "epoch 87 | loss: 0.48838 |  0:07:21s\n",
      "epoch 88 | loss: 0.4885  |  0:07:26s\n",
      "epoch 89 | loss: 0.48851 |  0:07:31s\n",
      "epoch 90 | loss: 0.48864 |  0:07:36s\n",
      "epoch 91 | loss: 0.48836 |  0:07:41s\n",
      "epoch 92 | loss: 0.48805 |  0:07:46s\n",
      "epoch 93 | loss: 0.48799 |  0:07:50s\n",
      "epoch 94 | loss: 0.48813 |  0:07:56s\n",
      "epoch 95 | loss: 0.48809 |  0:08:01s\n",
      "epoch 96 | loss: 0.48812 |  0:08:06s\n",
      "epoch 97 | loss: 0.48791 |  0:08:11s\n",
      "epoch 98 | loss: 0.48826 |  0:08:16s\n",
      "epoch 99 | loss: 0.48765 |  0:08:21s\n"
     ]
    }
   ],
   "source": [
    "clf.fit(x.to_numpy(),y.to_numpy())"
   ]
  },
  {
   "cell_type": "code",
   "execution_count": 9,
   "id": "arranged-johns",
   "metadata": {
    "execution": {
     "iopub.execute_input": "2021-04-06T03:33:34.092520Z",
     "iopub.status.busy": "2021-04-06T03:33:34.091981Z",
     "iopub.status.idle": "2021-04-06T03:33:34.576761Z",
     "shell.execute_reply": "2021-04-06T03:33:34.575903Z"
    },
    "papermill": {
     "duration": 0.538374,
     "end_time": "2021-04-06T03:33:34.576888",
     "exception": false,
     "start_time": "2021-04-06T03:33:34.038514",
     "status": "completed"
    },
    "tags": []
   },
   "outputs": [
    {
     "name": "stderr",
     "output_type": "stream",
     "text": [
      "/opt/conda/lib/python3.7/site-packages/ipykernel_launcher.py:2: SettingWithCopyWarning: \n",
      "A value is trying to be set on a copy of a slice from a DataFrame.\n",
      "Try using .loc[row_indexer,col_indexer] = value instead\n",
      "\n",
      "See the caveats in the documentation: https://pandas.pydata.org/pandas-docs/stable/user_guide/indexing.html#returning-a-view-versus-a-copy\n",
      "  \n",
      "/opt/conda/lib/python3.7/site-packages/ipykernel_launcher.py:3: SettingWithCopyWarning: \n",
      "A value is trying to be set on a copy of a slice from a DataFrame.\n",
      "Try using .loc[row_indexer,col_indexer] = value instead\n",
      "\n",
      "See the caveats in the documentation: https://pandas.pydata.org/pandas-docs/stable/user_guide/indexing.html#returning-a-view-versus-a-copy\n",
      "  This is separate from the ipykernel package so we can avoid doing imports until\n",
      "/opt/conda/lib/python3.7/site-packages/ipykernel_launcher.py:4: SettingWithCopyWarning: \n",
      "A value is trying to be set on a copy of a slice from a DataFrame.\n",
      "Try using .loc[row_indexer,col_indexer] = value instead\n",
      "\n",
      "See the caveats in the documentation: https://pandas.pydata.org/pandas-docs/stable/user_guide/indexing.html#returning-a-view-versus-a-copy\n",
      "  after removing the cwd from sys.path.\n",
      "/opt/conda/lib/python3.7/site-packages/ipykernel_launcher.py:6: SettingWithCopyWarning: \n",
      "A value is trying to be set on a copy of a slice from a DataFrame.\n",
      "Try using .loc[row_indexer,col_indexer] = value instead\n",
      "\n",
      "See the caveats in the documentation: https://pandas.pydata.org/pandas-docs/stable/user_guide/indexing.html#returning-a-view-versus-a-copy\n",
      "  \n",
      "/opt/conda/lib/python3.7/site-packages/ipykernel_launcher.py:7: SettingWithCopyWarning: \n",
      "A value is trying to be set on a copy of a slice from a DataFrame.\n",
      "Try using .loc[row_indexer,col_indexer] = value instead\n",
      "\n",
      "See the caveats in the documentation: https://pandas.pydata.org/pandas-docs/stable/user_guide/indexing.html#returning-a-view-versus-a-copy\n",
      "  import sys\n",
      "/opt/conda/lib/python3.7/site-packages/ipykernel_launcher.py:8: SettingWithCopyWarning: \n",
      "A value is trying to be set on a copy of a slice from a DataFrame.\n",
      "Try using .loc[row_indexer,col_indexer] = value instead\n",
      "\n",
      "See the caveats in the documentation: https://pandas.pydata.org/pandas-docs/stable/user_guide/indexing.html#returning-a-view-versus-a-copy\n",
      "  \n",
      "/opt/conda/lib/python3.7/site-packages/ipykernel_launcher.py:9: SettingWithCopyWarning: \n",
      "A value is trying to be set on a copy of a slice from a DataFrame.\n",
      "Try using .loc[row_indexer,col_indexer] = value instead\n",
      "\n",
      "See the caveats in the documentation: https://pandas.pydata.org/pandas-docs/stable/user_guide/indexing.html#returning-a-view-versus-a-copy\n",
      "  if __name__ == '__main__':\n"
     ]
    }
   ],
   "source": [
    "test_df = pd.read_csv(\"../input/tabular-playground-series-apr-2021/test.csv\")\n",
    "test_df_clean = test_df[[\"Pclass\",\"Sex\",\"Age\",\"SibSp\",\"Parch\",\"Fare\",\"Embarked\"]]\n",
    "test_df_clean = data_prep(test_df_clean,\"test\")"
   ]
  },
  {
   "cell_type": "code",
   "execution_count": 10,
   "id": "grave-flashing",
   "metadata": {
    "execution": {
     "iopub.execute_input": "2021-04-06T03:33:34.675848Z",
     "iopub.status.busy": "2021-04-06T03:33:34.675089Z",
     "iopub.status.idle": "2021-04-06T03:33:36.866620Z",
     "shell.execute_reply": "2021-04-06T03:33:36.865525Z"
    },
    "papermill": {
     "duration": 2.24244,
     "end_time": "2021-04-06T03:33:36.866770",
     "exception": false,
     "start_time": "2021-04-06T03:33:34.624330",
     "status": "completed"
    },
    "tags": []
   },
   "outputs": [],
   "source": [
    "preds = clf.predict(test_df_clean.to_numpy())"
   ]
  },
  {
   "cell_type": "code",
   "execution_count": 11,
   "id": "characteristic-corporation",
   "metadata": {
    "execution": {
     "iopub.execute_input": "2021-04-06T03:33:36.968522Z",
     "iopub.status.busy": "2021-04-06T03:33:36.967751Z",
     "iopub.status.idle": "2021-04-06T03:33:36.971200Z",
     "shell.execute_reply": "2021-04-06T03:33:36.971623Z"
    },
    "papermill": {
     "duration": 0.057094,
     "end_time": "2021-04-06T03:33:36.971756",
     "exception": false,
     "start_time": "2021-04-06T03:33:36.914662",
     "status": "completed"
    },
    "tags": []
   },
   "outputs": [
    {
     "data": {
      "text/plain": [
       "array([0, 0, 1, ..., 0, 1, 1])"
      ]
     },
     "execution_count": 11,
     "metadata": {},
     "output_type": "execute_result"
    }
   ],
   "source": [
    "preds"
   ]
  },
  {
   "cell_type": "code",
   "execution_count": 12,
   "id": "sought-organ",
   "metadata": {
    "execution": {
     "iopub.execute_input": "2021-04-06T03:33:37.072524Z",
     "iopub.status.busy": "2021-04-06T03:33:37.071776Z",
     "iopub.status.idle": "2021-04-06T03:33:37.081166Z",
     "shell.execute_reply": "2021-04-06T03:33:37.080688Z"
    },
    "papermill": {
     "duration": 0.061219,
     "end_time": "2021-04-06T03:33:37.081265",
     "exception": false,
     "start_time": "2021-04-06T03:33:37.020046",
     "status": "completed"
    },
    "tags": []
   },
   "outputs": [
    {
     "data": {
      "text/html": [
       "<div>\n",
       "<style scoped>\n",
       "    .dataframe tbody tr th:only-of-type {\n",
       "        vertical-align: middle;\n",
       "    }\n",
       "\n",
       "    .dataframe tbody tr th {\n",
       "        vertical-align: top;\n",
       "    }\n",
       "\n",
       "    .dataframe thead th {\n",
       "        text-align: right;\n",
       "    }\n",
       "</style>\n",
       "<table border=\"1\" class=\"dataframe\">\n",
       "  <thead>\n",
       "    <tr style=\"text-align: right;\">\n",
       "      <th></th>\n",
       "      <th>PassengerId</th>\n",
       "      <th>Survived</th>\n",
       "    </tr>\n",
       "  </thead>\n",
       "  <tbody>\n",
       "    <tr>\n",
       "      <th>0</th>\n",
       "      <td>100000</td>\n",
       "      <td>0</td>\n",
       "    </tr>\n",
       "    <tr>\n",
       "      <th>1</th>\n",
       "      <td>100001</td>\n",
       "      <td>0</td>\n",
       "    </tr>\n",
       "    <tr>\n",
       "      <th>2</th>\n",
       "      <td>100002</td>\n",
       "      <td>1</td>\n",
       "    </tr>\n",
       "    <tr>\n",
       "      <th>3</th>\n",
       "      <td>100003</td>\n",
       "      <td>0</td>\n",
       "    </tr>\n",
       "    <tr>\n",
       "      <th>4</th>\n",
       "      <td>100004</td>\n",
       "      <td>1</td>\n",
       "    </tr>\n",
       "    <tr>\n",
       "      <th>...</th>\n",
       "      <td>...</td>\n",
       "      <td>...</td>\n",
       "    </tr>\n",
       "    <tr>\n",
       "      <th>99995</th>\n",
       "      <td>199995</td>\n",
       "      <td>1</td>\n",
       "    </tr>\n",
       "    <tr>\n",
       "      <th>99996</th>\n",
       "      <td>199996</td>\n",
       "      <td>0</td>\n",
       "    </tr>\n",
       "    <tr>\n",
       "      <th>99997</th>\n",
       "      <td>199997</td>\n",
       "      <td>0</td>\n",
       "    </tr>\n",
       "    <tr>\n",
       "      <th>99998</th>\n",
       "      <td>199998</td>\n",
       "      <td>1</td>\n",
       "    </tr>\n",
       "    <tr>\n",
       "      <th>99999</th>\n",
       "      <td>199999</td>\n",
       "      <td>1</td>\n",
       "    </tr>\n",
       "  </tbody>\n",
       "</table>\n",
       "<p>100000 rows × 2 columns</p>\n",
       "</div>"
      ],
      "text/plain": [
       "       PassengerId  Survived\n",
       "0           100000         0\n",
       "1           100001         0\n",
       "2           100002         1\n",
       "3           100003         0\n",
       "4           100004         1\n",
       "...            ...       ...\n",
       "99995       199995         1\n",
       "99996       199996         0\n",
       "99997       199997         0\n",
       "99998       199998         1\n",
       "99999       199999         1\n",
       "\n",
       "[100000 rows x 2 columns]"
      ]
     },
     "execution_count": 12,
     "metadata": {},
     "output_type": "execute_result"
    }
   ],
   "source": [
    "submit = pd.DataFrame({\"PassengerId\":test_df[\"PassengerId\"],\"Survived\":preds})\n",
    "submit"
   ]
  },
  {
   "cell_type": "code",
   "execution_count": 13,
   "id": "iraqi-prince",
   "metadata": {
    "execution": {
     "iopub.execute_input": "2021-04-06T03:33:37.180927Z",
     "iopub.status.busy": "2021-04-06T03:33:37.180353Z",
     "iopub.status.idle": "2021-04-06T03:33:37.460782Z",
     "shell.execute_reply": "2021-04-06T03:33:37.459411Z"
    },
    "papermill": {
     "duration": 0.331205,
     "end_time": "2021-04-06T03:33:37.460919",
     "exception": false,
     "start_time": "2021-04-06T03:33:37.129714",
     "status": "completed"
    },
    "tags": []
   },
   "outputs": [],
   "source": [
    "submit.to_csv(\"submission.csv\",index = False)"
   ]
  },
  {
   "cell_type": "markdown",
   "id": "atomic-flavor",
   "metadata": {
    "papermill": {
     "duration": 0.04781,
     "end_time": "2021-04-06T03:33:37.557946",
     "exception": false,
     "start_time": "2021-04-06T03:33:37.510136",
     "status": "completed"
    },
    "tags": []
   },
   "source": [
    "# todo\n",
    "* add pretraining step\n",
    "* fine tune params"
   ]
  }
 ],
 "metadata": {
  "kernelspec": {
   "display_name": "Python 3",
   "language": "python",
   "name": "python3"
  },
  "language_info": {
   "codemirror_mode": {
    "name": "ipython",
    "version": 3
   },
   "file_extension": ".py",
   "mimetype": "text/x-python",
   "name": "python",
   "nbconvert_exporter": "python",
   "pygments_lexer": "ipython3",
   "version": "3.7.9"
  },
  "papermill": {
   "default_parameters": {},
   "duration": 695.745647,
   "end_time": "2021-04-06T03:33:39.490809",
   "environment_variables": {},
   "exception": null,
   "input_path": "__notebook__.ipynb",
   "output_path": "__notebook__.ipynb",
   "parameters": {},
   "start_time": "2021-04-06T03:22:03.745162",
   "version": "2.3.2"
  }
 },
 "nbformat": 4,
 "nbformat_minor": 5
}
