{
 "cells": [
  {
   "cell_type": "code",
   "execution_count": 1,
   "id": "selected-perspective",
   "metadata": {
    "_cell_guid": "b1076dfc-b9ad-4769-8c92-a6c4dae69d19",
    "_uuid": "8f2839f25d086af736a60e9eeb907d3b93b6e0e5",
    "execution": {
     "iopub.execute_input": "2021-04-02T07:03:44.474523Z",
     "iopub.status.busy": "2021-04-02T07:03:44.473987Z",
     "iopub.status.idle": "2021-04-02T07:03:49.292990Z",
     "shell.execute_reply": "2021-04-02T07:03:49.291778Z"
    },
    "papermill": {
     "duration": 4.836966,
     "end_time": "2021-04-02T07:03:49.293174",
     "exception": false,
     "start_time": "2021-04-02T07:03:44.456208",
     "status": "completed"
    },
    "tags": []
   },
   "outputs": [],
   "source": [
    "import pandas as pd\n",
    "import numpy as np \n",
    "from xgboost import XGBClassifier\n",
    "from sklearn.model_selection import train_test_split\n",
    "from sklearn.metrics import classification_report \n",
    "from sklearn import preprocessing\n",
    "from sklearn.impute import SimpleImputer"
   ]
  },
  {
   "cell_type": "code",
   "execution_count": 2,
   "id": "breathing-affiliate",
   "metadata": {
    "execution": {
     "iopub.execute_input": "2021-04-02T07:03:49.323382Z",
     "iopub.status.busy": "2021-04-02T07:03:49.322862Z",
     "iopub.status.idle": "2021-04-02T07:03:49.584647Z",
     "shell.execute_reply": "2021-04-02T07:03:49.584192Z"
    },
    "papermill": {
     "duration": 0.279123,
     "end_time": "2021-04-02T07:03:49.584774",
     "exception": false,
     "start_time": "2021-04-02T07:03:49.305651",
     "status": "completed"
    },
    "tags": []
   },
   "outputs": [
    {
     "data": {
      "text/html": [
       "<div>\n",
       "<style scoped>\n",
       "    .dataframe tbody tr th:only-of-type {\n",
       "        vertical-align: middle;\n",
       "    }\n",
       "\n",
       "    .dataframe tbody tr th {\n",
       "        vertical-align: top;\n",
       "    }\n",
       "\n",
       "    .dataframe thead th {\n",
       "        text-align: right;\n",
       "    }\n",
       "</style>\n",
       "<table border=\"1\" class=\"dataframe\">\n",
       "  <thead>\n",
       "    <tr style=\"text-align: right;\">\n",
       "      <th></th>\n",
       "      <th>PassengerId</th>\n",
       "      <th>Survived</th>\n",
       "      <th>Pclass</th>\n",
       "      <th>Name</th>\n",
       "      <th>Sex</th>\n",
       "      <th>Age</th>\n",
       "      <th>SibSp</th>\n",
       "      <th>Parch</th>\n",
       "      <th>Ticket</th>\n",
       "      <th>Fare</th>\n",
       "      <th>Cabin</th>\n",
       "      <th>Embarked</th>\n",
       "    </tr>\n",
       "  </thead>\n",
       "  <tbody>\n",
       "    <tr>\n",
       "      <th>0</th>\n",
       "      <td>0</td>\n",
       "      <td>1</td>\n",
       "      <td>1</td>\n",
       "      <td>Oconnor, Frankie</td>\n",
       "      <td>male</td>\n",
       "      <td>NaN</td>\n",
       "      <td>2</td>\n",
       "      <td>0</td>\n",
       "      <td>209245</td>\n",
       "      <td>27.14</td>\n",
       "      <td>C12239</td>\n",
       "      <td>S</td>\n",
       "    </tr>\n",
       "    <tr>\n",
       "      <th>1</th>\n",
       "      <td>1</td>\n",
       "      <td>0</td>\n",
       "      <td>3</td>\n",
       "      <td>Bryan, Drew</td>\n",
       "      <td>male</td>\n",
       "      <td>NaN</td>\n",
       "      <td>0</td>\n",
       "      <td>0</td>\n",
       "      <td>27323</td>\n",
       "      <td>13.35</td>\n",
       "      <td>NaN</td>\n",
       "      <td>S</td>\n",
       "    </tr>\n",
       "    <tr>\n",
       "      <th>2</th>\n",
       "      <td>2</td>\n",
       "      <td>0</td>\n",
       "      <td>3</td>\n",
       "      <td>Owens, Kenneth</td>\n",
       "      <td>male</td>\n",
       "      <td>0.33</td>\n",
       "      <td>1</td>\n",
       "      <td>2</td>\n",
       "      <td>CA 457703</td>\n",
       "      <td>71.29</td>\n",
       "      <td>NaN</td>\n",
       "      <td>S</td>\n",
       "    </tr>\n",
       "    <tr>\n",
       "      <th>3</th>\n",
       "      <td>3</td>\n",
       "      <td>0</td>\n",
       "      <td>3</td>\n",
       "      <td>Kramer, James</td>\n",
       "      <td>male</td>\n",
       "      <td>19.00</td>\n",
       "      <td>0</td>\n",
       "      <td>0</td>\n",
       "      <td>A. 10866</td>\n",
       "      <td>13.04</td>\n",
       "      <td>NaN</td>\n",
       "      <td>S</td>\n",
       "    </tr>\n",
       "    <tr>\n",
       "      <th>4</th>\n",
       "      <td>4</td>\n",
       "      <td>1</td>\n",
       "      <td>3</td>\n",
       "      <td>Bond, Michael</td>\n",
       "      <td>male</td>\n",
       "      <td>25.00</td>\n",
       "      <td>0</td>\n",
       "      <td>0</td>\n",
       "      <td>427635</td>\n",
       "      <td>7.76</td>\n",
       "      <td>NaN</td>\n",
       "      <td>S</td>\n",
       "    </tr>\n",
       "  </tbody>\n",
       "</table>\n",
       "</div>"
      ],
      "text/plain": [
       "   PassengerId  Survived  Pclass              Name   Sex    Age  SibSp  Parch  \\\n",
       "0            0         1       1  Oconnor, Frankie  male    NaN      2      0   \n",
       "1            1         0       3       Bryan, Drew  male    NaN      0      0   \n",
       "2            2         0       3    Owens, Kenneth  male   0.33      1      2   \n",
       "3            3         0       3     Kramer, James  male  19.00      0      0   \n",
       "4            4         1       3     Bond, Michael  male  25.00      0      0   \n",
       "\n",
       "      Ticket   Fare   Cabin Embarked  \n",
       "0     209245  27.14  C12239        S  \n",
       "1      27323  13.35     NaN        S  \n",
       "2  CA 457703  71.29     NaN        S  \n",
       "3   A. 10866  13.04     NaN        S  \n",
       "4     427635   7.76     NaN        S  "
      ]
     },
     "execution_count": 2,
     "metadata": {},
     "output_type": "execute_result"
    }
   ],
   "source": [
    "train_df = pd.read_csv(\"../input/tabular-playground-series-apr-2021/train.csv\")\n",
    "train_df.head()"
   ]
  },
  {
   "cell_type": "code",
   "execution_count": 3,
   "id": "covered-violence",
   "metadata": {
    "execution": {
     "iopub.execute_input": "2021-04-02T07:03:49.616807Z",
     "iopub.status.busy": "2021-04-02T07:03:49.616192Z",
     "iopub.status.idle": "2021-04-02T07:03:49.620355Z",
     "shell.execute_reply": "2021-04-02T07:03:49.619860Z"
    },
    "papermill": {
     "duration": 0.022978,
     "end_time": "2021-04-02T07:03:49.620456",
     "exception": false,
     "start_time": "2021-04-02T07:03:49.597478",
     "status": "completed"
    },
    "tags": []
   },
   "outputs": [],
   "source": [
    "x = train_df[[\"Pclass\",\"Sex\",\"Age\",\"SibSp\",\"Parch\",\"Fare\"]]\n",
    "y  = train_df[\"Survived\"]"
   ]
  },
  {
   "cell_type": "code",
   "execution_count": 4,
   "id": "outside-being",
   "metadata": {
    "execution": {
     "iopub.execute_input": "2021-04-02T07:03:49.651025Z",
     "iopub.status.busy": "2021-04-02T07:03:49.650367Z",
     "iopub.status.idle": "2021-04-02T07:03:49.653573Z",
     "shell.execute_reply": "2021-04-02T07:03:49.653980Z"
    },
    "papermill": {
     "duration": 0.021557,
     "end_time": "2021-04-02T07:03:49.654094",
     "exception": false,
     "start_time": "2021-04-02T07:03:49.632537",
     "status": "completed"
    },
    "tags": []
   },
   "outputs": [
    {
     "data": {
      "text/plain": [
       "0        1\n",
       "1        0\n",
       "2        0\n",
       "3        0\n",
       "4        1\n",
       "        ..\n",
       "99995    1\n",
       "99996    0\n",
       "99997    0\n",
       "99998    0\n",
       "99999    0\n",
       "Name: Survived, Length: 100000, dtype: int64"
      ]
     },
     "execution_count": 4,
     "metadata": {},
     "output_type": "execute_result"
    }
   ],
   "source": [
    "y"
   ]
  },
  {
   "cell_type": "code",
   "execution_count": 5,
   "id": "numerous-protocol",
   "metadata": {
    "execution": {
     "iopub.execute_input": "2021-04-02T07:03:49.714007Z",
     "iopub.status.busy": "2021-04-02T07:03:49.713341Z",
     "iopub.status.idle": "2021-04-02T07:03:49.717032Z",
     "shell.execute_reply": "2021-04-02T07:03:49.717613Z"
    },
    "papermill": {
     "duration": 0.051432,
     "end_time": "2021-04-02T07:03:49.717769",
     "exception": false,
     "start_time": "2021-04-02T07:03:49.666337",
     "status": "completed"
    },
    "tags": []
   },
   "outputs": [
    {
     "name": "stderr",
     "output_type": "stream",
     "text": [
      "/opt/conda/lib/python3.7/site-packages/ipykernel_launcher.py:2: SettingWithCopyWarning: \n",
      "A value is trying to be set on a copy of a slice from a DataFrame.\n",
      "Try using .loc[row_indexer,col_indexer] = value instead\n",
      "\n",
      "See the caveats in the documentation: https://pandas.pydata.org/pandas-docs/stable/user_guide/indexing.html#returning-a-view-versus-a-copy\n",
      "  \n"
     ]
    }
   ],
   "source": [
    "le = preprocessing.LabelEncoder()\n",
    "x[\"Sex\"] = le.fit_transform(x[\"Sex\"])"
   ]
  },
  {
   "cell_type": "code",
   "execution_count": 6,
   "id": "specific-hours",
   "metadata": {
    "execution": {
     "iopub.execute_input": "2021-04-02T07:03:49.750675Z",
     "iopub.status.busy": "2021-04-02T07:03:49.749972Z",
     "iopub.status.idle": "2021-04-02T07:03:49.753511Z",
     "shell.execute_reply": "2021-04-02T07:03:49.753955Z"
    },
    "papermill": {
     "duration": 0.02197,
     "end_time": "2021-04-02T07:03:49.754071",
     "exception": false,
     "start_time": "2021-04-02T07:03:49.732101",
     "status": "completed"
    },
    "tags": []
   },
   "outputs": [
    {
     "name": "stderr",
     "output_type": "stream",
     "text": [
      "/opt/conda/lib/python3.7/site-packages/ipykernel_launcher.py:1: SettingWithCopyWarning: \n",
      "A value is trying to be set on a copy of a slice from a DataFrame.\n",
      "Try using .loc[row_indexer,col_indexer] = value instead\n",
      "\n",
      "See the caveats in the documentation: https://pandas.pydata.org/pandas-docs/stable/user_guide/indexing.html#returning-a-view-versus-a-copy\n",
      "  \"\"\"Entry point for launching an IPython kernel.\n"
     ]
    }
   ],
   "source": [
    "x[\"Age\"] =x[\"Age\"].fillna(x[\"Age\"].mean()) "
   ]
  },
  {
   "cell_type": "code",
   "execution_count": 7,
   "id": "conscious-rogers",
   "metadata": {
    "execution": {
     "iopub.execute_input": "2021-04-02T07:03:49.788016Z",
     "iopub.status.busy": "2021-04-02T07:03:49.784750Z",
     "iopub.status.idle": "2021-04-02T07:03:49.828195Z",
     "shell.execute_reply": "2021-04-02T07:03:49.827695Z"
    },
    "papermill": {
     "duration": 0.059864,
     "end_time": "2021-04-02T07:03:49.828298",
     "exception": false,
     "start_time": "2021-04-02T07:03:49.768434",
     "status": "completed"
    },
    "tags": []
   },
   "outputs": [
    {
     "data": {
      "text/html": [
       "<div>\n",
       "<style scoped>\n",
       "    .dataframe tbody tr th:only-of-type {\n",
       "        vertical-align: middle;\n",
       "    }\n",
       "\n",
       "    .dataframe tbody tr th {\n",
       "        vertical-align: top;\n",
       "    }\n",
       "\n",
       "    .dataframe thead th {\n",
       "        text-align: right;\n",
       "    }\n",
       "</style>\n",
       "<table border=\"1\" class=\"dataframe\">\n",
       "  <thead>\n",
       "    <tr style=\"text-align: right;\">\n",
       "      <th></th>\n",
       "      <th>Pclass</th>\n",
       "      <th>Sex</th>\n",
       "      <th>Age</th>\n",
       "      <th>SibSp</th>\n",
       "      <th>Parch</th>\n",
       "      <th>Fare</th>\n",
       "    </tr>\n",
       "  </thead>\n",
       "  <tbody>\n",
       "    <tr>\n",
       "      <th>count</th>\n",
       "      <td>100000.000000</td>\n",
       "      <td>100000.00000</td>\n",
       "      <td>100000.000000</td>\n",
       "      <td>100000.000000</td>\n",
       "      <td>100000.000000</td>\n",
       "      <td>99866.00000</td>\n",
       "    </tr>\n",
       "    <tr>\n",
       "      <th>mean</th>\n",
       "      <td>2.106910</td>\n",
       "      <td>0.56114</td>\n",
       "      <td>38.355472</td>\n",
       "      <td>0.397690</td>\n",
       "      <td>0.454560</td>\n",
       "      <td>43.92933</td>\n",
       "    </tr>\n",
       "    <tr>\n",
       "      <th>std</th>\n",
       "      <td>0.837727</td>\n",
       "      <td>0.49625</td>\n",
       "      <td>18.009589</td>\n",
       "      <td>0.862566</td>\n",
       "      <td>0.950076</td>\n",
       "      <td>69.58882</td>\n",
       "    </tr>\n",
       "    <tr>\n",
       "      <th>min</th>\n",
       "      <td>1.000000</td>\n",
       "      <td>0.00000</td>\n",
       "      <td>0.080000</td>\n",
       "      <td>0.000000</td>\n",
       "      <td>0.000000</td>\n",
       "      <td>0.68000</td>\n",
       "    </tr>\n",
       "    <tr>\n",
       "      <th>25%</th>\n",
       "      <td>1.000000</td>\n",
       "      <td>0.00000</td>\n",
       "      <td>25.000000</td>\n",
       "      <td>0.000000</td>\n",
       "      <td>0.000000</td>\n",
       "      <td>10.04000</td>\n",
       "    </tr>\n",
       "    <tr>\n",
       "      <th>50%</th>\n",
       "      <td>2.000000</td>\n",
       "      <td>1.00000</td>\n",
       "      <td>38.355472</td>\n",
       "      <td>0.000000</td>\n",
       "      <td>0.000000</td>\n",
       "      <td>24.46000</td>\n",
       "    </tr>\n",
       "    <tr>\n",
       "      <th>75%</th>\n",
       "      <td>3.000000</td>\n",
       "      <td>1.00000</td>\n",
       "      <td>53.000000</td>\n",
       "      <td>1.000000</td>\n",
       "      <td>1.000000</td>\n",
       "      <td>33.50000</td>\n",
       "    </tr>\n",
       "    <tr>\n",
       "      <th>max</th>\n",
       "      <td>3.000000</td>\n",
       "      <td>1.00000</td>\n",
       "      <td>87.000000</td>\n",
       "      <td>8.000000</td>\n",
       "      <td>9.000000</td>\n",
       "      <td>744.66000</td>\n",
       "    </tr>\n",
       "  </tbody>\n",
       "</table>\n",
       "</div>"
      ],
      "text/plain": [
       "              Pclass           Sex            Age          SibSp  \\\n",
       "count  100000.000000  100000.00000  100000.000000  100000.000000   \n",
       "mean        2.106910       0.56114      38.355472       0.397690   \n",
       "std         0.837727       0.49625      18.009589       0.862566   \n",
       "min         1.000000       0.00000       0.080000       0.000000   \n",
       "25%         1.000000       0.00000      25.000000       0.000000   \n",
       "50%         2.000000       1.00000      38.355472       0.000000   \n",
       "75%         3.000000       1.00000      53.000000       1.000000   \n",
       "max         3.000000       1.00000      87.000000       8.000000   \n",
       "\n",
       "               Parch         Fare  \n",
       "count  100000.000000  99866.00000  \n",
       "mean        0.454560     43.92933  \n",
       "std         0.950076     69.58882  \n",
       "min         0.000000      0.68000  \n",
       "25%         0.000000     10.04000  \n",
       "50%         0.000000     24.46000  \n",
       "75%         1.000000     33.50000  \n",
       "max         9.000000    744.66000  "
      ]
     },
     "execution_count": 7,
     "metadata": {},
     "output_type": "execute_result"
    }
   ],
   "source": [
    "x.describe()"
   ]
  },
  {
   "cell_type": "code",
   "execution_count": 8,
   "id": "latest-missouri",
   "metadata": {
    "execution": {
     "iopub.execute_input": "2021-04-02T07:03:49.859401Z",
     "iopub.status.busy": "2021-04-02T07:03:49.858919Z",
     "iopub.status.idle": "2021-04-02T07:03:49.870653Z",
     "shell.execute_reply": "2021-04-02T07:03:49.870211Z"
    },
    "papermill": {
     "duration": 0.028777,
     "end_time": "2021-04-02T07:03:49.870761",
     "exception": false,
     "start_time": "2021-04-02T07:03:49.841984",
     "status": "completed"
    },
    "tags": []
   },
   "outputs": [],
   "source": [
    "x_train,x_val,y_train,y_val = train_test_split(x,y)"
   ]
  },
  {
   "cell_type": "code",
   "execution_count": 9,
   "id": "stuffed-amazon",
   "metadata": {
    "execution": {
     "iopub.execute_input": "2021-04-02T07:03:49.901831Z",
     "iopub.status.busy": "2021-04-02T07:03:49.901298Z",
     "iopub.status.idle": "2021-04-02T07:03:49.905049Z",
     "shell.execute_reply": "2021-04-02T07:03:49.904644Z"
    },
    "papermill": {
     "duration": 0.020518,
     "end_time": "2021-04-02T07:03:49.905151",
     "exception": false,
     "start_time": "2021-04-02T07:03:49.884633",
     "status": "completed"
    },
    "tags": []
   },
   "outputs": [],
   "source": [
    "model = XGBClassifier(tree_method='gpu_hist', gpu_id=0)"
   ]
  },
  {
   "cell_type": "code",
   "execution_count": 10,
   "id": "after-excuse",
   "metadata": {
    "execution": {
     "iopub.execute_input": "2021-04-02T07:03:49.936573Z",
     "iopub.status.busy": "2021-04-02T07:03:49.935831Z",
     "iopub.status.idle": "2021-04-02T07:03:50.980377Z",
     "shell.execute_reply": "2021-04-02T07:03:50.979530Z"
    },
    "papermill": {
     "duration": 1.061439,
     "end_time": "2021-04-02T07:03:50.980503",
     "exception": false,
     "start_time": "2021-04-02T07:03:49.919064",
     "status": "completed"
    },
    "tags": []
   },
   "outputs": [
    {
     "name": "stderr",
     "output_type": "stream",
     "text": [
      "/opt/conda/lib/python3.7/site-packages/xgboost/sklearn.py:888: UserWarning: The use of label encoder in XGBClassifier is deprecated and will be removed in a future release. To remove this warning, do the following: 1) Pass option use_label_encoder=False when constructing XGBClassifier object; and 2) Encode your labels (y) as integers starting with 0, i.e. 0, 1, 2, ..., [num_class - 1].\n",
      "  warnings.warn(label_encoder_deprecation_msg, UserWarning)\n"
     ]
    },
    {
     "name": "stdout",
     "output_type": "stream",
     "text": [
      "[07:03:50] WARNING: ../src/learner.cc:1061: Starting in XGBoost 1.3.0, the default evaluation metric used with the objective 'binary:logistic' was changed from 'error' to 'logloss'. Explicitly set eval_metric if you'd like to restore the old behavior.\n"
     ]
    }
   ],
   "source": [
    " model_trained = model.fit(x_train,y_train)"
   ]
  },
  {
   "cell_type": "code",
   "execution_count": 11,
   "id": "extensive-carnival",
   "metadata": {
    "execution": {
     "iopub.execute_input": "2021-04-02T07:03:51.024741Z",
     "iopub.status.busy": "2021-04-02T07:03:51.024052Z",
     "iopub.status.idle": "2021-04-02T07:03:51.105185Z",
     "shell.execute_reply": "2021-04-02T07:03:51.104602Z"
    },
    "papermill": {
     "duration": 0.10999,
     "end_time": "2021-04-02T07:03:51.105332",
     "exception": false,
     "start_time": "2021-04-02T07:03:50.995342",
     "status": "completed"
    },
    "tags": []
   },
   "outputs": [
    {
     "name": "stdout",
     "output_type": "stream",
     "text": [
      "              precision    recall  f1-score   support\n",
      "\n",
      "           0       0.79      0.80      0.79     14339\n",
      "           1       0.72      0.72      0.72     10661\n",
      "\n",
      "    accuracy                           0.76     25000\n",
      "   macro avg       0.76      0.76      0.76     25000\n",
      "weighted avg       0.76      0.76      0.76     25000\n",
      "\n"
     ]
    }
   ],
   "source": [
    "print(classification_report(y_val,model_trained.predict(x_val)))"
   ]
  },
  {
   "cell_type": "code",
   "execution_count": 12,
   "id": "random-colombia",
   "metadata": {
    "execution": {
     "iopub.execute_input": "2021-04-02T07:03:51.140101Z",
     "iopub.status.busy": "2021-04-02T07:03:51.139338Z",
     "iopub.status.idle": "2021-04-02T07:03:51.474275Z",
     "shell.execute_reply": "2021-04-02T07:03:51.473374Z"
    },
    "papermill": {
     "duration": 0.353324,
     "end_time": "2021-04-02T07:03:51.474410",
     "exception": false,
     "start_time": "2021-04-02T07:03:51.121086",
     "status": "completed"
    },
    "tags": []
   },
   "outputs": [
    {
     "name": "stdout",
     "output_type": "stream",
     "text": [
      "[07:03:51] WARNING: ../src/learner.cc:1061: Starting in XGBoost 1.3.0, the default evaluation metric used with the objective 'binary:logistic' was changed from 'error' to 'logloss'. Explicitly set eval_metric if you'd like to restore the old behavior.\n"
     ]
    },
    {
     "name": "stderr",
     "output_type": "stream",
     "text": [
      "/opt/conda/lib/python3.7/site-packages/xgboost/sklearn.py:888: UserWarning: The use of label encoder in XGBClassifier is deprecated and will be removed in a future release. To remove this warning, do the following: 1) Pass option use_label_encoder=False when constructing XGBClassifier object; and 2) Encode your labels (y) as integers starting with 0, i.e. 0, 1, 2, ..., [num_class - 1].\n",
      "  warnings.warn(label_encoder_deprecation_msg, UserWarning)\n"
     ]
    }
   ],
   "source": [
    "final_model = model.fit(x,y)"
   ]
  },
  {
   "cell_type": "code",
   "execution_count": 13,
   "id": "loose-detective",
   "metadata": {
    "execution": {
     "iopub.execute_input": "2021-04-02T07:03:51.512522Z",
     "iopub.status.busy": "2021-04-02T07:03:51.512036Z",
     "iopub.status.idle": "2021-04-02T07:03:51.742017Z",
     "shell.execute_reply": "2021-04-02T07:03:51.741243Z"
    },
    "papermill": {
     "duration": 0.251865,
     "end_time": "2021-04-02T07:03:51.742171",
     "exception": false,
     "start_time": "2021-04-02T07:03:51.490306",
     "status": "completed"
    },
    "tags": []
   },
   "outputs": [],
   "source": [
    "test_df = pd.read_csv(\"../input/tabular-playground-series-apr-2021/test.csv\")"
   ]
  },
  {
   "cell_type": "code",
   "execution_count": 14,
   "id": "pharmaceutical-swaziland",
   "metadata": {
    "execution": {
     "iopub.execute_input": "2021-04-02T07:03:51.813185Z",
     "iopub.status.busy": "2021-04-02T07:03:51.812083Z",
     "iopub.status.idle": "2021-04-02T07:03:51.815695Z",
     "shell.execute_reply": "2021-04-02T07:03:51.816280Z"
    },
    "papermill": {
     "duration": 0.058201,
     "end_time": "2021-04-02T07:03:51.816451",
     "exception": false,
     "start_time": "2021-04-02T07:03:51.758250",
     "status": "completed"
    },
    "tags": []
   },
   "outputs": [
    {
     "name": "stderr",
     "output_type": "stream",
     "text": [
      "/opt/conda/lib/python3.7/site-packages/ipykernel_launcher.py:3: SettingWithCopyWarning: \n",
      "A value is trying to be set on a copy of a slice from a DataFrame.\n",
      "Try using .loc[row_indexer,col_indexer] = value instead\n",
      "\n",
      "See the caveats in the documentation: https://pandas.pydata.org/pandas-docs/stable/user_guide/indexing.html#returning-a-view-versus-a-copy\n",
      "  This is separate from the ipykernel package so we can avoid doing imports until\n"
     ]
    }
   ],
   "source": [
    "test_df_clean = test_df[[\"Pclass\",\"Sex\",\"Age\",\"SibSp\",\"Parch\",\"Fare\"]]\n",
    "le = preprocessing.LabelEncoder()\n",
    "test_df_clean[\"Sex\"] = le.fit_transform(test_df_clean[\"Sex\"])"
   ]
  },
  {
   "cell_type": "code",
   "execution_count": 15,
   "id": "referenced-solid",
   "metadata": {
    "execution": {
     "iopub.execute_input": "2021-04-02T07:03:51.855604Z",
     "iopub.status.busy": "2021-04-02T07:03:51.854533Z",
     "iopub.status.idle": "2021-04-02T07:03:52.023711Z",
     "shell.execute_reply": "2021-04-02T07:03:52.024147Z"
    },
    "papermill": {
     "duration": 0.190071,
     "end_time": "2021-04-02T07:03:52.024282",
     "exception": false,
     "start_time": "2021-04-02T07:03:51.834211",
     "status": "completed"
    },
    "tags": []
   },
   "outputs": [],
   "source": [
    "preds = final_model.predict(test_df_clean)"
   ]
  },
  {
   "cell_type": "code",
   "execution_count": 16,
   "id": "adjusted-structure",
   "metadata": {
    "execution": {
     "iopub.execute_input": "2021-04-02T07:03:52.065609Z",
     "iopub.status.busy": "2021-04-02T07:03:52.064256Z",
     "iopub.status.idle": "2021-04-02T07:03:52.068149Z",
     "shell.execute_reply": "2021-04-02T07:03:52.067699Z"
    },
    "papermill": {
     "duration": 0.025426,
     "end_time": "2021-04-02T07:03:52.068264",
     "exception": false,
     "start_time": "2021-04-02T07:03:52.042838",
     "status": "completed"
    },
    "tags": []
   },
   "outputs": [
    {
     "data": {
      "text/plain": [
       "array([0, 0, 1, ..., 0, 1, 1])"
      ]
     },
     "execution_count": 16,
     "metadata": {},
     "output_type": "execute_result"
    }
   ],
   "source": [
    "preds"
   ]
  },
  {
   "cell_type": "code",
   "execution_count": 17,
   "id": "handy-webmaster",
   "metadata": {
    "execution": {
     "iopub.execute_input": "2021-04-02T07:03:52.106201Z",
     "iopub.status.busy": "2021-04-02T07:03:52.105385Z",
     "iopub.status.idle": "2021-04-02T07:03:52.109783Z",
     "shell.execute_reply": "2021-04-02T07:03:52.109338Z"
    },
    "papermill": {
     "duration": 0.024741,
     "end_time": "2021-04-02T07:03:52.109904",
     "exception": false,
     "start_time": "2021-04-02T07:03:52.085163",
     "status": "completed"
    },
    "tags": []
   },
   "outputs": [],
   "source": [
    "submit = pd.DataFrame({\"PassengerId\":test_df[\"PassengerId\"],\"Survived\":preds})"
   ]
  },
  {
   "cell_type": "code",
   "execution_count": 18,
   "id": "grand-receipt",
   "metadata": {
    "execution": {
     "iopub.execute_input": "2021-04-02T07:03:52.152787Z",
     "iopub.status.busy": "2021-04-02T07:03:52.152223Z",
     "iopub.status.idle": "2021-04-02T07:03:52.155512Z",
     "shell.execute_reply": "2021-04-02T07:03:52.155923Z"
    },
    "papermill": {
     "duration": 0.029323,
     "end_time": "2021-04-02T07:03:52.156033",
     "exception": false,
     "start_time": "2021-04-02T07:03:52.126710",
     "status": "completed"
    },
    "tags": []
   },
   "outputs": [
    {
     "data": {
      "text/html": [
       "<div>\n",
       "<style scoped>\n",
       "    .dataframe tbody tr th:only-of-type {\n",
       "        vertical-align: middle;\n",
       "    }\n",
       "\n",
       "    .dataframe tbody tr th {\n",
       "        vertical-align: top;\n",
       "    }\n",
       "\n",
       "    .dataframe thead th {\n",
       "        text-align: right;\n",
       "    }\n",
       "</style>\n",
       "<table border=\"1\" class=\"dataframe\">\n",
       "  <thead>\n",
       "    <tr style=\"text-align: right;\">\n",
       "      <th></th>\n",
       "      <th>PassengerId</th>\n",
       "      <th>Survived</th>\n",
       "    </tr>\n",
       "  </thead>\n",
       "  <tbody>\n",
       "    <tr>\n",
       "      <th>0</th>\n",
       "      <td>100000</td>\n",
       "      <td>0</td>\n",
       "    </tr>\n",
       "    <tr>\n",
       "      <th>1</th>\n",
       "      <td>100001</td>\n",
       "      <td>0</td>\n",
       "    </tr>\n",
       "    <tr>\n",
       "      <th>2</th>\n",
       "      <td>100002</td>\n",
       "      <td>1</td>\n",
       "    </tr>\n",
       "    <tr>\n",
       "      <th>3</th>\n",
       "      <td>100003</td>\n",
       "      <td>0</td>\n",
       "    </tr>\n",
       "    <tr>\n",
       "      <th>4</th>\n",
       "      <td>100004</td>\n",
       "      <td>1</td>\n",
       "    </tr>\n",
       "    <tr>\n",
       "      <th>...</th>\n",
       "      <td>...</td>\n",
       "      <td>...</td>\n",
       "    </tr>\n",
       "    <tr>\n",
       "      <th>99995</th>\n",
       "      <td>199995</td>\n",
       "      <td>0</td>\n",
       "    </tr>\n",
       "    <tr>\n",
       "      <th>99996</th>\n",
       "      <td>199996</td>\n",
       "      <td>0</td>\n",
       "    </tr>\n",
       "    <tr>\n",
       "      <th>99997</th>\n",
       "      <td>199997</td>\n",
       "      <td>0</td>\n",
       "    </tr>\n",
       "    <tr>\n",
       "      <th>99998</th>\n",
       "      <td>199998</td>\n",
       "      <td>1</td>\n",
       "    </tr>\n",
       "    <tr>\n",
       "      <th>99999</th>\n",
       "      <td>199999</td>\n",
       "      <td>1</td>\n",
       "    </tr>\n",
       "  </tbody>\n",
       "</table>\n",
       "<p>100000 rows × 2 columns</p>\n",
       "</div>"
      ],
      "text/plain": [
       "       PassengerId  Survived\n",
       "0           100000         0\n",
       "1           100001         0\n",
       "2           100002         1\n",
       "3           100003         0\n",
       "4           100004         1\n",
       "...            ...       ...\n",
       "99995       199995         0\n",
       "99996       199996         0\n",
       "99997       199997         0\n",
       "99998       199998         1\n",
       "99999       199999         1\n",
       "\n",
       "[100000 rows x 2 columns]"
      ]
     },
     "execution_count": 18,
     "metadata": {},
     "output_type": "execute_result"
    }
   ],
   "source": [
    "submit"
   ]
  },
  {
   "cell_type": "code",
   "execution_count": 19,
   "id": "incredible-intranet",
   "metadata": {
    "execution": {
     "iopub.execute_input": "2021-04-02T07:03:52.193715Z",
     "iopub.status.busy": "2021-04-02T07:03:52.193196Z",
     "iopub.status.idle": "2021-04-02T07:03:52.586096Z",
     "shell.execute_reply": "2021-04-02T07:03:52.585297Z"
    },
    "papermill": {
     "duration": 0.413009,
     "end_time": "2021-04-02T07:03:52.586222",
     "exception": false,
     "start_time": "2021-04-02T07:03:52.173213",
     "status": "completed"
    },
    "tags": []
   },
   "outputs": [],
   "source": [
    "submit.to_csv(\"submission.csv\",index = False)"
   ]
  },
  {
   "cell_type": "code",
   "execution_count": null,
   "id": "mechanical-jenny",
   "metadata": {
    "papermill": {
     "duration": 0.017847,
     "end_time": "2021-04-02T07:03:52.622207",
     "exception": false,
     "start_time": "2021-04-02T07:03:52.604360",
     "status": "completed"
    },
    "tags": []
   },
   "outputs": [],
   "source": []
  }
 ],
 "metadata": {
  "kernelspec": {
   "display_name": "Python 3",
   "language": "python",
   "name": "python3"
  },
  "language_info": {
   "codemirror_mode": {
    "name": "ipython",
    "version": 3
   },
   "file_extension": ".py",
   "mimetype": "text/x-python",
   "name": "python",
   "nbconvert_exporter": "python",
   "pygments_lexer": "ipython3",
   "version": "3.7.9"
  },
  "papermill": {
   "default_parameters": {},
   "duration": 14.578957,
   "end_time": "2021-04-02T07:03:53.850955",
   "environment_variables": {},
   "exception": null,
   "input_path": "__notebook__.ipynb",
   "output_path": "__notebook__.ipynb",
   "parameters": {},
   "start_time": "2021-04-02T07:03:39.271998",
   "version": "2.3.2"
  }
 },
 "nbformat": 4,
 "nbformat_minor": 5
}
