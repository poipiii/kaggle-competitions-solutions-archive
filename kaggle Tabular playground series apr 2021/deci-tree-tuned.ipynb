{
 "cells": [
  {
   "cell_type": "code",
   "execution_count": 1,
   "id": "separated-conspiracy",
   "metadata": {
    "_cell_guid": "b1076dfc-b9ad-4769-8c92-a6c4dae69d19",
    "_uuid": "8f2839f25d086af736a60e9eeb907d3b93b6e0e5",
    "execution": {
     "iopub.execute_input": "2021-04-10T07:24:47.308261Z",
     "iopub.status.busy": "2021-04-10T07:24:47.307027Z",
     "iopub.status.idle": "2021-04-10T07:24:49.002826Z",
     "shell.execute_reply": "2021-04-10T07:24:49.001959Z"
    },
    "papermill": {
     "duration": 1.709736,
     "end_time": "2021-04-10T07:24:49.002994",
     "exception": false,
     "start_time": "2021-04-10T07:24:47.293258",
     "status": "completed"
    },
    "tags": []
   },
   "outputs": [],
   "source": [
    "import pandas as pd\n",
    "import numpy as np\n",
    "from sklearn.preprocessing import LabelEncoder, StandardScaler\n",
    "from sklearn.model_selection import train_test_split, KFold, StratifiedKFold\n",
    "from sklearn.metrics import accuracy_score, roc_auc_score\n",
    "from sklearn.tree import DecisionTreeClassifier\n",
    "import optuna\n",
    "from sklearn.model_selection import cross_val_score\n",
    "from sklearn.model_selection import StratifiedKFold"
   ]
  },
  {
   "cell_type": "code",
   "execution_count": 2,
   "id": "artistic-reform",
   "metadata": {
    "execution": {
     "iopub.execute_input": "2021-04-10T07:24:49.027824Z",
     "iopub.status.busy": "2021-04-10T07:24:49.027130Z",
     "iopub.status.idle": "2021-04-10T07:24:49.636400Z",
     "shell.execute_reply": "2021-04-10T07:24:49.635832Z"
    },
    "papermill": {
     "duration": 0.623238,
     "end_time": "2021-04-10T07:24:49.636556",
     "exception": false,
     "start_time": "2021-04-10T07:24:49.013318",
     "status": "completed"
    },
    "tags": []
   },
   "outputs": [],
   "source": [
    "train_df = pd.read_csv('../input/tabular-playground-series-apr-2021/train.csv')\n",
    "test_df = pd.read_csv('../input/tabular-playground-series-apr-2021/test.csv')"
   ]
  },
  {
   "cell_type": "code",
   "execution_count": 3,
   "id": "insured-result",
   "metadata": {
    "execution": {
     "iopub.execute_input": "2021-04-10T07:24:49.669749Z",
     "iopub.status.busy": "2021-04-10T07:24:49.664589Z",
     "iopub.status.idle": "2021-04-10T07:24:49.682471Z",
     "shell.execute_reply": "2021-04-10T07:24:49.681878Z"
    },
    "papermill": {
     "duration": 0.036486,
     "end_time": "2021-04-10T07:24:49.682616",
     "exception": false,
     "start_time": "2021-04-10T07:24:49.646130",
     "status": "completed"
    },
    "tags": []
   },
   "outputs": [],
   "source": [
    "def label_encoder(c):\n",
    "    lc = LabelEncoder()\n",
    "def age_range(age):\n",
    "    if age >= 0 and age <= 5:\n",
    "        return \"baby\"\n",
    "    elif age >= 6 and age <= 16:\n",
    "        return \"children\"\n",
    "    elif age >= 17 and age <= 29:\n",
    "        return \"young_adult\"\n",
    "    elif age >= 30 and age <=49:\n",
    "        return \"middle_aged\"\n",
    "    else:\n",
    "        return \"senior\"\n",
    "    return lc.fit_transform(c)\n",
    "def preprocess(df):\n",
    "    age_map = df[['Age', 'Pclass']].dropna().groupby('Pclass').mean().to_dict()\n",
    "    df.Age = df.Age.fillna(df.Pclass.map(age_map['Age']))\n",
    "    df.Cabin = df.Cabin.fillna('X').map(lambda x: x[0].strip())\n",
    "    df.Ticket = df.Ticket.fillna('X').map(lambda x:str(x).split()[0] if len(str(x).split()) > 1 else 'X')\n",
    "    df.Fare = df.Fare.fillna(df.Fare.mean())\n",
    "    df.Fare = df.Fare.map(lambda i: np.log(i) if i > 0 else 0)\n",
    "    df.Embarked = df.Embarked.fillna('X')\n",
    "    df.Name = df.Name.map(lambda x: x.split(',')[0])\n",
    "    df[\"age_range\"] = df[\"Age\"].apply(age_range)\n",
    "    df[\"Family\"] = df[\"SibSp\"] + df[\"Parch\"] +1   \n",
    "    df[\"Alone\"] =  df[\"Family\"].map(lambda x : \"Yes\" if x == 1 else \"No\")\n",
    "    label_cols = ['Name', 'Ticket',\"age_range\",\"Alone\"]\n",
    "    onehot_cols = ['Pclass', 'Sex', 'Cabin', 'Embarked']\n",
    "    numerical_cols = ['SibSp', 'Parch', 'Fare','Survived',\"Family\"]  \n",
    "    onehot_encoded_df = pd.get_dummies(df[onehot_cols])\n",
    "    label_encoded_df = df[label_cols].apply(label_encoder)\n",
    "    numerical_df = df[numerical_cols]\n",
    "    return pd.concat([numerical_df,onehot_encoded_df], axis=1)\n",
    "\n",
    "def test_preprocess(df):\n",
    "    age_map = df[['Age', 'Pclass']].dropna().groupby('Pclass').mean().to_dict()\n",
    "    df.Age = df.Age.fillna(df.Pclass.map(age_map['Age']))\n",
    "    df.Cabin = df.Cabin.fillna('X').map(lambda x: x[0].strip())\n",
    "    df.Ticket = df.Ticket.fillna('X').map(lambda x:str(x).split()[0] if len(str(x).split()) > 1 else 'X')\n",
    "    df.Fare = df.Fare.fillna(df.Fare.mean())\n",
    "    df.Fare = df.Fare.map(lambda i: np.log(i) if i > 0 else 0)\n",
    "    df.Embarked = df.Embarked.fillna('X')\n",
    "    df.Name = df.Name.map(lambda x: x.split(',')[0])\n",
    "    df[\"age_range\"] = df[\"Age\"].apply(age_range)\n",
    "    df[\"Family\"] = df[\"SibSp\"] + df[\"Parch\"] +1   \n",
    "    df[\"Alone\"] =  df[\"Family\"].map(lambda x : \"Yes\" if x == 1 else \"No\")\n",
    "    label_cols = ['Name', 'Ticket',\"age_range\",\"Alone\"]\n",
    "    onehot_cols = ['Pclass', 'Sex', 'Cabin', 'Embarked']\n",
    "    numerical_cols = ['SibSp', 'Parch', 'Fare',\"Family\"]  \n",
    "    onehot_encoded_df = pd.get_dummies(df[onehot_cols])\n",
    "    label_encoded_df = df[label_cols].apply(label_encoder)\n",
    "    numerical_df = df[numerical_cols]\n",
    "    return pd.concat([numerical_df,onehot_encoded_df], axis=1)"
   ]
  },
  {
   "cell_type": "code",
   "execution_count": 4,
   "id": "fifteen-israeli",
   "metadata": {
    "execution": {
     "iopub.execute_input": "2021-04-10T07:24:49.706974Z",
     "iopub.status.busy": "2021-04-10T07:24:49.706344Z",
     "iopub.status.idle": "2021-04-10T07:24:49.746954Z",
     "shell.execute_reply": "2021-04-10T07:24:49.746376Z"
    },
    "papermill": {
     "duration": 0.054888,
     "end_time": "2021-04-10T07:24:49.747093",
     "exception": false,
     "start_time": "2021-04-10T07:24:49.692205",
     "status": "completed"
    },
    "tags": []
   },
   "outputs": [],
   "source": [
    "persudo = pd.read_csv(\"../input/apr-play-ground-persudo/persudosubmit.csv\")"
   ]
  },
  {
   "cell_type": "code",
   "execution_count": 5,
   "id": "static-snake",
   "metadata": {
    "execution": {
     "iopub.execute_input": "2021-04-10T07:24:49.784346Z",
     "iopub.status.busy": "2021-04-10T07:24:49.781881Z",
     "iopub.status.idle": "2021-04-10T07:24:50.983835Z",
     "shell.execute_reply": "2021-04-10T07:24:50.984349Z"
    },
    "papermill": {
     "duration": 1.227886,
     "end_time": "2021-04-10T07:24:50.984536",
     "exception": false,
     "start_time": "2021-04-10T07:24:49.756650",
     "status": "completed"
    },
    "tags": []
   },
   "outputs": [],
   "source": [
    "train = preprocess(df = train_df)\n",
    "test = test_preprocess(df=test_df)\n",
    "persudo_test = test.copy()\n",
    "persudo_test['Survived'] = persudo[\"Survived\"]\n",
    "full_df = train.append(persudo_test)\n",
    "y = full_df.pop(\"Survived\")\n",
    "x = full_df.values\n"
   ]
  },
  {
   "cell_type": "code",
   "execution_count": 6,
   "id": "conventional-karaoke",
   "metadata": {
    "execution": {
     "iopub.execute_input": "2021-04-10T07:24:51.007397Z",
     "iopub.status.busy": "2021-04-10T07:24:51.006783Z",
     "iopub.status.idle": "2021-04-10T07:24:51.010446Z",
     "shell.execute_reply": "2021-04-10T07:24:51.010907Z"
    },
    "papermill": {
     "duration": 0.016744,
     "end_time": "2021-04-10T07:24:51.011082",
     "exception": false,
     "start_time": "2021-04-10T07:24:50.994338",
     "status": "completed"
    },
    "tags": []
   },
   "outputs": [],
   "source": [
    " params = {'criterion': 'entropy',\n",
    "  'splitter': 'best',\n",
    "  'max_depth': 1559,\n",
    "  'min_samples_split': 742,\n",
    "  'min_samples_leaf': 111,\n",
    "  'max_leaf_nodes': 1512}"
   ]
  },
  {
   "cell_type": "code",
   "execution_count": 7,
   "id": "colonial-plant",
   "metadata": {
    "execution": {
     "iopub.execute_input": "2021-04-10T07:24:51.037366Z",
     "iopub.status.busy": "2021-04-10T07:24:51.036700Z",
     "iopub.status.idle": "2021-04-10T07:24:57.055787Z",
     "shell.execute_reply": "2021-04-10T07:24:57.056399Z"
    },
    "papermill": {
     "duration": 6.035543,
     "end_time": "2021-04-10T07:24:57.056573",
     "exception": false,
     "start_time": "2021-04-10T07:24:51.021030",
     "status": "completed"
    },
    "tags": []
   },
   "outputs": [
    {
     "name": "stdout",
     "output_type": "stream",
     "text": [
      "0.8750450000000001\n",
      "0.8357320405418183\n"
     ]
    }
   ],
   "source": [
    "test_acc = DecisionTreeClassifier(**params)\n",
    "sk_fold = StratifiedKFold(5)\n",
    "print(cross_val_score(test_acc,x,y, n_jobs=-1, cv=sk_fold,scoring='accuracy').mean())\n",
    "print(cross_val_score(test_acc,x,y, n_jobs=-1, cv=sk_fold,scoring='f1').mean())"
   ]
  },
  {
   "cell_type": "code",
   "execution_count": 8,
   "id": "alert-collectible",
   "metadata": {
    "execution": {
     "iopub.execute_input": "2021-04-10T07:24:57.083239Z",
     "iopub.status.busy": "2021-04-10T07:24:57.082616Z",
     "iopub.status.idle": "2021-04-10T07:24:57.938097Z",
     "shell.execute_reply": "2021-04-10T07:24:57.937524Z"
    },
    "papermill": {
     "duration": 0.870546,
     "end_time": "2021-04-10T07:24:57.938268",
     "exception": false,
     "start_time": "2021-04-10T07:24:57.067722",
     "status": "completed"
    },
    "tags": []
   },
   "outputs": [
    {
     "data": {
      "text/plain": [
       "DecisionTreeClassifier(criterion='entropy', max_depth=1559, max_leaf_nodes=1512,\n",
       "                       min_samples_leaf=111, min_samples_split=742)"
      ]
     },
     "execution_count": 8,
     "metadata": {},
     "output_type": "execute_result"
    }
   ],
   "source": [
    "clf = DecisionTreeClassifier(**params)\n",
    "clf.fit(x,y)"
   ]
  },
  {
   "cell_type": "code",
   "execution_count": 9,
   "id": "defensive-behavior",
   "metadata": {
    "execution": {
     "iopub.execute_input": "2021-04-10T07:24:57.970015Z",
     "iopub.status.busy": "2021-04-10T07:24:57.968565Z",
     "iopub.status.idle": "2021-04-10T07:24:57.994273Z",
     "shell.execute_reply": "2021-04-10T07:24:57.993752Z"
    },
    "papermill": {
     "duration": 0.044629,
     "end_time": "2021-04-10T07:24:57.994438",
     "exception": false,
     "start_time": "2021-04-10T07:24:57.949809",
     "status": "completed"
    },
    "tags": []
   },
   "outputs": [],
   "source": [
    "preds = clf.predict(test)"
   ]
  },
  {
   "cell_type": "code",
   "execution_count": 10,
   "id": "ambient-robert",
   "metadata": {
    "execution": {
     "iopub.execute_input": "2021-04-10T07:24:58.022622Z",
     "iopub.status.busy": "2021-04-10T07:24:58.021680Z",
     "iopub.status.idle": "2021-04-10T07:24:58.036051Z",
     "shell.execute_reply": "2021-04-10T07:24:58.035390Z"
    },
    "papermill": {
     "duration": 0.03074,
     "end_time": "2021-04-10T07:24:58.036203",
     "exception": false,
     "start_time": "2021-04-10T07:24:58.005463",
     "status": "completed"
    },
    "tags": []
   },
   "outputs": [
    {
     "data": {
      "text/html": [
       "<div>\n",
       "<style scoped>\n",
       "    .dataframe tbody tr th:only-of-type {\n",
       "        vertical-align: middle;\n",
       "    }\n",
       "\n",
       "    .dataframe tbody tr th {\n",
       "        vertical-align: top;\n",
       "    }\n",
       "\n",
       "    .dataframe thead th {\n",
       "        text-align: right;\n",
       "    }\n",
       "</style>\n",
       "<table border=\"1\" class=\"dataframe\">\n",
       "  <thead>\n",
       "    <tr style=\"text-align: right;\">\n",
       "      <th></th>\n",
       "      <th>PassengerId</th>\n",
       "      <th>Survived</th>\n",
       "    </tr>\n",
       "  </thead>\n",
       "  <tbody>\n",
       "    <tr>\n",
       "      <th>0</th>\n",
       "      <td>100000</td>\n",
       "      <td>0</td>\n",
       "    </tr>\n",
       "    <tr>\n",
       "      <th>1</th>\n",
       "      <td>100001</td>\n",
       "      <td>1</td>\n",
       "    </tr>\n",
       "    <tr>\n",
       "      <th>2</th>\n",
       "      <td>100002</td>\n",
       "      <td>1</td>\n",
       "    </tr>\n",
       "    <tr>\n",
       "      <th>3</th>\n",
       "      <td>100003</td>\n",
       "      <td>0</td>\n",
       "    </tr>\n",
       "    <tr>\n",
       "      <th>4</th>\n",
       "      <td>100004</td>\n",
       "      <td>1</td>\n",
       "    </tr>\n",
       "    <tr>\n",
       "      <th>5</th>\n",
       "      <td>100005</td>\n",
       "      <td>0</td>\n",
       "    </tr>\n",
       "    <tr>\n",
       "      <th>6</th>\n",
       "      <td>100006</td>\n",
       "      <td>1</td>\n",
       "    </tr>\n",
       "    <tr>\n",
       "      <th>7</th>\n",
       "      <td>100007</td>\n",
       "      <td>0</td>\n",
       "    </tr>\n",
       "    <tr>\n",
       "      <th>8</th>\n",
       "      <td>100008</td>\n",
       "      <td>0</td>\n",
       "    </tr>\n",
       "    <tr>\n",
       "      <th>9</th>\n",
       "      <td>100009</td>\n",
       "      <td>0</td>\n",
       "    </tr>\n",
       "  </tbody>\n",
       "</table>\n",
       "</div>"
      ],
      "text/plain": [
       "   PassengerId  Survived\n",
       "0       100000         0\n",
       "1       100001         1\n",
       "2       100002         1\n",
       "3       100003         0\n",
       "4       100004         1\n",
       "5       100005         0\n",
       "6       100006         1\n",
       "7       100007         0\n",
       "8       100008         0\n",
       "9       100009         0"
      ]
     },
     "execution_count": 10,
     "metadata": {},
     "output_type": "execute_result"
    }
   ],
   "source": [
    "submit = pd.DataFrame({\"PassengerId\":test_df[\"PassengerId\"],\"Survived\":preds})\n",
    "submit.head(10)"
   ]
  },
  {
   "cell_type": "code",
   "execution_count": 11,
   "id": "suspected-glenn",
   "metadata": {
    "execution": {
     "iopub.execute_input": "2021-04-10T07:24:58.064981Z",
     "iopub.status.busy": "2021-04-10T07:24:58.064009Z",
     "iopub.status.idle": "2021-04-10T07:24:58.253916Z",
     "shell.execute_reply": "2021-04-10T07:24:58.253318Z"
    },
    "papermill": {
     "duration": 0.20582,
     "end_time": "2021-04-10T07:24:58.254056",
     "exception": false,
     "start_time": "2021-04-10T07:24:58.048236",
     "status": "completed"
    },
    "tags": []
   },
   "outputs": [],
   "source": [
    "submit.to_csv(\"submission.csv\",index = False)"
   ]
  },
  {
   "cell_type": "code",
   "execution_count": null,
   "id": "close-graphic",
   "metadata": {
    "papermill": {
     "duration": 0.011398,
     "end_time": "2021-04-10T07:24:58.278791",
     "exception": false,
     "start_time": "2021-04-10T07:24:58.267393",
     "status": "completed"
    },
    "tags": []
   },
   "outputs": [],
   "source": []
  }
 ],
 "metadata": {
  "kernelspec": {
   "display_name": "Python 3",
   "language": "python",
   "name": "python3"
  },
  "language_info": {
   "codemirror_mode": {
    "name": "ipython",
    "version": 3
   },
   "file_extension": ".py",
   "mimetype": "text/x-python",
   "name": "python",
   "nbconvert_exporter": "python",
   "pygments_lexer": "ipython3",
   "version": "3.7.9"
  },
  "papermill": {
   "default_parameters": {},
   "duration": 18.059088,
   "end_time": "2021-04-10T07:24:59.301631",
   "environment_variables": {},
   "exception": null,
   "input_path": "__notebook__.ipynb",
   "output_path": "__notebook__.ipynb",
   "parameters": {},
   "start_time": "2021-04-10T07:24:41.242543",
   "version": "2.3.2"
  }
 },
 "nbformat": 4,
 "nbformat_minor": 5
}
