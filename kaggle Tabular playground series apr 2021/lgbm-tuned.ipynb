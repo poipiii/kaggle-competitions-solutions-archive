{
 "cells": [
  {
   "cell_type": "code",
   "execution_count": 1,
   "id": "realistic-neutral",
   "metadata": {
    "_cell_guid": "b1076dfc-b9ad-4769-8c92-a6c4dae69d19",
    "_uuid": "8f2839f25d086af736a60e9eeb907d3b93b6e0e5",
    "execution": {
     "iopub.execute_input": "2021-04-10T08:16:17.712674Z",
     "iopub.status.busy": "2021-04-10T08:16:17.710854Z",
     "iopub.status.idle": "2021-04-10T08:16:19.813069Z",
     "shell.execute_reply": "2021-04-10T08:16:19.812229Z"
    },
    "papermill": {
     "duration": 2.118462,
     "end_time": "2021-04-10T08:16:19.813231",
     "exception": false,
     "start_time": "2021-04-10T08:16:17.694769",
     "status": "completed"
    },
    "tags": []
   },
   "outputs": [
    {
     "data": {
      "text/html": [
       "<style type='text/css'>\n",
       ".datatable table.frame { margin-bottom: 0; }\n",
       ".datatable table.frame thead { border-bottom: none; }\n",
       ".datatable table.frame tr.coltypes td {  color: #FFFFFF;  line-height: 6px;  padding: 0 0.5em;}\n",
       ".datatable .bool    { background: #DDDD99; }\n",
       ".datatable .object  { background: #565656; }\n",
       ".datatable .int     { background: #5D9E5D; }\n",
       ".datatable .float   { background: #4040CC; }\n",
       ".datatable .str     { background: #CC4040; }\n",
       ".datatable .row_index {  background: var(--jp-border-color3);  border-right: 1px solid var(--jp-border-color0);  color: var(--jp-ui-font-color3);  font-size: 9px;}\n",
       ".datatable .frame tr.coltypes .row_index {  background: var(--jp-border-color0);}\n",
       ".datatable th:nth-child(2) { padding-left: 12px; }\n",
       ".datatable .hellipsis {  color: var(--jp-cell-editor-border-color);}\n",
       ".datatable .vellipsis {  background: var(--jp-layout-color0);  color: var(--jp-cell-editor-border-color);}\n",
       ".datatable .na {  color: var(--jp-cell-editor-border-color);  font-size: 80%;}\n",
       ".datatable .footer { font-size: 9px; }\n",
       ".datatable .frame_dimensions {  background: var(--jp-border-color3);  border-top: 1px solid var(--jp-border-color0);  color: var(--jp-ui-font-color3);  display: inline-block;  opacity: 0.6;  padding: 1px 10px 1px 5px;}\n",
       "</style>\n"
      ],
      "text/plain": [
       "<IPython.core.display.HTML object>"
      ]
     },
     "metadata": {},
     "output_type": "display_data"
    }
   ],
   "source": [
    "import pandas as pd\n",
    "import numpy as np\n",
    "from sklearn.preprocessing import LabelEncoder, StandardScaler\n",
    "from sklearn.model_selection import train_test_split, KFold, StratifiedKFold\n",
    "from sklearn.metrics import accuracy_score, roc_auc_score\n",
    "import lightgbm as lgb\n",
    "from lightgbm import LGBMModel,LGBMClassifier\n",
    "import optuna\n",
    "from sklearn.model_selection import cross_val_score\n",
    "from sklearn.model_selection import StratifiedKFold\n"
   ]
  },
  {
   "cell_type": "code",
   "execution_count": 2,
   "id": "secure-corpus",
   "metadata": {
    "execution": {
     "iopub.execute_input": "2021-04-10T08:16:19.840909Z",
     "iopub.status.busy": "2021-04-10T08:16:19.839762Z",
     "iopub.status.idle": "2021-04-10T08:16:20.458634Z",
     "shell.execute_reply": "2021-04-10T08:16:20.457718Z"
    },
    "papermill": {
     "duration": 0.634159,
     "end_time": "2021-04-10T08:16:20.458862",
     "exception": false,
     "start_time": "2021-04-10T08:16:19.824703",
     "status": "completed"
    },
    "tags": []
   },
   "outputs": [],
   "source": [
    "train_df = pd.read_csv('../input/tabular-playground-series-apr-2021/train.csv')\n",
    "test_df = pd.read_csv('../input/tabular-playground-series-apr-2021/test.csv')"
   ]
  },
  {
   "cell_type": "code",
   "execution_count": 3,
   "id": "applicable-subsection",
   "metadata": {
    "execution": {
     "iopub.execute_input": "2021-04-10T08:16:20.485681Z",
     "iopub.status.busy": "2021-04-10T08:16:20.484974Z",
     "iopub.status.idle": "2021-04-10T08:16:20.506759Z",
     "shell.execute_reply": "2021-04-10T08:16:20.507247Z"
    },
    "papermill": {
     "duration": 0.037053,
     "end_time": "2021-04-10T08:16:20.507461",
     "exception": false,
     "start_time": "2021-04-10T08:16:20.470408",
     "status": "completed"
    },
    "tags": []
   },
   "outputs": [],
   "source": [
    "def label_encoder(c):\n",
    "    lc = LabelEncoder()\n",
    "def age_range(age):\n",
    "    if age >= 0 and age <= 5:\n",
    "        return \"baby\"\n",
    "    elif age >= 6 and age <= 16:\n",
    "        return \"children\"\n",
    "    elif age >= 17 and age <= 29:\n",
    "        return \"young_adult\"\n",
    "    elif age >= 30 and age <=49:\n",
    "        return \"middle_aged\"\n",
    "    else:\n",
    "        return \"senior\"\n",
    "    return lc.fit_transform(c)\n",
    "def preprocess(df):\n",
    "    age_map = df[['Age', 'Pclass']].dropna().groupby('Pclass').mean().to_dict()\n",
    "    df.Age = df.Age.fillna(df.Pclass.map(age_map['Age']))\n",
    "    df.Cabin = df.Cabin.fillna('X').map(lambda x: x[0].strip())\n",
    "    df.Ticket = df.Ticket.fillna('X').map(lambda x:str(x).split()[0] if len(str(x).split()) > 1 else 'X')\n",
    "    df.Fare = df.Fare.fillna(df.Fare.mean())\n",
    "    df.Fare = df.Fare.map(lambda i: np.log(i) if i > 0 else 0)\n",
    "    df.Embarked = df.Embarked.fillna('X')\n",
    "    df.Name = df.Name.map(lambda x: x.split(',')[0])\n",
    "    df[\"age_range\"] = df[\"Age\"].apply(age_range)\n",
    "    df[\"Family\"] = df[\"SibSp\"] + df[\"Parch\"] +1   \n",
    "    df[\"Alone\"] =  df[\"Family\"].map(lambda x : \"Yes\" if x == 1 else \"No\")\n",
    "    label_cols = ['Name']\n",
    "    onehot_cols = ['Pclass', 'Sex', 'Cabin', 'Embarked']\n",
    "    numerical_cols = ['SibSp', 'Parch', 'Fare','Survived',\"Family\",\"Age\"]  \n",
    "    onehot_encoded_df = pd.get_dummies(df[onehot_cols])\n",
    "    label_encoded_df = df[label_cols].apply(label_encoder)\n",
    "    numerical_df = df[numerical_cols]\n",
    "    return pd.concat([numerical_df,onehot_encoded_df], axis=1)\n",
    "\n",
    "def test_preprocess(df):\n",
    "    age_map = df[['Age', 'Pclass']].dropna().groupby('Pclass').mean().to_dict()\n",
    "    df.Age = df.Age.fillna(df.Pclass.map(age_map['Age']))\n",
    "    df.Cabin = df.Cabin.fillna('X').map(lambda x: x[0].strip())\n",
    "    df.Ticket = df.Ticket.fillna('X').map(lambda x:str(x).split()[0] if len(str(x).split()) > 1 else 'X')\n",
    "    df.Fare = df.Fare.fillna(df.Fare.mean())\n",
    "    df.Fare = df.Fare.map(lambda i: np.log(i) if i > 0 else 0)\n",
    "    df.Embarked = df.Embarked.fillna('X')\n",
    "    df.Name = df.Name.map(lambda x: x.split(',')[0])\n",
    "    df[\"age_range\"] = df[\"Age\"].apply(age_range)\n",
    "    df[\"Family\"] = df[\"SibSp\"] + df[\"Parch\"] +1   \n",
    "    df[\"Alone\"] =  df[\"Family\"].map(lambda x : \"Yes\" if x == 1 else \"No\")\n",
    "    label_cols = ['Name']\n",
    "    onehot_cols = ['Pclass', 'Sex', 'Cabin', 'Embarked']\n",
    "    numerical_cols = ['SibSp', 'Parch', 'Fare',\"Family\",\"Age\"]  \n",
    "    onehot_encoded_df = pd.get_dummies(df[onehot_cols])\n",
    "    label_encoded_df = df[label_cols].apply(label_encoder)\n",
    "    numerical_df = df[numerical_cols]\n",
    "    return pd.concat([numerical_df,onehot_encoded_df], axis=1)\n"
   ]
  },
  {
   "cell_type": "code",
   "execution_count": 4,
   "id": "saved-duplicate",
   "metadata": {
    "execution": {
     "iopub.execute_input": "2021-04-10T08:16:20.532823Z",
     "iopub.status.busy": "2021-04-10T08:16:20.532161Z",
     "iopub.status.idle": "2021-04-10T08:16:20.572754Z",
     "shell.execute_reply": "2021-04-10T08:16:20.573241Z"
    },
    "papermill": {
     "duration": 0.055061,
     "end_time": "2021-04-10T08:16:20.573454",
     "exception": false,
     "start_time": "2021-04-10T08:16:20.518393",
     "status": "completed"
    },
    "tags": []
   },
   "outputs": [],
   "source": [
    "persudo = pd.read_csv(\"../input/apr-play-ground-persudo/persudosubmit.csv\")"
   ]
  },
  {
   "cell_type": "code",
   "execution_count": 5,
   "id": "selective-natural",
   "metadata": {
    "execution": {
     "iopub.execute_input": "2021-04-10T08:16:20.599291Z",
     "iopub.status.busy": "2021-04-10T08:16:20.598638Z",
     "iopub.status.idle": "2021-04-10T08:16:21.826479Z",
     "shell.execute_reply": "2021-04-10T08:16:21.825798Z"
    },
    "papermill": {
     "duration": 1.241739,
     "end_time": "2021-04-10T08:16:21.826632",
     "exception": false,
     "start_time": "2021-04-10T08:16:20.584893",
     "status": "completed"
    },
    "tags": []
   },
   "outputs": [],
   "source": [
    "train = preprocess(df = train_df)\n",
    "test = test_preprocess(df=test_df)\n",
    "persudo_test = test.copy()\n",
    "persudo_test['Survived'] = persudo[\"Survived\"]\n",
    "full_df = train.append(persudo_test)\n",
    "y = full_df.pop(\"Survived\")\n",
    "x = full_df\n"
   ]
  },
  {
   "cell_type": "code",
   "execution_count": 6,
   "id": "binding-rings",
   "metadata": {
    "execution": {
     "iopub.execute_input": "2021-04-10T08:16:21.854229Z",
     "iopub.status.busy": "2021-04-10T08:16:21.853450Z",
     "iopub.status.idle": "2021-04-10T08:16:21.857016Z",
     "shell.execute_reply": "2021-04-10T08:16:21.857528Z"
    },
    "papermill": {
     "duration": 0.020098,
     "end_time": "2021-04-10T08:16:21.857699",
     "exception": false,
     "start_time": "2021-04-10T08:16:21.837601",
     "status": "completed"
    },
    "tags": []
   },
   "outputs": [],
   "source": [
    " params =  {'learning_rate': 0.08200889474481012,\n",
    "  'min_data_in_leaf': 100,\n",
    "  'lambda_l1': 0.1333381789860702,\n",
    "  'lambda_l2': 2.3426839157687394e-07,\n",
    "  'num_leaves': 62,\n",
    "  'max_depth': 9,\n",
    "  'feature_fraction': 0.9571499822515682,\n",
    "  'bagging_fraction': 0.9512400407806436,\n",
    "  'bagging_freq': 5,\n",
    "  'max_bin': 200}"
   ]
  },
  {
   "cell_type": "code",
   "execution_count": 7,
   "id": "severe-jesus",
   "metadata": {
    "execution": {
     "iopub.execute_input": "2021-04-10T08:16:21.888543Z",
     "iopub.status.busy": "2021-04-10T08:16:21.887477Z",
     "iopub.status.idle": "2021-04-10T08:16:49.396996Z",
     "shell.execute_reply": "2021-04-10T08:16:49.397532Z"
    },
    "papermill": {
     "duration": 27.528368,
     "end_time": "2021-04-10T08:16:49.397709",
     "exception": false,
     "start_time": "2021-04-10T08:16:21.869341",
     "status": "completed"
    },
    "tags": []
   },
   "outputs": [
    {
     "name": "stdout",
     "output_type": "stream",
     "text": [
      "0.87951\n",
      "0.8402202705923916\n"
     ]
    }
   ],
   "source": [
    "test_acc = LGBMClassifier(**params)\n",
    "sk_fold = StratifiedKFold(5)\n",
    "print(cross_val_score(test_acc,x,y, n_jobs=-1, cv=sk_fold,scoring='accuracy').mean())\n",
    "print(cross_val_score(test_acc,x,y, n_jobs=-1, cv=sk_fold,scoring='f1').mean())"
   ]
  },
  {
   "cell_type": "code",
   "execution_count": 8,
   "id": "adjusted-valuation",
   "metadata": {
    "execution": {
     "iopub.execute_input": "2021-04-10T08:16:49.428895Z",
     "iopub.status.busy": "2021-04-10T08:16:49.427728Z",
     "iopub.status.idle": "2021-04-10T08:16:52.723004Z",
     "shell.execute_reply": "2021-04-10T08:16:52.722339Z"
    },
    "papermill": {
     "duration": 3.313407,
     "end_time": "2021-04-10T08:16:52.723154",
     "exception": false,
     "start_time": "2021-04-10T08:16:49.409747",
     "status": "completed"
    },
    "tags": []
   },
   "outputs": [
    {
     "name": "stdout",
     "output_type": "stream",
     "text": [
      "[LightGBM] [Warning] lambda_l1 is set=0.1333381789860702, reg_alpha=0.0 will be ignored. Current value: lambda_l1=0.1333381789860702\n",
      "[LightGBM] [Warning] bagging_fraction is set=0.9512400407806436, subsample=1.0 will be ignored. Current value: bagging_fraction=0.9512400407806436\n",
      "[LightGBM] [Warning] lambda_l2 is set=2.3426839157687394e-07, reg_lambda=0.0 will be ignored. Current value: lambda_l2=2.3426839157687394e-07\n",
      "[LightGBM] [Warning] feature_fraction is set=0.9571499822515682, colsample_bytree=1.0 will be ignored. Current value: feature_fraction=0.9571499822515682\n",
      "[LightGBM] [Warning] min_data_in_leaf is set=100, min_child_samples=20 will be ignored. Current value: min_data_in_leaf=100\n",
      "[LightGBM] [Warning] bagging_freq is set=5, subsample_freq=0 will be ignored. Current value: bagging_freq=5\n"
     ]
    },
    {
     "data": {
      "text/plain": [
       "<AxesSubplot:title={'center':'Feature importance'}, xlabel='Feature importance', ylabel='Features'>"
      ]
     },
     "execution_count": 8,
     "metadata": {},
     "output_type": "execute_result"
    },
    {
     "data": {
      "image/png": "[encoded data removed]",
      "text/plain": [
       "<Figure size 432x288 with 1 Axes>"
      ]
     },
     "metadata": {
      "needs_background": "light"
     },
     "output_type": "display_data"
    }
   ],
   "source": [
    "model = LGBMClassifier(**params)\n",
    "model.fit(x,y)\n",
    "lgb.plot_importance(model)"
   ]
  },
  {
   "cell_type": "code",
   "execution_count": 9,
   "id": "unavailable-country",
   "metadata": {
    "execution": {
     "iopub.execute_input": "2021-04-10T08:16:52.757760Z",
     "iopub.status.busy": "2021-04-10T08:16:52.756826Z",
     "iopub.status.idle": "2021-04-10T08:16:55.602189Z",
     "shell.execute_reply": "2021-04-10T08:16:55.603192Z"
    },
    "papermill": {
     "duration": 2.866434,
     "end_time": "2021-04-10T08:16:55.603396",
     "exception": false,
     "start_time": "2021-04-10T08:16:52.736962",
     "status": "completed"
    },
    "tags": []
   },
   "outputs": [
    {
     "data": {
      "text/plain": [
       "LGBMClassifier(bagging_fraction=0.9512400407806436, bagging_freq=5,\n",
       "               feature_fraction=0.9571499822515682,\n",
       "               lambda_l1=0.1333381789860702, lambda_l2=2.3426839157687394e-07,\n",
       "               learning_rate=0.08200889474481012, max_bin=200, max_depth=9,\n",
       "               min_data_in_leaf=100, num_leaves=62)"
      ]
     },
     "execution_count": 9,
     "metadata": {},
     "output_type": "execute_result"
    }
   ],
   "source": [
    "clf = LGBMClassifier(**params)\n",
    "clf.fit(x,y)"
   ]
  },
  {
   "cell_type": "code",
   "execution_count": 10,
   "id": "organizational-luther",
   "metadata": {
    "execution": {
     "iopub.execute_input": "2021-04-10T08:16:55.638970Z",
     "iopub.status.busy": "2021-04-10T08:16:55.638284Z",
     "iopub.status.idle": "2021-04-10T08:16:55.975345Z",
     "shell.execute_reply": "2021-04-10T08:16:55.975964Z"
    },
    "papermill": {
     "duration": 0.357377,
     "end_time": "2021-04-10T08:16:55.976168",
     "exception": false,
     "start_time": "2021-04-10T08:16:55.618791",
     "status": "completed"
    },
    "tags": []
   },
   "outputs": [],
   "source": [
    "preds = clf.predict(test)"
   ]
  },
  {
   "cell_type": "code",
   "execution_count": 11,
   "id": "premium-anderson",
   "metadata": {
    "execution": {
     "iopub.execute_input": "2021-04-10T08:16:56.011988Z",
     "iopub.status.busy": "2021-04-10T08:16:56.011019Z",
     "iopub.status.idle": "2021-04-10T08:16:56.026840Z",
     "shell.execute_reply": "2021-04-10T08:16:56.027341Z"
    },
    "papermill": {
     "duration": 0.035473,
     "end_time": "2021-04-10T08:16:56.027549",
     "exception": false,
     "start_time": "2021-04-10T08:16:55.992076",
     "status": "completed"
    },
    "tags": []
   },
   "outputs": [
    {
     "data": {
      "text/html": [
       "<div>\n",
       "<style scoped>\n",
       "    .dataframe tbody tr th:only-of-type {\n",
       "        vertical-align: middle;\n",
       "    }\n",
       "\n",
       "    .dataframe tbody tr th {\n",
       "        vertical-align: top;\n",
       "    }\n",
       "\n",
       "    .dataframe thead th {\n",
       "        text-align: right;\n",
       "    }\n",
       "</style>\n",
       "<table border=\"1\" class=\"dataframe\">\n",
       "  <thead>\n",
       "    <tr style=\"text-align: right;\">\n",
       "      <th></th>\n",
       "      <th>PassengerId</th>\n",
       "      <th>Survived</th>\n",
       "    </tr>\n",
       "  </thead>\n",
       "  <tbody>\n",
       "    <tr>\n",
       "      <th>0</th>\n",
       "      <td>100000</td>\n",
       "      <td>0</td>\n",
       "    </tr>\n",
       "    <tr>\n",
       "      <th>1</th>\n",
       "      <td>100001</td>\n",
       "      <td>1</td>\n",
       "    </tr>\n",
       "    <tr>\n",
       "      <th>2</th>\n",
       "      <td>100002</td>\n",
       "      <td>1</td>\n",
       "    </tr>\n",
       "    <tr>\n",
       "      <th>3</th>\n",
       "      <td>100003</td>\n",
       "      <td>0</td>\n",
       "    </tr>\n",
       "    <tr>\n",
       "      <th>4</th>\n",
       "      <td>100004</td>\n",
       "      <td>1</td>\n",
       "    </tr>\n",
       "    <tr>\n",
       "      <th>5</th>\n",
       "      <td>100005</td>\n",
       "      <td>0</td>\n",
       "    </tr>\n",
       "    <tr>\n",
       "      <th>6</th>\n",
       "      <td>100006</td>\n",
       "      <td>1</td>\n",
       "    </tr>\n",
       "    <tr>\n",
       "      <th>7</th>\n",
       "      <td>100007</td>\n",
       "      <td>0</td>\n",
       "    </tr>\n",
       "    <tr>\n",
       "      <th>8</th>\n",
       "      <td>100008</td>\n",
       "      <td>1</td>\n",
       "    </tr>\n",
       "    <tr>\n",
       "      <th>9</th>\n",
       "      <td>100009</td>\n",
       "      <td>0</td>\n",
       "    </tr>\n",
       "  </tbody>\n",
       "</table>\n",
       "</div>"
      ],
      "text/plain": [
       "   PassengerId  Survived\n",
       "0       100000         0\n",
       "1       100001         1\n",
       "2       100002         1\n",
       "3       100003         0\n",
       "4       100004         1\n",
       "5       100005         0\n",
       "6       100006         1\n",
       "7       100007         0\n",
       "8       100008         1\n",
       "9       100009         0"
      ]
     },
     "execution_count": 11,
     "metadata": {},
     "output_type": "execute_result"
    }
   ],
   "source": [
    "submit = pd.DataFrame({\"PassengerId\":test_df[\"PassengerId\"],\"Survived\":preds})\n",
    "submit.head(10)"
   ]
  },
  {
   "cell_type": "code",
   "execution_count": 12,
   "id": "identified-railway",
   "metadata": {
    "execution": {
     "iopub.execute_input": "2021-04-10T08:16:56.063257Z",
     "iopub.status.busy": "2021-04-10T08:16:56.062541Z",
     "iopub.status.idle": "2021-04-10T08:16:56.267151Z",
     "shell.execute_reply": "2021-04-10T08:16:56.267702Z"
    },
    "papermill": {
     "duration": 0.224425,
     "end_time": "2021-04-10T08:16:56.267903",
     "exception": false,
     "start_time": "2021-04-10T08:16:56.043478",
     "status": "completed"
    },
    "tags": []
   },
   "outputs": [],
   "source": [
    "submit.to_csv(\"submission.csv\",index = False)"
   ]
  },
  {
   "cell_type": "code",
   "execution_count": null,
   "id": "measured-circle",
   "metadata": {
    "papermill": {
     "duration": 0.014968,
     "end_time": "2021-04-10T08:16:56.298540",
     "exception": false,
     "start_time": "2021-04-10T08:16:56.283572",
     "status": "completed"
    },
    "tags": []
   },
   "outputs": [],
   "source": []
  }
 ],
 "metadata": {
  "kernelspec": {
   "display_name": "Python 3",
   "language": "python",
   "name": "python3"
  },
  "language_info": {
   "codemirror_mode": {
    "name": "ipython",
    "version": 3
   },
   "file_extension": ".py",
   "mimetype": "text/x-python",
   "name": "python",
   "nbconvert_exporter": "python",
   "pygments_lexer": "ipython3",
   "version": "3.7.9"
  },
  "papermill": {
   "default_parameters": {},
   "duration": 46.35064,
   "end_time": "2021-04-10T08:16:57.325976",
   "environment_variables": {},
   "exception": null,
   "input_path": "__notebook__.ipynb",
   "output_path": "__notebook__.ipynb",
   "parameters": {},
   "start_time": "2021-04-10T08:16:10.975336",
   "version": "2.3.2"
  }
 },
 "nbformat": 4,
 "nbformat_minor": 5
}
