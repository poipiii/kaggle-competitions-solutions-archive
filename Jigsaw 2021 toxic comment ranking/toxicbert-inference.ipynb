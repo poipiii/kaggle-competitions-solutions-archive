{
 "cells": [
  {
   "cell_type": "code",
   "execution_count": 1,
   "id": "9f2701af",
   "metadata": {
    "_cell_guid": "b1076dfc-b9ad-4769-8c92-a6c4dae69d19",
    "_uuid": "8f2839f25d086af736a60e9eeb907d3b93b6e0e5",
    "execution": {
     "iopub.execute_input": "2021-11-11T15:54:00.193350Z",
     "iopub.status.busy": "2021-11-11T15:54:00.192630Z",
     "iopub.status.idle": "2021-11-11T15:54:07.105749Z",
     "shell.execute_reply": "2021-11-11T15:54:07.105085Z",
     "shell.execute_reply.started": "2021-11-11T15:53:13.010294Z"
    },
    "papermill": {
     "duration": 6.936266,
     "end_time": "2021-11-11T15:54:07.105913",
     "exception": false,
     "start_time": "2021-11-11T15:54:00.169647",
     "status": "completed"
    },
    "tags": []
   },
   "outputs": [],
   "source": [
    "import numpy as np\n",
    "import pandas as pd\n",
    "import pytorch_lightning as pl\n",
    "import torch\n",
    "import torch.nn as nn\n",
    "from torch.utils.data import Dataset, DataLoader\n",
    "from pytorch_lightning.core.lightning import LightningModule\n",
    "from pytorch_lightning.callbacks import ModelCheckpoint\n",
    "from pytorch_lightning import Trainer\n",
    "from transformers import AutoTokenizer, AutoModelForSequenceClassification,AutoModel\n",
    "import os\n",
    "from tqdm import tqdm\n",
    "import gc"
   ]
  },
  {
   "cell_type": "raw",
   "id": "be1844d3",
   "metadata": {
    "papermill": {
     "duration": 0.008963,
     "end_time": "2021-11-11T15:54:07.124866",
     "exception": false,
     "start_time": "2021-11-11T15:54:07.115903",
     "status": "completed"
    },
    "tags": []
   },
   "source": []
  },
  {
   "cell_type": "code",
   "execution_count": null,
   "id": "a45cc557",
   "metadata": {
    "papermill": {
     "duration": 0.008882,
     "end_time": "2021-11-11T15:54:07.142791",
     "exception": false,
     "start_time": "2021-11-11T15:54:07.133909",
     "status": "completed"
    },
    "tags": []
   },
   "outputs": [],
   "source": []
  },
  {
   "cell_type": "code",
   "execution_count": 2,
   "id": "4f58cb98",
   "metadata": {
    "execution": {
     "iopub.execute_input": "2021-11-11T15:54:07.166010Z",
     "iopub.status.busy": "2021-11-11T15:54:07.164072Z",
     "iopub.status.idle": "2021-11-11T15:54:07.323194Z",
     "shell.execute_reply": "2021-11-11T15:54:07.322675Z",
     "shell.execute_reply.started": "2021-11-11T15:53:13.019030Z"
    },
    "papermill": {
     "duration": 0.171522,
     "end_time": "2021-11-11T15:54:07.323347",
     "exception": false,
     "start_time": "2021-11-11T15:54:07.151825",
     "status": "completed"
    },
    "tags": []
   },
   "outputs": [],
   "source": [
    "class CONFIG:\n",
    "    models = [x for x in os.listdir(\"../input/fork-of-pytorch-lightning-toxic-bert\") if \"toxicbert\" in x]\n",
    "    model_name = \"distilroberta-base\"\n",
    "    seed = 101\n",
    "    k_fold = 5\n",
    "    val_batch_size = 64\n",
    "    max_len = 128\n",
    "    tokenizer = AutoTokenizer.from_pretrained(\"../input/unitarytoxicbert\")\n",
    "    no_class = 1\n",
    "    device = torch.device(\"cuda:0\" if torch.cuda.is_available() else \"cpu\")\n"
   ]
  },
  {
   "cell_type": "code",
   "execution_count": 3,
   "id": "1d974078",
   "metadata": {
    "execution": {
     "iopub.execute_input": "2021-11-11T15:54:07.345948Z",
     "iopub.status.busy": "2021-11-11T15:54:07.345434Z",
     "iopub.status.idle": "2021-11-11T15:54:07.454024Z",
     "shell.execute_reply": "2021-11-11T15:54:07.454469Z",
     "shell.execute_reply.started": "2021-11-11T15:53:13.103646Z"
    },
    "papermill": {
     "duration": 0.121941,
     "end_time": "2021-11-11T15:54:07.454617",
     "exception": false,
     "start_time": "2021-11-11T15:54:07.332676",
     "status": "completed"
    },
    "tags": []
   },
   "outputs": [
    {
     "data": {
      "text/html": [
       "<div>\n",
       "<style scoped>\n",
       "    .dataframe tbody tr th:only-of-type {\n",
       "        vertical-align: middle;\n",
       "    }\n",
       "\n",
       "    .dataframe tbody tr th {\n",
       "        vertical-align: top;\n",
       "    }\n",
       "\n",
       "    .dataframe thead th {\n",
       "        text-align: right;\n",
       "    }\n",
       "</style>\n",
       "<table border=\"1\" class=\"dataframe\">\n",
       "  <thead>\n",
       "    <tr style=\"text-align: right;\">\n",
       "      <th></th>\n",
       "      <th>comment_id</th>\n",
       "      <th>text</th>\n",
       "    </tr>\n",
       "  </thead>\n",
       "  <tbody>\n",
       "    <tr>\n",
       "      <th>0</th>\n",
       "      <td>114890</td>\n",
       "      <td>\"\\n \\n\\nGjalexei, you asked about whether ther...</td>\n",
       "    </tr>\n",
       "    <tr>\n",
       "      <th>1</th>\n",
       "      <td>732895</td>\n",
       "      <td>Looks like be have an abuser , can you please ...</td>\n",
       "    </tr>\n",
       "    <tr>\n",
       "      <th>2</th>\n",
       "      <td>1139051</td>\n",
       "      <td>I confess to having complete (and apparently b...</td>\n",
       "    </tr>\n",
       "    <tr>\n",
       "      <th>3</th>\n",
       "      <td>1434512</td>\n",
       "      <td>\"\\n\\nFreud's ideas are certainly much discusse...</td>\n",
       "    </tr>\n",
       "    <tr>\n",
       "      <th>4</th>\n",
       "      <td>2084821</td>\n",
       "      <td>It is not just you. This is a laundry list of ...</td>\n",
       "    </tr>\n",
       "  </tbody>\n",
       "</table>\n",
       "</div>"
      ],
      "text/plain": [
       "   comment_id                                               text\n",
       "0      114890  \"\\n \\n\\nGjalexei, you asked about whether ther...\n",
       "1      732895  Looks like be have an abuser , can you please ...\n",
       "2     1139051  I confess to having complete (and apparently b...\n",
       "3     1434512  \"\\n\\nFreud's ideas are certainly much discusse...\n",
       "4     2084821  It is not just you. This is a laundry list of ..."
      ]
     },
     "execution_count": 3,
     "metadata": {},
     "output_type": "execute_result"
    }
   ],
   "source": [
    "df = pd.read_csv(\"../input/jigsaw-toxic-severity-rating/comments_to_score.csv\")\n",
    "df.head()"
   ]
  },
  {
   "cell_type": "code",
   "execution_count": null,
   "id": "cc92e3c3",
   "metadata": {
    "papermill": {
     "duration": 0.009376,
     "end_time": "2021-11-11T15:54:07.473980",
     "exception": false,
     "start_time": "2021-11-11T15:54:07.464604",
     "status": "completed"
    },
    "tags": []
   },
   "outputs": [],
   "source": []
  },
  {
   "cell_type": "code",
   "execution_count": 4,
   "id": "d35b6dd6",
   "metadata": {
    "execution": {
     "iopub.execute_input": "2021-11-11T15:54:07.500824Z",
     "iopub.status.busy": "2021-11-11T15:54:07.500048Z",
     "iopub.status.idle": "2021-11-11T15:54:07.502551Z",
     "shell.execute_reply": "2021-11-11T15:54:07.502084Z",
     "shell.execute_reply.started": "2021-11-11T15:53:13.153548Z"
    },
    "papermill": {
     "duration": 0.019207,
     "end_time": "2021-11-11T15:54:07.502663",
     "exception": false,
     "start_time": "2021-11-11T15:54:07.483456",
     "status": "completed"
    },
    "tags": []
   },
   "outputs": [],
   "source": [
    "class JigsawDataset(Dataset):\n",
    "    def __init__(self, df, tokenizer, max_seq_len):\n",
    "        self.df = df\n",
    "        self.max_seq_len = max_seq_len\n",
    "        self.tokenizer = tokenizer\n",
    "        self.text = df['text'].values\n",
    "        \n",
    "    def __len__(self):\n",
    "        return len(self.df)\n",
    "    \n",
    "    def __getitem__(self, index):\n",
    "        text = self.text[index]\n",
    "        inputs_text = self.tokenizer.encode_plus(\n",
    "                                text,\n",
    "                                truncation=True,\n",
    "                                add_special_tokens=True,\n",
    "                                max_length=self.max_seq_len,\n",
    "                                padding='max_length'\n",
    "                            )\n",
    "        score_text_id = inputs_text['input_ids']\n",
    "        score_text_mask = inputs_text['attention_mask']\n",
    "\n",
    "        \n",
    "        return {\n",
    "            'text_ids': torch.tensor(score_text_id, dtype=torch.long),\n",
    "            'text_mask': torch.tensor(score_text_mask, dtype=torch.long)\n",
    "        }"
   ]
  },
  {
   "cell_type": "code",
   "execution_count": 5,
   "id": "419f34be",
   "metadata": {
    "execution": {
     "iopub.execute_input": "2021-11-11T15:54:07.533629Z",
     "iopub.status.busy": "2021-11-11T15:54:07.529038Z",
     "iopub.status.idle": "2021-11-11T15:54:07.535673Z",
     "shell.execute_reply": "2021-11-11T15:54:07.536068Z",
     "shell.execute_reply.started": "2021-11-11T15:53:13.164493Z"
    },
    "papermill": {
     "duration": 0.024166,
     "end_time": "2021-11-11T15:54:07.536188",
     "exception": false,
     "start_time": "2021-11-11T15:54:07.512022",
     "status": "completed"
    },
    "tags": []
   },
   "outputs": [],
   "source": [
    "class jigsaw_toxicbert(pl.LightningModule):\n",
    "    def __init__(self):\n",
    "        super().__init__()\n",
    "        self.model = AutoModel.from_pretrained(\"../input/unitarytoxicbert/\")\n",
    "        self.dropout = nn.Dropout(0.2)\n",
    "        self.linear = nn.Linear(768,128)\n",
    "        self.dropout_2 = nn.Dropout(0.2)\n",
    "        self.output = nn.Linear(128,CONFIG.no_class)\n",
    "    def forward(self,ids,mask):\n",
    "        x = self.model(input_ids=ids,attention_mask=mask,output_hidden_states=False)\n",
    "        x = self.dropout(x[1])\n",
    "        x=  self.linear(x)\n",
    "        x=  self.dropout_2(x)\n",
    "        x = self.output(x)\n",
    "        return x\n",
    "    \n",
    "    def configure_optimizers(self):\n",
    "        optimiser = optim.AdamW(self.model.parameters(), lr=CONFIG.lr, weight_decay=CONFIG.weight_decay)\n",
    "        scheduler = lr_scheduler.CosineAnnealingLR(optimiser,eta_min=CONFIG.min_lr,T_max = CONFIG.T_max)\n",
    "        return [optimiser],[scheduler]\n",
    "    \n",
    "    def training_step(self, batch, batch_idx):\n",
    "        more_toxic_id = batch[\"more_toxic_ids\"]\n",
    "        more_toxic_mask = batch[\"more_toxic_mask\"]\n",
    "        less_toxic_id =batch[\"less_toxic_ids\"]\n",
    "        less_toxic_mask =batch[\"less_toxic_mask\"]\n",
    "        target = batch[\"target\"]\n",
    "        more_toxic_pred = self(more_toxic_id,more_toxic_mask)\n",
    "        less_toxic_pred = self(less_toxic_id,more_toxic_mask)\n",
    "        loss = CONFIG.criterion(more_toxic_pred,less_toxic_pred,target)\n",
    "        self.log('train_margin_loss',loss,on_step=False, on_epoch=True,prog_bar=True)\n",
    "        return loss  \n",
    "    def validation_step(self, batch, batch_idx):\n",
    "        more_toxic_id = batch[\"more_toxic_ids\"]\n",
    "        more_toxic_mask = batch[\"more_toxic_mask\"]\n",
    "        less_toxic_id =batch[\"less_toxic_ids\"]\n",
    "        less_toxic_mask =batch[\"less_toxic_mask\"]\n",
    "        target = batch[\"target\"]\n",
    "        more_toxic_pred = self(more_toxic_id,more_toxic_mask)\n",
    "        less_toxic_pred = self(less_toxic_id,more_toxic_mask)\n",
    "        loss = CONFIG.criterion(more_toxic_pred,less_toxic_pred,target)\n",
    "        self.log('val_margin_loss',loss,on_step=False, on_epoch=True,prog_bar=True)\n",
    "        return loss \n"
   ]
  },
  {
   "cell_type": "code",
   "execution_count": 6,
   "id": "21d594b2",
   "metadata": {
    "execution": {
     "iopub.execute_input": "2021-11-11T15:54:07.562703Z",
     "iopub.status.busy": "2021-11-11T15:54:07.562028Z",
     "iopub.status.idle": "2021-11-11T15:54:07.564784Z",
     "shell.execute_reply": "2021-11-11T15:54:07.565189Z",
     "shell.execute_reply.started": "2021-11-11T15:53:13.183021Z"
    },
    "papermill": {
     "duration": 0.019714,
     "end_time": "2021-11-11T15:54:07.565334",
     "exception": false,
     "start_time": "2021-11-11T15:54:07.545620",
     "status": "completed"
    },
    "tags": []
   },
   "outputs": [],
   "source": [
    "@torch.no_grad()\n",
    "def predict(model, dataloader,modelpaths, device):\n",
    "    preds = []\n",
    "    final_preds = []\n",
    "    for path in modelpaths:\n",
    "        model_infer =model.load_from_checkpoint(\"../input/fork-of-pytorch-lightning-toxic-bert/\"+path)\n",
    "        model_infer.to(device)\n",
    "        model_infer.freeze()\n",
    "        model_infer.eval()\n",
    "        print(f'predicting on {path}')\n",
    "        bar = tqdm(enumerate(infer_dataloader), total=len(infer_dataloader))\n",
    "        for step, data in bar:\n",
    "            ids = data['text_ids'].to(device, dtype = torch.long)\n",
    "            mask = data['text_mask'].to(device, dtype = torch.long)\n",
    "            outputs = model_infer(ids, mask)\n",
    "            preds.append(outputs.view(-1).cpu().detach().numpy()) \n",
    "        preds = np.concatenate(preds)\n",
    "        final_preds.append(preds)\n",
    "        preds = []\n",
    "        gc.collect()\n",
    "    final_preds = np.array(final_preds)\n",
    "    final_preds = np.mean(final_preds, axis=0)\n",
    "    return final_preds\n",
    "\n",
    "\n",
    "\n"
   ]
  },
  {
   "cell_type": "code",
   "execution_count": 7,
   "id": "b5dc0e1c",
   "metadata": {
    "execution": {
     "iopub.execute_input": "2021-11-11T15:54:07.589165Z",
     "iopub.status.busy": "2021-11-11T15:54:07.588432Z",
     "iopub.status.idle": "2021-11-11T16:01:22.820987Z",
     "shell.execute_reply": "2021-11-11T16:01:22.821430Z",
     "shell.execute_reply.started": "2021-11-11T15:53:13.196489Z"
    },
    "papermill": {
     "duration": 435.246926,
     "end_time": "2021-11-11T16:01:22.821608",
     "exception": false,
     "start_time": "2021-11-11T15:54:07.574682",
     "status": "completed"
    },
    "tags": []
   },
   "outputs": [
    {
     "name": "stdout",
     "output_type": "stream",
     "text": [
      "predicting on toxicbert_val_margin_loss=0.02031_fold_0.ckpt\n"
     ]
    },
    {
     "name": "stderr",
     "output_type": "stream",
     "text": [
      "100%|██████████| 118/118 [00:29<00:00,  4.07it/s]\n"
     ]
    },
    {
     "name": "stdout",
     "output_type": "stream",
     "text": [
      "predicting on toxicbert_val_margin_loss=0.01921_fold_1.ckpt\n"
     ]
    },
    {
     "name": "stderr",
     "output_type": "stream",
     "text": [
      "100%|██████████| 118/118 [00:28<00:00,  4.20it/s]\n"
     ]
    },
    {
     "name": "stdout",
     "output_type": "stream",
     "text": [
      "predicting on toxicbert_val_margin_loss=0.02067_fold_1.ckpt\n"
     ]
    },
    {
     "name": "stderr",
     "output_type": "stream",
     "text": [
      "100%|██████████| 118/118 [00:28<00:00,  4.20it/s]\n"
     ]
    },
    {
     "name": "stdout",
     "output_type": "stream",
     "text": [
      "predicting on toxicbert_val_margin_loss=0.01921_fold_4.ckpt\n"
     ]
    },
    {
     "name": "stderr",
     "output_type": "stream",
     "text": [
      "100%|██████████| 118/118 [00:28<00:00,  4.20it/s]\n"
     ]
    },
    {
     "name": "stdout",
     "output_type": "stream",
     "text": [
      "predicting on toxicbert_val_margin_loss=0.02136_fold_2.ckpt\n"
     ]
    },
    {
     "name": "stderr",
     "output_type": "stream",
     "text": [
      "100%|██████████| 118/118 [00:28<00:00,  4.18it/s]\n"
     ]
    },
    {
     "name": "stdout",
     "output_type": "stream",
     "text": [
      "predicting on toxicbert_val_margin_loss=0.01999_fold_3.ckpt\n"
     ]
    },
    {
     "name": "stderr",
     "output_type": "stream",
     "text": [
      "100%|██████████| 118/118 [00:28<00:00,  4.17it/s]\n"
     ]
    },
    {
     "name": "stdout",
     "output_type": "stream",
     "text": [
      "predicting on toxicbert_val_margin_loss=0.01929_fold_4.ckpt\n"
     ]
    },
    {
     "name": "stderr",
     "output_type": "stream",
     "text": [
      "100%|██████████| 118/118 [00:28<00:00,  4.18it/s]\n"
     ]
    },
    {
     "name": "stdout",
     "output_type": "stream",
     "text": [
      "predicting on toxicbert_val_margin_loss=0.02196_fold_2.ckpt\n"
     ]
    },
    {
     "name": "stderr",
     "output_type": "stream",
     "text": [
      "100%|██████████| 118/118 [00:28<00:00,  4.19it/s]\n"
     ]
    },
    {
     "name": "stdout",
     "output_type": "stream",
     "text": [
      "predicting on toxicbert_val_margin_loss=0.02033_fold_3.ckpt\n"
     ]
    },
    {
     "name": "stderr",
     "output_type": "stream",
     "text": [
      "100%|██████████| 118/118 [00:28<00:00,  4.19it/s]\n"
     ]
    },
    {
     "name": "stdout",
     "output_type": "stream",
     "text": [
      "predicting on toxicbert_val_margin_loss=0.02110_fold_0.ckpt\n"
     ]
    },
    {
     "name": "stderr",
     "output_type": "stream",
     "text": [
      "100%|██████████| 118/118 [00:28<00:00,  4.18it/s]\n"
     ]
    }
   ],
   "source": [
    "model = jigsaw_toxicbert()\n",
    "infer_datset = JigsawDataset(df,CONFIG.tokenizer,CONFIG.max_len)\n",
    "infer_dataloader = DataLoader(infer_datset, batch_size=CONFIG.val_batch_size,num_workers=2, shuffle=False, pin_memory=True)\n",
    "preds = predict(model,infer_dataloader,CONFIG.models,CONFIG.device) "
   ]
  },
  {
   "cell_type": "code",
   "execution_count": 8,
   "id": "7994fb3a",
   "metadata": {
    "execution": {
     "iopub.execute_input": "2021-11-11T16:01:23.500168Z",
     "iopub.status.busy": "2021-11-11T16:01:23.496704Z",
     "iopub.status.idle": "2021-11-11T16:01:23.506370Z",
     "shell.execute_reply": "2021-11-11T16:01:23.506758Z",
     "shell.execute_reply.started": "2021-11-11T15:53:40.035325Z"
    },
    "papermill": {
     "duration": 0.357813,
     "end_time": "2021-11-11T16:01:23.506906",
     "exception": false,
     "start_time": "2021-11-11T16:01:23.149093",
     "status": "completed"
    },
    "tags": []
   },
   "outputs": [],
   "source": [
    "submit = pd.DataFrame()\n",
    "submit[\"comment_id\"] = df[\"comment_id\"]\n",
    "submit[\"score\"] = preds\n",
    "submit[\"score\"] = submit['score'].rank(method='first')"
   ]
  },
  {
   "cell_type": "code",
   "execution_count": 9,
   "id": "8488b328",
   "metadata": {
    "execution": {
     "iopub.execute_input": "2021-11-11T16:01:24.344107Z",
     "iopub.status.busy": "2021-11-11T16:01:24.343276Z",
     "iopub.status.idle": "2021-11-11T16:01:24.372025Z",
     "shell.execute_reply": "2021-11-11T16:01:24.372594Z",
     "shell.execute_reply.started": "2021-11-11T15:53:40.037365Z"
    },
    "papermill": {
     "duration": 0.540612,
     "end_time": "2021-11-11T16:01:24.372791",
     "exception": false,
     "start_time": "2021-11-11T16:01:23.832179",
     "status": "completed"
    },
    "tags": []
   },
   "outputs": [],
   "source": [
    "submit.to_csv(\"submission.csv\", index=False)"
   ]
  },
  {
   "cell_type": "code",
   "execution_count": null,
   "id": "58e36fe8",
   "metadata": {
    "papermill": {
     "duration": 0.385786,
     "end_time": "2021-11-11T16:01:25.307816",
     "exception": false,
     "start_time": "2021-11-11T16:01:24.922030",
     "status": "completed"
    },
    "tags": []
   },
   "outputs": [],
   "source": []
  }
 ],
 "metadata": {
  "kernelspec": {
   "display_name": "Python 3",
   "language": "python",
   "name": "python3"
  },
  "language_info": {
   "codemirror_mode": {
    "name": "ipython",
    "version": 3
   },
   "file_extension": ".py",
   "mimetype": "text/x-python",
   "name": "python",
   "nbconvert_exporter": "python",
   "pygments_lexer": "ipython3",
   "version": "3.7.10"
  },
  "papermill": {
   "default_parameters": {},
   "duration": 456.541754,
   "end_time": "2021-11-11T16:01:28.804244",
   "environment_variables": {},
   "exception": null,
   "input_path": "__notebook__.ipynb",
   "output_path": "__notebook__.ipynb",
   "parameters": {},
   "start_time": "2021-11-11T15:53:52.262490",
   "version": "2.3.3"
  }
 },
 "nbformat": 4,
 "nbformat_minor": 5
}
