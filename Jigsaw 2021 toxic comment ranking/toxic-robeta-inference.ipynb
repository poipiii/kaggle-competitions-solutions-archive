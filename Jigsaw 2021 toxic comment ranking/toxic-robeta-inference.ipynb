{
 "cells": [
  {
   "cell_type": "code",
   "execution_count": 1,
   "id": "7eff8eb2",
   "metadata": {
    "_cell_guid": "b1076dfc-b9ad-4769-8c92-a6c4dae69d19",
    "_uuid": "8f2839f25d086af736a60e9eeb907d3b93b6e0e5",
    "execution": {
     "iopub.execute_input": "2021-11-15T12:11:47.227866Z",
     "iopub.status.busy": "2021-11-15T12:11:47.226346Z",
     "iopub.status.idle": "2021-11-15T12:11:53.508887Z",
     "shell.execute_reply": "2021-11-15T12:11:53.509319Z",
     "shell.execute_reply.started": "2021-11-15T12:01:20.003873Z"
    },
    "papermill": {
     "duration": 6.299193,
     "end_time": "2021-11-15T12:11:53.509639",
     "exception": false,
     "start_time": "2021-11-15T12:11:47.210446",
     "status": "completed"
    },
    "tags": []
   },
   "outputs": [],
   "source": [
    "import numpy as np\n",
    "import pandas as pd\n",
    "import pytorch_lightning as pl\n",
    "import torch\n",
    "import torch.nn as nn\n",
    "from torch.utils.data import Dataset, DataLoader\n",
    "from pytorch_lightning.core.lightning import LightningModule\n",
    "from pytorch_lightning.callbacks import ModelCheckpoint\n",
    "from pytorch_lightning import Trainer\n",
    "from transformers import AutoTokenizer, AutoModelForSequenceClassification,AutoModel\n",
    "import os\n",
    "from tqdm import tqdm\n",
    "import gc"
   ]
  },
  {
   "cell_type": "raw",
   "id": "ca047b7b",
   "metadata": {
    "papermill": {
     "duration": 0.008748,
     "end_time": "2021-11-15T12:11:53.529835",
     "exception": false,
     "start_time": "2021-11-15T12:11:53.521087",
     "status": "completed"
    },
    "tags": []
   },
   "source": []
  },
  {
   "cell_type": "code",
   "execution_count": null,
   "id": "c4f4050f",
   "metadata": {
    "papermill": {
     "duration": 0.008655,
     "end_time": "2021-11-15T12:11:53.547366",
     "exception": false,
     "start_time": "2021-11-15T12:11:53.538711",
     "status": "completed"
    },
    "tags": []
   },
   "outputs": [],
   "source": []
  },
  {
   "cell_type": "code",
   "execution_count": 2,
   "id": "f2bab447",
   "metadata": {
    "execution": {
     "iopub.execute_input": "2021-11-15T12:11:53.568058Z",
     "iopub.status.busy": "2021-11-15T12:11:53.567222Z",
     "iopub.status.idle": "2021-11-15T12:11:53.752205Z",
     "shell.execute_reply": "2021-11-15T12:11:53.751667Z",
     "shell.execute_reply.started": "2021-11-15T12:01:27.326918Z"
    },
    "papermill": {
     "duration": 0.196185,
     "end_time": "2021-11-15T12:11:53.752335",
     "exception": false,
     "start_time": "2021-11-15T12:11:53.556150",
     "status": "completed"
    },
    "tags": []
   },
   "outputs": [],
   "source": [
    "class CONFIG:\n",
    "    models = [x for x in os.listdir(\"../input/pytorch-lightning-toxic-robeta\") if \"toxicbert\" in x]\n",
    "    model_name = \"distilroberta-base\"\n",
    "    seed = 101\n",
    "    k_fold = 5\n",
    "    val_batch_size = 64\n",
    "    max_len = 128\n",
    "    tokenizer = AutoTokenizer.from_pretrained(\"../input/roberta-base\")\n",
    "    no_class = 1\n",
    "    device = torch.device(\"cuda:0\" if torch.cuda.is_available() else \"cpu\")\n"
   ]
  },
  {
   "cell_type": "code",
   "execution_count": 3,
   "id": "766a880f",
   "metadata": {
    "execution": {
     "iopub.execute_input": "2021-11-15T12:11:53.774972Z",
     "iopub.status.busy": "2021-11-15T12:11:53.774356Z",
     "iopub.status.idle": "2021-11-15T12:11:53.880964Z",
     "shell.execute_reply": "2021-11-15T12:11:53.880185Z",
     "shell.execute_reply.started": "2021-11-15T12:01:27.506338Z"
    },
    "papermill": {
     "duration": 0.119587,
     "end_time": "2021-11-15T12:11:53.881088",
     "exception": false,
     "start_time": "2021-11-15T12:11:53.761501",
     "status": "completed"
    },
    "tags": []
   },
   "outputs": [
    {
     "data": {
      "text/html": [
       "<div>\n",
       "<style scoped>\n",
       "    .dataframe tbody tr th:only-of-type {\n",
       "        vertical-align: middle;\n",
       "    }\n",
       "\n",
       "    .dataframe tbody tr th {\n",
       "        vertical-align: top;\n",
       "    }\n",
       "\n",
       "    .dataframe thead th {\n",
       "        text-align: right;\n",
       "    }\n",
       "</style>\n",
       "<table border=\"1\" class=\"dataframe\">\n",
       "  <thead>\n",
       "    <tr style=\"text-align: right;\">\n",
       "      <th></th>\n",
       "      <th>comment_id</th>\n",
       "      <th>text</th>\n",
       "    </tr>\n",
       "  </thead>\n",
       "  <tbody>\n",
       "    <tr>\n",
       "      <th>0</th>\n",
       "      <td>114890</td>\n",
       "      <td>\"\\n \\n\\nGjalexei, you asked about whether ther...</td>\n",
       "    </tr>\n",
       "    <tr>\n",
       "      <th>1</th>\n",
       "      <td>732895</td>\n",
       "      <td>Looks like be have an abuser , can you please ...</td>\n",
       "    </tr>\n",
       "    <tr>\n",
       "      <th>2</th>\n",
       "      <td>1139051</td>\n",
       "      <td>I confess to having complete (and apparently b...</td>\n",
       "    </tr>\n",
       "    <tr>\n",
       "      <th>3</th>\n",
       "      <td>1434512</td>\n",
       "      <td>\"\\n\\nFreud's ideas are certainly much discusse...</td>\n",
       "    </tr>\n",
       "    <tr>\n",
       "      <th>4</th>\n",
       "      <td>2084821</td>\n",
       "      <td>It is not just you. This is a laundry list of ...</td>\n",
       "    </tr>\n",
       "  </tbody>\n",
       "</table>\n",
       "</div>"
      ],
      "text/plain": [
       "   comment_id                                               text\n",
       "0      114890  \"\\n \\n\\nGjalexei, you asked about whether ther...\n",
       "1      732895  Looks like be have an abuser , can you please ...\n",
       "2     1139051  I confess to having complete (and apparently b...\n",
       "3     1434512  \"\\n\\nFreud's ideas are certainly much discusse...\n",
       "4     2084821  It is not just you. This is a laundry list of ..."
      ]
     },
     "execution_count": 3,
     "metadata": {},
     "output_type": "execute_result"
    }
   ],
   "source": [
    "df = pd.read_csv(\"../input/jigsaw-toxic-severity-rating/comments_to_score.csv\")\n",
    "df.head()"
   ]
  },
  {
   "cell_type": "code",
   "execution_count": null,
   "id": "184a5dc4",
   "metadata": {
    "papermill": {
     "duration": 0.009176,
     "end_time": "2021-11-15T12:11:53.900048",
     "exception": false,
     "start_time": "2021-11-15T12:11:53.890872",
     "status": "completed"
    },
    "tags": []
   },
   "outputs": [],
   "source": []
  },
  {
   "cell_type": "code",
   "execution_count": 4,
   "id": "39923f95",
   "metadata": {
    "execution": {
     "iopub.execute_input": "2021-11-15T12:11:53.926438Z",
     "iopub.status.busy": "2021-11-15T12:11:53.925681Z",
     "iopub.status.idle": "2021-11-15T12:11:53.928127Z",
     "shell.execute_reply": "2021-11-15T12:11:53.927714Z",
     "shell.execute_reply.started": "2021-11-15T12:01:27.618751Z"
    },
    "papermill": {
     "duration": 0.01892,
     "end_time": "2021-11-15T12:11:53.928233",
     "exception": false,
     "start_time": "2021-11-15T12:11:53.909313",
     "status": "completed"
    },
    "tags": []
   },
   "outputs": [],
   "source": [
    "class JigsawDataset(Dataset):\n",
    "    def __init__(self, df, tokenizer, max_seq_len):\n",
    "        self.df = df\n",
    "        self.max_seq_len = max_seq_len\n",
    "        self.tokenizer = tokenizer\n",
    "        self.text = df['text'].values\n",
    "        \n",
    "    def __len__(self):\n",
    "        return len(self.df)\n",
    "    \n",
    "    def __getitem__(self, index):\n",
    "        text = self.text[index]\n",
    "        inputs_text = self.tokenizer.encode_plus(\n",
    "                                text,\n",
    "                                truncation=True,\n",
    "                                add_special_tokens=True,\n",
    "                                max_length=self.max_seq_len,\n",
    "                                padding='max_length'\n",
    "                            )\n",
    "        score_text_id = inputs_text['input_ids']\n",
    "        score_text_mask = inputs_text['attention_mask']\n",
    "\n",
    "        \n",
    "        return {\n",
    "            'text_ids': torch.tensor(score_text_id, dtype=torch.long),\n",
    "            'text_mask': torch.tensor(score_text_mask, dtype=torch.long)\n",
    "        }"
   ]
  },
  {
   "cell_type": "code",
   "execution_count": 5,
   "id": "4dd572d1",
   "metadata": {
    "execution": {
     "iopub.execute_input": "2021-11-15T12:11:53.954453Z",
     "iopub.status.busy": "2021-11-15T12:11:53.953687Z",
     "iopub.status.idle": "2021-11-15T12:11:53.960832Z",
     "shell.execute_reply": "2021-11-15T12:11:53.960380Z",
     "shell.execute_reply.started": "2021-11-15T12:01:27.628217Z"
    },
    "papermill": {
     "duration": 0.023582,
     "end_time": "2021-11-15T12:11:53.960942",
     "exception": false,
     "start_time": "2021-11-15T12:11:53.937360",
     "status": "completed"
    },
    "tags": []
   },
   "outputs": [],
   "source": [
    "class jigsaw_toxicbert(pl.LightningModule):\n",
    "    def __init__(self):\n",
    "        super().__init__()\n",
    "        self.model = AutoModel.from_pretrained(\"../input/roberta-base\")\n",
    "        self.dropout = nn.Dropout(0.2)\n",
    "        self.linear = nn.Linear(768,1)\n",
    "    def forward(self,ids,mask):\n",
    "        x = self.model(input_ids=ids,attention_mask=mask,output_hidden_states=False)\n",
    "        x = self.dropout(x[1])\n",
    "        x=  self.linear(x)\n",
    "        return x\n",
    "    \n",
    "    def configure_optimizers(self):\n",
    "        optimiser = optim.AdamW(self.model.parameters(), lr=CONFIG.lr, weight_decay=CONFIG.weight_decay)\n",
    "        scheduler = lr_scheduler.CosineAnnealingLR(optimiser,eta_min=CONFIG.min_lr,T_max = CONFIG.T_max)\n",
    "        return [optimiser],[scheduler]\n",
    "    \n",
    "    def training_step(self, batch, batch_idx):\n",
    "        more_toxic_id = batch[\"more_toxic_ids\"]\n",
    "        more_toxic_mask = batch[\"more_toxic_mask\"]\n",
    "        less_toxic_id =batch[\"less_toxic_ids\"]\n",
    "        less_toxic_mask =batch[\"less_toxic_mask\"]\n",
    "        target = batch[\"target\"]\n",
    "        more_toxic_pred = self(more_toxic_id,more_toxic_mask)\n",
    "        less_toxic_pred = self(less_toxic_id,less_toxic_mask)\n",
    "        loss = CONFIG.criterion(more_toxic_pred,less_toxic_pred,target)\n",
    "        self.log('train_margin_loss',loss,on_step=False, on_epoch=True,prog_bar=True)\n",
    "        return loss  \n",
    "    def validation_step(self, batch, batch_idx):\n",
    "        more_toxic_id = batch[\"more_toxic_ids\"]\n",
    "        more_toxic_mask = batch[\"more_toxic_mask\"]\n",
    "        less_toxic_id =batch[\"less_toxic_ids\"]\n",
    "        less_toxic_mask =batch[\"less_toxic_mask\"]\n",
    "        target = batch[\"target\"]\n",
    "        more_toxic_pred = self(more_toxic_id,more_toxic_mask)\n",
    "        less_toxic_pred = self(less_toxic_id,more_toxic_mask)\n",
    "        loss = CONFIG.criterion(more_toxic_pred,less_toxic_pred,target)\n",
    "        self.log('val_margin_loss',loss,on_step=False, on_epoch=True,prog_bar=True)\n",
    "        return loss \n"
   ]
  },
  {
   "cell_type": "code",
   "execution_count": 6,
   "id": "46c2e289",
   "metadata": {
    "execution": {
     "iopub.execute_input": "2021-11-15T12:11:53.987329Z",
     "iopub.status.busy": "2021-11-15T12:11:53.986621Z",
     "iopub.status.idle": "2021-11-15T12:11:53.988985Z",
     "shell.execute_reply": "2021-11-15T12:11:53.988551Z",
     "shell.execute_reply.started": "2021-11-15T12:01:27.644571Z"
    },
    "papermill": {
     "duration": 0.018737,
     "end_time": "2021-11-15T12:11:53.989084",
     "exception": false,
     "start_time": "2021-11-15T12:11:53.970347",
     "status": "completed"
    },
    "tags": []
   },
   "outputs": [],
   "source": [
    "@torch.no_grad()\n",
    "def predict(model, dataloader,modelpaths, device):\n",
    "    preds = []\n",
    "    final_preds = []\n",
    "    for path in modelpaths:\n",
    "        model_infer =model.load_from_checkpoint(\"../input/pytorch-lightning-toxic-robeta/\"+path)\n",
    "        model_infer.to(device)\n",
    "        model_infer.freeze()\n",
    "        model_infer.eval()\n",
    "        print(f'predicting on {path}')\n",
    "        bar = tqdm(enumerate(infer_dataloader), total=len(infer_dataloader))\n",
    "        for step, data in bar:\n",
    "            ids = data['text_ids'].to(device, dtype = torch.long)\n",
    "            mask = data['text_mask'].to(device, dtype = torch.long)\n",
    "            outputs = model_infer(ids, mask)\n",
    "            preds.append(outputs.view(-1).cpu().detach().numpy()) \n",
    "        preds = np.concatenate(preds)\n",
    "        final_preds.append(preds)\n",
    "        preds = []\n",
    "        gc.collect()\n",
    "    final_preds = np.array(final_preds)\n",
    "    final_preds = np.mean(final_preds, axis=0)\n",
    "    return final_preds\n",
    "\n",
    "\n",
    "\n"
   ]
  },
  {
   "cell_type": "code",
   "execution_count": 7,
   "id": "21ff1042",
   "metadata": {
    "execution": {
     "iopub.execute_input": "2021-11-15T12:11:54.014123Z",
     "iopub.status.busy": "2021-11-15T12:11:54.013412Z",
     "iopub.status.idle": "2021-11-15T12:19:07.113921Z",
     "shell.execute_reply": "2021-11-15T12:19:07.113426Z",
     "shell.execute_reply.started": "2021-11-15T12:01:27.655978Z"
    },
    "papermill": {
     "duration": 433.115293,
     "end_time": "2021-11-15T12:19:07.114057",
     "exception": false,
     "start_time": "2021-11-15T12:11:53.998764",
     "status": "completed"
    },
    "tags": []
   },
   "outputs": [
    {
     "name": "stdout",
     "output_type": "stream",
     "text": [
      "predicting on toxicbert_val_margin_loss=0.24691_fold_4.ckpt\n"
     ]
    },
    {
     "name": "stderr",
     "output_type": "stream",
     "text": [
      "100%|██████████| 118/118 [00:28<00:00,  4.07it/s]\n"
     ]
    },
    {
     "name": "stdout",
     "output_type": "stream",
     "text": [
      "predicting on toxicbert_val_margin_loss=0.29976_fold_3.ckpt\n"
     ]
    },
    {
     "name": "stderr",
     "output_type": "stream",
     "text": [
      "100%|██████████| 118/118 [00:28<00:00,  4.19it/s]\n"
     ]
    },
    {
     "name": "stdout",
     "output_type": "stream",
     "text": [
      "predicting on toxicbert_val_margin_loss=0.35872_fold_1.ckpt\n"
     ]
    },
    {
     "name": "stderr",
     "output_type": "stream",
     "text": [
      "100%|██████████| 118/118 [00:28<00:00,  4.18it/s]\n"
     ]
    },
    {
     "name": "stdout",
     "output_type": "stream",
     "text": [
      "predicting on toxicbert_val_margin_loss=0.27198_fold_0.ckpt\n"
     ]
    },
    {
     "name": "stderr",
     "output_type": "stream",
     "text": [
      "100%|██████████| 118/118 [00:28<00:00,  4.18it/s]\n"
     ]
    },
    {
     "name": "stdout",
     "output_type": "stream",
     "text": [
      "predicting on toxicbert_val_margin_loss=0.37199_fold_1.ckpt\n"
     ]
    },
    {
     "name": "stderr",
     "output_type": "stream",
     "text": [
      "100%|██████████| 118/118 [00:28<00:00,  4.17it/s]\n"
     ]
    },
    {
     "name": "stdout",
     "output_type": "stream",
     "text": [
      "predicting on toxicbert_val_margin_loss=0.27236_fold_4.ckpt\n"
     ]
    },
    {
     "name": "stderr",
     "output_type": "stream",
     "text": [
      "100%|██████████| 118/118 [00:28<00:00,  4.17it/s]\n"
     ]
    },
    {
     "name": "stdout",
     "output_type": "stream",
     "text": [
      "predicting on toxicbert_val_margin_loss=0.26693_fold_0.ckpt\n"
     ]
    },
    {
     "name": "stderr",
     "output_type": "stream",
     "text": [
      "100%|██████████| 118/118 [00:28<00:00,  4.18it/s]\n"
     ]
    },
    {
     "name": "stdout",
     "output_type": "stream",
     "text": [
      "predicting on toxicbert_val_margin_loss=0.26069_fold_3.ckpt\n"
     ]
    },
    {
     "name": "stderr",
     "output_type": "stream",
     "text": [
      "100%|██████████| 118/118 [00:28<00:00,  4.16it/s]\n"
     ]
    },
    {
     "name": "stdout",
     "output_type": "stream",
     "text": [
      "predicting on toxicbert_val_margin_loss=0.29977_fold_2.ckpt\n"
     ]
    },
    {
     "name": "stderr",
     "output_type": "stream",
     "text": [
      "100%|██████████| 118/118 [00:28<00:00,  4.18it/s]\n"
     ]
    },
    {
     "name": "stdout",
     "output_type": "stream",
     "text": [
      "predicting on toxicbert_val_margin_loss=0.24390_fold_2.ckpt\n"
     ]
    },
    {
     "name": "stderr",
     "output_type": "stream",
     "text": [
      "100%|██████████| 118/118 [00:28<00:00,  4.17it/s]\n"
     ]
    }
   ],
   "source": [
    "model = jigsaw_toxicbert()\n",
    "infer_datset = JigsawDataset(df,CONFIG.tokenizer,CONFIG.max_len)\n",
    "infer_dataloader = DataLoader(infer_datset, batch_size=CONFIG.val_batch_size,num_workers=2, shuffle=False, pin_memory=True)\n",
    "preds = predict(model,infer_dataloader,CONFIG.models,CONFIG.device) "
   ]
  },
  {
   "cell_type": "code",
   "execution_count": 8,
   "id": "acba2178",
   "metadata": {
    "execution": {
     "iopub.execute_input": "2021-11-15T12:19:07.782366Z",
     "iopub.status.busy": "2021-11-15T12:19:07.778838Z",
     "iopub.status.idle": "2021-11-15T12:19:07.788714Z",
     "shell.execute_reply": "2021-11-15T12:19:07.788180Z",
     "shell.execute_reply.started": "2021-11-15T12:08:50.104477Z"
    },
    "papermill": {
     "duration": 0.354072,
     "end_time": "2021-11-15T12:19:07.788870",
     "exception": false,
     "start_time": "2021-11-15T12:19:07.434798",
     "status": "completed"
    },
    "tags": []
   },
   "outputs": [],
   "source": [
    "submit = pd.DataFrame()\n",
    "submit[\"comment_id\"] = df[\"comment_id\"]\n",
    "submit[\"score\"] = preds\n",
    "submit[\"score\"] = submit['score'].rank(method='first')"
   ]
  },
  {
   "cell_type": "code",
   "execution_count": 9,
   "id": "30011f37",
   "metadata": {
    "execution": {
     "iopub.execute_input": "2021-11-15T12:19:08.449194Z",
     "iopub.status.busy": "2021-11-15T12:19:08.448316Z",
     "iopub.status.idle": "2021-11-15T12:19:08.472430Z",
     "shell.execute_reply": "2021-11-15T12:19:08.472854Z",
     "shell.execute_reply.started": "2021-11-15T12:08:50.186347Z"
    },
    "papermill": {
     "duration": 0.360694,
     "end_time": "2021-11-15T12:19:08.473001",
     "exception": false,
     "start_time": "2021-11-15T12:19:08.112307",
     "status": "completed"
    },
    "tags": []
   },
   "outputs": [],
   "source": [
    "submit.to_csv(\"submission.csv\", index=False)"
   ]
  },
  {
   "cell_type": "code",
   "execution_count": null,
   "id": "238931ac",
   "metadata": {
    "papermill": {
     "duration": 0.317496,
     "end_time": "2021-11-15T12:19:09.107352",
     "exception": false,
     "start_time": "2021-11-15T12:19:08.789856",
     "status": "completed"
    },
    "tags": []
   },
   "outputs": [],
   "source": []
  }
 ],
 "metadata": {
  "kernelspec": {
   "display_name": "Python 3",
   "language": "python",
   "name": "python3"
  },
  "language_info": {
   "codemirror_mode": {
    "name": "ipython",
    "version": 3
   },
   "file_extension": ".py",
   "mimetype": "text/x-python",
   "name": "python",
   "nbconvert_exporter": "python",
   "pygments_lexer": "ipython3",
   "version": "3.7.10"
  },
  "papermill": {
   "default_parameters": {},
   "duration": 452.488068,
   "end_time": "2021-11-15T12:19:12.463312",
   "environment_variables": {},
   "exception": null,
   "input_path": "__notebook__.ipynb",
   "output_path": "__notebook__.ipynb",
   "parameters": {},
   "start_time": "2021-11-15T12:11:39.975244",
   "version": "2.3.3"
  }
 },
 "nbformat": 4,
 "nbformat_minor": 5
}
