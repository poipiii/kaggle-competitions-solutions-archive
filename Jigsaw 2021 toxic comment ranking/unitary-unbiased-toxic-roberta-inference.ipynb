{
 "cells": [
  {
   "cell_type": "code",
   "execution_count": 1,
   "id": "52c497d4",
   "metadata": {
    "_cell_guid": "b1076dfc-b9ad-4769-8c92-a6c4dae69d19",
    "_uuid": "8f2839f25d086af736a60e9eeb907d3b93b6e0e5",
    "execution": {
     "iopub.execute_input": "2021-11-19T06:49:44.838079Z",
     "iopub.status.busy": "2021-11-19T06:49:44.836499Z",
     "iopub.status.idle": "2021-11-19T06:49:51.934728Z",
     "shell.execute_reply": "2021-11-19T06:49:51.935187Z",
     "shell.execute_reply.started": "2021-11-19T06:45:42.380434Z"
    },
    "papermill": {
     "duration": 7.115404,
     "end_time": "2021-11-19T06:49:51.935516",
     "exception": false,
     "start_time": "2021-11-19T06:49:44.820112",
     "status": "completed"
    },
    "tags": []
   },
   "outputs": [],
   "source": [
    "import numpy as np\n",
    "import pandas as pd\n",
    "import pytorch_lightning as pl\n",
    "import torch\n",
    "import torch.nn as nn\n",
    "from torch.utils.data import Dataset, DataLoader\n",
    "from pytorch_lightning.core.lightning import LightningModule\n",
    "from pytorch_lightning.callbacks import ModelCheckpoint\n",
    "from pytorch_lightning import Trainer\n",
    "from transformers import AutoTokenizer, AutoModelForSequenceClassification,AutoModel\n",
    "import os\n",
    "from tqdm import tqdm\n",
    "import gc"
   ]
  },
  {
   "cell_type": "raw",
   "id": "1115b362",
   "metadata": {
    "papermill": {
     "duration": 0.008905,
     "end_time": "2021-11-19T06:49:51.956630",
     "exception": false,
     "start_time": "2021-11-19T06:49:51.947725",
     "status": "completed"
    },
    "tags": []
   },
   "source": []
  },
  {
   "cell_type": "code",
   "execution_count": null,
   "id": "59940455",
   "metadata": {
    "papermill": {
     "duration": 0.009088,
     "end_time": "2021-11-19T06:49:51.974615",
     "exception": false,
     "start_time": "2021-11-19T06:49:51.965527",
     "status": "completed"
    },
    "tags": []
   },
   "outputs": [],
   "source": []
  },
  {
   "cell_type": "code",
   "execution_count": 2,
   "id": "5536944c",
   "metadata": {
    "execution": {
     "iopub.execute_input": "2021-11-19T06:49:51.997919Z",
     "iopub.status.busy": "2021-11-19T06:49:51.997092Z",
     "iopub.status.idle": "2021-11-19T06:49:52.244292Z",
     "shell.execute_reply": "2021-11-19T06:49:52.243809Z",
     "shell.execute_reply.started": "2021-11-19T06:45:42.388984Z"
    },
    "papermill": {
     "duration": 0.260964,
     "end_time": "2021-11-19T06:49:52.244447",
     "exception": false,
     "start_time": "2021-11-19T06:49:51.983483",
     "status": "completed"
    },
    "tags": []
   },
   "outputs": [],
   "source": [
    "class CONFIG:\n",
    "    models = [x for x in os.listdir(\"../input/pytorch-lightning-unitary-unbiased-toxic-roberta\") if \"toxicbert\" in x]\n",
    "    model_name = \"distilroberta-base\"\n",
    "    seed = 101\n",
    "    k_fold = 5\n",
    "    val_batch_size = 64\n",
    "    max_len = 128\n",
    "    tokenizer = AutoTokenizer.from_pretrained(\"../input/unitaryunbiasedtoxicroberta\")\n",
    "    no_class = 1\n",
    "    device = torch.device(\"cuda:0\" if torch.cuda.is_available() else \"cpu\")\n"
   ]
  },
  {
   "cell_type": "code",
   "execution_count": 3,
   "id": "76ef262f",
   "metadata": {
    "execution": {
     "iopub.execute_input": "2021-11-19T06:49:52.267331Z",
     "iopub.status.busy": "2021-11-19T06:49:52.266741Z",
     "iopub.status.idle": "2021-11-19T06:49:52.392574Z",
     "shell.execute_reply": "2021-11-19T06:49:52.392108Z",
     "shell.execute_reply.started": "2021-11-19T06:45:42.572996Z"
    },
    "papermill": {
     "duration": 0.138764,
     "end_time": "2021-11-19T06:49:52.392702",
     "exception": false,
     "start_time": "2021-11-19T06:49:52.253938",
     "status": "completed"
    },
    "tags": []
   },
   "outputs": [
    {
     "data": {
      "text/html": [
       "<div>\n",
       "<style scoped>\n",
       "    .dataframe tbody tr th:only-of-type {\n",
       "        vertical-align: middle;\n",
       "    }\n",
       "\n",
       "    .dataframe tbody tr th {\n",
       "        vertical-align: top;\n",
       "    }\n",
       "\n",
       "    .dataframe thead th {\n",
       "        text-align: right;\n",
       "    }\n",
       "</style>\n",
       "<table border=\"1\" class=\"dataframe\">\n",
       "  <thead>\n",
       "    <tr style=\"text-align: right;\">\n",
       "      <th></th>\n",
       "      <th>comment_id</th>\n",
       "      <th>text</th>\n",
       "    </tr>\n",
       "  </thead>\n",
       "  <tbody>\n",
       "    <tr>\n",
       "      <th>0</th>\n",
       "      <td>114890</td>\n",
       "      <td>\"\\n \\n\\nGjalexei, you asked about whether ther...</td>\n",
       "    </tr>\n",
       "    <tr>\n",
       "      <th>1</th>\n",
       "      <td>732895</td>\n",
       "      <td>Looks like be have an abuser , can you please ...</td>\n",
       "    </tr>\n",
       "    <tr>\n",
       "      <th>2</th>\n",
       "      <td>1139051</td>\n",
       "      <td>I confess to having complete (and apparently b...</td>\n",
       "    </tr>\n",
       "    <tr>\n",
       "      <th>3</th>\n",
       "      <td>1434512</td>\n",
       "      <td>\"\\n\\nFreud's ideas are certainly much discusse...</td>\n",
       "    </tr>\n",
       "    <tr>\n",
       "      <th>4</th>\n",
       "      <td>2084821</td>\n",
       "      <td>It is not just you. This is a laundry list of ...</td>\n",
       "    </tr>\n",
       "  </tbody>\n",
       "</table>\n",
       "</div>"
      ],
      "text/plain": [
       "   comment_id                                               text\n",
       "0      114890  \"\\n \\n\\nGjalexei, you asked about whether ther...\n",
       "1      732895  Looks like be have an abuser , can you please ...\n",
       "2     1139051  I confess to having complete (and apparently b...\n",
       "3     1434512  \"\\n\\nFreud's ideas are certainly much discusse...\n",
       "4     2084821  It is not just you. This is a laundry list of ..."
      ]
     },
     "execution_count": 3,
     "metadata": {},
     "output_type": "execute_result"
    }
   ],
   "source": [
    "df = pd.read_csv(\"../input/jigsaw-toxic-severity-rating/comments_to_score.csv\")\n",
    "df.head()"
   ]
  },
  {
   "cell_type": "code",
   "execution_count": null,
   "id": "36e40b34",
   "metadata": {
    "papermill": {
     "duration": 0.009333,
     "end_time": "2021-11-19T06:49:52.412157",
     "exception": false,
     "start_time": "2021-11-19T06:49:52.402824",
     "status": "completed"
    },
    "tags": []
   },
   "outputs": [],
   "source": []
  },
  {
   "cell_type": "code",
   "execution_count": 4,
   "id": "17b7d030",
   "metadata": {
    "execution": {
     "iopub.execute_input": "2021-11-19T06:49:52.439049Z",
     "iopub.status.busy": "2021-11-19T06:49:52.438190Z",
     "iopub.status.idle": "2021-11-19T06:49:52.440644Z",
     "shell.execute_reply": "2021-11-19T06:49:52.440174Z",
     "shell.execute_reply.started": "2021-11-19T06:45:42.620464Z"
    },
    "papermill": {
     "duration": 0.019122,
     "end_time": "2021-11-19T06:49:52.440763",
     "exception": false,
     "start_time": "2021-11-19T06:49:52.421641",
     "status": "completed"
    },
    "tags": []
   },
   "outputs": [],
   "source": [
    "class JigsawDataset(Dataset):\n",
    "    def __init__(self, df, tokenizer, max_seq_len):\n",
    "        self.df = df\n",
    "        self.max_seq_len = max_seq_len\n",
    "        self.tokenizer = tokenizer\n",
    "        self.text = df['text'].values\n",
    "        \n",
    "    def __len__(self):\n",
    "        return len(self.df)\n",
    "    \n",
    "    def __getitem__(self, index):\n",
    "        text = self.text[index]\n",
    "        inputs_text = self.tokenizer.encode_plus(\n",
    "                                text,\n",
    "                                truncation=True,\n",
    "                                add_special_tokens=True,\n",
    "                                max_length=self.max_seq_len,\n",
    "                                padding='max_length'\n",
    "                            )\n",
    "        score_text_id = inputs_text['input_ids']\n",
    "        score_text_mask = inputs_text['attention_mask']\n",
    "\n",
    "        \n",
    "        return {\n",
    "            'text_ids': torch.tensor(score_text_id, dtype=torch.long),\n",
    "            'text_mask': torch.tensor(score_text_mask, dtype=torch.long)\n",
    "        }"
   ]
  },
  {
   "cell_type": "code",
   "execution_count": 5,
   "id": "9ca30ac4",
   "metadata": {
    "execution": {
     "iopub.execute_input": "2021-11-19T06:49:52.473140Z",
     "iopub.status.busy": "2021-11-19T06:49:52.471579Z",
     "iopub.status.idle": "2021-11-19T06:49:52.473750Z",
     "shell.execute_reply": "2021-11-19T06:49:52.474163Z",
     "shell.execute_reply.started": "2021-11-19T06:47:37.461839Z"
    },
    "papermill": {
     "duration": 0.02369,
     "end_time": "2021-11-19T06:49:52.474291",
     "exception": false,
     "start_time": "2021-11-19T06:49:52.450601",
     "status": "completed"
    },
    "tags": []
   },
   "outputs": [],
   "source": [
    "class jigsaw_toxicbert(pl.LightningModule):\n",
    "    def __init__(self):\n",
    "        super().__init__()\n",
    "        self.model = AutoModel.from_pretrained(\"../input/unitaryunbiasedtoxicroberta\")\n",
    "        self.dropout = nn.Dropout(0.2)\n",
    "        self.linear = nn.Linear(768,1)\n",
    "    def forward(self,ids,mask):\n",
    "        x = self.model(input_ids=ids,attention_mask=mask,output_hidden_states=False)\n",
    "        x = self.dropout(x[1])\n",
    "        x=  self.linear(x)\n",
    "        return x\n",
    "    \n",
    "    def configure_optimizers(self):\n",
    "        optimiser = optim.AdamW(self.model.parameters(), lr=CONFIG.lr, weight_decay=CONFIG.weight_decay)\n",
    "        scheduler = lr_scheduler.CosineAnnealingLR(optimiser,eta_min=CONFIG.min_lr,T_max = CONFIG.T_max)\n",
    "        return [optimiser],[scheduler]\n",
    "    \n",
    "    def training_step(self, batch, batch_idx):\n",
    "        more_toxic_id = batch[\"more_toxic_ids\"]\n",
    "        more_toxic_mask = batch[\"more_toxic_mask\"]\n",
    "        less_toxic_id =batch[\"less_toxic_ids\"]\n",
    "        less_toxic_mask =batch[\"less_toxic_mask\"]\n",
    "        target = batch[\"target\"]\n",
    "        more_toxic_pred = self(more_toxic_id,more_toxic_mask)\n",
    "        less_toxic_pred = self(less_toxic_id,more_toxic_mask)\n",
    "        loss = CONFIG.criterion(more_toxic_pred,less_toxic_pred,target)\n",
    "        self.log('train_margin_loss',loss,on_step=False, on_epoch=True,prog_bar=True)\n",
    "        return loss  \n",
    "    def validation_step(self, batch, batch_idx):\n",
    "        more_toxic_id = batch[\"more_toxic_ids\"]\n",
    "        more_toxic_mask = batch[\"more_toxic_mask\"]\n",
    "        less_toxic_id =batch[\"less_toxic_ids\"]\n",
    "        less_toxic_mask =batch[\"less_toxic_mask\"]\n",
    "        target = batch[\"target\"]\n",
    "        more_toxic_pred = self(more_toxic_id,more_toxic_mask)\n",
    "        less_toxic_pred = self(less_toxic_id,more_toxic_mask)\n",
    "        loss = CONFIG.criterion(more_toxic_pred,less_toxic_pred,target)\n",
    "        self.log('val_margin_loss',loss,on_step=False, on_epoch=True,prog_bar=True)\n",
    "        return loss \n"
   ]
  },
  {
   "cell_type": "code",
   "execution_count": 6,
   "id": "24cf2915",
   "metadata": {
    "execution": {
     "iopub.execute_input": "2021-11-19T06:49:52.500363Z",
     "iopub.status.busy": "2021-11-19T06:49:52.499733Z",
     "iopub.status.idle": "2021-11-19T06:49:52.502531Z",
     "shell.execute_reply": "2021-11-19T06:49:52.502072Z",
     "shell.execute_reply.started": "2021-11-19T06:47:37.940502Z"
    },
    "papermill": {
     "duration": 0.019006,
     "end_time": "2021-11-19T06:49:52.502637",
     "exception": false,
     "start_time": "2021-11-19T06:49:52.483631",
     "status": "completed"
    },
    "tags": []
   },
   "outputs": [],
   "source": [
    "@torch.no_grad()\n",
    "def predict(model, dataloader,modelpaths, device):\n",
    "    preds = []\n",
    "    final_preds = []\n",
    "    for path in modelpaths:\n",
    "        model_infer =model.load_from_checkpoint(\"../input/pytorch-lightning-unitary-unbiased-toxic-roberta/\"+path)\n",
    "        model_infer.to(device)\n",
    "        model_infer.freeze()\n",
    "        model_infer.eval()\n",
    "        print(f'predicting on {path}')\n",
    "        bar = tqdm(enumerate(infer_dataloader), total=len(infer_dataloader))\n",
    "        for step, data in bar:\n",
    "            ids = data['text_ids'].to(device, dtype = torch.long)\n",
    "            mask = data['text_mask'].to(device, dtype = torch.long)\n",
    "            outputs = model_infer(ids, mask)\n",
    "            preds.append(outputs.view(-1).cpu().detach().numpy()) \n",
    "        preds = np.concatenate(preds)\n",
    "        final_preds.append(preds)\n",
    "        preds = []\n",
    "        gc.collect()\n",
    "    final_preds = np.array(final_preds)\n",
    "    final_preds = np.mean(final_preds, axis=0)\n",
    "    return final_preds\n",
    "\n",
    "\n",
    "\n"
   ]
  },
  {
   "cell_type": "code",
   "execution_count": 7,
   "id": "0b25a812",
   "metadata": {
    "execution": {
     "iopub.execute_input": "2021-11-19T06:49:52.525834Z",
     "iopub.status.busy": "2021-11-19T06:49:52.525284Z",
     "iopub.status.idle": "2021-11-19T06:53:38.721678Z",
     "shell.execute_reply": "2021-11-19T06:53:38.844742Z",
     "shell.execute_reply.started": "2021-11-19T06:47:38.221631Z"
    },
    "papermill": {
     "duration": 226.333048,
     "end_time": "2021-11-19T06:53:38.845021",
     "exception": false,
     "start_time": "2021-11-19T06:49:52.511973",
     "status": "completed"
    },
    "tags": []
   },
   "outputs": [
    {
     "name": "stderr",
     "output_type": "stream",
     "text": [
      "Some weights of RobertaModel were not initialized from the model checkpoint at ../input/unitaryunbiasedtoxicroberta and are newly initialized: ['roberta.pooler.dense.weight', 'roberta.pooler.dense.bias']\n",
      "You should probably TRAIN this model on a down-stream task to be able to use it for predictions and inference.\n",
      "Some weights of RobertaModel were not initialized from the model checkpoint at ../input/unitaryunbiasedtoxicroberta and are newly initialized: ['roberta.pooler.dense.weight', 'roberta.pooler.dense.bias']\n",
      "You should probably TRAIN this model on a down-stream task to be able to use it for predictions and inference.\n"
     ]
    },
    {
     "name": "stdout",
     "output_type": "stream",
     "text": [
      "predicting on toxicbert_val_margin_loss=0.32743_fold_3.ckpt\n"
     ]
    },
    {
     "name": "stderr",
     "output_type": "stream",
     "text": [
      "100%|██████████| 118/118 [00:29<00:00,  4.06it/s]\n",
      "Some weights of RobertaModel were not initialized from the model checkpoint at ../input/unitaryunbiasedtoxicroberta and are newly initialized: ['roberta.pooler.dense.weight', 'roberta.pooler.dense.bias']\n",
      "You should probably TRAIN this model on a down-stream task to be able to use it for predictions and inference.\n"
     ]
    },
    {
     "name": "stdout",
     "output_type": "stream",
     "text": [
      "predicting on toxicbert_val_margin_loss=0.33337_fold_1.ckpt\n"
     ]
    },
    {
     "name": "stderr",
     "output_type": "stream",
     "text": [
      "100%|██████████| 118/118 [00:28<00:00,  4.18it/s]\n",
      "Some weights of RobertaModel were not initialized from the model checkpoint at ../input/unitaryunbiasedtoxicroberta and are newly initialized: ['roberta.pooler.dense.weight', 'roberta.pooler.dense.bias']\n",
      "You should probably TRAIN this model on a down-stream task to be able to use it for predictions and inference.\n"
     ]
    },
    {
     "name": "stdout",
     "output_type": "stream",
     "text": [
      "predicting on toxicbert_val_margin_loss=0.33794_fold_4.ckpt\n"
     ]
    },
    {
     "name": "stderr",
     "output_type": "stream",
     "text": [
      "100%|██████████| 118/118 [00:28<00:00,  4.19it/s]\n",
      "Some weights of RobertaModel were not initialized from the model checkpoint at ../input/unitaryunbiasedtoxicroberta and are newly initialized: ['roberta.pooler.dense.weight', 'roberta.pooler.dense.bias']\n",
      "You should probably TRAIN this model on a down-stream task to be able to use it for predictions and inference.\n"
     ]
    },
    {
     "name": "stdout",
     "output_type": "stream",
     "text": [
      "predicting on toxicbert_val_margin_loss=0.32487_fold_2.ckpt\n"
     ]
    },
    {
     "name": "stderr",
     "output_type": "stream",
     "text": [
      "100%|██████████| 118/118 [00:28<00:00,  4.18it/s]\n",
      "Some weights of RobertaModel were not initialized from the model checkpoint at ../input/unitaryunbiasedtoxicroberta and are newly initialized: ['roberta.pooler.dense.weight', 'roberta.pooler.dense.bias']\n",
      "You should probably TRAIN this model on a down-stream task to be able to use it for predictions and inference.\n"
     ]
    },
    {
     "name": "stdout",
     "output_type": "stream",
     "text": [
      "predicting on toxicbert_val_margin_loss=0.34673_fold_0.ckpt\n"
     ]
    },
    {
     "name": "stderr",
     "output_type": "stream",
     "text": [
      "100%|██████████| 118/118 [00:28<00:00,  4.18it/s]\n"
     ]
    }
   ],
   "source": [
    "model = jigsaw_toxicbert()\n",
    "infer_datset = JigsawDataset(df,CONFIG.tokenizer,CONFIG.max_len)\n",
    "infer_dataloader = DataLoader(infer_datset, batch_size=CONFIG.val_batch_size,num_workers=2, shuffle=False, pin_memory=True)\n",
    "preds = predict(model,infer_dataloader,CONFIG.models,CONFIG.device) "
   ]
  },
  {
   "cell_type": "code",
   "execution_count": 8,
   "id": "b596342d",
   "metadata": {
    "execution": {
     "iopub.execute_input": "2021-11-19T06:53:39.289114Z",
     "iopub.status.busy": "2021-11-19T06:53:39.288376Z",
     "iopub.status.idle": "2021-11-19T06:53:39.294807Z",
     "shell.execute_reply": "2021-11-19T06:53:39.294315Z",
     "shell.execute_reply.started": "2021-11-19T06:45:47.962778Z"
    },
    "papermill": {
     "duration": 0.189422,
     "end_time": "2021-11-19T06:53:39.294945",
     "exception": false,
     "start_time": "2021-11-19T06:53:39.105523",
     "status": "completed"
    },
    "tags": []
   },
   "outputs": [],
   "source": [
    "submit = pd.DataFrame()\n",
    "submit[\"comment_id\"] = df[\"comment_id\"]\n",
    "submit[\"score\"] = preds\n",
    "submit[\"score\"] = submit['score'].rank(method='first')"
   ]
  },
  {
   "cell_type": "code",
   "execution_count": 9,
   "id": "f80785a2",
   "metadata": {
    "execution": {
     "iopub.execute_input": "2021-11-19T06:53:39.633964Z",
     "iopub.status.busy": "2021-11-19T06:53:39.633062Z",
     "iopub.status.idle": "2021-11-19T06:53:39.656609Z",
     "shell.execute_reply": "2021-11-19T06:53:39.657037Z",
     "shell.execute_reply.started": "2021-11-19T06:45:47.964769Z"
    },
    "papermill": {
     "duration": 0.195139,
     "end_time": "2021-11-19T06:53:39.657170",
     "exception": false,
     "start_time": "2021-11-19T06:53:39.462031",
     "status": "completed"
    },
    "tags": []
   },
   "outputs": [],
   "source": [
    "submit.to_csv(\"submission.csv\", index=False)"
   ]
  },
  {
   "cell_type": "code",
   "execution_count": null,
   "id": "e72b6eeb",
   "metadata": {
    "papermill": {
     "duration": 0.165988,
     "end_time": "2021-11-19T06:53:39.998438",
     "exception": false,
     "start_time": "2021-11-19T06:53:39.832450",
     "status": "completed"
    },
    "tags": []
   },
   "outputs": [],
   "source": []
  }
 ],
 "metadata": {
  "kernelspec": {
   "display_name": "Python 3",
   "language": "python",
   "name": "python3"
  },
  "language_info": {
   "codemirror_mode": {
    "name": "ipython",
    "version": 3
   },
   "file_extension": ".py",
   "mimetype": "text/x-python",
   "name": "python",
   "nbconvert_exporter": "python",
   "pygments_lexer": "ipython3",
   "version": "3.7.10"
  },
  "papermill": {
   "default_parameters": {},
   "duration": 246.434541,
   "end_time": "2021-11-19T06:53:43.825701",
   "environment_variables": {},
   "exception": null,
   "input_path": "__notebook__.ipynb",
   "output_path": "__notebook__.ipynb",
   "parameters": {},
   "start_time": "2021-11-19T06:49:37.391160",
   "version": "2.3.3"
  }
 },
 "nbformat": 4,
 "nbformat_minor": 5
}
