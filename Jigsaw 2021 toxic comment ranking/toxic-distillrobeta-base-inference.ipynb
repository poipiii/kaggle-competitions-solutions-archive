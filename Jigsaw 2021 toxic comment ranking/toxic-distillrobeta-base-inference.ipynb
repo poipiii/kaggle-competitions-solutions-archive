{
 "cells": [
  {
   "cell_type": "code",
   "execution_count": 1,
   "id": "cd325417",
   "metadata": {
    "_cell_guid": "b1076dfc-b9ad-4769-8c92-a6c4dae69d19",
    "_uuid": "8f2839f25d086af736a60e9eeb907d3b93b6e0e5",
    "execution": {
     "iopub.execute_input": "2021-11-18T06:41:55.877898Z",
     "iopub.status.busy": "2021-11-18T06:41:55.877133Z",
     "iopub.status.idle": "2021-11-18T06:42:02.816638Z",
     "shell.execute_reply": "2021-11-18T06:42:02.816009Z",
     "shell.execute_reply.started": "2021-11-18T06:40:58.376025Z"
    },
    "papermill": {
     "duration": 6.961412,
     "end_time": "2021-11-18T06:42:02.816788",
     "exception": false,
     "start_time": "2021-11-18T06:41:55.855376",
     "status": "completed"
    },
    "tags": []
   },
   "outputs": [],
   "source": [
    "import numpy as np\n",
    "import pandas as pd\n",
    "import pytorch_lightning as pl\n",
    "import torch\n",
    "import torch.nn as nn\n",
    "from torch.utils.data import Dataset, DataLoader\n",
    "from pytorch_lightning.core.lightning import LightningModule\n",
    "from pytorch_lightning.callbacks import ModelCheckpoint\n",
    "from pytorch_lightning import Trainer\n",
    "from transformers import AutoTokenizer, AutoModelForSequenceClassification,AutoModel\n",
    "import os\n",
    "from tqdm import tqdm\n",
    "import gc"
   ]
  },
  {
   "cell_type": "code",
   "execution_count": null,
   "id": "cc89bf23",
   "metadata": {
    "papermill": {
     "duration": 0.008591,
     "end_time": "2021-11-18T06:42:02.836897",
     "exception": false,
     "start_time": "2021-11-18T06:42:02.828306",
     "status": "completed"
    },
    "tags": []
   },
   "outputs": [],
   "source": []
  },
  {
   "cell_type": "code",
   "execution_count": 2,
   "id": "1e36f112",
   "metadata": {
    "execution": {
     "iopub.execute_input": "2021-11-18T06:42:02.859243Z",
     "iopub.status.busy": "2021-11-18T06:42:02.858515Z",
     "iopub.status.idle": "2021-11-18T06:42:03.052404Z",
     "shell.execute_reply": "2021-11-18T06:42:03.051518Z",
     "shell.execute_reply.started": "2021-11-18T06:40:58.386192Z"
    },
    "papermill": {
     "duration": 0.207169,
     "end_time": "2021-11-18T06:42:03.052544",
     "exception": false,
     "start_time": "2021-11-18T06:42:02.845375",
     "status": "completed"
    },
    "tags": []
   },
   "outputs": [],
   "source": [
    "class CONFIG:\n",
    "    models = [x for x in os.listdir(\"../input/pytorch-lightning-toxic-bert\") if \"toxicbert\" in x]\n",
    "    model_name = \"distilroberta-base\"\n",
    "    seed = 101\n",
    "    k_fold = 5\n",
    "    val_batch_size = 64\n",
    "    max_len = 128\n",
    "    tokenizer = AutoTokenizer.from_pretrained(\"../input/distilroberta-base/\")\n",
    "    no_class = 1\n",
    "    device = torch.device(\"cuda:0\" if torch.cuda.is_available() else \"cpu\")\n"
   ]
  },
  {
   "cell_type": "code",
   "execution_count": 3,
   "id": "d255eeec",
   "metadata": {
    "execution": {
     "iopub.execute_input": "2021-11-18T06:42:03.074631Z",
     "iopub.status.busy": "2021-11-18T06:42:03.073705Z",
     "iopub.status.idle": "2021-11-18T06:42:03.184257Z",
     "shell.execute_reply": "2021-11-18T06:42:03.184663Z",
     "shell.execute_reply.started": "2021-11-18T06:40:58.470117Z"
    },
    "papermill": {
     "duration": 0.123403,
     "end_time": "2021-11-18T06:42:03.184811",
     "exception": false,
     "start_time": "2021-11-18T06:42:03.061408",
     "status": "completed"
    },
    "tags": []
   },
   "outputs": [
    {
     "data": {
      "text/html": [
       "<div>\n",
       "<style scoped>\n",
       "    .dataframe tbody tr th:only-of-type {\n",
       "        vertical-align: middle;\n",
       "    }\n",
       "\n",
       "    .dataframe tbody tr th {\n",
       "        vertical-align: top;\n",
       "    }\n",
       "\n",
       "    .dataframe thead th {\n",
       "        text-align: right;\n",
       "    }\n",
       "</style>\n",
       "<table border=\"1\" class=\"dataframe\">\n",
       "  <thead>\n",
       "    <tr style=\"text-align: right;\">\n",
       "      <th></th>\n",
       "      <th>comment_id</th>\n",
       "      <th>text</th>\n",
       "    </tr>\n",
       "  </thead>\n",
       "  <tbody>\n",
       "    <tr>\n",
       "      <th>0</th>\n",
       "      <td>114890</td>\n",
       "      <td>\"\\n \\n\\nGjalexei, you asked about whether ther...</td>\n",
       "    </tr>\n",
       "    <tr>\n",
       "      <th>1</th>\n",
       "      <td>732895</td>\n",
       "      <td>Looks like be have an abuser , can you please ...</td>\n",
       "    </tr>\n",
       "    <tr>\n",
       "      <th>2</th>\n",
       "      <td>1139051</td>\n",
       "      <td>I confess to having complete (and apparently b...</td>\n",
       "    </tr>\n",
       "    <tr>\n",
       "      <th>3</th>\n",
       "      <td>1434512</td>\n",
       "      <td>\"\\n\\nFreud's ideas are certainly much discusse...</td>\n",
       "    </tr>\n",
       "    <tr>\n",
       "      <th>4</th>\n",
       "      <td>2084821</td>\n",
       "      <td>It is not just you. This is a laundry list of ...</td>\n",
       "    </tr>\n",
       "  </tbody>\n",
       "</table>\n",
       "</div>"
      ],
      "text/plain": [
       "   comment_id                                               text\n",
       "0      114890  \"\\n \\n\\nGjalexei, you asked about whether ther...\n",
       "1      732895  Looks like be have an abuser , can you please ...\n",
       "2     1139051  I confess to having complete (and apparently b...\n",
       "3     1434512  \"\\n\\nFreud's ideas are certainly much discusse...\n",
       "4     2084821  It is not just you. This is a laundry list of ..."
      ]
     },
     "execution_count": 3,
     "metadata": {},
     "output_type": "execute_result"
    }
   ],
   "source": [
    "df = pd.read_csv(\"../input/jigsaw-toxic-severity-rating/comments_to_score.csv\")\n",
    "df.head()"
   ]
  },
  {
   "cell_type": "code",
   "execution_count": null,
   "id": "7bbb106a",
   "metadata": {
    "papermill": {
     "duration": 0.008935,
     "end_time": "2021-11-18T06:42:03.203130",
     "exception": false,
     "start_time": "2021-11-18T06:42:03.194195",
     "status": "completed"
    },
    "tags": []
   },
   "outputs": [],
   "source": []
  },
  {
   "cell_type": "code",
   "execution_count": 4,
   "id": "d10ad903",
   "metadata": {
    "execution": {
     "iopub.execute_input": "2021-11-18T06:42:03.229365Z",
     "iopub.status.busy": "2021-11-18T06:42:03.228660Z",
     "iopub.status.idle": "2021-11-18T06:42:03.231525Z",
     "shell.execute_reply": "2021-11-18T06:42:03.231056Z",
     "shell.execute_reply.started": "2021-11-18T06:40:58.519242Z"
    },
    "papermill": {
     "duration": 0.019457,
     "end_time": "2021-11-18T06:42:03.231635",
     "exception": false,
     "start_time": "2021-11-18T06:42:03.212178",
     "status": "completed"
    },
    "tags": []
   },
   "outputs": [],
   "source": [
    "class JigsawDataset(Dataset):\n",
    "    def __init__(self, df, tokenizer, max_seq_len):\n",
    "        self.df = df\n",
    "        self.max_seq_len = max_seq_len\n",
    "        self.tokenizer = tokenizer\n",
    "        self.text = df['text'].values\n",
    "        \n",
    "    def __len__(self):\n",
    "        return len(self.df)\n",
    "    \n",
    "    def __getitem__(self, index):\n",
    "        text = self.text[index]\n",
    "        inputs_text = self.tokenizer.encode_plus(\n",
    "                                text,\n",
    "                                truncation=True,\n",
    "                                add_special_tokens=True,\n",
    "                                max_length=self.max_seq_len,\n",
    "                                padding='max_length'\n",
    "                            )\n",
    "        score_text_id = inputs_text['input_ids']\n",
    "        score_text_mask = inputs_text['attention_mask']\n",
    "\n",
    "        \n",
    "        return {\n",
    "            'text_ids': torch.tensor(score_text_id, dtype=torch.long),\n",
    "            'text_mask': torch.tensor(score_text_mask, dtype=torch.long)\n",
    "        }"
   ]
  },
  {
   "cell_type": "code",
   "execution_count": 5,
   "id": "cd296843",
   "metadata": {
    "execution": {
     "iopub.execute_input": "2021-11-18T06:42:03.262567Z",
     "iopub.status.busy": "2021-11-18T06:42:03.261764Z",
     "iopub.status.idle": "2021-11-18T06:42:03.264188Z",
     "shell.execute_reply": "2021-11-18T06:42:03.263791Z",
     "shell.execute_reply.started": "2021-11-18T06:40:58.529038Z"
    },
    "papermill": {
     "duration": 0.023655,
     "end_time": "2021-11-18T06:42:03.264320",
     "exception": false,
     "start_time": "2021-11-18T06:42:03.240665",
     "status": "completed"
    },
    "tags": []
   },
   "outputs": [],
   "source": [
    "class jigsaw_toxicbert(pl.LightningModule):\n",
    "    def __init__(self):\n",
    "        super().__init__()\n",
    "        self.model = AutoModel.from_pretrained(\"../input/distilroberta-base/\")\n",
    "        self.dropout = nn.Dropout(0.3)\n",
    "        self.linear = nn.Linear(768,128)\n",
    "        self.dropout_2 = nn.Dropout(0.3)\n",
    "        self.output = nn.Linear(128,CONFIG.no_class)\n",
    "    def forward(self,ids,mask):\n",
    "        x = self.model(input_ids=ids,attention_mask=mask,output_hidden_states=False)\n",
    "        x = self.dropout(x[1])\n",
    "        x=  self.linear(x)\n",
    "        x=  self.dropout_2(x)\n",
    "        x = self.output(x)\n",
    "        return x\n",
    "    def configure_optimizers(self):\n",
    "        optimiser = optim.AdamW(self.model.parameters(), lr=CONFIG.lr, weight_decay=CONFIG.weight_decay)\n",
    "        scheduler = lr_scheduler.CosineAnnealingLR(optimiser,eta_min=CONFIG.min_lr,T_max = CONFIG.T_max)\n",
    "        return [optimiser],[scheduler]\n",
    "    \n",
    "    def training_step(self, batch, batch_idx):\n",
    "        more_toxic_id = batch[\"more_toxic_ids\"]\n",
    "        more_toxic_mask = batch[\"more_toxic_mask\"]\n",
    "        less_toxic_id =batch[\"less_toxic_ids\"]\n",
    "        less_toxic_mask =batch[\"less_toxic_mask\"]\n",
    "        target = batch[\"target\"]\n",
    "        more_toxic_pred = self(more_toxic_id,more_toxic_mask)\n",
    "        less_toxic_pred = self(less_toxic_id,more_toxic_mask)\n",
    "        loss = CONFIG.criterion(more_toxic_pred,less_toxic_pred,target)\n",
    "        self.log('train_margin_loss',loss,on_step=False, on_epoch=True,prog_bar=True)\n",
    "        return loss  \n",
    "    def validation_step(self, batch, batch_idx):\n",
    "        more_toxic_id = batch[\"more_toxic_ids\"]\n",
    "        more_toxic_mask = batch[\"more_toxic_mask\"]\n",
    "        less_toxic_id =batch[\"less_toxic_ids\"]\n",
    "        less_toxic_mask =batch[\"less_toxic_mask\"]\n",
    "        target = batch[\"target\"]\n",
    "        more_toxic_pred = self(more_toxic_id,more_toxic_mask)\n",
    "        less_toxic_pred = self(less_toxic_id,more_toxic_mask)\n",
    "        loss = CONFIG.criterion(more_toxic_pred,less_toxic_pred,target)\n",
    "        self.log('val_margin_loss',loss,on_step=False, on_epoch=True,prog_bar=True)\n",
    "        return loss \n"
   ]
  },
  {
   "cell_type": "code",
   "execution_count": 6,
   "id": "c0ddda9b",
   "metadata": {
    "execution": {
     "iopub.execute_input": "2021-11-18T06:42:03.290063Z",
     "iopub.status.busy": "2021-11-18T06:42:03.289397Z",
     "iopub.status.idle": "2021-11-18T06:42:03.291577Z",
     "shell.execute_reply": "2021-11-18T06:42:03.291989Z",
     "shell.execute_reply.started": "2021-11-18T06:40:58.545769Z"
    },
    "papermill": {
     "duration": 0.0188,
     "end_time": "2021-11-18T06:42:03.292105",
     "exception": false,
     "start_time": "2021-11-18T06:42:03.273305",
     "status": "completed"
    },
    "tags": []
   },
   "outputs": [],
   "source": [
    "@torch.no_grad()\n",
    "def predict(model, dataloader,modelpaths, device):\n",
    "    preds = []\n",
    "    final_preds = []\n",
    "    for path in modelpaths:\n",
    "        model_infer =model.load_from_checkpoint(\"../input/pytorch-lightning-toxic-bert/\"+path)\n",
    "        model_infer.to(device)\n",
    "        model_infer.freeze()\n",
    "        model_infer.eval()\n",
    "        print(f'predicting on {path}')\n",
    "        bar = tqdm(enumerate(infer_dataloader), total=len(infer_dataloader))\n",
    "        for step, data in bar:\n",
    "            ids = data['text_ids'].to(device, dtype = torch.long)\n",
    "            mask = data['text_mask'].to(device, dtype = torch.long)\n",
    "            outputs = model_infer(ids, mask)\n",
    "            preds.append(outputs.view(-1).cpu().detach().numpy()) \n",
    "        preds = np.concatenate(preds)\n",
    "        final_preds.append(preds)\n",
    "        preds = []\n",
    "        gc.collect()\n",
    "    final_preds = np.array(final_preds)\n",
    "    final_preds = np.mean(final_preds, axis=0)\n",
    "    return final_preds\n",
    "\n",
    "\n",
    "\n"
   ]
  },
  {
   "cell_type": "code",
   "execution_count": 7,
   "id": "ee5e5aa0",
   "metadata": {
    "execution": {
     "iopub.execute_input": "2021-11-18T06:42:03.315044Z",
     "iopub.status.busy": "2021-11-18T06:42:03.314294Z",
     "iopub.status.idle": "2021-11-18T06:46:18.008447Z",
     "shell.execute_reply": "2021-11-18T06:46:18.007461Z",
     "shell.execute_reply.started": "2021-11-18T06:40:58.559855Z"
    },
    "papermill": {
     "duration": 254.707549,
     "end_time": "2021-11-18T06:46:18.008591",
     "exception": false,
     "start_time": "2021-11-18T06:42:03.301042",
     "status": "completed"
    },
    "tags": []
   },
   "outputs": [
    {
     "name": "stdout",
     "output_type": "stream",
     "text": [
      "predicting on toxicbert_val_margin_loss=0.33777_fold_1.ckpt\n"
     ]
    },
    {
     "name": "stderr",
     "output_type": "stream",
     "text": [
      "100%|██████████| 118/118 [00:15<00:00,  7.70it/s]\n"
     ]
    },
    {
     "name": "stdout",
     "output_type": "stream",
     "text": [
      "predicting on toxicbert_val_margin_loss=0.35013_fold_4.ckpt\n"
     ]
    },
    {
     "name": "stderr",
     "output_type": "stream",
     "text": [
      "100%|██████████| 118/118 [00:14<00:00,  8.22it/s]\n"
     ]
    },
    {
     "name": "stdout",
     "output_type": "stream",
     "text": [
      "predicting on toxicbert_val_margin_loss=0.35901_fold_0.ckpt\n"
     ]
    },
    {
     "name": "stderr",
     "output_type": "stream",
     "text": [
      "100%|██████████| 118/118 [00:14<00:00,  8.23it/s]\n"
     ]
    },
    {
     "name": "stdout",
     "output_type": "stream",
     "text": [
      "predicting on toxicbert_val_margin_loss=0.35281_fold_4.ckpt\n"
     ]
    },
    {
     "name": "stderr",
     "output_type": "stream",
     "text": [
      "100%|██████████| 118/118 [00:14<00:00,  8.15it/s]\n"
     ]
    },
    {
     "name": "stdout",
     "output_type": "stream",
     "text": [
      "predicting on toxicbert_val_margin_loss=0.33687_fold_3.ckpt\n"
     ]
    },
    {
     "name": "stderr",
     "output_type": "stream",
     "text": [
      "100%|██████████| 118/118 [00:14<00:00,  8.17it/s]\n"
     ]
    },
    {
     "name": "stdout",
     "output_type": "stream",
     "text": [
      "predicting on toxicbert_val_margin_loss=0.34491_fold_1.ckpt\n"
     ]
    },
    {
     "name": "stderr",
     "output_type": "stream",
     "text": [
      "100%|██████████| 118/118 [00:14<00:00,  8.18it/s]\n"
     ]
    },
    {
     "name": "stdout",
     "output_type": "stream",
     "text": [
      "predicting on toxicbert_val_margin_loss=0.33753_fold_3.ckpt\n"
     ]
    },
    {
     "name": "stderr",
     "output_type": "stream",
     "text": [
      "100%|██████████| 118/118 [00:14<00:00,  8.21it/s]\n"
     ]
    },
    {
     "name": "stdout",
     "output_type": "stream",
     "text": [
      "predicting on toxicbert_val_margin_loss=0.35538_fold_2.ckpt\n"
     ]
    },
    {
     "name": "stderr",
     "output_type": "stream",
     "text": [
      "100%|██████████| 118/118 [00:14<00:00,  8.16it/s]\n"
     ]
    },
    {
     "name": "stdout",
     "output_type": "stream",
     "text": [
      "predicting on toxicbert_val_margin_loss=0.33599_fold_2.ckpt\n"
     ]
    },
    {
     "name": "stderr",
     "output_type": "stream",
     "text": [
      "100%|██████████| 118/118 [00:14<00:00,  8.15it/s]\n"
     ]
    },
    {
     "name": "stdout",
     "output_type": "stream",
     "text": [
      "predicting on toxicbert_val_margin_loss=0.36837_fold_0.ckpt\n"
     ]
    },
    {
     "name": "stderr",
     "output_type": "stream",
     "text": [
      "100%|██████████| 118/118 [00:14<00:00,  8.24it/s]\n"
     ]
    }
   ],
   "source": [
    "model = jigsaw_toxicbert()\n",
    "infer_datset = JigsawDataset(df,CONFIG.tokenizer,CONFIG.max_len)\n",
    "infer_dataloader = DataLoader(infer_datset, batch_size=CONFIG.val_batch_size,num_workers=2, shuffle=False, pin_memory=True)\n",
    "preds = predict(model,infer_dataloader,CONFIG.models,CONFIG.device) "
   ]
  },
  {
   "cell_type": "code",
   "execution_count": 8,
   "id": "fa41402a",
   "metadata": {
    "execution": {
     "iopub.execute_input": "2021-11-18T06:46:18.700895Z",
     "iopub.status.busy": "2021-11-18T06:46:18.696917Z",
     "iopub.status.idle": "2021-11-18T06:46:18.710840Z",
     "shell.execute_reply": "2021-11-18T06:46:18.711243Z",
     "shell.execute_reply.started": "2021-11-18T06:41:22.445190Z"
    },
    "papermill": {
     "duration": 0.387396,
     "end_time": "2021-11-18T06:46:18.711415",
     "exception": false,
     "start_time": "2021-11-18T06:46:18.324019",
     "status": "completed"
    },
    "tags": []
   },
   "outputs": [],
   "source": [
    "submit = pd.DataFrame()\n",
    "submit[\"comment_id\"] = df[\"comment_id\"]\n",
    "submit[\"score\"] = preds\n",
    "submit[\"score\"] = submit['score'].rank(method='first')"
   ]
  },
  {
   "cell_type": "code",
   "execution_count": 9,
   "id": "8c09b15b",
   "metadata": {
    "execution": {
     "iopub.execute_input": "2021-11-18T06:46:19.350200Z",
     "iopub.status.busy": "2021-11-18T06:46:19.349404Z",
     "iopub.status.idle": "2021-11-18T06:46:19.373543Z",
     "shell.execute_reply": "2021-11-18T06:46:19.373060Z",
     "shell.execute_reply.started": "2021-11-18T06:41:22.450878Z"
    },
    "papermill": {
     "duration": 0.344758,
     "end_time": "2021-11-18T06:46:19.373659",
     "exception": false,
     "start_time": "2021-11-18T06:46:19.028901",
     "status": "completed"
    },
    "tags": []
   },
   "outputs": [],
   "source": [
    "submit.to_csv(\"submission.csv\", index=False)"
   ]
  },
  {
   "cell_type": "code",
   "execution_count": null,
   "id": "3066e0d0",
   "metadata": {
    "papermill": {
     "duration": 0.313157,
     "end_time": "2021-11-18T06:46:20.004551",
     "exception": false,
     "start_time": "2021-11-18T06:46:19.691394",
     "status": "completed"
    },
    "tags": []
   },
   "outputs": [],
   "source": []
  }
 ],
 "metadata": {
  "kernelspec": {
   "display_name": "Python 3",
   "language": "python",
   "name": "python3"
  },
  "language_info": {
   "codemirror_mode": {
    "name": "ipython",
    "version": 3
   },
   "file_extension": ".py",
   "mimetype": "text/x-python",
   "name": "python",
   "nbconvert_exporter": "python",
   "pygments_lexer": "ipython3",
   "version": "3.7.10"
  },
  "papermill": {
   "default_parameters": {},
   "duration": 275.584607,
   "end_time": "2021-11-18T06:46:23.875098",
   "environment_variables": {},
   "exception": null,
   "input_path": "__notebook__.ipynb",
   "output_path": "__notebook__.ipynb",
   "parameters": {},
   "start_time": "2021-11-18T06:41:48.290491",
   "version": "2.3.3"
  }
 },
 "nbformat": 4,
 "nbformat_minor": 5
}
